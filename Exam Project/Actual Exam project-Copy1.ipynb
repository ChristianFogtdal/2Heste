{
 "cells": [
  {
   "cell_type": "markdown",
   "id": "016a0979-3bb2-438b-9eb2-e18d1cecda0a",
   "metadata": {
    "tags": []
   },
   "source": [
    "# Project Notebook\n",
    "\n",
    "## Social Data Science - exam notebook\n",
    "\n",
    "\n",
    "#### Authors: \n",
    "#### Anton Maach-Møller\n",
    "#### Christian Nøjgaard Fogdal"
   ]
  },
  {
   "cell_type": "markdown",
   "id": "093b48f7-e436-4c3a-a77d-de422b77be56",
   "metadata": {
    "tags": []
   },
   "source": [
    "## 1. Installations"
   ]
  },
  {
   "cell_type": "code",
   "execution_count": 138,
   "id": "7a7dd23e-2dd2-4517-a998-1daf9085f26b",
   "metadata": {},
   "outputs": [],
   "source": [
    "# pip install geopy\n",
    "# pip install textblob\n",
    "# pip install vaderSentiment\n",
    "# pip install emoji\n",
    "# nltk.download('stopwords')\n",
    "# nltk.download('vader_lexicon')\n",
    "# pip install statsmodels\n",
    "# pip install Wikipedia-API\n",
    "# pip install chart_studio"
   ]
  },
  {
   "cell_type": "markdown",
   "id": "e8aaab30-0dcf-466b-b0ae-a99e70cb1305",
   "metadata": {
    "tags": []
   },
   "source": [
    "## 2. Import of used packages"
   ]
  },
  {
   "cell_type": "code",
   "execution_count": 1,
   "id": "23d0fb73-6690-4f75-91c2-30178eba6276",
   "metadata": {},
   "outputs": [],
   "source": [
    "# basic\n",
    "import numpy as np\n",
    "import pandas as pd\n",
    "\n",
    "#packages to handle API connection\n",
    "from tqdm import tqdm #progress bar, use code tqdm.pandas()\n",
    "from time import sleep #module to control speed of extraction\n",
    "\n",
    "# Twitter\n",
    "import tweepy as tw # main twitter API package\n",
    "from tqdm import tqdm #progress bar, use code tqdm.pandas()\n",
    "from time import sleep #module to control speed of extraction\n",
    "import time #module to control speed of extraction\n",
    "from datetime import datetime\n",
    "import warnings\n",
    "warnings.simplefilter(action='ignore', category=FutureWarning)\n",
    "\n",
    "# Nominatim - API to access geo data\n",
    "from geopy.geocoders import Nominatim #Geodata for datacleaning states\n",
    "from geopy.exc import GeocoderTimedOut #Geodata for datacleaning states\n",
    "from geopy.extra.rate_limiter import RateLimiter #rate limiter to geopy requests\n",
    "\n",
    "# packages to handle string elements\n",
    "import re #regex\n",
    "from textblob import TextBlob #To analyse sentiment\n",
    "from vaderSentiment.vaderSentiment import SentimentIntensityAnalyzer #Sentiment analyser\n",
    "from nltk.sentiment.vader import SentimentIntensityAnalyzer\n",
    "import emoji #to \"demojize\" - translate emojis to text\n",
    "import nltk #Natural Language Toolkit\n",
    "import nltk.corpus \n",
    "from nltk.corpus import stopwords # list of stopwords to remove\n",
    "from nltk.stem.porter import PorterStemmer #Stemming and lemmitization\n",
    "from nltk.stem import WordNetLemmatizer #Stemming and lemmitization\n",
    "\n",
    "# Machinelearning\n",
    "from sklearn.model_selection import train_test_split #randomly split dataframe into test and train data\n",
    "from sklearn.feature_extraction.text import TfidfVectorizer #\n",
    "from sklearn.linear_model import LogisticRegression\n",
    "import random #randomizer\n",
    "\n",
    "# import webbrowser\n",
    "# import requests\n",
    "# from bs4 import BeautifulSoup\n",
    "\n",
    "# plots\n",
    "import matplotlib.pyplot as plt\n",
    "from matplotlib import pyplot as plt, dates as mdates\n",
    "from chart_studio import plotly as py\n",
    "import pandas as pd\n",
    "import plotly.graph_objects as go\n",
    "import seaborn as sns\n"
   ]
  },
  {
   "cell_type": "markdown",
   "id": "0fa5d368-1360-42f6-8a95-d9f68efcb160",
   "metadata": {
    "tags": []
   },
   "source": [
    "## 3. Extraction of data from Twitter"
   ]
  },
  {
   "cell_type": "markdown",
   "id": "0ab620c5-0a74-4e26-bff6-72360f350dd6",
   "metadata": {},
   "source": [
    "#### Definitions"
   ]
  },
  {
   "cell_type": "code",
   "execution_count": 2,
   "id": "44ada4a1-db18-4201-ac3f-3b67eb37fde5",
   "metadata": {
    "tags": []
   },
   "outputs": [],
   "source": [
    "\n",
    "# Unique bearer token - is removed when published, since it is private\n",
    "MY_BEARER_TOKEN = \"AAAAAAAAAAAAAAAAAAAAANcAaQEAAAAA84hzZvsLo8rITqxhQJoQHVAd5wI%3DfD5dXkdwihlc4K08dNi3y84D4lVhjiOIREITen9vVe2UVYxFh7\"\n",
    "\n",
    "# authentication using .client\n",
    "client = tw.Client(bearer_token=MY_BEARER_TOKEN, wait_on_rate_limit=True)\n",
    "\n",
    "# query to search for tweets\n",
    "query = \"(vaccine OR covidvaccine OR vaccines OR #vaccine OR #vaccines OR #covidvaccine) lang:en -is:retweet place_country:US has:geo\"\n",
    "\n",
    "# start and end time lists for looping\n",
    "start_list =    ['2020-10-01T00:00:00.000Z',\n",
    "                 '2020-10-02T00:00:00.000Z',\n",
    "                 '2020-10-03T00:00:00.000Z',\n",
    "                 '2020-10-04T00:00:00.000Z',\n",
    "                 '2020-10-05T00:00:00.000Z',\n",
    "                ]\n",
    "\n",
    "end_list =      [\n",
    "                 '2020-10-01T23:59:59.000Z',\n",
    "                 '2020-10-02T23:59:59.000Z',\n",
    "                 '2020-10-03T23:59:59.000Z',\n",
    "                 '2020-10-04T23:59:59.000Z',\n",
    "                 '2020-10-05T23:59:59.000Z',\n",
    "                ]\n",
    "\n",
    "max_results = 20\n",
    "\n",
    "# Total number of tweets we collected from the loop\n",
    "# total_tweets = 0\n",
    "\n",
    "# time"
   ]
  },
  {
   "cell_type": "markdown",
   "id": "0f6d85de-c8db-4f7b-b756-c6791a53090f",
   "metadata": {},
   "source": [
    "#### API call and creation of dataframe"
   ]
  },
  {
   "cell_type": "code",
   "execution_count": 13,
   "id": "f76689de-ff8f-45cf-b3ee-01f5ae7b179f",
   "metadata": {
    "tags": []
   },
   "outputs": [
    {
     "name": "stdout",
     "output_type": "stream",
     "text": [
      "-------------------\n",
      "local time:  19:47:31\n",
      "startlist:  2020-10-01T00:00:00.000Z\n",
      "       to:  2020-10-01T23:59:59.000Z\n",
      "20 tweets extracted\n",
      "20 user related data extracted\n",
      "20 location related data extracted\n",
      "-------------------\n",
      "-------------------\n",
      "local time:  19:47:42\n",
      "startlist:  2020-10-02T00:00:00.000Z\n",
      "       to:  2020-10-02T23:59:59.000Z\n",
      "20 tweets extracted\n",
      "20 user related data extracted\n",
      "19 location related data extracted\n",
      "-------------------\n",
      "-------------------\n",
      "local time:  19:47:53\n",
      "startlist:  2020-10-03T00:00:00.000Z\n",
      "       to:  2020-10-03T23:59:59.000Z\n",
      "20 tweets extracted\n",
      "19 user related data extracted\n",
      "19 location related data extracted\n",
      "-------------------\n",
      "-------------------\n",
      "local time:  19:48:03\n",
      "startlist:  2020-10-04T00:00:00.000Z\n",
      "       to:  2020-10-04T23:59:59.000Z\n",
      "17 tweets extracted\n",
      "16 user related data extracted\n",
      "16 location related data extracted\n",
      "-------------------\n",
      "-------------------\n",
      "local time:  19:48:13\n",
      "startlist:  2020-10-05T00:00:00.000Z\n",
      "       to:  2020-10-05T23:59:59.000Z\n",
      "18 tweets extracted\n",
      "16 user related data extracted\n",
      "16 location related data extracted\n",
      "-------------------\n"
     ]
    },
    {
     "data": {
      "text/html": [
       "<div>\n",
       "<style scoped>\n",
       "    .dataframe tbody tr th:only-of-type {\n",
       "        vertical-align: middle;\n",
       "    }\n",
       "\n",
       "    .dataframe tbody tr th {\n",
       "        vertical-align: top;\n",
       "    }\n",
       "\n",
       "    .dataframe thead th {\n",
       "        text-align: right;\n",
       "    }\n",
       "</style>\n",
       "<table border=\"1\" class=\"dataframe\">\n",
       "  <thead>\n",
       "    <tr style=\"text-align: right;\">\n",
       "      <th></th>\n",
       "      <th>created_at</th>\n",
       "      <th>text</th>\n",
       "      <th>source</th>\n",
       "      <th>name</th>\n",
       "      <th>username</th>\n",
       "      <th>user_location</th>\n",
       "      <th>tweet_location</th>\n",
       "      <th>country_code</th>\n",
       "      <th>verified</th>\n",
       "      <th>description</th>\n",
       "    </tr>\n",
       "  </thead>\n",
       "  <tbody>\n",
       "    <tr>\n",
       "      <th>0</th>\n",
       "      <td>2020-10-01 23:54:28+00:00</td>\n",
       "      <td>Great Article on Pfizer's Covid19 Vaccine! It ...</td>\n",
       "      <td>Twitter for Android</td>\n",
       "      <td>The Catholic Honey Badger ⛪🌄</td>\n",
       "      <td>RuralUSCatholic</td>\n",
       "      <td>West Plains, MO</td>\n",
       "      <td>Missouri, USA</td>\n",
       "      <td>US</td>\n",
       "      <td>False</td>\n",
       "      <td>In your hearts reverence Christ as Lord. Alway...</td>\n",
       "    </tr>\n",
       "    <tr>\n",
       "      <th>1</th>\n",
       "      <td>2020-10-01 23:33:18+00:00</td>\n",
       "      <td>Aight let’s get a vaccine and freaking rage on...</td>\n",
       "      <td>Twitter for iPhone</td>\n",
       "      <td>Berk</td>\n",
       "      <td>ChiBerk96</td>\n",
       "      <td>Chicago and Cincy</td>\n",
       "      <td>Chicago, IL</td>\n",
       "      <td>US</td>\n",
       "      <td>False</td>\n",
       "      <td>Die hard sports fan from Chicago, IL. U of Cin...</td>\n",
       "    </tr>\n",
       "    <tr>\n",
       "      <th>2</th>\n",
       "      <td>2020-10-01 23:25:36+00:00</td>\n",
       "      <td>Pfizer CEO Hits Back at the Politicization of ...</td>\n",
       "      <td>Twitter for Android</td>\n",
       "      <td>mark schade aka Spanky Dennison</td>\n",
       "      <td>Mschade2020</td>\n",
       "      <td>Toledo, OH Rust Belt</td>\n",
       "      <td>Toledo, OH</td>\n",
       "      <td>US</td>\n",
       "      <td>False</td>\n",
       "      <td>liberal minded retiree A gameshow host as prez...</td>\n",
       "    </tr>\n",
       "    <tr>\n",
       "      <th>3</th>\n",
       "      <td>2020-10-01 23:24:09+00:00</td>\n",
       "      <td>You take any Vaccine or any meds that #realDon...</td>\n",
       "      <td>Twitter for iPhone</td>\n",
       "      <td>Paul fox</td>\n",
       "      <td>compaulfox</td>\n",
       "      <td>None</td>\n",
       "      <td>Holly Springs, NC</td>\n",
       "      <td>US</td>\n",
       "      <td>False</td>\n",
       "      <td></td>\n",
       "    </tr>\n",
       "    <tr>\n",
       "      <th>4</th>\n",
       "      <td>2020-10-01 23:07:05+00:00</td>\n",
       "      <td>@GermResolute @PattyMurray Flu doesn’t have th...</td>\n",
       "      <td>Twitter for iPhone</td>\n",
       "      <td>Kevin Wren</td>\n",
       "      <td>wren_kevin</td>\n",
       "      <td>None</td>\n",
       "      <td>Seattle, WA</td>\n",
       "      <td>US</td>\n",
       "      <td>False</td>\n",
       "      <td>Equity advocate, #T1D since 2001 #HealthIsAHum...</td>\n",
       "    </tr>\n",
       "    <tr>\n",
       "      <th>...</th>\n",
       "      <td>...</td>\n",
       "      <td>...</td>\n",
       "      <td>...</td>\n",
       "      <td>...</td>\n",
       "      <td>...</td>\n",
       "      <td>...</td>\n",
       "      <td>...</td>\n",
       "      <td>...</td>\n",
       "      <td>...</td>\n",
       "      <td>...</td>\n",
       "    </tr>\n",
       "    <tr>\n",
       "      <th>85</th>\n",
       "      <td>2020-10-05 23:38:20+00:00</td>\n",
       "      <td>@MZHemingway The need for a #TDS vaccine is  p...</td>\n",
       "      <td>Twitter for iPhone</td>\n",
       "      <td>Jeff Cunningham</td>\n",
       "      <td>jeffrygc</td>\n",
       "      <td>Michigan, USA</td>\n",
       "      <td>Shelby, MI</td>\n",
       "      <td>US</td>\n",
       "      <td>False</td>\n",
       "      <td>Bus Exec, devoted husband, father of 2 young m...</td>\n",
       "    </tr>\n",
       "    <tr>\n",
       "      <th>86</th>\n",
       "      <td>2020-10-05 23:38:10+00:00</td>\n",
       "      <td>Another action that should offend everyone reg...</td>\n",
       "      <td>Twitter for iPhone</td>\n",
       "      <td>Steve Silverman</td>\n",
       "      <td>asymtmm</td>\n",
       "      <td>Jersey City, NJ</td>\n",
       "      <td>Rahway, NJ</td>\n",
       "      <td>US</td>\n",
       "      <td>False</td>\n",
       "      <td>Merck Process R&amp;D Chemist. Division of Organic...</td>\n",
       "    </tr>\n",
       "    <tr>\n",
       "      <th>87</th>\n",
       "      <td>2020-10-05 23:33:11+00:00</td>\n",
       "      <td>November 5th, people are dropping dead from a ...</td>\n",
       "      <td>Twitter for iPhone</td>\n",
       "      <td>Kevin Clamato</td>\n",
       "      <td>KevinClamato</td>\n",
       "      <td>NYC/Northumberland, PA</td>\n",
       "      <td>Manhattan, NY</td>\n",
       "      <td>US</td>\n",
       "      <td>False</td>\n",
       "      <td>Science. NOAA. PSU Meteo, Science &amp; Finance. B...</td>\n",
       "    </tr>\n",
       "    <tr>\n",
       "      <th>88</th>\n",
       "      <td>2020-10-05 23:33:11+00:00</td>\n",
       "      <td>Who in their right mind would take a Trump Adm...</td>\n",
       "      <td>Twitter for iPhone</td>\n",
       "      <td>d a n n y 🃏</td>\n",
       "      <td>dunisayno</td>\n",
       "      <td>Washington, DC</td>\n",
       "      <td>Geneva, NY</td>\n",
       "      <td>US</td>\n",
       "      <td>False</td>\n",
       "      <td>wiz khalifa parody account | 1.2m on tiktok</td>\n",
       "    </tr>\n",
       "    <tr>\n",
       "      <th>89</th>\n",
       "      <td>2020-10-05 23:32:48+00:00</td>\n",
       "      <td>trump’s rushed vaccine is really gonna turn me...</td>\n",
       "      <td>Twitter for iPhone</td>\n",
       "      <td>Benjamin Frashuer</td>\n",
       "      <td>BFrashuer</td>\n",
       "      <td>None</td>\n",
       "      <td>Akron, OH</td>\n",
       "      <td>US</td>\n",
       "      <td>False</td>\n",
       "      <td></td>\n",
       "    </tr>\n",
       "  </tbody>\n",
       "</table>\n",
       "<p>90 rows × 10 columns</p>\n",
       "</div>"
      ],
      "text/plain": [
       "                  created_at  \\\n",
       "0  2020-10-01 23:54:28+00:00   \n",
       "1  2020-10-01 23:33:18+00:00   \n",
       "2  2020-10-01 23:25:36+00:00   \n",
       "3  2020-10-01 23:24:09+00:00   \n",
       "4  2020-10-01 23:07:05+00:00   \n",
       "..                       ...   \n",
       "85 2020-10-05 23:38:20+00:00   \n",
       "86 2020-10-05 23:38:10+00:00   \n",
       "87 2020-10-05 23:33:11+00:00   \n",
       "88 2020-10-05 23:33:11+00:00   \n",
       "89 2020-10-05 23:32:48+00:00   \n",
       "\n",
       "                                                 text               source  \\\n",
       "0   Great Article on Pfizer's Covid19 Vaccine! It ...  Twitter for Android   \n",
       "1   Aight let’s get a vaccine and freaking rage on...   Twitter for iPhone   \n",
       "2   Pfizer CEO Hits Back at the Politicization of ...  Twitter for Android   \n",
       "3   You take any Vaccine or any meds that #realDon...   Twitter for iPhone   \n",
       "4   @GermResolute @PattyMurray Flu doesn’t have th...   Twitter for iPhone   \n",
       "..                                                ...                  ...   \n",
       "85  @MZHemingway The need for a #TDS vaccine is  p...   Twitter for iPhone   \n",
       "86  Another action that should offend everyone reg...   Twitter for iPhone   \n",
       "87  November 5th, people are dropping dead from a ...   Twitter for iPhone   \n",
       "88  Who in their right mind would take a Trump Adm...   Twitter for iPhone   \n",
       "89  trump’s rushed vaccine is really gonna turn me...   Twitter for iPhone   \n",
       "\n",
       "                               name         username           user_location  \\\n",
       "0      The Catholic Honey Badger ⛪🌄  RuralUSCatholic         West Plains, MO   \n",
       "1                              Berk        ChiBerk96       Chicago and Cincy   \n",
       "2   mark schade aka Spanky Dennison      Mschade2020    Toledo, OH Rust Belt   \n",
       "3                          Paul fox       compaulfox                    None   \n",
       "4                        Kevin Wren       wren_kevin                    None   \n",
       "..                              ...              ...                     ...   \n",
       "85                  Jeff Cunningham         jeffrygc           Michigan, USA   \n",
       "86                  Steve Silverman          asymtmm         Jersey City, NJ   \n",
       "87                    Kevin Clamato     KevinClamato  NYC/Northumberland, PA   \n",
       "88                      d a n n y 🃏        dunisayno          Washington, DC   \n",
       "89                Benjamin Frashuer        BFrashuer                    None   \n",
       "\n",
       "       tweet_location country_code  verified  \\\n",
       "0       Missouri, USA           US     False   \n",
       "1         Chicago, IL           US     False   \n",
       "2          Toledo, OH           US     False   \n",
       "3   Holly Springs, NC           US     False   \n",
       "4         Seattle, WA           US     False   \n",
       "..                ...          ...       ...   \n",
       "85         Shelby, MI           US     False   \n",
       "86         Rahway, NJ           US     False   \n",
       "87      Manhattan, NY           US     False   \n",
       "88         Geneva, NY           US     False   \n",
       "89          Akron, OH           US     False   \n",
       "\n",
       "                                          description  \n",
       "0   In your hearts reverence Christ as Lord. Alway...  \n",
       "1   Die hard sports fan from Chicago, IL. U of Cin...  \n",
       "2   liberal minded retiree A gameshow host as prez...  \n",
       "3                                                      \n",
       "4   Equity advocate, #T1D since 2001 #HealthIsAHum...  \n",
       "..                                                ...  \n",
       "85  Bus Exec, devoted husband, father of 2 young m...  \n",
       "86  Merck Process R&D Chemist. Division of Organic...  \n",
       "87  Science. NOAA. PSU Meteo, Science & Finance. B...  \n",
       "88        wiz khalifa parody account | 1.2m on tiktok  \n",
       "89                                                     \n",
       "\n",
       "[90 rows x 10 columns]"
      ]
     },
     "execution_count": 13,
     "metadata": {},
     "output_type": "execute_result"
    }
   ],
   "source": [
    "df_out = pd.DataFrame()\n",
    "tweets_df = pd.DataFrame()\n",
    "total_tweets = 0\n",
    "\n",
    "for i in range(0,len(start_list)):\n",
    "    \n",
    "    print(\"-------------------\")\n",
    "    print(\"local time: \", datetime.now().strftime(\"%H:%M:%S\"))\n",
    "    print(\"startlist: \", start_list[i])\n",
    "    print(\"       to: \", end_list[i])\n",
    "    \n",
    "    count = 0 # Counting tweets per time period\n",
    "    \n",
    "    # get tweets from the API\n",
    "    tweets = client.search_all_tweets(query=query,\n",
    "                                     start_time=start_list[i],\n",
    "                                     end_time=end_list[i],\n",
    "                                     tweet_fields = [\n",
    "                                                     \"created_at\", \n",
    "                                                     \"text\", \n",
    "                                                     \"source\", \n",
    "                                                    ],\n",
    "                                  \n",
    "                                     user_fields = [\n",
    "                                                    \"name\", \n",
    "                                                    \"username\", \n",
    "                                                    \"location\", \n",
    "                                                    \"verified\", \n",
    "                                                    \"description\"\n",
    "                                                   ],\n",
    "                                  \n",
    "                                     place_fields=[\n",
    "                                                   'place_type', \n",
    "                                                   'country', \n",
    "                                                   'country_code'\n",
    "                                                  ],\n",
    "                                  \n",
    "                                     max_results = 20,\n",
    "                                     expansions=['author_id', 'geo.place_id']\n",
    "                                     )\n",
    "    \n",
    "    # create a list of records\n",
    "    tweet_info_ls = []\n",
    "    # iterate over each tweet and corresponding user details\n",
    "    for tweet, user, place in zip(tweets.data, tweets.includes['users'], tweets.includes['places']):\n",
    "        tweet_info = {\n",
    "            'created_at': tweet.created_at,\n",
    "            'text': tweet.text,\n",
    "            'source': tweet.source,\n",
    "            #'public_metrics': tweet.public_metrics,\n",
    "            #'organic_metrics': tweet.organic_metrics,\n",
    "            'name': user.name,\n",
    "            'username': user.username,\n",
    "            'user_location': user.location,\n",
    "            'tweet_location': place.full_name,\n",
    "            'country_code': place.country_code,\n",
    "            #'country': user.country,\n",
    "            'verified': user.verified,\n",
    "            'description': user.description\n",
    "        }\n",
    "        tweet_info_ls.append(tweet_info)\n",
    "        \n",
    "    # create dataframe from the extracted records\n",
    "    df_out = pd.DataFrame(tweet_info_ls)\n",
    "    \n",
    "    # looped data is appended to a single dataframe\n",
    "    tweets_df = tweets_df.append(df_out)\n",
    "    \n",
    "    # printing amount of tweets, amount of related user info, amount of related location info\n",
    "    print(len(tweets.data), \"tweets extracted\")\n",
    "    print(len(tweets.includes[\"users\"]), \"user related data extracted\")\n",
    "    print(len(tweets.includes['places']), \"location related data extracted\")\n",
    "    print(\"-------------------\")\n",
    "    \n",
    "    # Request limit time sleeper\n",
    "    time.sleep(10)\n",
    "    \n",
    "tweets_df = tweets_df.reset_index(drop=True)\n",
    "tweets_df"
   ]
  },
  {
   "cell_type": "markdown",
   "id": "62d8febd-12b5-4697-8615-af140b9648a5",
   "metadata": {},
   "source": [
    "## 4. Creating dataframe from extracted data"
   ]
  },
  {
   "cell_type": "code",
   "execution_count": null,
   "id": "15924b88-a640-402f-80de-210ecaf535a0",
   "metadata": {},
   "outputs": [],
   "source": []
  },
  {
   "cell_type": "markdown",
   "id": "db2bad38-bfca-4cc1-94d5-30400477c62c",
   "metadata": {},
   "source": [
    "## 5. Cleaning location variable and extracting geo data "
   ]
  },
  {
   "cell_type": "markdown",
   "id": "348bd3f7-48c7-4d71-95c1-6cb77dc5c8b6",
   "metadata": {},
   "source": [
    "### Clean location data before extracting from Nomatim"
   ]
  },
  {
   "cell_type": "code",
   "execution_count": 14,
   "id": "42c19792-ea10-49f5-851e-d4f4e58783e6",
   "metadata": {},
   "outputs": [
    {
     "data": {
      "text/plain": [
       "90"
      ]
     },
     "execution_count": 14,
     "metadata": {},
     "output_type": "execute_result"
    }
   ],
   "source": [
    "def cleaner(document_location):\n",
    "    \"\"\"\n",
    "    Cleaning location variable for:\n",
    "    mentions (@user), \n",
    "    removes \"#\", \n",
    "    removes everything after \"/\" since some users has multiple locations split by \"/\", - we take the first location.\n",
    "    try/except is used since the used method cannot be applied on empty values.\n",
    "    \"\"\"\n",
    "    try:\n",
    "        document_location = re.sub(r'@[^\\s]+','',document_location) #removes @user\n",
    "        document_location = re.sub(r'#[^\\s]+','',document_location) #removes #hashtag\n",
    "        #document_location = re.sub(r'\\/.*$','',document_location) #removes everything after / since some has multiple \"homes\", - we take the first\n",
    "        #document_location = re.sub(r'[\\d-]','',document_location) #removes digits\n",
    "        #document_location = re.sub(r'[^\\w\\s]','', document_location) #Remove non-alphanumeric characters\n",
    "        return document_location\n",
    "    except:\n",
    "        (\"Some variable is None\")\n",
    "\n",
    "tweets_df['tweet_location'] = tweets_df['tweet_location'].apply(cleaner)\n",
    "len(tweets_df)"
   ]
  },
  {
   "cell_type": "markdown",
   "id": "4a67d0fb-ab3f-4ba5-829d-35dafde573fd",
   "metadata": {},
   "source": [
    "### Collecting data from Nomatim using GeoPy"
   ]
  },
  {
   "cell_type": "code",
   "execution_count": 15,
   "id": "c3b831e5-d799-4d5e-bd16-5e6dea84a502",
   "metadata": {
    "tags": []
   },
   "outputs": [],
   "source": [
    "geolocator = Nominatim(user_agent=\"Christian Fogtdal, Student at Copenhagen University, rxw556@alumni.ku.dk\")\n",
    "\n",
    "def city_state_country(row):\n",
    "    \"\"\"\n",
    "    Using Nomatim API to get consistant data of city/state/country from a given country string, \n",
    "    - problem was that Twitter users either has \"city, state\" or \"state, country\", or something even less usable since location is a free text field.\n",
    "    \n",
    "    The code iterates over each row, and extracts city/state/country if applicable.\n",
    "    Sleep time is set to 1 second. - This is requested by the provider.\n",
    "    If not applicable the code returns the input.\n",
    "    \"\"\"\n",
    "    coord = f\"{row['tweet_location']}\"\n",
    "    sleep(1) #Nomatim is free to use, but requires users to only request 1/second\n",
    "    location = geolocator.geocode(coord,exactly_one=True, addressdetails=True)\n",
    "    if not location:\n",
    "        # if you see many in a row, it's probably Nominatim blocking you.\n",
    "        # if it's just every once in a while, there were just some bad results. \n",
    "        print('Failed with location: ', coord)\n",
    "        row['city'], row['state'], row['country'] = None, None, None\n",
    "        return row\n",
    "    address = location.raw['address']\n",
    "    city = address.get('city', '')\n",
    "    state = address.get('state', '')\n",
    "    country = address.get('country', '')\n",
    "    row['city'] = city\n",
    "    row['state'] = state\n",
    "    row['country'] = country\n",
    "    return row\n",
    "\n",
    "tweets_df = tweets_df.apply(city_state_country, axis=1)\n"
   ]
  },
  {
   "cell_type": "markdown",
   "id": "ea0a77c0-5abf-4aea-a83d-db6474bd0e54",
   "metadata": {},
   "source": [
    "### Final clean of location data"
   ]
  },
  {
   "cell_type": "code",
   "execution_count": 84,
   "id": "68782e3f-fbae-4fa8-a6b1-1ad7e15fe019",
   "metadata": {},
   "outputs": [
    {
     "data": {
      "text/plain": [
       "90"
      ]
     },
     "execution_count": 84,
     "metadata": {},
     "output_type": "execute_result"
    }
   ],
   "source": [
    "# Removes rows, where country != 'United States'.\n",
    "# This is often due to free text, where the user for example has written 'my bed' or 'the city'\n",
    "# I.e. 'the city' returns \"City of London\", which is why it is removed.\n",
    "# \"None\" returns the city None in Piemonte, Italy\n",
    "tweets_df = tweets_df.drop(tweets_df[tweets_df.country != 'United States'].index)\n",
    "\n",
    "#Empty values to NaN\n",
    "tweets_df['city'].replace('', np.nan, inplace=True)\n",
    "tweets_df['state'].replace('', np.nan, inplace=True)\n",
    "\n",
    "# Also removes rows without state info\n",
    "tweets_df[~tweets_df['state'].isnull()]\n",
    "tweets_df.dropna(subset=['state'], inplace=True)\n",
    "len(tweets_df)"
   ]
  },
  {
   "cell_type": "code",
   "execution_count": null,
   "id": "1a39a340-c12a-4f58-a3c9-fc57bb405dd1",
   "metadata": {},
   "outputs": [],
   "source": [
    "# Dictionary to get 2 digit state code to use for heatmap later\n",
    "us_state_to_abbrev = {\n",
    "    \"Alabama\": \"AL\",\n",
    "    \"Alaska\": \"AK\",\n",
    "    \"Arizona\": \"AZ\",\n",
    "    \"Arkansas\": \"AR\",\n",
    "    \"California\": \"CA\",\n",
    "    \"Colorado\": \"CO\",\n",
    "    \"Connecticut\": \"CT\",\n",
    "    \"Delaware\": \"DE\",\n",
    "    \"Florida\": \"FL\",\n",
    "    \"Georgia\": \"GA\",\n",
    "    \"Hawaii\": \"HI\",\n",
    "    \"Idaho\": \"ID\",\n",
    "    \"Illinois\": \"IL\",\n",
    "    \"Indiana\": \"IN\",\n",
    "    \"Iowa\": \"IA\",\n",
    "    \"Kansas\": \"KS\",\n",
    "    \"Kentucky\": \"KY\",\n",
    "    \"Louisiana\": \"LA\",\n",
    "    \"Maine\": \"ME\",\n",
    "    \"Maryland\": \"MD\",\n",
    "    \"Massachusetts\": \"MA\",\n",
    "    \"Michigan\": \"MI\",\n",
    "    \"Minnesota\": \"MN\",\n",
    "    \"Mississippi\": \"MS\",\n",
    "    \"Missouri\": \"MO\",\n",
    "    \"Montana\": \"MT\",\n",
    "    \"Nebraska\": \"NE\",\n",
    "    \"Nevada\": \"NV\",\n",
    "    \"New Hampshire\": \"NH\",\n",
    "    \"New Jersey\": \"NJ\",\n",
    "    \"New Mexico\": \"NM\",\n",
    "    \"New York\": \"NY\",\n",
    "    \"North Carolina\": \"NC\",\n",
    "    \"North Dakota\": \"ND\",\n",
    "    \"Ohio\": \"OH\",\n",
    "    \"Oklahoma\": \"OK\",\n",
    "    \"Oregon\": \"OR\",\n",
    "    \"Pennsylvania\": \"PA\",\n",
    "    \"Rhode Island\": \"RI\",\n",
    "    \"South Carolina\": \"SC\",\n",
    "    \"South Dakota\": \"SD\",\n",
    "    \"Tennessee\": \"TN\",\n",
    "    \"Texas\": \"TX\",\n",
    "    \"Utah\": \"UT\",\n",
    "    \"Vermont\": \"VT\",\n",
    "    \"Virginia\": \"VA\",\n",
    "    \"Washington\": \"WA\",\n",
    "    \"West Virginia\": \"WV\",\n",
    "    \"Wisconsin\": \"WI\",\n",
    "    \"Wyoming\": \"WY\",\n",
    "    \"District of Columbia\": \"DC\",\n",
    "    \"American Samoa\": \"AS\",\n",
    "    \"Guam\": \"GU\",\n",
    "    \"Northern Mariana Islands\": \"MP\",\n",
    "    \"Puerto Rico\": \"PR\",\n",
    "    \"United States Minor Outlying Islands\": \"UM\",\n",
    "    \"U.S. Virgin Islands\": \"VI\",\n",
    "}"
   ]
  },
  {
   "cell_type": "code",
   "execution_count": 85,
   "id": "ee798c73-8aef-45c0-85b4-181400c998c4",
   "metadata": {},
   "outputs": [
    {
     "data": {
      "text/html": [
       "<div>\n",
       "<style scoped>\n",
       "    .dataframe tbody tr th:only-of-type {\n",
       "        vertical-align: middle;\n",
       "    }\n",
       "\n",
       "    .dataframe tbody tr th {\n",
       "        vertical-align: top;\n",
       "    }\n",
       "\n",
       "    .dataframe thead th {\n",
       "        text-align: right;\n",
       "    }\n",
       "</style>\n",
       "<table border=\"1\" class=\"dataframe\">\n",
       "  <thead>\n",
       "    <tr style=\"text-align: right;\">\n",
       "      <th></th>\n",
       "      <th>created_at</th>\n",
       "      <th>text</th>\n",
       "      <th>source</th>\n",
       "      <th>name</th>\n",
       "      <th>username</th>\n",
       "      <th>user_location</th>\n",
       "      <th>tweet_location</th>\n",
       "      <th>country_code</th>\n",
       "      <th>verified</th>\n",
       "      <th>description</th>\n",
       "      <th>city</th>\n",
       "      <th>state</th>\n",
       "      <th>country</th>\n",
       "      <th>state_code</th>\n",
       "    </tr>\n",
       "  </thead>\n",
       "  <tbody>\n",
       "    <tr>\n",
       "      <th>0</th>\n",
       "      <td>2020-10-01 23:54:28+00:00</td>\n",
       "      <td>Great Article on Pfizer's Covid19 Vaccine! It ...</td>\n",
       "      <td>Twitter for Android</td>\n",
       "      <td>The Catholic Honey Badger ⛪🌄</td>\n",
       "      <td>RuralUSCatholic</td>\n",
       "      <td>West Plains, MO</td>\n",
       "      <td>Missouri, USA</td>\n",
       "      <td>US</td>\n",
       "      <td>False</td>\n",
       "      <td>In your hearts reverence Christ as Lord. Alway...</td>\n",
       "      <td>NaN</td>\n",
       "      <td>Missouri</td>\n",
       "      <td>United States</td>\n",
       "      <td>MO</td>\n",
       "    </tr>\n",
       "    <tr>\n",
       "      <th>1</th>\n",
       "      <td>2020-10-01 23:33:18+00:00</td>\n",
       "      <td>Aight let’s get a vaccine and freaking rage on...</td>\n",
       "      <td>Twitter for iPhone</td>\n",
       "      <td>Berk</td>\n",
       "      <td>ChiBerk96</td>\n",
       "      <td>Chicago and Cincy</td>\n",
       "      <td>Chicago, IL</td>\n",
       "      <td>US</td>\n",
       "      <td>False</td>\n",
       "      <td>Die hard sports fan from Chicago, IL. U of Cin...</td>\n",
       "      <td>Chicago</td>\n",
       "      <td>Illinois</td>\n",
       "      <td>United States</td>\n",
       "      <td>IL</td>\n",
       "    </tr>\n",
       "  </tbody>\n",
       "</table>\n",
       "</div>"
      ],
      "text/plain": [
       "                 created_at  \\\n",
       "0 2020-10-01 23:54:28+00:00   \n",
       "1 2020-10-01 23:33:18+00:00   \n",
       "\n",
       "                                                text               source  \\\n",
       "0  Great Article on Pfizer's Covid19 Vaccine! It ...  Twitter for Android   \n",
       "1  Aight let’s get a vaccine and freaking rage on...   Twitter for iPhone   \n",
       "\n",
       "                           name         username      user_location  \\\n",
       "0  The Catholic Honey Badger ⛪🌄  RuralUSCatholic    West Plains, MO   \n",
       "1                          Berk        ChiBerk96  Chicago and Cincy   \n",
       "\n",
       "  tweet_location country_code  verified  \\\n",
       "0  Missouri, USA           US     False   \n",
       "1    Chicago, IL           US     False   \n",
       "\n",
       "                                         description     city     state  \\\n",
       "0  In your hearts reverence Christ as Lord. Alway...      NaN  Missouri   \n",
       "1  Die hard sports fan from Chicago, IL. U of Cin...  Chicago  Illinois   \n",
       "\n",
       "         country state_code  \n",
       "0  United States         MO  \n",
       "1  United States         IL  "
      ]
     },
     "execution_count": 85,
     "metadata": {},
     "output_type": "execute_result"
    }
   ],
   "source": [
    "# Adding 2 digit state codes for map plot \n",
    "tweets_df['state_code'] = tweets_df['state'].map(us_state_to_abbrev)\n",
    "tweets_df.head(2)"
   ]
  },
  {
   "cell_type": "code",
   "execution_count": 103,
   "id": "ba63d845-e8ce-43ab-a498-4fc844200255",
   "metadata": {},
   "outputs": [
    {
     "data": {
      "text/html": [
       "<div>\n",
       "<style scoped>\n",
       "    .dataframe tbody tr th:only-of-type {\n",
       "        vertical-align: middle;\n",
       "    }\n",
       "\n",
       "    .dataframe tbody tr th {\n",
       "        vertical-align: top;\n",
       "    }\n",
       "\n",
       "    .dataframe thead th {\n",
       "        text-align: right;\n",
       "    }\n",
       "</style>\n",
       "<table border=\"1\" class=\"dataframe\">\n",
       "  <thead>\n",
       "    <tr style=\"text-align: right;\">\n",
       "      <th></th>\n",
       "      <th>created_at</th>\n",
       "      <th>text</th>\n",
       "      <th>source</th>\n",
       "      <th>name</th>\n",
       "      <th>username</th>\n",
       "      <th>user_location</th>\n",
       "      <th>tweet_location</th>\n",
       "      <th>country_code</th>\n",
       "      <th>verified</th>\n",
       "      <th>description</th>\n",
       "      <th>city</th>\n",
       "      <th>state</th>\n",
       "      <th>country</th>\n",
       "      <th>state_code</th>\n",
       "      <th>date</th>\n",
       "    </tr>\n",
       "  </thead>\n",
       "  <tbody>\n",
       "    <tr>\n",
       "      <th>0</th>\n",
       "      <td>2020-10-01 23:54:28+00:00</td>\n",
       "      <td>Great Article on Pfizer's Covid19 Vaccine! It ...</td>\n",
       "      <td>Twitter for Android</td>\n",
       "      <td>The Catholic Honey Badger ⛪🌄</td>\n",
       "      <td>RuralUSCatholic</td>\n",
       "      <td>West Plains, MO</td>\n",
       "      <td>Missouri, USA</td>\n",
       "      <td>US</td>\n",
       "      <td>False</td>\n",
       "      <td>In your hearts reverence Christ as Lord. Alway...</td>\n",
       "      <td>NaN</td>\n",
       "      <td>Missouri</td>\n",
       "      <td>United States</td>\n",
       "      <td>MO</td>\n",
       "      <td>2020-10-01</td>\n",
       "    </tr>\n",
       "    <tr>\n",
       "      <th>1</th>\n",
       "      <td>2020-10-01 23:33:18+00:00</td>\n",
       "      <td>Aight let’s get a vaccine and freaking rage on...</td>\n",
       "      <td>Twitter for iPhone</td>\n",
       "      <td>Berk</td>\n",
       "      <td>ChiBerk96</td>\n",
       "      <td>Chicago and Cincy</td>\n",
       "      <td>Chicago, IL</td>\n",
       "      <td>US</td>\n",
       "      <td>False</td>\n",
       "      <td>Die hard sports fan from Chicago, IL. U of Cin...</td>\n",
       "      <td>Chicago</td>\n",
       "      <td>Illinois</td>\n",
       "      <td>United States</td>\n",
       "      <td>IL</td>\n",
       "      <td>2020-10-01</td>\n",
       "    </tr>\n",
       "  </tbody>\n",
       "</table>\n",
       "</div>"
      ],
      "text/plain": [
       "                 created_at  \\\n",
       "0 2020-10-01 23:54:28+00:00   \n",
       "1 2020-10-01 23:33:18+00:00   \n",
       "\n",
       "                                                text               source  \\\n",
       "0  Great Article on Pfizer's Covid19 Vaccine! It ...  Twitter for Android   \n",
       "1  Aight let’s get a vaccine and freaking rage on...   Twitter for iPhone   \n",
       "\n",
       "                           name         username      user_location  \\\n",
       "0  The Catholic Honey Badger ⛪🌄  RuralUSCatholic    West Plains, MO   \n",
       "1                          Berk        ChiBerk96  Chicago and Cincy   \n",
       "\n",
       "  tweet_location country_code  verified  \\\n",
       "0  Missouri, USA           US     False   \n",
       "1    Chicago, IL           US     False   \n",
       "\n",
       "                                         description     city     state  \\\n",
       "0  In your hearts reverence Christ as Lord. Alway...      NaN  Missouri   \n",
       "1  Die hard sports fan from Chicago, IL. U of Cin...  Chicago  Illinois   \n",
       "\n",
       "         country state_code       date  \n",
       "0  United States         MO 2020-10-01  \n",
       "1  United States         IL 2020-10-01  "
      ]
     },
     "execution_count": 103,
     "metadata": {},
     "output_type": "execute_result"
    }
   ],
   "source": [
    "# Creating date variable from datetime variable\n",
    "tweets_df['date'] = pd.to_datetime(tweets_df[\"created_at\"].dt.strftime('%Y-%m-%d'))\n",
    "tweets_df.head(2)"
   ]
  },
  {
   "cell_type": "markdown",
   "id": "492ae1a7-4495-483c-9e58-56525732ba88",
   "metadata": {},
   "source": [
    "### Collecting and cleaning data from Wikipedia"
   ]
  },
  {
   "cell_type": "code",
   "execution_count": 86,
   "id": "6338e28c-e93e-4959-8aa0-53778cfaca19",
   "metadata": {},
   "outputs": [
    {
     "data": {
      "text/html": [
       "<div>\n",
       "<style scoped>\n",
       "    .dataframe tbody tr th:only-of-type {\n",
       "        vertical-align: middle;\n",
       "    }\n",
       "\n",
       "    .dataframe tbody tr th {\n",
       "        vertical-align: top;\n",
       "    }\n",
       "\n",
       "    .dataframe thead th {\n",
       "        text-align: right;\n",
       "    }\n",
       "</style>\n",
       "<table border=\"1\" class=\"dataframe\">\n",
       "  <thead>\n",
       "    <tr style=\"text-align: right;\">\n",
       "      <th></th>\n",
       "      <th>State ordistrictState ordistrict</th>\n",
       "      <th>Biden/HarrisDemocraticVotes</th>\n",
       "      <th>Biden/HarrisDemocratic%</th>\n",
       "      <th>Biden/HarrisDemocraticEV</th>\n",
       "      <th>Trump/PenceRepublicanVotes</th>\n",
       "      <th>Trump/PenceRepublican%</th>\n",
       "      <th>Trump/PenceRepublicanEV</th>\n",
       "      <th>Jorgensen/CohenLibertarianVotes</th>\n",
       "      <th>Jorgensen/CohenLibertarian%</th>\n",
       "      <th>Jorgensen/CohenLibertarianEV</th>\n",
       "      <th>Hawkins/WalkerGreenVotes</th>\n",
       "      <th>Hawkins/WalkerGreen%</th>\n",
       "      <th>Hawkins/WalkerGreenEV</th>\n",
       "      <th>OthersVotes</th>\n",
       "      <th>Others%</th>\n",
       "      <th>OthersEV</th>\n",
       "      <th>MarginVotes</th>\n",
       "      <th>Margin%</th>\n",
       "      <th>Marginswing[l]%</th>\n",
       "      <th>TotalvotesTotalvotes</th>\n",
       "    </tr>\n",
       "  </thead>\n",
       "  <tbody>\n",
       "    <tr>\n",
       "      <th>0</th>\n",
       "      <td>Alab.</td>\n",
       "      <td>849624</td>\n",
       "      <td>36.57%</td>\n",
       "      <td>–</td>\n",
       "      <td>1441170</td>\n",
       "      <td>62.03%</td>\n",
       "      <td>9</td>\n",
       "      <td>25176</td>\n",
       "      <td>1.08%</td>\n",
       "      <td>–</td>\n",
       "      <td>[m]</td>\n",
       "      <td>[m]</td>\n",
       "      <td>–</td>\n",
       "      <td>7312</td>\n",
       "      <td>0.31%</td>\n",
       "      <td>–</td>\n",
       "      <td>−591,546</td>\n",
       "      <td>−25.46%</td>\n",
       "      <td>2.27%</td>\n",
       "      <td>2323282</td>\n",
       "    </tr>\n",
       "    <tr>\n",
       "      <th>1</th>\n",
       "      <td>Alaska</td>\n",
       "      <td>153778</td>\n",
       "      <td>42.77%</td>\n",
       "      <td>–</td>\n",
       "      <td>189951</td>\n",
       "      <td>52.83%</td>\n",
       "      <td>3</td>\n",
       "      <td>8897</td>\n",
       "      <td>2.47%</td>\n",
       "      <td>–</td>\n",
       "      <td>[n]</td>\n",
       "      <td>[n]</td>\n",
       "      <td>–</td>\n",
       "      <td>6904</td>\n",
       "      <td>1.92%</td>\n",
       "      <td>–</td>\n",
       "      <td>−36,173</td>\n",
       "      <td>−10.06%</td>\n",
       "      <td>4.67%</td>\n",
       "      <td>359530</td>\n",
       "    </tr>\n",
       "    <tr>\n",
       "      <th>2</th>\n",
       "      <td>Arizona</td>\n",
       "      <td>1672143</td>\n",
       "      <td>49.36%</td>\n",
       "      <td>11</td>\n",
       "      <td>1661686</td>\n",
       "      <td>49.06%</td>\n",
       "      <td>–</td>\n",
       "      <td>51465</td>\n",
       "      <td>1.52%</td>\n",
       "      <td>–</td>\n",
       "      <td>1557</td>\n",
       "      <td>0.05%</td>\n",
       "      <td>–</td>\n",
       "      <td>475</td>\n",
       "      <td>0.01%</td>\n",
       "      <td>–</td>\n",
       "      <td>10457</td>\n",
       "      <td>0.31%</td>\n",
       "      <td>3.81%</td>\n",
       "      <td>3387326</td>\n",
       "    </tr>\n",
       "    <tr>\n",
       "      <th>3</th>\n",
       "      <td>Ark.</td>\n",
       "      <td>423932</td>\n",
       "      <td>34.78%</td>\n",
       "      <td>–</td>\n",
       "      <td>760647</td>\n",
       "      <td>62.40%</td>\n",
       "      <td>6</td>\n",
       "      <td>13133</td>\n",
       "      <td>1.08%</td>\n",
       "      <td>–</td>\n",
       "      <td>2980</td>\n",
       "      <td>0.24%</td>\n",
       "      <td>–</td>\n",
       "      <td>18377</td>\n",
       "      <td>1.51%</td>\n",
       "      <td>–</td>\n",
       "      <td>−336,715</td>\n",
       "      <td>−27.62%</td>\n",
       "      <td>−0.70%</td>\n",
       "      <td>1219069</td>\n",
       "    </tr>\n",
       "    <tr>\n",
       "      <th>4</th>\n",
       "      <td>Calif.</td>\n",
       "      <td>11110250</td>\n",
       "      <td>63.48%</td>\n",
       "      <td>55</td>\n",
       "      <td>6006429</td>\n",
       "      <td>34.32%</td>\n",
       "      <td>–</td>\n",
       "      <td>187895</td>\n",
       "      <td>1.07%</td>\n",
       "      <td>–</td>\n",
       "      <td>81029</td>\n",
       "      <td>0.46%</td>\n",
       "      <td>–</td>\n",
       "      <td>115278</td>\n",
       "      <td>0.66%</td>\n",
       "      <td>–</td>\n",
       "      <td>5103821</td>\n",
       "      <td>29.16%</td>\n",
       "      <td>−0.95%</td>\n",
       "      <td>17500881</td>\n",
       "    </tr>\n",
       "  </tbody>\n",
       "</table>\n",
       "</div>"
      ],
      "text/plain": [
       "  State ordistrictState ordistrict Biden/HarrisDemocraticVotes  \\\n",
       "0                            Alab.                      849624   \n",
       "1                           Alaska                      153778   \n",
       "2                          Arizona                     1672143   \n",
       "3                             Ark.                      423932   \n",
       "4                           Calif.                    11110250   \n",
       "\n",
       "  Biden/HarrisDemocratic% Biden/HarrisDemocraticEV Trump/PenceRepublicanVotes  \\\n",
       "0                  36.57%                        –                    1441170   \n",
       "1                  42.77%                        –                     189951   \n",
       "2                  49.36%                       11                    1661686   \n",
       "3                  34.78%                        –                     760647   \n",
       "4                  63.48%                       55                    6006429   \n",
       "\n",
       "  Trump/PenceRepublican% Trump/PenceRepublicanEV  \\\n",
       "0                 62.03%                       9   \n",
       "1                 52.83%                       3   \n",
       "2                 49.06%                       –   \n",
       "3                 62.40%                       6   \n",
       "4                 34.32%                       –   \n",
       "\n",
       "  Jorgensen/CohenLibertarianVotes Jorgensen/CohenLibertarian%  \\\n",
       "0                           25176                       1.08%   \n",
       "1                            8897                       2.47%   \n",
       "2                           51465                       1.52%   \n",
       "3                           13133                       1.08%   \n",
       "4                          187895                       1.07%   \n",
       "\n",
       "  Jorgensen/CohenLibertarianEV Hawkins/WalkerGreenVotes Hawkins/WalkerGreen%  \\\n",
       "0                            –                      [m]                  [m]   \n",
       "1                            –                      [n]                  [n]   \n",
       "2                            –                     1557                0.05%   \n",
       "3                            –                     2980                0.24%   \n",
       "4                            –                    81029                0.46%   \n",
       "\n",
       "  Hawkins/WalkerGreenEV OthersVotes Others% OthersEV MarginVotes  Margin%  \\\n",
       "0                     –        7312   0.31%        –    −591,546  −25.46%   \n",
       "1                     –        6904   1.92%        –     −36,173  −10.06%   \n",
       "2                     –         475   0.01%        –       10457    0.31%   \n",
       "3                     –       18377   1.51%        –    −336,715  −27.62%   \n",
       "4                     –      115278   0.66%        –     5103821   29.16%   \n",
       "\n",
       "  Marginswing[l]% TotalvotesTotalvotes  \n",
       "0           2.27%              2323282  \n",
       "1           4.67%               359530  \n",
       "2           3.81%              3387326  \n",
       "3          −0.70%              1219069  \n",
       "4          −0.95%             17500881  "
      ]
     },
     "execution_count": 86,
     "metadata": {},
     "output_type": "execute_result"
    }
   ],
   "source": [
    "#Start by importing the website where we want to extract the data from\n",
    "dfs = pd.read_html('https://en.wikipedia.org/wiki/2020_United_States_presidential_election')\n",
    "\n",
    "#seeing that the table we want is the nr19 therefore we extract that\n",
    "table_stat = dfs[19]\n",
    "\n",
    "#from the above we see that there are 2 type of headers. We want to deal with this, therefore we put the two columns together \n",
    "#by f-string formatting \n",
    "table_stat.columns = [f'{i}{j}' for i, j in table_stat.columns]\n",
    "table_stat.head()"
   ]
  },
  {
   "cell_type": "code",
   "execution_count": 18,
   "id": "129b4815-65dd-4bae-8047-7fa694600456",
   "metadata": {},
   "outputs": [
    {
     "data": {
      "text/html": [
       "<div>\n",
       "<style scoped>\n",
       "    .dataframe tbody tr th:only-of-type {\n",
       "        vertical-align: middle;\n",
       "    }\n",
       "\n",
       "    .dataframe tbody tr th {\n",
       "        vertical-align: top;\n",
       "    }\n",
       "\n",
       "    .dataframe thead th {\n",
       "        text-align: right;\n",
       "    }\n",
       "</style>\n",
       "<table border=\"1\" class=\"dataframe\">\n",
       "  <thead>\n",
       "    <tr style=\"text-align: right;\">\n",
       "      <th></th>\n",
       "      <th>state</th>\n",
       "      <th>Democratic</th>\n",
       "      <th>Democraticpct</th>\n",
       "      <th>Republican</th>\n",
       "      <th>Republicanpct</th>\n",
       "    </tr>\n",
       "  </thead>\n",
       "  <tbody>\n",
       "    <tr>\n",
       "      <th>0</th>\n",
       "      <td>Alabama</td>\n",
       "      <td>849624</td>\n",
       "      <td>36.57%</td>\n",
       "      <td>1441170</td>\n",
       "      <td>62.03%</td>\n",
       "    </tr>\n",
       "    <tr>\n",
       "      <th>1</th>\n",
       "      <td>Alaska</td>\n",
       "      <td>153778</td>\n",
       "      <td>42.77%</td>\n",
       "      <td>189951</td>\n",
       "      <td>52.83%</td>\n",
       "    </tr>\n",
       "    <tr>\n",
       "      <th>2</th>\n",
       "      <td>Arizona</td>\n",
       "      <td>1672143</td>\n",
       "      <td>49.36%</td>\n",
       "      <td>1661686</td>\n",
       "      <td>49.06%</td>\n",
       "    </tr>\n",
       "    <tr>\n",
       "      <th>3</th>\n",
       "      <td>Arkansas</td>\n",
       "      <td>423932</td>\n",
       "      <td>34.78%</td>\n",
       "      <td>760647</td>\n",
       "      <td>62.40%</td>\n",
       "    </tr>\n",
       "  </tbody>\n",
       "</table>\n",
       "</div>"
      ],
      "text/plain": [
       "      state Democratic Democraticpct Republican Republicanpct\n",
       "0   Alabama     849624        36.57%    1441170        62.03%\n",
       "1    Alaska     153778        42.77%     189951        52.83%\n",
       "2   Arizona    1672143        49.36%    1661686        49.06%\n",
       "3  Arkansas     423932        34.78%     760647        62.40%"
      ]
     },
     "execution_count": 18,
     "metadata": {},
     "output_type": "execute_result"
    }
   ],
   "source": [
    "#then we drop the columns we are not interested in, since we only want to compare Democrats and Republicans\n",
    "table_stat1= table_stat.drop(table_stat.columns[[3, 6]], axis=1)\n",
    "table_stat2 = table_stat1.drop(table_stat1.iloc[:, 5:18], axis=1)\n",
    "\n",
    "#removing extra rows from Maine and Newbraske due to the election rules in these state\n",
    "table_stat3= table_stat2.drop(table_stat.index[[20, 21,30, 31, 32, 56, 57]], axis=0)\n",
    "\n",
    "# Manually handling the states so their are inlibne with the twitter data. Thereby we can merge the data\n",
    "table_stat4 = table_stat3.replace(['Alab.','Ark.','Calif.', 'Colo.', 'Conn.', 'Del.', 'D.C.' , 'Ky.', 'La.', 'Maine †', 'Md.', 'Mass.', 'Mich.',\n",
    "                                  'Minn.', 'Miss.', 'Mo.' , 'Mont.', 'Neb. †', 'Nev.[p]', 'N.H.', 'N.J.[q]' , 'N.M.', 'N.Y.[r]', 'N.C.',\n",
    "                                  'N.D.', 'Okla.', 'Pa.' , 'R.I.', 'S.C.', 'S.D.', 'Tenn.','Texas[t]', 'Vt.' , 'Va.', 'Wash.', 'W.Va.',\n",
    "                                  'Wis.', 'Wyo.'], \n",
    "                                  ['Alabama','Arkansas','California','Colorado', 'Connecticut', 'Delaware', 'District of Columbia', 'Kentucky',\n",
    "                                  'Louisiana', 'Maine', 'Maryland', 'Massachusetts', 'Michigan', 'Minnesota', 'Mississippi', 'Missouri', 'Montanna',\n",
    "                                  'Nebraska', 'Nevada', 'New Hampshire', 'New Jersey', 'New Mexico', 'New York', 'North Carolina', 'North Dakota',\n",
    "                                  'Oklahoma', 'Pennsylvania', 'Rhode Island', 'South Carolina', 'South Dakota', 'Tennessee', 'Texas', 'Vermont',\n",
    "                                  'Virginia', 'Washington', 'West Virginia', 'Wisconsin', 'Wyoming'])\n",
    "\n",
    "#renaming columns to give them more intuitive names for comparison \n",
    "table_stat5 = table_stat4.rename(columns = {'State ordistrictState ordistrict':'state', \n",
    "                                            'Biden/HarrisDemocraticVotes':'Democratic', \n",
    "                                            'Biden/HarrisDemocratic%':'Democraticpct', \n",
    "                                            'Trump/PenceRepublicanVotes':'Republican', \n",
    "                                            'Trump/PenceRepublican%' : 'Republicanpct'}\n",
    "                                )\n",
    "\n",
    "table_stat5.head(4)\n",
    "\n"
   ]
  },
  {
   "cell_type": "code",
   "execution_count": 104,
   "id": "1a200f38-38e7-4cc7-8bc5-e1ed336c2a3d",
   "metadata": {
    "tags": []
   },
   "outputs": [
    {
     "data": {
      "text/html": [
       "<div>\n",
       "<style scoped>\n",
       "    .dataframe tbody tr th:only-of-type {\n",
       "        vertical-align: middle;\n",
       "    }\n",
       "\n",
       "    .dataframe tbody tr th {\n",
       "        vertical-align: top;\n",
       "    }\n",
       "\n",
       "    .dataframe thead th {\n",
       "        text-align: right;\n",
       "    }\n",
       "</style>\n",
       "<table border=\"1\" class=\"dataframe\">\n",
       "  <thead>\n",
       "    <tr style=\"text-align: right;\">\n",
       "      <th></th>\n",
       "      <th>created_at</th>\n",
       "      <th>text</th>\n",
       "      <th>source</th>\n",
       "      <th>name</th>\n",
       "      <th>username</th>\n",
       "      <th>user_location</th>\n",
       "      <th>tweet_location</th>\n",
       "      <th>country_code</th>\n",
       "      <th>verified</th>\n",
       "      <th>description</th>\n",
       "      <th>city</th>\n",
       "      <th>state</th>\n",
       "      <th>country</th>\n",
       "      <th>state_code</th>\n",
       "      <th>date</th>\n",
       "      <th>Democratic</th>\n",
       "      <th>Democraticpct</th>\n",
       "      <th>Republican</th>\n",
       "      <th>Republicanpct</th>\n",
       "      <th>state_color</th>\n",
       "    </tr>\n",
       "  </thead>\n",
       "  <tbody>\n",
       "    <tr>\n",
       "      <th>0</th>\n",
       "      <td>2020-10-01 23:54:28+00:00</td>\n",
       "      <td>Great Article on Pfizer's Covid19 Vaccine! It ...</td>\n",
       "      <td>Twitter for Android</td>\n",
       "      <td>The Catholic Honey Badger ⛪🌄</td>\n",
       "      <td>RuralUSCatholic</td>\n",
       "      <td>West Plains, MO</td>\n",
       "      <td>Missouri, USA</td>\n",
       "      <td>US</td>\n",
       "      <td>False</td>\n",
       "      <td>In your hearts reverence Christ as Lord. Alway...</td>\n",
       "      <td>NaN</td>\n",
       "      <td>Missouri</td>\n",
       "      <td>United States</td>\n",
       "      <td>MO</td>\n",
       "      <td>2020-10-01</td>\n",
       "      <td>1253014</td>\n",
       "      <td>41.41%</td>\n",
       "      <td>1718736</td>\n",
       "      <td>56.80%</td>\n",
       "      <td>Red</td>\n",
       "    </tr>\n",
       "    <tr>\n",
       "      <th>1</th>\n",
       "      <td>2020-10-05 23:38:20+00:00</td>\n",
       "      <td>@MZHemingway The need for a #TDS vaccine is  p...</td>\n",
       "      <td>Twitter for iPhone</td>\n",
       "      <td>Jeff Cunningham</td>\n",
       "      <td>jeffrygc</td>\n",
       "      <td>Michigan, USA</td>\n",
       "      <td>Shelby, MI</td>\n",
       "      <td>US</td>\n",
       "      <td>False</td>\n",
       "      <td>Bus Exec, devoted husband, father of 2 young m...</td>\n",
       "      <td>NaN</td>\n",
       "      <td>Missouri</td>\n",
       "      <td>United States</td>\n",
       "      <td>MO</td>\n",
       "      <td>2020-10-05</td>\n",
       "      <td>1253014</td>\n",
       "      <td>41.41%</td>\n",
       "      <td>1718736</td>\n",
       "      <td>56.80%</td>\n",
       "      <td>Red</td>\n",
       "    </tr>\n",
       "  </tbody>\n",
       "</table>\n",
       "</div>"
      ],
      "text/plain": [
       "                 created_at  \\\n",
       "0 2020-10-01 23:54:28+00:00   \n",
       "1 2020-10-05 23:38:20+00:00   \n",
       "\n",
       "                                                text               source  \\\n",
       "0  Great Article on Pfizer's Covid19 Vaccine! It ...  Twitter for Android   \n",
       "1  @MZHemingway The need for a #TDS vaccine is  p...   Twitter for iPhone   \n",
       "\n",
       "                           name         username    user_location  \\\n",
       "0  The Catholic Honey Badger ⛪🌄  RuralUSCatholic  West Plains, MO   \n",
       "1               Jeff Cunningham         jeffrygc    Michigan, USA   \n",
       "\n",
       "  tweet_location country_code  verified  \\\n",
       "0  Missouri, USA           US     False   \n",
       "1     Shelby, MI           US     False   \n",
       "\n",
       "                                         description city     state  \\\n",
       "0  In your hearts reverence Christ as Lord. Alway...  NaN  Missouri   \n",
       "1  Bus Exec, devoted husband, father of 2 young m...  NaN  Missouri   \n",
       "\n",
       "         country state_code       date Democratic Democraticpct Republican  \\\n",
       "0  United States         MO 2020-10-01    1253014        41.41%    1718736   \n",
       "1  United States         MO 2020-10-05    1253014        41.41%    1718736   \n",
       "\n",
       "  Republicanpct state_color  \n",
       "0        56.80%         Red  \n",
       "1        56.80%         Red  "
      ]
     },
     "execution_count": 104,
     "metadata": {},
     "output_type": "execute_result"
    }
   ],
   "source": [
    "#Comparing the vote pct to see if the state is either Democratic (blue) or Republican (red) and adding a new collum\n",
    "comparison_column = np.where(table_stat5[\"Democraticpct\"] > table_stat5[\"Republicanpct\"], 'Blue', 'Red')\n",
    "#comparison_pct_column = np.where(table_stat5[\"Democraticpct\"] > table_stat5[\"Republicanpct\"], table_stat5[\"Democratic\"]-table_stat5[\"Republican\"], 1)\n",
    "\n",
    "\n",
    "table_stat5[\"state_color\"] = comparison_column\n",
    "#table_stat5[\"pct_dif\"] = comparison_pct_column\n",
    "\n",
    "# merging the datasets\n",
    "tweets_df2 = tweets_df.merge(table_stat5, how='inner', on='state')\n",
    "tweets_df2.head(2)"
   ]
  },
  {
   "cell_type": "markdown",
   "id": "784cfb39-532d-4cf1-bd03-ea7ba69cca0a",
   "metadata": {},
   "source": [
    "## 6. Cleaning of the tweet text"
   ]
  },
  {
   "cell_type": "code",
   "execution_count": 105,
   "id": "598692cc-5d40-4fef-9038-40c87b45c5eb",
   "metadata": {},
   "outputs": [],
   "source": [
    "## Making a copy, to not be forced to load from the start every time\n",
    "tweets_df3 = tweets_df2.copy()"
   ]
  },
  {
   "cell_type": "code",
   "execution_count": 106,
   "id": "10291271-c827-4e8d-afaf-7728360787ef",
   "metadata": {},
   "outputs": [
    {
     "data": {
      "text/plain": [
       "'He doesn’t even have the shit. In about a week or so he’ll be miraculously healed and here comes “The Vaccine” https://t.co/OADNAmS1pv'"
      ]
     },
     "execution_count": 106,
     "metadata": {},
     "output_type": "execute_result"
    }
   ],
   "source": [
    "tweets_df2['text'][69]"
   ]
  },
  {
   "cell_type": "markdown",
   "id": "424d86f7-86af-4822-aa93-55d499b3f24c",
   "metadata": {},
   "source": [
    "### Cleaner for the text variable"
   ]
  },
  {
   "cell_type": "code",
   "execution_count": 107,
   "id": "cf68383b-b77a-4fc0-a640-7eed785599b6",
   "metadata": {},
   "outputs": [],
   "source": [
    "def cleaner_text(document_tweet):\n",
    "    \"\"\"\n",
    "    Cleaning tweet text for:\n",
    "    replacing \\n newlines with white space ' ',\n",
    "    lower case everything,\n",
    "    removes mentions (@user), \n",
    "    removes \"#\" before hashtags and keeps the text, \n",
    "    removes digits, \n",
    "    removes http-links,\n",
    "    \"\"\"\n",
    "    document_tweet = re.sub(r'\\r\\n|\\r|\\n', ' ', document_tweet) #replaces newline with with space\n",
    "    document_tweet = document_tweet.lower() #To lower case\n",
    "    document_tweet = re.sub(r'@[^\\s]+','',document_tweet) #removes @user\n",
    "    document_tweet = re.sub(r'[#]','',document_tweet) #Removes only #-sign\n",
    "    document_tweet = re.sub(r'[\\d-]','',document_tweet) #removes digits\n",
    "    document_tweet = re.sub(r'http[^\\s]+','',document_tweet) #removes links starting with https\n",
    "    document_tweet = re.sub(r'[^\\w\\s]','', document_tweet) #Remove non-alphanumeric characters\n",
    "    #document_tweet = re.sub(r'#[^\\s]+','',document_tweet) #removes \"#\" and #hashtagstring\n",
    "    return document_tweet\n",
    "\n",
    "tweets_df3['text'] = tweets_df3['text'].apply(cleaner_text)"
   ]
  },
  {
   "cell_type": "markdown",
   "id": "554add26-ef1d-4ce4-82cc-6df7a21b9a24",
   "metadata": {},
   "source": [
    "### Translate emojis to text"
   ]
  },
  {
   "cell_type": "code",
   "execution_count": 46,
   "id": "81f67c50-f36f-4af4-a209-112ed9ec1473",
   "metadata": {},
   "outputs": [],
   "source": [
    "def demojize_text(text_tweet):\n",
    "    \"\"\"\n",
    "    translates emojis to text.\n",
    "    \"\"\"\n",
    "    return emoji.demojize(text_tweet, delimiters=(\"\", \" \"))\n",
    "\n",
    "tweets_df2['text'] = tweets_df2['text'].apply(demojize_text)"
   ]
  },
  {
   "cell_type": "markdown",
   "id": "2f5c620f-0e84-40d4-a2a5-0229b2b6ac5b",
   "metadata": {
    "tags": []
   },
   "source": [
    "### Removing stop words"
   ]
  },
  {
   "cell_type": "markdown",
   "id": "b8e794b6-d4b3-4122-8ecc-997fa272148a",
   "metadata": {},
   "source": [
    "doing this before ML"
   ]
  },
  {
   "cell_type": "markdown",
   "id": "82b0530c-a2e6-4a81-be4c-831978bb4817",
   "metadata": {},
   "source": [
    "### Apply the sentiment analysis using Vader"
   ]
  },
  {
   "cell_type": "code",
   "execution_count": 108,
   "id": "ae41d02f-7761-4100-90fd-c1180024b8e4",
   "metadata": {
    "scrolled": true,
    "tags": []
   },
   "outputs": [
    {
     "data": {
      "text/html": [
       "<div>\n",
       "<style scoped>\n",
       "    .dataframe tbody tr th:only-of-type {\n",
       "        vertical-align: middle;\n",
       "    }\n",
       "\n",
       "    .dataframe tbody tr th {\n",
       "        vertical-align: top;\n",
       "    }\n",
       "\n",
       "    .dataframe thead th {\n",
       "        text-align: right;\n",
       "    }\n",
       "</style>\n",
       "<table border=\"1\" class=\"dataframe\">\n",
       "  <thead>\n",
       "    <tr style=\"text-align: right;\">\n",
       "      <th></th>\n",
       "      <th>created_at</th>\n",
       "      <th>text</th>\n",
       "      <th>source</th>\n",
       "      <th>name</th>\n",
       "      <th>username</th>\n",
       "      <th>user_location</th>\n",
       "      <th>tweet_location</th>\n",
       "      <th>country_code</th>\n",
       "      <th>verified</th>\n",
       "      <th>description</th>\n",
       "      <th>...</th>\n",
       "      <th>country</th>\n",
       "      <th>state_code</th>\n",
       "      <th>date</th>\n",
       "      <th>Democratic</th>\n",
       "      <th>Democraticpct</th>\n",
       "      <th>Republican</th>\n",
       "      <th>Republicanpct</th>\n",
       "      <th>state_color</th>\n",
       "      <th>sentiment_score</th>\n",
       "      <th>tweet_sentiment</th>\n",
       "    </tr>\n",
       "  </thead>\n",
       "  <tbody>\n",
       "    <tr>\n",
       "      <th>0</th>\n",
       "      <td>2020-10-01 23:54:28+00:00</td>\n",
       "      <td>great article on pfizers covid vaccine it may ...</td>\n",
       "      <td>Twitter for Android</td>\n",
       "      <td>The Catholic Honey Badger ⛪🌄</td>\n",
       "      <td>RuralUSCatholic</td>\n",
       "      <td>West Plains, MO</td>\n",
       "      <td>Missouri, USA</td>\n",
       "      <td>US</td>\n",
       "      <td>False</td>\n",
       "      <td>In your hearts reverence Christ as Lord. Alway...</td>\n",
       "      <td>...</td>\n",
       "      <td>United States</td>\n",
       "      <td>MO</td>\n",
       "      <td>2020-10-01</td>\n",
       "      <td>1253014</td>\n",
       "      <td>41.41%</td>\n",
       "      <td>1718736</td>\n",
       "      <td>56.80%</td>\n",
       "      <td>Red</td>\n",
       "      <td>0.6249</td>\n",
       "      <td>1</td>\n",
       "    </tr>\n",
       "    <tr>\n",
       "      <th>1</th>\n",
       "      <td>2020-10-05 23:38:20+00:00</td>\n",
       "      <td>the need for a tds vaccine is  paramount</td>\n",
       "      <td>Twitter for iPhone</td>\n",
       "      <td>Jeff Cunningham</td>\n",
       "      <td>jeffrygc</td>\n",
       "      <td>Michigan, USA</td>\n",
       "      <td>Shelby, MI</td>\n",
       "      <td>US</td>\n",
       "      <td>False</td>\n",
       "      <td>Bus Exec, devoted husband, father of 2 young m...</td>\n",
       "      <td>...</td>\n",
       "      <td>United States</td>\n",
       "      <td>MO</td>\n",
       "      <td>2020-10-05</td>\n",
       "      <td>1253014</td>\n",
       "      <td>41.41%</td>\n",
       "      <td>1718736</td>\n",
       "      <td>56.80%</td>\n",
       "      <td>Red</td>\n",
       "      <td>0.0000</td>\n",
       "      <td>1</td>\n",
       "    </tr>\n",
       "  </tbody>\n",
       "</table>\n",
       "<p>2 rows × 22 columns</p>\n",
       "</div>"
      ],
      "text/plain": [
       "                 created_at  \\\n",
       "0 2020-10-01 23:54:28+00:00   \n",
       "1 2020-10-05 23:38:20+00:00   \n",
       "\n",
       "                                                text               source  \\\n",
       "0  great article on pfizers covid vaccine it may ...  Twitter for Android   \n",
       "1           the need for a tds vaccine is  paramount   Twitter for iPhone   \n",
       "\n",
       "                           name         username    user_location  \\\n",
       "0  The Catholic Honey Badger ⛪🌄  RuralUSCatholic  West Plains, MO   \n",
       "1               Jeff Cunningham         jeffrygc    Michigan, USA   \n",
       "\n",
       "  tweet_location country_code  verified  \\\n",
       "0  Missouri, USA           US     False   \n",
       "1     Shelby, MI           US     False   \n",
       "\n",
       "                                         description  ...        country  \\\n",
       "0  In your hearts reverence Christ as Lord. Alway...  ...  United States   \n",
       "1  Bus Exec, devoted husband, father of 2 young m...  ...  United States   \n",
       "\n",
       "  state_code       date Democratic Democraticpct Republican Republicanpct  \\\n",
       "0         MO 2020-10-01    1253014        41.41%    1718736        56.80%   \n",
       "1         MO 2020-10-05    1253014        41.41%    1718736        56.80%   \n",
       "\n",
       "  state_color sentiment_score tweet_sentiment  \n",
       "0         Red          0.6249               1  \n",
       "1         Red          0.0000               1  \n",
       "\n",
       "[2 rows x 22 columns]"
      ]
     },
     "execution_count": 108,
     "metadata": {},
     "output_type": "execute_result"
    }
   ],
   "source": [
    "# Vader sentiment analysis\n",
    "def sentiment_analyser(tweet_text):\n",
    "    \"\"\"\n",
    "    Using Vader as sentiment analyser.\n",
    "    Vader outputs neg, neu, pos and compound, - we only keep compound.\n",
    "    This is done for each tweet.\n",
    "    \"\"\"\n",
    "    analyser= SentimentIntensityAnalyzer()\n",
    "    sentiment_score = analyser.polarity_scores(tweet_text)[\"compound\"]\n",
    "    return sentiment_score\n",
    "\n",
    "# sentiment score from -1 to 1\n",
    "tweets_df3['sentiment_score'] = tweets_df3['text'].apply(sentiment_analyser)\n",
    "\n",
    "# boolean value is 0 if sentiment is negative, else 1\n",
    "tweets_df3['tweet_sentiment'] = [0 if i < 0 else 1 for i in tweets_df3.sentiment_score]\n",
    "tweets_df3.head(2)"
   ]
  },
  {
   "cell_type": "code",
   "execution_count": 109,
   "id": "20791ff9-e588-4364-bf85-18120f1756fd",
   "metadata": {},
   "outputs": [],
   "source": [
    "df = tweets_df3"
   ]
  },
  {
   "cell_type": "code",
   "execution_count": 110,
   "id": "72803aff-1e71-4d08-be14-bea08e9097d7",
   "metadata": {},
   "outputs": [
    {
     "data": {
      "image/png": "[encoded data removed]",
      "text/plain": [
       "<Figure size 432x288 with 1 Axes>"
      ]
     },
     "metadata": {},
     "output_type": "display_data"
    }
   ],
   "source": [
    "import statsmodels.api as sm\n",
    "import pandas as pd\n",
    "\n",
    "# defining the variables\n",
    "x = df['sentiment_score'].tolist()\n",
    "y = df['state'].tolist()\n",
    "plt.scatter(x, y)\n",
    "\n",
    "max_x = df['sentiment_score'].max()\n",
    "min_x = df['sentiment_score'].min()\n",
    "\n",
    "x = np.arange(min_x, max_x, 1)\n",
    "\n",
    "# adding the constant term\n",
    "#x = sm.add_constant(x)\n",
    " \n",
    "# performing the regression\n",
    "# and fitting the model\n",
    "#result = sm.OLS(y, x).fit()\n",
    "\n",
    "# printing the summary table\n",
    "#print(result.summary())"
   ]
  },
  {
   "cell_type": "code",
   "execution_count": null,
   "id": "ed24a18c-7df7-4013-b5de-eb2d217362f3",
   "metadata": {},
   "outputs": [],
   "source": []
  },
  {
   "cell_type": "code",
   "execution_count": 51,
   "id": "7f966e62-a411-480c-a4a1-ad21eeb891d1",
   "metadata": {
    "tags": []
   },
   "outputs": [],
   "source": []
  },
  {
   "cell_type": "markdown",
   "id": "671bd450-3c68-4a49-a46f-4e2b1189e9db",
   "metadata": {
    "tags": []
   },
   "source": [
    "### Heatmap for mean sentiment"
   ]
  },
  {
   "cell_type": "code",
   "execution_count": 111,
   "id": "be9bb1b1-89b9-40eb-a96b-0c2e699fc690",
   "metadata": {},
   "outputs": [
    {
     "data": {
      "text/html": [
       "<div>\n",
       "<style scoped>\n",
       "    .dataframe tbody tr th:only-of-type {\n",
       "        vertical-align: middle;\n",
       "    }\n",
       "\n",
       "    .dataframe tbody tr th {\n",
       "        vertical-align: top;\n",
       "    }\n",
       "\n",
       "    .dataframe thead th {\n",
       "        text-align: right;\n",
       "    }\n",
       "</style>\n",
       "<table border=\"1\" class=\"dataframe\">\n",
       "  <thead>\n",
       "    <tr style=\"text-align: right;\">\n",
       "      <th></th>\n",
       "      <th>state</th>\n",
       "      <th>state_code</th>\n",
       "      <th>count</th>\n",
       "      <th>mean_sentiment</th>\n",
       "    </tr>\n",
       "  </thead>\n",
       "  <tbody>\n",
       "    <tr>\n",
       "      <th>0</th>\n",
       "      <td>Alabama</td>\n",
       "      <td>AL</td>\n",
       "      <td>2</td>\n",
       "      <td>0.000000</td>\n",
       "    </tr>\n",
       "    <tr>\n",
       "      <th>1</th>\n",
       "      <td>Alaska</td>\n",
       "      <td>AK</td>\n",
       "      <td>1</td>\n",
       "      <td>0.000000</td>\n",
       "    </tr>\n",
       "    <tr>\n",
       "      <th>2</th>\n",
       "      <td>Arizona</td>\n",
       "      <td>AZ</td>\n",
       "      <td>3</td>\n",
       "      <td>0.185833</td>\n",
       "    </tr>\n",
       "    <tr>\n",
       "      <th>3</th>\n",
       "      <td>California</td>\n",
       "      <td>CA</td>\n",
       "      <td>8</td>\n",
       "      <td>-0.133075</td>\n",
       "    </tr>\n",
       "    <tr>\n",
       "      <th>4</th>\n",
       "      <td>Colorado</td>\n",
       "      <td>CO</td>\n",
       "      <td>1</td>\n",
       "      <td>0.585900</td>\n",
       "    </tr>\n",
       "  </tbody>\n",
       "</table>\n",
       "</div>"
      ],
      "text/plain": [
       "        state state_code  count  mean_sentiment\n",
       "0     Alabama         AL      2        0.000000\n",
       "1      Alaska         AK      1        0.000000\n",
       "2     Arizona         AZ      3        0.185833\n",
       "3  California         CA      8       -0.133075\n",
       "4    Colorado         CO      1        0.585900"
      ]
     },
     "execution_count": 111,
     "metadata": {},
     "output_type": "execute_result"
    }
   ],
   "source": [
    "tweets_mean = tweets_df3.groupby(['state', 'state_code']) \\\n",
    "       .agg(count=('state', 'size'), mean_sentiment=('sentiment_score', 'mean')) \\\n",
    "       .reset_index()\n",
    "tweets_mean.head()"
   ]
  },
  {
   "cell_type": "code",
   "execution_count": 112,
   "id": "9dce7381-2ed1-4310-9c23-7f5b19e1384e",
   "metadata": {},
   "outputs": [
    {
     "data": {
      "application/vnd.plotly.v1+json": {
       "config": {
        "plotlyServerURL": "https://plot.ly"
       },
       "data": [
        {
         "autocolorscale": true,
         "colorbar": {
          "title": {
           "text": "Sentiment (-1, 1)"
          }
         },
         "colorscale": [
          [
           0,
           "rgb(103,0,31)"
          ],
          [
           0.1,
           "rgb(178,24,43)"
          ],
          [
           0.2,
           "rgb(214,96,77)"
          ],
          [
           0.3,
           "rgb(244,165,130)"
          ],
          [
           0.4,
           "rgb(253,219,199)"
          ],
          [
           0.5,
           "rgb(247,247,247)"
          ],
          [
           0.6,
           "rgb(209,229,240)"
          ],
          [
           0.7,
           "rgb(146,197,222)"
          ],
          [
           0.8,
           "rgb(67,147,195)"
          ],
          [
           0.9,
           "rgb(33,102,172)"
          ],
          [
           1,
           "rgb(5,48,97)"
          ]
         ],
         "locationmode": "USA-states",
         "locations": [
          "AL",
          "AK",
          "AZ",
          "CA",
          "CO",
          "DC",
          "FL",
          "IL",
          "IA",
          "KY",
          "LA",
          "MD",
          "MA",
          "MN",
          "MS",
          "MO",
          "NV",
          "NH",
          "NJ",
          "NM",
          "NY",
          "NC",
          "OH",
          "OK",
          "OR",
          "PA",
          "TN",
          "TX",
          "UT",
          "VA",
          "WA",
          "WI"
         ],
         "marker": {
          "line": {
           "color": "white"
          }
         },
         "text": [
          "Alabama",
          "Alaska",
          "Arizona",
          "California",
          "Colorado",
          "District of Columbia",
          "Florida",
          "Illinois",
          "Iowa",
          "Kentucky",
          "Louisiana",
          "Maryland",
          "Massachusetts",
          "Minnesota",
          "Mississippi",
          "Missouri",
          "Nevada",
          "New Hampshire",
          "New Jersey",
          "New Mexico",
          "New York",
          "North Carolina",
          "Ohio",
          "Oklahoma",
          "Oregon",
          "Pennsylvania",
          "Tennessee",
          "Texas",
          "Utah",
          "Virginia",
          "Washington",
          "Wisconsin"
         ],
         "type": "choropleth",
         "z": [
          0,
          0,
          0.18583333333333332,
          -0.133075,
          0.5859,
          -0.4341,
          0.009720000000000017,
          -0.1173857142857143,
          0.27155,
          -0.6486,
          0.296,
          0.5574,
          0.0258,
          0.11389999999999995,
          0.125,
          0.31245,
          -0.1227,
          -0.6395,
          0.358125,
          -0.5574,
          -0.1883125,
          -0.09164999999999998,
          0.11426,
          0.15519999999999998,
          0.0972,
          0.228725,
          -0.7845,
          0.171775,
          0.6808,
          -0.01625,
          -0.17667499999999997,
          0
         ],
         "zmax": 1,
         "zmin": -1
        }
       ],
       "layout": {
        "autosize": true,
        "geo": {
         "center": {
          "lat": 37.043466833452044,
          "lon": -98.88307766513604
         },
         "lakecolor": "rgb(255, 255, 255)",
         "projection": {
          "scale": 0.8705505632961245,
          "type": "albers usa"
         },
         "scope": "usa",
         "showlakes": true
        },
        "margin": {
         "b": 10,
         "l": 0,
         "r": 750,
         "t": 30
        },
        "template": {
         "data": {
          "bar": [
           {
            "error_x": {
             "color": "#2a3f5f"
            },
            "error_y": {
             "color": "#2a3f5f"
            },
            "marker": {
             "line": {
              "color": "#E5ECF6",
              "width": 0.5
             },
             "pattern": {
              "fillmode": "overlay",
              "size": 10,
              "solidity": 0.2
             }
            },
            "type": "bar"
           }
          ],
          "barpolar": [
           {
            "marker": {
             "line": {
              "color": "#E5ECF6",
              "width": 0.5
             },
             "pattern": {
              "fillmode": "overlay",
              "size": 10,
              "solidity": 0.2
             }
            },
            "type": "barpolar"
           }
          ],
          "carpet": [
           {
            "aaxis": {
             "endlinecolor": "#2a3f5f",
             "gridcolor": "white",
             "linecolor": "white",
             "minorgridcolor": "white",
             "startlinecolor": "#2a3f5f"
            },
            "baxis": {
             "endlinecolor": "#2a3f5f",
             "gridcolor": "white",
             "linecolor": "white",
             "minorgridcolor": "white",
             "startlinecolor": "#2a3f5f"
            },
            "type": "carpet"
           }
          ],
          "choropleth": [
           {
            "colorbar": {
             "outlinewidth": 0,
             "ticks": ""
            },
            "type": "choropleth"
           }
          ],
          "contour": [
           {
            "colorbar": {
             "outlinewidth": 0,
             "ticks": ""
            },
            "colorscale": [
             [
              0,
              "#0d0887"
             ],
             [
              0.1111111111111111,
              "#46039f"
             ],
             [
              0.2222222222222222,
              "#7201a8"
             ],
             [
              0.3333333333333333,
              "#9c179e"
             ],
             [
              0.4444444444444444,
              "#bd3786"
             ],
             [
              0.5555555555555556,
              "#d8576b"
             ],
             [
              0.6666666666666666,
              "#ed7953"
             ],
             [
              0.7777777777777778,
              "#fb9f3a"
             ],
             [
              0.8888888888888888,
              "#fdca26"
             ],
             [
              1,
              "#f0f921"
             ]
            ],
            "type": "contour"
           }
          ],
          "contourcarpet": [
           {
            "colorbar": {
             "outlinewidth": 0,
             "ticks": ""
            },
            "type": "contourcarpet"
           }
          ],
          "heatmap": [
           {
            "colorbar": {
             "outlinewidth": 0,
             "ticks": ""
            },
            "colorscale": [
             [
              0,
              "#0d0887"
             ],
             [
              0.1111111111111111,
              "#46039f"
             ],
             [
              0.2222222222222222,
              "#7201a8"
             ],
             [
              0.3333333333333333,
              "#9c179e"
             ],
             [
              0.4444444444444444,
              "#bd3786"
             ],
             [
              0.5555555555555556,
              "#d8576b"
             ],
             [
              0.6666666666666666,
              "#ed7953"
             ],
             [
              0.7777777777777778,
              "#fb9f3a"
             ],
             [
              0.8888888888888888,
              "#fdca26"
             ],
             [
              1,
              "#f0f921"
             ]
            ],
            "type": "heatmap"
           }
          ],
          "heatmapgl": [
           {
            "colorbar": {
             "outlinewidth": 0,
             "ticks": ""
            },
            "colorscale": [
             [
              0,
              "#0d0887"
             ],
             [
              0.1111111111111111,
              "#46039f"
             ],
             [
              0.2222222222222222,
              "#7201a8"
             ],
             [
              0.3333333333333333,
              "#9c179e"
             ],
             [
              0.4444444444444444,
              "#bd3786"
             ],
             [
              0.5555555555555556,
              "#d8576b"
             ],
             [
              0.6666666666666666,
              "#ed7953"
             ],
             [
              0.7777777777777778,
              "#fb9f3a"
             ],
             [
              0.8888888888888888,
              "#fdca26"
             ],
             [
              1,
              "#f0f921"
             ]
            ],
            "type": "heatmapgl"
           }
          ],
          "histogram": [
           {
            "marker": {
             "pattern": {
              "fillmode": "overlay",
              "size": 10,
              "solidity": 0.2
             }
            },
            "type": "histogram"
           }
          ],
          "histogram2d": [
           {
            "colorbar": {
             "outlinewidth": 0,
             "ticks": ""
            },
            "colorscale": [
             [
              0,
              "#0d0887"
             ],
             [
              0.1111111111111111,
              "#46039f"
             ],
             [
              0.2222222222222222,
              "#7201a8"
             ],
             [
              0.3333333333333333,
              "#9c179e"
             ],
             [
              0.4444444444444444,
              "#bd3786"
             ],
             [
              0.5555555555555556,
              "#d8576b"
             ],
             [
              0.6666666666666666,
              "#ed7953"
             ],
             [
              0.7777777777777778,
              "#fb9f3a"
             ],
             [
              0.8888888888888888,
              "#fdca26"
             ],
             [
              1,
              "#f0f921"
             ]
            ],
            "type": "histogram2d"
           }
          ],
          "histogram2dcontour": [
           {
            "colorbar": {
             "outlinewidth": 0,
             "ticks": ""
            },
            "colorscale": [
             [
              0,
              "#0d0887"
             ],
             [
              0.1111111111111111,
              "#46039f"
             ],
             [
              0.2222222222222222,
              "#7201a8"
             ],
             [
              0.3333333333333333,
              "#9c179e"
             ],
             [
              0.4444444444444444,
              "#bd3786"
             ],
             [
              0.5555555555555556,
              "#d8576b"
             ],
             [
              0.6666666666666666,
              "#ed7953"
             ],
             [
              0.7777777777777778,
              "#fb9f3a"
             ],
             [
              0.8888888888888888,
              "#fdca26"
             ],
             [
              1,
              "#f0f921"
             ]
            ],
            "type": "histogram2dcontour"
           }
          ],
          "mesh3d": [
           {
            "colorbar": {
             "outlinewidth": 0,
             "ticks": ""
            },
            "type": "mesh3d"
           }
          ],
          "parcoords": [
           {
            "line": {
             "colorbar": {
              "outlinewidth": 0,
              "ticks": ""
             }
            },
            "type": "parcoords"
           }
          ],
          "pie": [
           {
            "automargin": true,
            "type": "pie"
           }
          ],
          "scatter": [
           {
            "marker": {
             "colorbar": {
              "outlinewidth": 0,
              "ticks": ""
             }
            },
            "type": "scatter"
           }
          ],
          "scatter3d": [
           {
            "line": {
             "colorbar": {
              "outlinewidth": 0,
              "ticks": ""
             }
            },
            "marker": {
             "colorbar": {
              "outlinewidth": 0,
              "ticks": ""
             }
            },
            "type": "scatter3d"
           }
          ],
          "scattercarpet": [
           {
            "marker": {
             "colorbar": {
              "outlinewidth": 0,
              "ticks": ""
             }
            },
            "type": "scattercarpet"
           }
          ],
          "scattergeo": [
           {
            "marker": {
             "colorbar": {
              "outlinewidth": 0,
              "ticks": ""
             }
            },
            "type": "scattergeo"
           }
          ],
          "scattergl": [
           {
            "marker": {
             "colorbar": {
              "outlinewidth": 0,
              "ticks": ""
             }
            },
            "type": "scattergl"
           }
          ],
          "scattermapbox": [
           {
            "marker": {
             "colorbar": {
              "outlinewidth": 0,
              "ticks": ""
             }
            },
            "type": "scattermapbox"
           }
          ],
          "scatterpolar": [
           {
            "marker": {
             "colorbar": {
              "outlinewidth": 0,
              "ticks": ""
             }
            },
            "type": "scatterpolar"
           }
          ],
          "scatterpolargl": [
           {
            "marker": {
             "colorbar": {
              "outlinewidth": 0,
              "ticks": ""
             }
            },
            "type": "scatterpolargl"
           }
          ],
          "scatterternary": [
           {
            "marker": {
             "colorbar": {
              "outlinewidth": 0,
              "ticks": ""
             }
            },
            "type": "scatterternary"
           }
          ],
          "surface": [
           {
            "colorbar": {
             "outlinewidth": 0,
             "ticks": ""
            },
            "colorscale": [
             [
              0,
              "#0d0887"
             ],
             [
              0.1111111111111111,
              "#46039f"
             ],
             [
              0.2222222222222222,
              "#7201a8"
             ],
             [
              0.3333333333333333,
              "#9c179e"
             ],
             [
              0.4444444444444444,
              "#bd3786"
             ],
             [
              0.5555555555555556,
              "#d8576b"
             ],
             [
              0.6666666666666666,
              "#ed7953"
             ],
             [
              0.7777777777777778,
              "#fb9f3a"
             ],
             [
              0.8888888888888888,
              "#fdca26"
             ],
             [
              1,
              "#f0f921"
             ]
            ],
            "type": "surface"
           }
          ],
          "table": [
           {
            "cells": {
             "fill": {
              "color": "#EBF0F8"
             },
             "line": {
              "color": "white"
             }
            },
            "header": {
             "fill": {
              "color": "#C8D4E3"
             },
             "line": {
              "color": "white"
             }
            },
            "type": "table"
           }
          ]
         },
         "layout": {
          "annotationdefaults": {
           "arrowcolor": "#2a3f5f",
           "arrowhead": 0,
           "arrowwidth": 1
          },
          "autotypenumbers": "strict",
          "coloraxis": {
           "colorbar": {
            "outlinewidth": 0,
            "ticks": ""
           }
          },
          "colorscale": {
           "diverging": [
            [
             0,
             "#8e0152"
            ],
            [
             0.1,
             "#c51b7d"
            ],
            [
             0.2,
             "#de77ae"
            ],
            [
             0.3,
             "#f1b6da"
            ],
            [
             0.4,
             "#fde0ef"
            ],
            [
             0.5,
             "#f7f7f7"
            ],
            [
             0.6,
             "#e6f5d0"
            ],
            [
             0.7,
             "#b8e186"
            ],
            [
             0.8,
             "#7fbc41"
            ],
            [
             0.9,
             "#4d9221"
            ],
            [
             1,
             "#276419"
            ]
           ],
           "sequential": [
            [
             0,
             "#0d0887"
            ],
            [
             0.1111111111111111,
             "#46039f"
            ],
            [
             0.2222222222222222,
             "#7201a8"
            ],
            [
             0.3333333333333333,
             "#9c179e"
            ],
            [
             0.4444444444444444,
             "#bd3786"
            ],
            [
             0.5555555555555556,
             "#d8576b"
            ],
            [
             0.6666666666666666,
             "#ed7953"
            ],
            [
             0.7777777777777778,
             "#fb9f3a"
            ],
            [
             0.8888888888888888,
             "#fdca26"
            ],
            [
             1,
             "#f0f921"
            ]
           ],
           "sequentialminus": [
            [
             0,
             "#0d0887"
            ],
            [
             0.1111111111111111,
             "#46039f"
            ],
            [
             0.2222222222222222,
             "#7201a8"
            ],
            [
             0.3333333333333333,
             "#9c179e"
            ],
            [
             0.4444444444444444,
             "#bd3786"
            ],
            [
             0.5555555555555556,
             "#d8576b"
            ],
            [
             0.6666666666666666,
             "#ed7953"
            ],
            [
             0.7777777777777778,
             "#fb9f3a"
            ],
            [
             0.8888888888888888,
             "#fdca26"
            ],
            [
             1,
             "#f0f921"
            ]
           ]
          },
          "colorway": [
           "#636efa",
           "#EF553B",
           "#00cc96",
           "#ab63fa",
           "#FFA15A",
           "#19d3f3",
           "#FF6692",
           "#B6E880",
           "#FF97FF",
           "#FECB52"
          ],
          "font": {
           "color": "#2a3f5f"
          },
          "geo": {
           "bgcolor": "white",
           "lakecolor": "white",
           "landcolor": "#E5ECF6",
           "showlakes": true,
           "showland": true,
           "subunitcolor": "white"
          },
          "hoverlabel": {
           "align": "left"
          },
          "hovermode": "closest",
          "mapbox": {
           "style": "light"
          },
          "paper_bgcolor": "white",
          "plot_bgcolor": "#E5ECF6",
          "polar": {
           "angularaxis": {
            "gridcolor": "white",
            "linecolor": "white",
            "ticks": ""
           },
           "bgcolor": "#E5ECF6",
           "radialaxis": {
            "gridcolor": "white",
            "linecolor": "white",
            "ticks": ""
           }
          },
          "scene": {
           "xaxis": {
            "backgroundcolor": "#E5ECF6",
            "gridcolor": "white",
            "gridwidth": 2,
            "linecolor": "white",
            "showbackground": true,
            "ticks": "",
            "zerolinecolor": "white"
           },
           "yaxis": {
            "backgroundcolor": "#E5ECF6",
            "gridcolor": "white",
            "gridwidth": 2,
            "linecolor": "white",
            "showbackground": true,
            "ticks": "",
            "zerolinecolor": "white"
           },
           "zaxis": {
            "backgroundcolor": "#E5ECF6",
            "gridcolor": "white",
            "gridwidth": 2,
            "linecolor": "white",
            "showbackground": true,
            "ticks": "",
            "zerolinecolor": "white"
           }
          },
          "shapedefaults": {
           "line": {
            "color": "#2a3f5f"
           }
          },
          "ternary": {
           "aaxis": {
            "gridcolor": "white",
            "linecolor": "white",
            "ticks": ""
           },
           "baxis": {
            "gridcolor": "white",
            "linecolor": "white",
            "ticks": ""
           },
           "bgcolor": "#E5ECF6",
           "caxis": {
            "gridcolor": "white",
            "linecolor": "white",
            "ticks": ""
           }
          },
          "title": {
           "x": 0.05
          },
          "xaxis": {
           "automargin": true,
           "gridcolor": "white",
           "linecolor": "white",
           "ticks": "",
           "title": {
            "standoff": 15
           },
           "zerolinecolor": "white",
           "zerolinewidth": 2
          },
          "yaxis": {
           "automargin": true,
           "gridcolor": "white",
           "linecolor": "white",
           "ticks": "",
           "title": {
            "standoff": 15
           },
           "zerolinecolor": "white",
           "zerolinewidth": 2
          }
         }
        }
       }
      },
      "image/png": "[encoded data removed]",
      "text/html": [
       "<div>                            <div id=\"17b9e466-7cd8-414f-8937-9796a9ce4639\" class=\"plotly-graph-div\" style=\"height:525px; width:100%;\"></div>            <script type=\"text/javascript\">                require([\"plotly\"], function(Plotly) {                    window.PLOTLYENV=window.PLOTLYENV || {};                                    if (document.getElementById(\"17b9e466-7cd8-414f-8937-9796a9ce4639\")) {                    Plotly.newPlot(                        \"17b9e466-7cd8-414f-8937-9796a9ce4639\",                        [{\"autocolorscale\":true,\"colorbar\":{\"title\":{\"text\":\"Sentiment (-1, 1)\"}},\"colorscale\":[[0.0,\"rgb(103,0,31)\"],[0.1,\"rgb(178,24,43)\"],[0.2,\"rgb(214,96,77)\"],[0.3,\"rgb(244,165,130)\"],[0.4,\"rgb(253,219,199)\"],[0.5,\"rgb(247,247,247)\"],[0.6,\"rgb(209,229,240)\"],[0.7,\"rgb(146,197,222)\"],[0.8,\"rgb(67,147,195)\"],[0.9,\"rgb(33,102,172)\"],[1.0,\"rgb(5,48,97)\"]],\"locationmode\":\"USA-states\",\"locations\":[\"AL\",\"AK\",\"AZ\",\"CA\",\"CO\",\"DC\",\"FL\",\"IL\",\"IA\",\"KY\",\"LA\",\"MD\",\"MA\",\"MN\",\"MS\",\"MO\",\"NV\",\"NH\",\"NJ\",\"NM\",\"NY\",\"NC\",\"OH\",\"OK\",\"OR\",\"PA\",\"TN\",\"TX\",\"UT\",\"VA\",\"WA\",\"WI\"],\"marker\":{\"line\":{\"color\":\"white\"}},\"text\":[\"Alabama\",\"Alaska\",\"Arizona\",\"California\",\"Colorado\",\"District of Columbia\",\"Florida\",\"Illinois\",\"Iowa\",\"Kentucky\",\"Louisiana\",\"Maryland\",\"Massachusetts\",\"Minnesota\",\"Mississippi\",\"Missouri\",\"Nevada\",\"New Hampshire\",\"New Jersey\",\"New Mexico\",\"New York\",\"North Carolina\",\"Ohio\",\"Oklahoma\",\"Oregon\",\"Pennsylvania\",\"Tennessee\",\"Texas\",\"Utah\",\"Virginia\",\"Washington\",\"Wisconsin\"],\"z\":[0.0,0.0,0.18583333333333332,-0.133075,0.5859,-0.4341,0.009720000000000017,-0.1173857142857143,0.27155,-0.6486,0.296,0.5574,0.0258,0.11389999999999995,0.125,0.31245,-0.1227,-0.6395,0.358125,-0.5574,-0.1883125,-0.09164999999999998,0.11426,0.15519999999999998,0.0972,0.228725,-0.7845,0.171775,0.6808,-0.01625,-0.17667499999999997,0.0],\"zmax\":1,\"zmin\":-1,\"type\":\"choropleth\"}],                        {\"template\":{\"data\":{\"bar\":[{\"error_x\":{\"color\":\"#2a3f5f\"},\"error_y\":{\"color\":\"#2a3f5f\"},\"marker\":{\"line\":{\"color\":\"#E5ECF6\",\"width\":0.5},\"pattern\":{\"fillmode\":\"overlay\",\"size\":10,\"solidity\":0.2}},\"type\":\"bar\"}],\"barpolar\":[{\"marker\":{\"line\":{\"color\":\"#E5ECF6\",\"width\":0.5},\"pattern\":{\"fillmode\":\"overlay\",\"size\":10,\"solidity\":0.2}},\"type\":\"barpolar\"}],\"carpet\":[{\"aaxis\":{\"endlinecolor\":\"#2a3f5f\",\"gridcolor\":\"white\",\"linecolor\":\"white\",\"minorgridcolor\":\"white\",\"startlinecolor\":\"#2a3f5f\"},\"baxis\":{\"endlinecolor\":\"#2a3f5f\",\"gridcolor\":\"white\",\"linecolor\":\"white\",\"minorgridcolor\":\"white\",\"startlinecolor\":\"#2a3f5f\"},\"type\":\"carpet\"}],\"choropleth\":[{\"colorbar\":{\"outlinewidth\":0,\"ticks\":\"\"},\"type\":\"choropleth\"}],\"contour\":[{\"colorbar\":{\"outlinewidth\":0,\"ticks\":\"\"},\"colorscale\":[[0.0,\"#0d0887\"],[0.1111111111111111,\"#46039f\"],[0.2222222222222222,\"#7201a8\"],[0.3333333333333333,\"#9c179e\"],[0.4444444444444444,\"#bd3786\"],[0.5555555555555556,\"#d8576b\"],[0.6666666666666666,\"#ed7953\"],[0.7777777777777778,\"#fb9f3a\"],[0.8888888888888888,\"#fdca26\"],[1.0,\"#f0f921\"]],\"type\":\"contour\"}],\"contourcarpet\":[{\"colorbar\":{\"outlinewidth\":0,\"ticks\":\"\"},\"type\":\"contourcarpet\"}],\"heatmap\":[{\"colorbar\":{\"outlinewidth\":0,\"ticks\":\"\"},\"colorscale\":[[0.0,\"#0d0887\"],[0.1111111111111111,\"#46039f\"],[0.2222222222222222,\"#7201a8\"],[0.3333333333333333,\"#9c179e\"],[0.4444444444444444,\"#bd3786\"],[0.5555555555555556,\"#d8576b\"],[0.6666666666666666,\"#ed7953\"],[0.7777777777777778,\"#fb9f3a\"],[0.8888888888888888,\"#fdca26\"],[1.0,\"#f0f921\"]],\"type\":\"heatmap\"}],\"heatmapgl\":[{\"colorbar\":{\"outlinewidth\":0,\"ticks\":\"\"},\"colorscale\":[[0.0,\"#0d0887\"],[0.1111111111111111,\"#46039f\"],[0.2222222222222222,\"#7201a8\"],[0.3333333333333333,\"#9c179e\"],[0.4444444444444444,\"#bd3786\"],[0.5555555555555556,\"#d8576b\"],[0.6666666666666666,\"#ed7953\"],[0.7777777777777778,\"#fb9f3a\"],[0.8888888888888888,\"#fdca26\"],[1.0,\"#f0f921\"]],\"type\":\"heatmapgl\"}],\"histogram\":[{\"marker\":{\"pattern\":{\"fillmode\":\"overlay\",\"size\":10,\"solidity\":0.2}},\"type\":\"histogram\"}],\"histogram2d\":[{\"colorbar\":{\"outlinewidth\":0,\"ticks\":\"\"},\"colorscale\":[[0.0,\"#0d0887\"],[0.1111111111111111,\"#46039f\"],[0.2222222222222222,\"#7201a8\"],[0.3333333333333333,\"#9c179e\"],[0.4444444444444444,\"#bd3786\"],[0.5555555555555556,\"#d8576b\"],[0.6666666666666666,\"#ed7953\"],[0.7777777777777778,\"#fb9f3a\"],[0.8888888888888888,\"#fdca26\"],[1.0,\"#f0f921\"]],\"type\":\"histogram2d\"}],\"histogram2dcontour\":[{\"colorbar\":{\"outlinewidth\":0,\"ticks\":\"\"},\"colorscale\":[[0.0,\"#0d0887\"],[0.1111111111111111,\"#46039f\"],[0.2222222222222222,\"#7201a8\"],[0.3333333333333333,\"#9c179e\"],[0.4444444444444444,\"#bd3786\"],[0.5555555555555556,\"#d8576b\"],[0.6666666666666666,\"#ed7953\"],[0.7777777777777778,\"#fb9f3a\"],[0.8888888888888888,\"#fdca26\"],[1.0,\"#f0f921\"]],\"type\":\"histogram2dcontour\"}],\"mesh3d\":[{\"colorbar\":{\"outlinewidth\":0,\"ticks\":\"\"},\"type\":\"mesh3d\"}],\"parcoords\":[{\"line\":{\"colorbar\":{\"outlinewidth\":0,\"ticks\":\"\"}},\"type\":\"parcoords\"}],\"pie\":[{\"automargin\":true,\"type\":\"pie\"}],\"scatter\":[{\"marker\":{\"colorbar\":{\"outlinewidth\":0,\"ticks\":\"\"}},\"type\":\"scatter\"}],\"scatter3d\":[{\"line\":{\"colorbar\":{\"outlinewidth\":0,\"ticks\":\"\"}},\"marker\":{\"colorbar\":{\"outlinewidth\":0,\"ticks\":\"\"}},\"type\":\"scatter3d\"}],\"scattercarpet\":[{\"marker\":{\"colorbar\":{\"outlinewidth\":0,\"ticks\":\"\"}},\"type\":\"scattercarpet\"}],\"scattergeo\":[{\"marker\":{\"colorbar\":{\"outlinewidth\":0,\"ticks\":\"\"}},\"type\":\"scattergeo\"}],\"scattergl\":[{\"marker\":{\"colorbar\":{\"outlinewidth\":0,\"ticks\":\"\"}},\"type\":\"scattergl\"}],\"scattermapbox\":[{\"marker\":{\"colorbar\":{\"outlinewidth\":0,\"ticks\":\"\"}},\"type\":\"scattermapbox\"}],\"scatterpolar\":[{\"marker\":{\"colorbar\":{\"outlinewidth\":0,\"ticks\":\"\"}},\"type\":\"scatterpolar\"}],\"scatterpolargl\":[{\"marker\":{\"colorbar\":{\"outlinewidth\":0,\"ticks\":\"\"}},\"type\":\"scatterpolargl\"}],\"scatterternary\":[{\"marker\":{\"colorbar\":{\"outlinewidth\":0,\"ticks\":\"\"}},\"type\":\"scatterternary\"}],\"surface\":[{\"colorbar\":{\"outlinewidth\":0,\"ticks\":\"\"},\"colorscale\":[[0.0,\"#0d0887\"],[0.1111111111111111,\"#46039f\"],[0.2222222222222222,\"#7201a8\"],[0.3333333333333333,\"#9c179e\"],[0.4444444444444444,\"#bd3786\"],[0.5555555555555556,\"#d8576b\"],[0.6666666666666666,\"#ed7953\"],[0.7777777777777778,\"#fb9f3a\"],[0.8888888888888888,\"#fdca26\"],[1.0,\"#f0f921\"]],\"type\":\"surface\"}],\"table\":[{\"cells\":{\"fill\":{\"color\":\"#EBF0F8\"},\"line\":{\"color\":\"white\"}},\"header\":{\"fill\":{\"color\":\"#C8D4E3\"},\"line\":{\"color\":\"white\"}},\"type\":\"table\"}]},\"layout\":{\"annotationdefaults\":{\"arrowcolor\":\"#2a3f5f\",\"arrowhead\":0,\"arrowwidth\":1},\"autotypenumbers\":\"strict\",\"coloraxis\":{\"colorbar\":{\"outlinewidth\":0,\"ticks\":\"\"}},\"colorscale\":{\"diverging\":[[0,\"#8e0152\"],[0.1,\"#c51b7d\"],[0.2,\"#de77ae\"],[0.3,\"#f1b6da\"],[0.4,\"#fde0ef\"],[0.5,\"#f7f7f7\"],[0.6,\"#e6f5d0\"],[0.7,\"#b8e186\"],[0.8,\"#7fbc41\"],[0.9,\"#4d9221\"],[1,\"#276419\"]],\"sequential\":[[0.0,\"#0d0887\"],[0.1111111111111111,\"#46039f\"],[0.2222222222222222,\"#7201a8\"],[0.3333333333333333,\"#9c179e\"],[0.4444444444444444,\"#bd3786\"],[0.5555555555555556,\"#d8576b\"],[0.6666666666666666,\"#ed7953\"],[0.7777777777777778,\"#fb9f3a\"],[0.8888888888888888,\"#fdca26\"],[1.0,\"#f0f921\"]],\"sequentialminus\":[[0.0,\"#0d0887\"],[0.1111111111111111,\"#46039f\"],[0.2222222222222222,\"#7201a8\"],[0.3333333333333333,\"#9c179e\"],[0.4444444444444444,\"#bd3786\"],[0.5555555555555556,\"#d8576b\"],[0.6666666666666666,\"#ed7953\"],[0.7777777777777778,\"#fb9f3a\"],[0.8888888888888888,\"#fdca26\"],[1.0,\"#f0f921\"]]},\"colorway\":[\"#636efa\",\"#EF553B\",\"#00cc96\",\"#ab63fa\",\"#FFA15A\",\"#19d3f3\",\"#FF6692\",\"#B6E880\",\"#FF97FF\",\"#FECB52\"],\"font\":{\"color\":\"#2a3f5f\"},\"geo\":{\"bgcolor\":\"white\",\"lakecolor\":\"white\",\"landcolor\":\"#E5ECF6\",\"showlakes\":true,\"showland\":true,\"subunitcolor\":\"white\"},\"hoverlabel\":{\"align\":\"left\"},\"hovermode\":\"closest\",\"mapbox\":{\"style\":\"light\"},\"paper_bgcolor\":\"white\",\"plot_bgcolor\":\"#E5ECF6\",\"polar\":{\"angularaxis\":{\"gridcolor\":\"white\",\"linecolor\":\"white\",\"ticks\":\"\"},\"bgcolor\":\"#E5ECF6\",\"radialaxis\":{\"gridcolor\":\"white\",\"linecolor\":\"white\",\"ticks\":\"\"}},\"scene\":{\"xaxis\":{\"backgroundcolor\":\"#E5ECF6\",\"gridcolor\":\"white\",\"gridwidth\":2,\"linecolor\":\"white\",\"showbackground\":true,\"ticks\":\"\",\"zerolinecolor\":\"white\"},\"yaxis\":{\"backgroundcolor\":\"#E5ECF6\",\"gridcolor\":\"white\",\"gridwidth\":2,\"linecolor\":\"white\",\"showbackground\":true,\"ticks\":\"\",\"zerolinecolor\":\"white\"},\"zaxis\":{\"backgroundcolor\":\"#E5ECF6\",\"gridcolor\":\"white\",\"gridwidth\":2,\"linecolor\":\"white\",\"showbackground\":true,\"ticks\":\"\",\"zerolinecolor\":\"white\"}},\"shapedefaults\":{\"line\":{\"color\":\"#2a3f5f\"}},\"ternary\":{\"aaxis\":{\"gridcolor\":\"white\",\"linecolor\":\"white\",\"ticks\":\"\"},\"baxis\":{\"gridcolor\":\"white\",\"linecolor\":\"white\",\"ticks\":\"\"},\"bgcolor\":\"#E5ECF6\",\"caxis\":{\"gridcolor\":\"white\",\"linecolor\":\"white\",\"ticks\":\"\"}},\"title\":{\"x\":0.05},\"xaxis\":{\"automargin\":true,\"gridcolor\":\"white\",\"linecolor\":\"white\",\"ticks\":\"\",\"title\":{\"standoff\":15},\"zerolinecolor\":\"white\",\"zerolinewidth\":2},\"yaxis\":{\"automargin\":true,\"gridcolor\":\"white\",\"linecolor\":\"white\",\"ticks\":\"\",\"title\":{\"standoff\":15},\"zerolinecolor\":\"white\",\"zerolinewidth\":2}}},\"geo\":{\"scope\":\"usa\",\"projection\":{\"type\":\"albers usa\"},\"showlakes\":true,\"lakecolor\":\"rgb(255, 255, 255)\"},\"margin\":{\"r\":750,\"t\":30,\"l\":0,\"b\":10}},                        {\"responsive\": true}                    ).then(function(){\n",
       "                            \n",
       "var gd = document.getElementById('17b9e466-7cd8-414f-8937-9796a9ce4639');\n",
       "var x = new MutationObserver(function (mutations, observer) {{\n",
       "        var display = window.getComputedStyle(gd).display;\n",
       "        if (!display || display === 'none') {{\n",
       "            console.log([gd, 'removed!']);\n",
       "            Plotly.purge(gd);\n",
       "            observer.disconnect();\n",
       "        }}\n",
       "}});\n",
       "\n",
       "// Listen for the removal of the full notebook cells\n",
       "var notebookContainer = gd.closest('#notebook-container');\n",
       "if (notebookContainer) {{\n",
       "    x.observe(notebookContainer, {childList: true});\n",
       "}}\n",
       "\n",
       "// Listen for the clearing of the current output cell\n",
       "var outputEl = gd.closest('.output');\n",
       "if (outputEl) {{\n",
       "    x.observe(outputEl, {childList: true});\n",
       "}}\n",
       "\n",
       "                        })                };                });            </script>        </div>"
      ]
     },
     "metadata": {},
     "output_type": "display_data"
    }
   ],
   "source": [
    "#df_map = tweets_df4\n",
    "\n",
    "tweets_mean['text'] = tweets_mean['state']\n",
    "\n",
    "fig = go.Figure(data=go.Choropleth(\n",
    "    locations=tweets_mean['state_code'], # Spatial coordinates,\n",
    "    z = tweets_mean['mean_sentiment'].astype(float), # Data to be color-coded\n",
    "    locationmode='USA-states',\n",
    "    colorscale='RdBu',\n",
    "    autocolorscale=True,\n",
    "    text=tweets_mean['text'], # hover text\n",
    "    marker_line_color='white', # line markers between states\n",
    "    colorbar_title=\"Sentiment (-1, 1)\", \n",
    "    zmin=-1, # min value for colorbar\n",
    "    zmax=1 # max value for colorbar\n",
    "))\n",
    "\n",
    "\n",
    "fig.update_layout(\n",
    "    #title_text='Sentiment around 2020 US presidential election',\n",
    "    geo = dict(\n",
    "        scope='usa',\n",
    "        projection=go.layout.geo.Projection(type = 'albers usa'),\n",
    "        showlakes=True, # lakes\n",
    "        lakecolor='rgb(255, 255, 255)'),\n",
    ")\n",
    "\n",
    "fig.update_layout(margin={\"r\":750,\"t\":30,\"l\":0,\"b\":10})\n",
    "fig.show()\n",
    "\n"
   ]
  },
  {
   "cell_type": "markdown",
   "id": "ab9f2456-61e2-495c-8990-82907d0fb05c",
   "metadata": {},
   "source": [
    "### Violinplot over average sentiment for each party"
   ]
  },
  {
   "cell_type": "code",
   "execution_count": 113,
   "id": "60402cd8-fdd2-4934-a359-be6eaf41c5b6",
   "metadata": {},
   "outputs": [
    {
     "data": {
      "image/png": "[encoded data removed]",
      "text/plain": [
       "<Figure size 576x360 with 1 Axes>"
      ]
     },
     "metadata": {},
     "output_type": "display_data"
    }
   ],
   "source": [
    "fig = plt.figure(figsize=(8, 5))\n",
    "my_pal = {\"Blue\": \"b\", \"Red\": \"r\"}\n",
    "\n",
    "\n",
    "#sns.set(style=\"darkgrid\") # run this once for dark colored graphs, - dont know why\n",
    "\n",
    "ax = sns.violinplot(x=\"state_color\", y=\"sentiment_score\", data=tweets_df3, palette=my_pal, linewidth=3)\n",
    "\n",
    "# Calculate number of obs per group & median to position labels\n",
    "medians = tweets_df3.groupby(['state_color'])['sentiment_score'].mean().values\n",
    "nobs = tweets_df3['state_color'].value_counts().values\n",
    "nobs = [str(x) for x in nobs.tolist()]\n",
    "nobs = [\"n tweets: \" + i for i in nobs]\n",
    "\n",
    "# Add text to the figure\n",
    "pos = range(len(nobs))\n",
    "for tick, label in zip(pos, ax.get_xticklabels()):\n",
    "    ax.text(pos[tick],\n",
    "            medians[tick]+0.1, \n",
    "            nobs[tick],\n",
    "            horizontalalignment='center',\n",
    "            color='w', # text  color\n",
    "            fontsize=12,\n",
    "            weight='semibold'\n",
    "           )\n",
    "    \n",
    "#colors\n",
    "sns.set_style(\"white\")\n",
    "\n",
    "sns.despine(offset=10, trim=True); #remove unnecessary axis \n",
    "ax.set_xlabel('States elected republican (Red) or democratic (Blue)') # Choose title x-axis\n",
    "ax.xaxis.label.set_fontsize(12) # Choose font size for x-axis title\n",
    "\n",
    "ax.set_ylabel('Sentiment') # Choose title y-axis\n",
    "ax.yaxis.label.set_fontsize(12) # Choose font size for y-axis title\n",
    "fig.savefig('violinplot_red_blue.pdf') "
   ]
  },
  {
   "cell_type": "markdown",
   "id": "25dfab0c-de37-4f8d-97f2-08e721770327",
   "metadata": {},
   "source": [
    "### Boxplot for sentiment for each source of the tweet\n",
    "OBS: low n for various sources\n",
    "\n",
    "see count below"
   ]
  },
  {
   "cell_type": "code",
   "execution_count": 114,
   "id": "c6c1ca7c-2f8b-40ea-b735-6d0190631542",
   "metadata": {},
   "outputs": [
    {
     "data": {
      "text/html": [
       "<div>\n",
       "<style scoped>\n",
       "    .dataframe tbody tr th:only-of-type {\n",
       "        vertical-align: middle;\n",
       "    }\n",
       "\n",
       "    .dataframe tbody tr th {\n",
       "        vertical-align: top;\n",
       "    }\n",
       "\n",
       "    .dataframe thead th {\n",
       "        text-align: right;\n",
       "    }\n",
       "</style>\n",
       "<table border=\"1\" class=\"dataframe\">\n",
       "  <thead>\n",
       "    <tr style=\"text-align: right;\">\n",
       "      <th></th>\n",
       "      <th>source</th>\n",
       "      <th>count</th>\n",
       "      <th>mean_sentiment</th>\n",
       "    </tr>\n",
       "  </thead>\n",
       "  <tbody>\n",
       "    <tr>\n",
       "      <th>0</th>\n",
       "      <td>Twitter for Android</td>\n",
       "      <td>42</td>\n",
       "      <td>-0.004143</td>\n",
       "    </tr>\n",
       "    <tr>\n",
       "      <th>1</th>\n",
       "      <td>Twitter for iPhone</td>\n",
       "      <td>48</td>\n",
       "      <td>0.017202</td>\n",
       "    </tr>\n",
       "  </tbody>\n",
       "</table>\n",
       "</div>"
      ],
      "text/plain": [
       "                source  count  mean_sentiment\n",
       "0  Twitter for Android     42       -0.004143\n",
       "1   Twitter for iPhone     48        0.017202"
      ]
     },
     "execution_count": 114,
     "metadata": {},
     "output_type": "execute_result"
    }
   ],
   "source": [
    "\n",
    "tweets_mean_source = tweets_df3.groupby(['source']) \\\n",
    "       .agg(count=('source', 'size'), mean_sentiment=('sentiment_score', 'mean')) \\\n",
    "       .reset_index()\n",
    "tweets_mean_source"
   ]
  },
  {
   "cell_type": "code",
   "execution_count": 115,
   "id": "fa3f130b-d733-4453-814a-6fd51ba97f6f",
   "metadata": {},
   "outputs": [
    {
     "data": {
      "image/png": "[encoded data removed]",
      "text/plain": [
       "<Figure size 720x432 with 1 Axes>"
      ]
     },
     "metadata": {},
     "output_type": "display_data"
    }
   ],
   "source": [
    "fig = plt.figure(figsize=(10, 6))\n",
    "sns.set_style(\"white\")\n",
    "#my_order = [\"Twitter for iPhone\", \"Twitter for Android\", \"Twitter for iPad\", \"Tweetbot for iΟS\", \"Squarespace\"]\n",
    "ax = sns.boxplot(\n",
    "                x=\"source\", \n",
    "                y=\"sentiment_score\", \n",
    "                data=tweets_df3, \n",
    "                palette=\"tab10\",\n",
    "                linewidth=1, \n",
    "                #order=my_order\n",
    "                )\n",
    "\n",
    "# Calculate number of obs per group & median to position labels\n",
    "means = tweets_df3.groupby(['source'])['sentiment_score'].mean().values\n",
    "nobs = tweets_df3['source'].value_counts().values\n",
    "nobs = [str(x) for x in nobs.tolist()]\n",
    "nobs = [\"n: \" + i for i in nobs]\n",
    " \n",
    "# Add text to the figure\n",
    "pos = range(len(nobs))\n",
    "for tick, label in zip(pos, ax.get_xticklabels()):\n",
    "    ax.text(pos[tick],\n",
    "            0, \n",
    "            nobs[tick],\n",
    "            horizontalalignment='center',\n",
    "            fontsize=12,\n",
    "            #color='w', # text  color\n",
    "            weight='semibold'\n",
    "           )\n",
    "\n",
    "sns.despine(offset=20, trim=True);\n",
    "\n",
    "ax.set_ylabel('Sentiment') # Choose title y-axis\n",
    "ax.yaxis.label.set_fontsize(14) # Choose font size for y-axis title\n",
    "fig.savefig('Semtiment_source_tweet.pdf') "
   ]
  },
  {
   "cell_type": "markdown",
   "id": "6bdc2d4d-e45c-480e-a10d-c6e93fa6eb80",
   "metadata": {},
   "source": [
    "# alt spiller hertil"
   ]
  },
  {
   "cell_type": "markdown",
   "id": "e4aade0d-1876-4d03-a52b-09d7885cb86e",
   "metadata": {
    "tags": []
   },
   "source": [
    "#### sentiment over time for each party"
   ]
  },
  {
   "cell_type": "code",
   "execution_count": 116,
   "id": "bfb03605-2c77-46f0-b2b0-e4367be4907a",
   "metadata": {},
   "outputs": [
    {
     "data": {
      "text/html": [
       "<div>\n",
       "<style scoped>\n",
       "    .dataframe tbody tr th:only-of-type {\n",
       "        vertical-align: middle;\n",
       "    }\n",
       "\n",
       "    .dataframe tbody tr th {\n",
       "        vertical-align: top;\n",
       "    }\n",
       "\n",
       "    .dataframe thead th {\n",
       "        text-align: right;\n",
       "    }\n",
       "</style>\n",
       "<table border=\"1\" class=\"dataframe\">\n",
       "  <thead>\n",
       "    <tr style=\"text-align: right;\">\n",
       "      <th></th>\n",
       "      <th>date</th>\n",
       "      <th>state_color</th>\n",
       "      <th>count</th>\n",
       "      <th>mean_sentiment</th>\n",
       "    </tr>\n",
       "  </thead>\n",
       "  <tbody>\n",
       "    <tr>\n",
       "      <th>0</th>\n",
       "      <td>2020-10-01</td>\n",
       "      <td>Blue</td>\n",
       "      <td>11</td>\n",
       "      <td>-0.064000</td>\n",
       "    </tr>\n",
       "    <tr>\n",
       "      <th>1</th>\n",
       "      <td>2020-10-01</td>\n",
       "      <td>Red</td>\n",
       "      <td>9</td>\n",
       "      <td>-0.080344</td>\n",
       "    </tr>\n",
       "    <tr>\n",
       "      <th>2</th>\n",
       "      <td>2020-10-02</td>\n",
       "      <td>Blue</td>\n",
       "      <td>10</td>\n",
       "      <td>0.017800</td>\n",
       "    </tr>\n",
       "    <tr>\n",
       "      <th>3</th>\n",
       "      <td>2020-10-02</td>\n",
       "      <td>Red</td>\n",
       "      <td>9</td>\n",
       "      <td>0.039722</td>\n",
       "    </tr>\n",
       "    <tr>\n",
       "      <th>4</th>\n",
       "      <td>2020-10-03</td>\n",
       "      <td>Blue</td>\n",
       "      <td>10</td>\n",
       "      <td>-0.114240</td>\n",
       "    </tr>\n",
       "    <tr>\n",
       "      <th>5</th>\n",
       "      <td>2020-10-03</td>\n",
       "      <td>Red</td>\n",
       "      <td>9</td>\n",
       "      <td>0.152733</td>\n",
       "    </tr>\n",
       "    <tr>\n",
       "      <th>6</th>\n",
       "      <td>2020-10-04</td>\n",
       "      <td>Blue</td>\n",
       "      <td>13</td>\n",
       "      <td>-0.005415</td>\n",
       "    </tr>\n",
       "    <tr>\n",
       "      <th>7</th>\n",
       "      <td>2020-10-04</td>\n",
       "      <td>Red</td>\n",
       "      <td>3</td>\n",
       "      <td>0.178900</td>\n",
       "    </tr>\n",
       "    <tr>\n",
       "      <th>8</th>\n",
       "      <td>2020-10-05</td>\n",
       "      <td>Blue</td>\n",
       "      <td>8</td>\n",
       "      <td>0.016175</td>\n",
       "    </tr>\n",
       "    <tr>\n",
       "      <th>9</th>\n",
       "      <td>2020-10-05</td>\n",
       "      <td>Red</td>\n",
       "      <td>8</td>\n",
       "      <td>0.089425</td>\n",
       "    </tr>\n",
       "  </tbody>\n",
       "</table>\n",
       "</div>"
      ],
      "text/plain": [
       "        date state_color  count  mean_sentiment\n",
       "0 2020-10-01        Blue     11       -0.064000\n",
       "1 2020-10-01         Red      9       -0.080344\n",
       "2 2020-10-02        Blue     10        0.017800\n",
       "3 2020-10-02         Red      9        0.039722\n",
       "4 2020-10-03        Blue     10       -0.114240\n",
       "5 2020-10-03         Red      9        0.152733\n",
       "6 2020-10-04        Blue     13       -0.005415\n",
       "7 2020-10-04         Red      3        0.178900\n",
       "8 2020-10-05        Blue      8        0.016175\n",
       "9 2020-10-05         Red      8        0.089425"
      ]
     },
     "execution_count": 116,
     "metadata": {},
     "output_type": "execute_result"
    }
   ],
   "source": [
    "tweets_mean_date = tweets_df3.groupby(['date', 'state_color']) \\\n",
    "       .agg(count=('state', 'size'), mean_sentiment=('sentiment_score', 'mean')) \\\n",
    "       .reset_index()\n",
    "tweets_mean_date\n"
   ]
  },
  {
   "cell_type": "code",
   "execution_count": 117,
   "id": "2008fba7-57d8-4d62-9d68-f3a0da4f570b",
   "metadata": {},
   "outputs": [],
   "source": [
    "tweets_mean_blue = tweets_mean_date.loc[tweets_mean_date['state_color'] == 'Blue']\n",
    "tweets_mean_blue = tweets_mean_blue.reset_index(drop=True)\n",
    "\n",
    "tweets_mean_red = tweets_mean_date.loc[tweets_mean_date['state_color'] == 'Red']\n",
    "tweets_mean_red = tweets_mean_red.reset_index(drop=True)"
   ]
  },
  {
   "cell_type": "code",
   "execution_count": 118,
   "id": "6fc93117-95e5-4925-abcc-fd73972cbfea",
   "metadata": {},
   "outputs": [
    {
     "data": {
      "text/plain": [
       "<matplotlib.legend.Legend at 0x18853059e50>"
      ]
     },
     "execution_count": 118,
     "metadata": {},
     "output_type": "execute_result"
    },
    {
     "data": {
      "image/png": "[encoded data removed]",
      "text/plain": [
       "<Figure size 432x288 with 1 Axes>"
      ]
     },
     "metadata": {},
     "output_type": "display_data"
    }
   ],
   "source": [
    "f,ax = plt.subplots()\n",
    "mean_sentiment_blue = ax.plot(tweets_mean_blue['mean_sentiment'], color = 'blue', label='mean_sentiment_blue') # Choose lineplot\n",
    "mean_sentiment_red = ax.plot(tweets_mean_red['mean_sentiment'], color = 'red', label='mean_sentiment_red') # Choose lineplot\n",
    "\n",
    "ax.set_title('Sentiment over time for each party') # Choose title for plot\n",
    "ax.title.set_fontsize(14) # Choose title font size\n",
    "\n",
    "ax.set_xlabel('Date') # Choose title x-axis\n",
    "ax.xaxis.label.set_fontsize(12) # Choose font size for x-axis title\n",
    "\n",
    "ax.set_ylabel('sentiment') # Choose title y-axis\n",
    "ax.yaxis.label.set_fontsize(12) # Choose font size for y-axis title\n",
    "\n",
    "ax.legend(loc = 'upper left', bbox_to_anchor=(0, 1))\n"
   ]
  },
  {
   "cell_type": "code",
   "execution_count": 120,
   "id": "babb4e71-c103-4d22-b7f1-fd54bba6f533",
   "metadata": {
    "tags": []
   },
   "outputs": [
    {
     "data": {
      "image/png": "[encoded data removed]",
      "text/plain": [
       "<Figure size 864x576 with 1 Axes>"
      ]
     },
     "metadata": {},
     "output_type": "display_data"
    }
   ],
   "source": [
    "# Plot scatter\n",
    "fig = plt.figure(figsize=(12, 8))\n",
    "plt.plot(tweets_mean_blue[\"date\"], tweets_mean_blue[\"mean_sentiment\"], color = 'blue', label='Mean of blue States', linewidth=5)\n",
    "plt.plot(tweets_mean_red[\"date\"], tweets_mean_red[\"mean_sentiment\"], color = 'red', label='Mean of red States', linewidth=5)\n",
    "\n",
    "# Labelling \n",
    "plt.xlabel(\"Date\", fontsize=18)\n",
    "plt.ylabel(\"Sentiment\", fontsize=18)\n",
    "\n",
    "plt.grid(True)\n",
    "\n",
    "# Auto space\n",
    "plt.legend(fontsize=14)\n",
    "\n",
    "# autoformat date\n",
    "fig.autofmt_xdate()\n",
    "\n",
    "#plt.annotate('Halloween', (mdates.date2num(x[1]), y[1]), xytext=(15, 15),\n",
    "#            textcoords='offset points', arrowprops=dict(arrowstyle='-|>'))\n",
    "\n",
    "# EVENTUALLY change tick font size\n",
    "# other type of line?\n",
    "\n",
    "plt.show()"
   ]
  },
  {
   "cell_type": "markdown",
   "id": "b392e498-8e8d-4736-80e9-0ec9299ec50d",
   "metadata": {},
   "source": [
    "# Alt godt heril"
   ]
  },
  {
   "cell_type": "code",
   "execution_count": null,
   "id": "5486e9c4-120b-4149-a7fa-f440ce7c2df8",
   "metadata": {},
   "outputs": [],
   "source": []
  },
  {
   "cell_type": "code",
   "execution_count": null,
   "id": "720ce2ed-5514-46f3-9950-67a39bce2a2f",
   "metadata": {},
   "outputs": [],
   "source": []
  },
  {
   "cell_type": "markdown",
   "id": "d3e87697-d9fc-4fb3-a047-d65a82ed5138",
   "metadata": {},
   "source": [
    "## Machine learning"
   ]
  },
  {
   "cell_type": "markdown",
   "id": "123a8961-1e29-450d-b516-90eb7e688970",
   "metadata": {
    "tags": []
   },
   "source": [
    "### test train split"
   ]
  },
  {
   "cell_type": "code",
   "execution_count": 121,
   "id": "d81a1ebb-9a0a-42f0-8a77-b2f4248a36a8",
   "metadata": {},
   "outputs": [],
   "source": [
    "tweets_df4 = tweets_df3.copy()"
   ]
  },
  {
   "cell_type": "code",
   "execution_count": 122,
   "id": "390bd16f-9a71-4f06-8a2d-6ea43174a212",
   "metadata": {},
   "outputs": [],
   "source": [
    "def remove_stopwords(tweet_text):\n",
    "    \"\"\"\n",
    "    removes stop words defined by package nltk.corpus\n",
    "    \"\"\"\n",
    "    stop = stopwords.words('english')\n",
    "    tweet_text = \" \".join([word for word in tweet_text.split() if word not in (stop)])\n",
    "    return tweet_text\n",
    "\n",
    "tweets_df4['text'] = tweets_df4['text'].apply(remove_stopwords)"
   ]
  },
  {
   "cell_type": "code",
   "execution_count": 123,
   "id": "250de6af-a084-4cef-8af9-ff5715957b7e",
   "metadata": {
    "tags": []
   },
   "outputs": [],
   "source": [
    "# list of tweet sentiments\n",
    "tweet_sentiments = [0 if i<0 else 1 for i in tweets_df4.sentiment_score]"
   ]
  },
  {
   "cell_type": "code",
   "execution_count": 124,
   "id": "37ee0c93-e3cc-4237-a606-a736aa60494e",
   "metadata": {},
   "outputs": [],
   "source": [
    "\n",
    "# splitting dataset into test and train\n",
    "df_train, df_test = train_test_split(tweets_df4, test_size=.5, random_state=1337)\n"
   ]
  },
  {
   "cell_type": "code",
   "execution_count": 125,
   "id": "ba4867e6-91d9-4194-8506-1f894f165ecd",
   "metadata": {},
   "outputs": [
    {
     "data": {
      "text/plain": [
       "LogisticRegression(random_state=0)"
      ]
     },
     "execution_count": 125,
     "metadata": {},
     "output_type": "execute_result"
    }
   ],
   "source": [
    "# Sort the data randomly to mix positive and negative reviews\n",
    "np.random.seed(0)\n",
    "df_train = tweets_df4.reindex(np.random.permutation(df_train.index))\n",
    "df_test = tweets_df4.reindex(np.random.permutation(df_test.index))\n",
    "\n",
    "# Take out X and Y variable\n",
    "x_train = df_train['text'].values\n",
    "x_test = df_test['text'].values\n",
    "y_train = df_train['tweet_sentiment'].values\n",
    "y_test = df_test['tweet_sentiment'].values\n",
    "\n",
    "# Make our bag of words\n",
    "tfidf = TfidfVectorizer()\n",
    "x_train_bag = tfidf.fit_transform(x_train)\n",
    "\n",
    "# Fit the model\n",
    "lr_text = LogisticRegression(random_state=0) #Text classifier\n",
    "lr_text.fit(x_train_bag,y_train)"
   ]
  },
  {
   "cell_type": "code",
   "execution_count": 126,
   "id": "73e97b73-cbf3-4e54-abdf-cc1b8cd2fff4",
   "metadata": {},
   "outputs": [
    {
     "name": "stdout",
     "output_type": "stream",
     "text": [
      "Testing accuracy = 0.6555555555555556\n"
     ]
    }
   ],
   "source": [
    "tweets_bag = tfidf.transform(tweets_df4['text'].values)\n",
    "\n",
    "preds = lr_text.predict(tweets_bag)\n",
    "print(\"Testing accuracy =\",np.mean([(preds==tweets_df4['tweet_sentiment'])]))"
   ]
  },
  {
   "cell_type": "markdown",
   "id": "aa282adf-d349-40c0-bd6f-579396425566",
   "metadata": {
    "tags": []
   },
   "source": [
    "### ML v2"
   ]
  },
  {
   "cell_type": "code",
   "execution_count": 129,
   "id": "52387f20-16af-4184-9ec1-1f2f5bb4db2f",
   "metadata": {
    "tags": []
   },
   "outputs": [
    {
     "data": {
      "text/plain": [
       "LogisticRegression(random_state=0)"
      ]
     },
     "execution_count": 129,
     "metadata": {},
     "output_type": "execute_result"
    }
   ],
   "source": [
    "# Make our bag of words\n",
    "tfidf_tweet = TfidfVectorizer()\n",
    "tweets_new_bag = tfidf_tweet.fit_transform(tweets_df4['text'].values)\n",
    "\n",
    "# Fit the model\n",
    "lr_tweets = LogisticRegression(random_state=0) #Text classifier\n",
    "lr_tweets.fit(tweets_new_bag, tweet_sentiments)\n"
   ]
  },
  {
   "cell_type": "code",
   "execution_count": 130,
   "id": "18295af4-27c7-4f1b-ba4e-54e9d9749070",
   "metadata": {},
   "outputs": [
    {
     "name": "stdout",
     "output_type": "stream",
     "text": [
      "\n",
      "                  0\n",
      "need       0.647173\n",
      "us         0.373202\n",
      "immunity   0.365093\n",
      "soon       0.324910\n",
      "months     0.298943\n",
      "think      0.292016\n",
      "tds        0.266832\n",
      "good       0.265614\n",
      "effective  0.246794\n",
      "asap       0.234655\n",
      "needs      0.231882\n",
      "convince   0.229723\n",
      "pfizer     0.229087\n",
      "ceo        0.229087\n",
      "reliable   0.209483\n",
      "adults     0.206359\n",
      "slideshow  0.206359\n",
      "cure       0.204074\n",
      "disease    0.203904\n",
      "possible   0.201219\n",
      "would      0.199626\n",
      "see        0.195650\n",
      "didnt      0.195571\n",
      "covid      0.192639\n",
      "likely     0.191783\n",
      "\n",
      "                    0\n",
      "new         -0.754182\n",
      "coronavirus -0.560982\n",
      "white       -0.541598\n",
      "ignorance   -0.501019\n",
      "house       -0.495910\n",
      "hoax        -0.469979\n",
      "blocks      -0.430669\n",
      "know        -0.390514\n",
      "flu         -0.374314\n",
      "shit        -0.334517\n",
      "killer      -0.306032\n",
      "pandemic    -0.303086\n",
      "control     -0.277346\n",
      "tired       -0.275279\n",
      "viruses     -0.268964\n",
      "people      -0.268655\n",
      "lies        -0.267612\n",
      "doesnt      -0.263857\n",
      "guidelines  -0.260017\n",
      "theres      -0.254248\n",
      "called      -0.254026\n",
      "bad         -0.253111\n",
      "russian     -0.249833\n",
      "full        -0.249833\n",
      "knew        -0.249833\n"
     ]
    }
   ],
   "source": [
    "\n",
    "# Make our bag of words\n",
    "tweets_features = ['_'.join(s.split()) for s in tfidf_tweet.get_feature_names_out()]\n",
    "tweets_coefficients = lr_tweets.coef_\n",
    "tweets_coefs_df = pd.DataFrame.from_records(tweets_coefficients, columns=tweets_features)\n",
    "\n",
    "# Most important (positive and negative) features:\n",
    "print()\n",
    "print(tweets_coefs_df.T.sort_values(by=[0], ascending=False).head(25))\n",
    "print()\n",
    "print(tweets_coefs_df.T.sort_values(by=[0], ascending=True).head(25))\n"
   ]
  },
  {
   "cell_type": "markdown",
   "id": "9795ba8c-22a4-4f2f-a19a-549071bc9e34",
   "metadata": {},
   "source": [
    "### Tokenization"
   ]
  },
  {
   "cell_type": "code",
   "execution_count": 132,
   "id": "b0153380-b83a-4fdf-afd1-212e52dd2fed",
   "metadata": {},
   "outputs": [],
   "source": [
    "#text_tokens = nltk.tokenize.word_tokenize(text)\n",
    "#text_tokens"
   ]
  },
  {
   "cell_type": "markdown",
   "id": "3234b558-d57c-4863-85df-60823acf0353",
   "metadata": {},
   "source": [
    "### Stemming"
   ]
  },
  {
   "cell_type": "code",
   "execution_count": 134,
   "id": "cf66c18c-f975-4a2d-9619-9e4507862469",
   "metadata": {},
   "outputs": [],
   "source": [
    "#porter = nltk.PorterStemmer()\n",
    "#review_stemmed = [porter.stem(i) for i in review_nostop]\n",
    "#review_stemmed"
   ]
  }
 ],
 "metadata": {
  "kernelspec": {
   "display_name": "Python 3 (ipykernel)",
   "language": "python",
   "name": "python3"
  },
  "language_info": {
   "codemirror_mode": {
    "name": "ipython",
    "version": 3
   },
   "file_extension": ".py",
   "mimetype": "text/x-python",
   "name": "python",
   "nbconvert_exporter": "python",
   "pygments_lexer": "ipython3",
   "version": "3.9.12"
  }
 },
 "nbformat": 4,
 "nbformat_minor": 5
}
