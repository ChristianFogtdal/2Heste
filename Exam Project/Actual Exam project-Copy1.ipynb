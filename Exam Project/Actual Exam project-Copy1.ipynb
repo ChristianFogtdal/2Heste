{
 "cells": [
  {
   "cell_type": "markdown",
   "id": "016a0979-3bb2-438b-9eb2-e18d1cecda0a",
   "metadata": {
    "tags": []
   },
   "source": [
    "# Project Notebook\n",
    "\n",
    "## Social Data Science - exam notebook\n",
    "\n",
    "\n",
    "#### Authors: \n",
    "#### Anton Maach-Møller\n",
    "#### Christian Nøjgaard Fogdal"
   ]
  },
  {
   "cell_type": "markdown",
   "id": "093b48f7-e436-4c3a-a77d-de422b77be56",
   "metadata": {
    "tags": []
   },
   "source": [
    "## 1. Installations"
   ]
  },
  {
   "cell_type": "code",
   "execution_count": 1,
   "id": "7a7dd23e-2dd2-4517-a998-1daf9085f26b",
   "metadata": {},
   "outputs": [],
   "source": [
    "# pip install geopy\n",
    "# pip install textblob\n",
    "# pip install vaderSentiment\n",
    "# pip install emoji\n",
    "# nltk.download('stopwords')\n",
    "# nltk.download('vader_lexicon')\n",
    "# pip install statsmodels\n",
    "# pip install Wikipedia-API\n",
    "# pip install chart_studio"
   ]
  },
  {
   "cell_type": "markdown",
   "id": "e8aaab30-0dcf-466b-b0ae-a99e70cb1305",
   "metadata": {
    "tags": []
   },
   "source": [
    "## 2. Import of used packages"
   ]
  },
  {
   "cell_type": "code",
   "execution_count": 2,
   "id": "23d0fb73-6690-4f75-91c2-30178eba6276",
   "metadata": {},
   "outputs": [],
   "source": [
    "# basic\n",
    "import numpy as np\n",
    "import pandas as pd\n",
    "\n",
    "#packages to handle API connection\n",
    "from tqdm import tqdm #progress bar, use code tqdm.pandas()\n",
    "from time import sleep #module to control speed of extraction\n",
    "\n",
    "# Twitter\n",
    "import tweepy as tw # main twitter API package\n",
    "from tqdm import tqdm #progress bar, use code tqdm.pandas()\n",
    "from time import sleep #module to control speed of extraction\n",
    "import time #module to control speed of extraction\n",
    "from datetime import datetime\n",
    "import warnings\n",
    "warnings.simplefilter(action='ignore', category=FutureWarning)\n",
    "\n",
    "# Nominatim - API to access geo data\n",
    "from geopy.geocoders import Nominatim #Geodata for datacleaning states\n",
    "from geopy.exc import GeocoderTimedOut #Geodata for datacleaning states\n",
    "from geopy.extra.rate_limiter import RateLimiter #rate limiter to geopy requests\n",
    "\n",
    "# packages to handle string elements\n",
    "import re #regex\n",
    "from textblob import TextBlob #To analyse sentiment\n",
    "from vaderSentiment.vaderSentiment import SentimentIntensityAnalyzer #Sentiment analyser\n",
    "from nltk.sentiment.vader import SentimentIntensityAnalyzer\n",
    "import emoji #to \"demojize\" - translate emojis to text\n",
    "import nltk #Natural Language Toolkit\n",
    "import nltk.corpus \n",
    "from nltk.corpus import stopwords # list of stopwords to remove\n",
    "from nltk.stem.porter import PorterStemmer #Stemming and lemmitization\n",
    "from nltk.stem import WordNetLemmatizer #Stemming and lemmitization\n",
    "\n",
    "# Machinelearning\n",
    "from sklearn.model_selection import train_test_split #randomly split dataframe into test and train data\n",
    "from sklearn.feature_extraction.text import TfidfVectorizer #\n",
    "from sklearn.linear_model import LogisticRegression\n",
    "import random #randomizer\n",
    "\n",
    "# import webbrowser\n",
    "# import requests\n",
    "# from bs4 import BeautifulSoup\n",
    "\n",
    "# plots\n",
    "import matplotlib.pyplot as plt\n",
    "from matplotlib import pyplot as plt, dates as mdates\n",
    "from chart_studio import plotly as py\n",
    "import pandas as pd\n",
    "import plotly.graph_objects as go\n",
    "import seaborn as sns\n"
   ]
  },
  {
   "cell_type": "markdown",
   "id": "0fa5d368-1360-42f6-8a95-d9f68efcb160",
   "metadata": {
    "tags": []
   },
   "source": [
    "## 3. Extraction of data from Twitter"
   ]
  },
  {
   "cell_type": "markdown",
   "id": "0ab620c5-0a74-4e26-bff6-72360f350dd6",
   "metadata": {},
   "source": [
    "#### Definitions"
   ]
  },
  {
   "cell_type": "code",
   "execution_count": 3,
   "id": "44ada4a1-db18-4201-ac3f-3b67eb37fde5",
   "metadata": {
    "tags": []
   },
   "outputs": [],
   "source": [
    "\n",
    "# Unique bearer token - is removed when published, since it is private\n",
    "MY_BEARER_TOKEN = \"AAAAAAAAAAAAAAAAAAAAANcAaQEAAAAA84hzZvsLo8rITqxhQJoQHVAd5wI%3DfD5dXkdwihlc4K08dNi3y84D4lVhjiOIREITen9vVe2UVYxFh7\"\n",
    "\n",
    "# authentication using .client\n",
    "client = tw.Client(bearer_token=MY_BEARER_TOKEN, wait_on_rate_limit=True)\n",
    "\n",
    "# query to search for tweets\n",
    "query = \"(vaccine OR covidvaccine OR vaccines OR #vaccine OR #vaccines OR #covidvaccine) lang:en -is:retweet place_country:US has:geo\"\n",
    "\n",
    "# start and end time lists for looping\n",
    "start_list =    ['2020-10-01T00:00:00.000Z',\n",
    "                 '2020-10-02T00:00:00.000Z',\n",
    "                 '2020-10-03T00:00:00.000Z',\n",
    "                 '2020-10-04T00:00:00.000Z',\n",
    "                 '2020-10-05T00:00:00.000Z',\n",
    "                 '2020-10-06T00:00:00.000Z',\n",
    "                 '2020-10-07T00:00:00.000Z',\n",
    "                 '2020-10-08T00:00:00.000Z',\n",
    "                 '2020-10-09T00:00:00.000Z',\n",
    "                 '2020-10-10T00:00:00.000Z',\n",
    "                 '2020-10-11T00:00:00.000Z',\n",
    "                 '2020-10-12T00:00:00.000Z',\n",
    "                 '2020-10-13T00:00:00.000Z',\n",
    "                 '2020-10-14T00:00:00.000Z',\n",
    "                 '2020-10-15T00:00:00.000Z',\n",
    "                 '2020-10-16T00:00:00.000Z',\n",
    "                 '2020-10-17T00:00:00.000Z',\n",
    "                 '2020-10-18T00:00:00.000Z',\n",
    "                 '2020-10-19T00:00:00.000Z',\n",
    "                 '2020-10-20T00:00:00.000Z',\n",
    "                 '2020-10-21T00:00:00.000Z',\n",
    "                 '2020-10-22T00:00:00.000Z',\n",
    "                 '2020-10-23T00:00:00.000Z',\n",
    "                 '2020-10-24T00:00:00.000Z',\n",
    "                 '2020-10-25T00:00:00.000Z',\n",
    "                 '2020-10-26T00:00:00.000Z',\n",
    "                 '2020-10-27T00:00:00.000Z',\n",
    "                 '2020-10-28T00:00:00.000Z',\n",
    "                 '2020-10-29T00:00:00.000Z',\n",
    "                 '2020-10-30T00:00:00.000Z',\n",
    "                 '2020-10-31T00:00:00.000Z',\n",
    "                 '2020-11-01T00:00:00.000Z',\n",
    "                 '2020-11-02T00:00:00.000Z',\n",
    "                 '2020-11-03T00:00:00.000Z',\n",
    "                 '2020-11-04T00:00:00.000Z',\n",
    "                 '2020-11-05T00:00:00.000Z',\n",
    "                 '2020-11-06T00:00:00.000Z',\n",
    "                 '2020-11-07T00:00:00.000Z',\n",
    "                 '2020-11-08T00:00:00.000Z',\n",
    "                 '2020-11-09T00:00:00.000Z',\n",
    "                 '2020-11-10T00:00:00.000Z',\n",
    "                 '2020-11-11T00:00:00.000Z',\n",
    "                 '2020-11-12T00:00:00.000Z',\n",
    "                 '2020-11-13T00:00:00.000Z',\n",
    "                 '2020-11-14T00:00:00.000Z',\n",
    "                 '2020-11-15T00:00:00.000Z',\n",
    "                 '2020-11-16T00:00:00.000Z',\n",
    "                 '2020-11-17T00:00:00.000Z',\n",
    "                 '2020-11-18T00:00:00.000Z',\n",
    "                 '2020-11-19T00:00:00.000Z',\n",
    "                 '2020-11-20T00:00:00.000Z',\n",
    "                 '2020-11-21T00:00:00.000Z',\n",
    "                 '2020-11-22T00:00:00.000Z',\n",
    "                 '2020-11-23T00:00:00.000Z',\n",
    "                 '2020-11-24T00:00:00.000Z',\n",
    "                 '2020-11-25T00:00:00.000Z',\n",
    "                 '2020-11-26T00:00:00.000Z',\n",
    "                 '2020-11-27T00:00:00.000Z',\n",
    "                 '2020-11-28T00:00:00.000Z',\n",
    "                 '2020-11-29T00:00:00.000Z',\n",
    "                 '2020-11-30T00:00:00.000Z'\n",
    "                ]\n",
    "\n",
    "end_list =      [\n",
    "                 '2020-10-01T23:59:59.000Z',\n",
    "                 '2020-10-02T23:59:59.000Z',\n",
    "                 '2020-10-03T23:59:59.000Z',\n",
    "                 '2020-10-04T23:59:59.000Z',\n",
    "                 '2020-10-05T23:59:59.000Z',\n",
    "                 '2020-10-06T23:59:59.000Z',\n",
    "                 '2020-10-07T23:59:59.000Z',\n",
    "                 '2020-10-08T23:59:59.000Z',\n",
    "                 '2020-10-09T23:59:59.000Z',\n",
    "                 '2020-10-10T23:59:59.000Z',\n",
    "                 '2020-10-11T23:59:59.000Z',\n",
    "                 '2020-10-12T23:59:59.000Z',\n",
    "                 '2020-10-13T23:59:59.000Z',\n",
    "                 '2020-10-14T23:59:59.000Z',\n",
    "                 '2020-10-15T23:59:59.000Z',\n",
    "                 '2020-10-16T23:59:59.000Z',\n",
    "                 '2020-10-17T23:59:59.000Z',\n",
    "                 '2020-10-18T23:59:59.000Z',\n",
    "                 '2020-10-19T23:59:59.000Z',\n",
    "                 '2020-10-20T23:59:59.000Z',\n",
    "                 '2020-10-21T23:59:59.000Z',\n",
    "                 '2020-10-22T23:59:59.000Z',\n",
    "                 '2020-10-23T23:59:59.000Z',\n",
    "                 '2020-10-24T23:59:59.000Z',\n",
    "                 '2020-10-25T23:59:59.000Z',\n",
    "                 '2020-10-26T23:59:59.000Z',\n",
    "                 '2020-10-27T23:59:59.000Z',\n",
    "                 '2020-10-28T23:59:59.000Z',\n",
    "                 '2020-10-29T23:59:59.000Z',\n",
    "                 '2020-10-30T23:59:59.000Z',\n",
    "                 '2020-10-31T23:59:59.000Z',\n",
    "                 '2020-11-01T23:59:59.000Z',\n",
    "                 '2020-11-02T23:59:59.000Z',\n",
    "                 '2020-11-03T23:59:59.000Z',\n",
    "                 '2020-11-04T23:59:59.000Z',\n",
    "                 '2020-11-05T23:59:59.000Z',\n",
    "                 '2020-11-06T23:59:59.000Z',\n",
    "                 '2020-11-07T23:59:59.000Z',\n",
    "                 '2020-11-08T23:59:59.000Z',\n",
    "                 '2020-11-09T23:59:59.000Z',\n",
    "                 '2020-11-10T23:59:59.000Z',\n",
    "                 '2020-11-11T23:59:59.000Z',\n",
    "                 '2020-11-12T23:59:59.000Z',\n",
    "                 '2020-11-13T23:59:59.000Z',\n",
    "                 '2020-11-14T23:59:59.000Z',\n",
    "                 '2020-11-15T23:59:59.000Z',\n",
    "                 '2020-11-16T23:59:59.000Z',\n",
    "                 '2020-11-17T23:59:59.000Z',\n",
    "                 '2020-11-18T23:59:59.000Z',\n",
    "                 '2020-11-19T23:59:59.000Z',\n",
    "                 '2020-11-20T23:59:59.000Z',\n",
    "                 '2020-11-21T23:59:59.000Z',\n",
    "                 '2020-11-22T23:59:59.000Z',\n",
    "                 '2020-11-23T23:59:59.000Z',\n",
    "                 '2020-11-24T23:59:59.000Z',\n",
    "                 '2020-11-25T23:59:59.000Z',\n",
    "                 '2020-11-26T23:59:59.000Z',\n",
    "                 '2020-11-27T23:59:59.000Z',\n",
    "                 '2020-11-28T23:59:59.000Z',\n",
    "                 '2020-11-29T23:59:59.000Z',\n",
    "                 '2020-11-30T23:59:59.000Z'\n",
    "                ]\n",
    "\n",
    "#max_results = 20\n",
    "\n",
    "# Total number of tweets we collected from the loop\n",
    "# total_tweets = 0\n",
    "\n",
    "# time"
   ]
  },
  {
   "cell_type": "markdown",
   "id": "0f6d85de-c8db-4f7b-b756-c6791a53090f",
   "metadata": {},
   "source": [
    "#### API call and creation of dataframe"
   ]
  },
  {
   "cell_type": "code",
   "execution_count": 4,
   "id": "f76689de-ff8f-45cf-b3ee-01f5ae7b179f",
   "metadata": {
    "tags": []
   },
   "outputs": [
    {
     "name": "stdout",
     "output_type": "stream",
     "text": [
      "-------------------\n",
      "local time:  01:53:32\n",
      "startlist:  2020-10-01T00:00:00.000Z\n",
      "       to:  2020-10-01T23:59:59.000Z\n",
      "48 tweets extracted\n",
      "47 user related data extracted\n",
      "43 location related data extracted\n",
      "-------------------\n",
      "-------------------\n",
      "local time:  01:56:08\n",
      "startlist:  2020-10-02T00:00:00.000Z\n",
      "       to:  2020-10-02T23:59:59.000Z\n",
      "49 tweets extracted\n",
      "48 user related data extracted\n",
      "43 location related data extracted\n",
      "-------------------\n",
      "-------------------\n",
      "local time:  01:58:44\n",
      "startlist:  2020-10-03T00:00:00.000Z\n",
      "       to:  2020-10-03T23:59:59.000Z\n",
      "48 tweets extracted\n",
      "43 user related data extracted\n",
      "41 location related data extracted\n",
      "-------------------\n",
      "-------------------\n",
      "local time:  02:01:19\n",
      "startlist:  2020-10-04T00:00:00.000Z\n",
      "       to:  2020-10-04T23:59:59.000Z\n",
      "46 tweets extracted\n",
      "41 user related data extracted\n",
      "40 location related data extracted\n",
      "-------------------\n",
      "-------------------\n",
      "local time:  02:03:55\n",
      "startlist:  2020-10-05T00:00:00.000Z\n",
      "       to:  2020-10-05T23:59:59.000Z\n",
      "48 tweets extracted\n",
      "28 user related data extracted\n",
      "28 location related data extracted\n",
      "-------------------\n",
      "-------------------\n",
      "local time:  02:06:31\n",
      "startlist:  2020-10-06T00:00:00.000Z\n",
      "       to:  2020-10-06T23:59:59.000Z\n",
      "44 tweets extracted\n",
      "42 user related data extracted\n",
      "40 location related data extracted\n",
      "-------------------\n",
      "-------------------\n",
      "local time:  02:09:07\n",
      "startlist:  2020-10-07T00:00:00.000Z\n",
      "       to:  2020-10-07T23:59:59.000Z\n",
      "45 tweets extracted\n",
      "42 user related data extracted\n",
      "40 location related data extracted\n",
      "-------------------\n",
      "-------------------\n",
      "local time:  02:11:43\n",
      "startlist:  2020-10-08T00:00:00.000Z\n",
      "       to:  2020-10-08T23:59:59.000Z\n",
      "46 tweets extracted\n",
      "44 user related data extracted\n",
      "41 location related data extracted\n",
      "-------------------\n",
      "-------------------\n",
      "local time:  02:14:18\n",
      "startlist:  2020-10-09T00:00:00.000Z\n",
      "       to:  2020-10-09T23:59:59.000Z\n",
      "35 tweets extracted\n",
      "31 user related data extracted\n",
      "30 location related data extracted\n",
      "-------------------\n",
      "-------------------\n",
      "local time:  02:16:54\n",
      "startlist:  2020-10-10T00:00:00.000Z\n",
      "       to:  2020-10-10T23:59:59.000Z\n",
      "47 tweets extracted\n",
      "44 user related data extracted\n",
      "42 location related data extracted\n",
      "-------------------\n",
      "-------------------\n",
      "local time:  02:19:30\n",
      "startlist:  2020-10-11T00:00:00.000Z\n",
      "       to:  2020-10-11T23:59:59.000Z\n",
      "50 tweets extracted\n",
      "50 user related data extracted\n",
      "48 location related data extracted\n",
      "-------------------\n",
      "-------------------\n",
      "local time:  02:22:05\n",
      "startlist:  2020-10-12T00:00:00.000Z\n",
      "       to:  2020-10-12T23:59:59.000Z\n",
      "49 tweets extracted\n",
      "45 user related data extracted\n",
      "43 location related data extracted\n",
      "-------------------\n",
      "-------------------\n",
      "local time:  02:24:41\n",
      "startlist:  2020-10-13T00:00:00.000Z\n",
      "       to:  2020-10-13T23:59:59.000Z\n",
      "46 tweets extracted\n",
      "43 user related data extracted\n",
      "40 location related data extracted\n",
      "-------------------\n",
      "-------------------\n",
      "local time:  02:27:17\n",
      "startlist:  2020-10-14T00:00:00.000Z\n",
      "       to:  2020-10-14T23:59:59.000Z\n",
      "46 tweets extracted\n",
      "45 user related data extracted\n",
      "42 location related data extracted\n",
      "-------------------\n",
      "-------------------\n",
      "local time:  02:29:53\n",
      "startlist:  2020-10-15T00:00:00.000Z\n",
      "       to:  2020-10-15T23:59:59.000Z\n",
      "46 tweets extracted\n",
      "37 user related data extracted\n",
      "36 location related data extracted\n",
      "-------------------\n",
      "-------------------\n",
      "local time:  02:32:28\n",
      "startlist:  2020-10-16T00:00:00.000Z\n",
      "       to:  2020-10-16T23:59:59.000Z\n",
      "50 tweets extracted\n",
      "50 user related data extracted\n",
      "45 location related data extracted\n",
      "-------------------\n",
      "-------------------\n",
      "local time:  02:35:04\n",
      "startlist:  2020-10-17T00:00:00.000Z\n",
      "       to:  2020-10-17T23:59:59.000Z\n",
      "50 tweets extracted\n",
      "48 user related data extracted\n",
      "43 location related data extracted\n",
      "-------------------\n",
      "-------------------\n",
      "local time:  02:37:40\n",
      "startlist:  2020-10-18T00:00:00.000Z\n",
      "       to:  2020-10-18T23:59:59.000Z\n",
      "45 tweets extracted\n",
      "42 user related data extracted\n",
      "35 location related data extracted\n",
      "-------------------\n",
      "-------------------\n",
      "local time:  02:40:16\n",
      "startlist:  2020-10-19T00:00:00.000Z\n",
      "       to:  2020-10-19T23:59:59.000Z\n",
      "50 tweets extracted\n",
      "47 user related data extracted\n",
      "46 location related data extracted\n",
      "-------------------\n",
      "-------------------\n",
      "local time:  02:42:51\n",
      "startlist:  2020-10-20T00:00:00.000Z\n",
      "       to:  2020-10-20T23:59:59.000Z\n",
      "50 tweets extracted\n",
      "48 user related data extracted\n",
      "46 location related data extracted\n",
      "-------------------\n",
      "-------------------\n",
      "local time:  02:45:27\n",
      "startlist:  2020-10-21T00:00:00.000Z\n",
      "       to:  2020-10-21T23:59:59.000Z\n",
      "50 tweets extracted\n",
      "42 user related data extracted\n",
      "40 location related data extracted\n",
      "-------------------\n",
      "-------------------\n",
      "local time:  02:48:03\n",
      "startlist:  2020-10-22T00:00:00.000Z\n",
      "       to:  2020-10-22T23:59:59.000Z\n",
      "49 tweets extracted\n",
      "46 user related data extracted\n",
      "40 location related data extracted\n",
      "-------------------\n",
      "-------------------\n",
      "local time:  02:50:39\n",
      "startlist:  2020-10-23T00:00:00.000Z\n",
      "       to:  2020-10-23T23:59:59.000Z\n",
      "50 tweets extracted\n",
      "48 user related data extracted\n",
      "44 location related data extracted\n",
      "-------------------\n",
      "-------------------\n",
      "local time:  02:53:14\n",
      "startlist:  2020-10-24T00:00:00.000Z\n",
      "       to:  2020-10-24T23:59:59.000Z\n",
      "47 tweets extracted\n",
      "45 user related data extracted\n",
      "44 location related data extracted\n",
      "-------------------\n",
      "-------------------\n",
      "local time:  02:55:50\n",
      "startlist:  2020-10-25T00:00:00.000Z\n",
      "       to:  2020-10-25T23:59:59.000Z\n",
      "49 tweets extracted\n",
      "43 user related data extracted\n",
      "40 location related data extracted\n",
      "-------------------\n",
      "-------------------\n",
      "local time:  02:58:26\n",
      "startlist:  2020-10-26T00:00:00.000Z\n",
      "       to:  2020-10-26T23:59:59.000Z\n",
      "49 tweets extracted\n",
      "47 user related data extracted\n",
      "40 location related data extracted\n",
      "-------------------\n",
      "-------------------\n",
      "local time:  03:01:02\n",
      "startlist:  2020-10-27T00:00:00.000Z\n",
      "       to:  2020-10-27T23:59:59.000Z\n",
      "46 tweets extracted\n",
      "44 user related data extracted\n",
      "41 location related data extracted\n",
      "-------------------\n",
      "-------------------\n",
      "local time:  03:03:37\n",
      "startlist:  2020-10-28T00:00:00.000Z\n",
      "       to:  2020-10-28T23:59:59.000Z\n",
      "47 tweets extracted\n",
      "43 user related data extracted\n",
      "43 location related data extracted\n",
      "-------------------\n",
      "-------------------\n",
      "local time:  03:06:13\n",
      "startlist:  2020-10-29T00:00:00.000Z\n",
      "       to:  2020-10-29T23:59:59.000Z\n",
      "49 tweets extracted\n",
      "44 user related data extracted\n",
      "42 location related data extracted\n",
      "-------------------\n",
      "-------------------\n",
      "local time:  03:08:49\n",
      "startlist:  2020-10-30T00:00:00.000Z\n",
      "       to:  2020-10-30T23:59:59.000Z\n",
      "47 tweets extracted\n",
      "45 user related data extracted\n",
      "44 location related data extracted\n",
      "-------------------\n",
      "-------------------\n",
      "local time:  03:11:24\n",
      "startlist:  2020-10-31T00:00:00.000Z\n",
      "       to:  2020-10-31T23:59:59.000Z\n",
      "47 tweets extracted\n",
      "44 user related data extracted\n",
      "45 location related data extracted\n",
      "-------------------\n",
      "-------------------\n",
      "local time:  03:14:00\n",
      "startlist:  2020-11-01T00:00:00.000Z\n",
      "       to:  2020-11-01T23:59:59.000Z\n",
      "46 tweets extracted\n",
      "42 user related data extracted\n",
      "38 location related data extracted\n",
      "-------------------\n",
      "-------------------\n",
      "local time:  03:16:36\n",
      "startlist:  2020-11-02T00:00:00.000Z\n",
      "       to:  2020-11-02T23:59:59.000Z\n",
      "49 tweets extracted\n",
      "46 user related data extracted\n",
      "46 location related data extracted\n",
      "-------------------\n",
      "-------------------\n",
      "local time:  03:19:11\n",
      "startlist:  2020-11-03T00:00:00.000Z\n",
      "       to:  2020-11-03T23:59:59.000Z\n",
      "50 tweets extracted\n",
      "42 user related data extracted\n",
      "36 location related data extracted\n",
      "-------------------\n",
      "-------------------\n",
      "local time:  03:21:47\n",
      "startlist:  2020-11-04T00:00:00.000Z\n",
      "       to:  2020-11-04T23:59:59.000Z\n",
      "49 tweets extracted\n",
      "46 user related data extracted\n",
      "44 location related data extracted\n",
      "-------------------\n",
      "-------------------\n",
      "local time:  07:27:49\n",
      "startlist:  2020-11-05T00:00:00.000Z\n",
      "       to:  2020-11-05T23:59:59.000Z\n"
     ]
    },
    {
     "ename": "ConnectionError",
     "evalue": "HTTPSConnectionPool(host='api.twitter.com', port=443): Max retries exceeded with url: /2/tweets/search/all?start_time=2020-11-05T00%3A00%3A00.000Z&end_time=2020-11-05T23%3A59%3A59.000Z&tweet.fields=created_at%2Ctext%2Csource&user.fields=name%2Cusername%2Clocation%2Cverified%2Cdescription&place.fields=place_type%2Ccountry%2Ccountry_code&max_results=50&expansions=author_id%2Cgeo.place_id&query=%28vaccine+OR+covidvaccine+OR+vaccines+OR+%23vaccine+OR+%23vaccines+OR+%23covidvaccine%29+lang%3Aen+-is%3Aretweet+place_country%3AUS+has%3Ageo (Caused by NewConnectionError('<urllib3.connection.HTTPSConnection object at 0x0000020C528E5A30>: Failed to establish a new connection: [Errno 11001] getaddrinfo failed'))",
     "output_type": "error",
     "traceback": [
      "\u001b[1;31m---------------------------------------------------------------------------\u001b[0m",
      "\u001b[1;31mgaierror\u001b[0m                                  Traceback (most recent call last)",
      "File \u001b[1;32m~\\anaconda3\\lib\\site-packages\\urllib3\\connection.py:174\u001b[0m, in \u001b[0;36mHTTPConnection._new_conn\u001b[1;34m(self)\u001b[0m\n\u001b[0;32m    173\u001b[0m \u001b[38;5;28;01mtry\u001b[39;00m:\n\u001b[1;32m--> 174\u001b[0m     conn \u001b[38;5;241m=\u001b[39m connection\u001b[38;5;241m.\u001b[39mcreate_connection(\n\u001b[0;32m    175\u001b[0m         (\u001b[38;5;28mself\u001b[39m\u001b[38;5;241m.\u001b[39m_dns_host, \u001b[38;5;28mself\u001b[39m\u001b[38;5;241m.\u001b[39mport), \u001b[38;5;28mself\u001b[39m\u001b[38;5;241m.\u001b[39mtimeout, \u001b[38;5;241m*\u001b[39m\u001b[38;5;241m*\u001b[39mextra_kw\n\u001b[0;32m    176\u001b[0m     )\n\u001b[0;32m    178\u001b[0m \u001b[38;5;28;01mexcept\u001b[39;00m SocketTimeout:\n",
      "File \u001b[1;32m~\\anaconda3\\lib\\site-packages\\urllib3\\util\\connection.py:72\u001b[0m, in \u001b[0;36mcreate_connection\u001b[1;34m(address, timeout, source_address, socket_options)\u001b[0m\n\u001b[0;32m     68\u001b[0m     \u001b[38;5;28;01mreturn\u001b[39;00m six\u001b[38;5;241m.\u001b[39mraise_from(\n\u001b[0;32m     69\u001b[0m         LocationParseError(\u001b[38;5;124mu\u001b[39m\u001b[38;5;124m\"\u001b[39m\u001b[38;5;124m'\u001b[39m\u001b[38;5;132;01m%s\u001b[39;00m\u001b[38;5;124m'\u001b[39m\u001b[38;5;124m, label empty or too long\u001b[39m\u001b[38;5;124m\"\u001b[39m \u001b[38;5;241m%\u001b[39m host), \u001b[38;5;28;01mNone\u001b[39;00m\n\u001b[0;32m     70\u001b[0m     )\n\u001b[1;32m---> 72\u001b[0m \u001b[38;5;28;01mfor\u001b[39;00m res \u001b[38;5;129;01min\u001b[39;00m \u001b[43msocket\u001b[49m\u001b[38;5;241;43m.\u001b[39;49m\u001b[43mgetaddrinfo\u001b[49m\u001b[43m(\u001b[49m\u001b[43mhost\u001b[49m\u001b[43m,\u001b[49m\u001b[43m \u001b[49m\u001b[43mport\u001b[49m\u001b[43m,\u001b[49m\u001b[43m \u001b[49m\u001b[43mfamily\u001b[49m\u001b[43m,\u001b[49m\u001b[43m \u001b[49m\u001b[43msocket\u001b[49m\u001b[38;5;241;43m.\u001b[39;49m\u001b[43mSOCK_STREAM\u001b[49m\u001b[43m)\u001b[49m:\n\u001b[0;32m     73\u001b[0m     af, socktype, proto, canonname, sa \u001b[38;5;241m=\u001b[39m res\n",
      "File \u001b[1;32m~\\anaconda3\\lib\\socket.py:954\u001b[0m, in \u001b[0;36mgetaddrinfo\u001b[1;34m(host, port, family, type, proto, flags)\u001b[0m\n\u001b[0;32m    953\u001b[0m addrlist \u001b[38;5;241m=\u001b[39m []\n\u001b[1;32m--> 954\u001b[0m \u001b[38;5;28;01mfor\u001b[39;00m res \u001b[38;5;129;01min\u001b[39;00m \u001b[43m_socket\u001b[49m\u001b[38;5;241;43m.\u001b[39;49m\u001b[43mgetaddrinfo\u001b[49m\u001b[43m(\u001b[49m\u001b[43mhost\u001b[49m\u001b[43m,\u001b[49m\u001b[43m \u001b[49m\u001b[43mport\u001b[49m\u001b[43m,\u001b[49m\u001b[43m \u001b[49m\u001b[43mfamily\u001b[49m\u001b[43m,\u001b[49m\u001b[43m \u001b[49m\u001b[38;5;28;43mtype\u001b[39;49m\u001b[43m,\u001b[49m\u001b[43m \u001b[49m\u001b[43mproto\u001b[49m\u001b[43m,\u001b[49m\u001b[43m \u001b[49m\u001b[43mflags\u001b[49m\u001b[43m)\u001b[49m:\n\u001b[0;32m    955\u001b[0m     af, socktype, proto, canonname, sa \u001b[38;5;241m=\u001b[39m res\n",
      "\u001b[1;31mgaierror\u001b[0m: [Errno 11001] getaddrinfo failed",
      "\nDuring handling of the above exception, another exception occurred:\n",
      "\u001b[1;31mNewConnectionError\u001b[0m                        Traceback (most recent call last)",
      "File \u001b[1;32m~\\anaconda3\\lib\\site-packages\\urllib3\\connectionpool.py:703\u001b[0m, in \u001b[0;36mHTTPConnectionPool.urlopen\u001b[1;34m(self, method, url, body, headers, retries, redirect, assert_same_host, timeout, pool_timeout, release_conn, chunked, body_pos, **response_kw)\u001b[0m\n\u001b[0;32m    702\u001b[0m \u001b[38;5;66;03m# Make the request on the httplib connection object.\u001b[39;00m\n\u001b[1;32m--> 703\u001b[0m httplib_response \u001b[38;5;241m=\u001b[39m \u001b[38;5;28;43mself\u001b[39;49m\u001b[38;5;241;43m.\u001b[39;49m\u001b[43m_make_request\u001b[49m\u001b[43m(\u001b[49m\n\u001b[0;32m    704\u001b[0m \u001b[43m    \u001b[49m\u001b[43mconn\u001b[49m\u001b[43m,\u001b[49m\n\u001b[0;32m    705\u001b[0m \u001b[43m    \u001b[49m\u001b[43mmethod\u001b[49m\u001b[43m,\u001b[49m\n\u001b[0;32m    706\u001b[0m \u001b[43m    \u001b[49m\u001b[43murl\u001b[49m\u001b[43m,\u001b[49m\n\u001b[0;32m    707\u001b[0m \u001b[43m    \u001b[49m\u001b[43mtimeout\u001b[49m\u001b[38;5;241;43m=\u001b[39;49m\u001b[43mtimeout_obj\u001b[49m\u001b[43m,\u001b[49m\n\u001b[0;32m    708\u001b[0m \u001b[43m    \u001b[49m\u001b[43mbody\u001b[49m\u001b[38;5;241;43m=\u001b[39;49m\u001b[43mbody\u001b[49m\u001b[43m,\u001b[49m\n\u001b[0;32m    709\u001b[0m \u001b[43m    \u001b[49m\u001b[43mheaders\u001b[49m\u001b[38;5;241;43m=\u001b[39;49m\u001b[43mheaders\u001b[49m\u001b[43m,\u001b[49m\n\u001b[0;32m    710\u001b[0m \u001b[43m    \u001b[49m\u001b[43mchunked\u001b[49m\u001b[38;5;241;43m=\u001b[39;49m\u001b[43mchunked\u001b[49m\u001b[43m,\u001b[49m\n\u001b[0;32m    711\u001b[0m \u001b[43m\u001b[49m\u001b[43m)\u001b[49m\n\u001b[0;32m    713\u001b[0m \u001b[38;5;66;03m# If we're going to release the connection in ``finally:``, then\u001b[39;00m\n\u001b[0;32m    714\u001b[0m \u001b[38;5;66;03m# the response doesn't need to know about the connection. Otherwise\u001b[39;00m\n\u001b[0;32m    715\u001b[0m \u001b[38;5;66;03m# it will also try to release it and we'll have a double-release\u001b[39;00m\n\u001b[0;32m    716\u001b[0m \u001b[38;5;66;03m# mess.\u001b[39;00m\n",
      "File \u001b[1;32m~\\anaconda3\\lib\\site-packages\\urllib3\\connectionpool.py:386\u001b[0m, in \u001b[0;36mHTTPConnectionPool._make_request\u001b[1;34m(self, conn, method, url, timeout, chunked, **httplib_request_kw)\u001b[0m\n\u001b[0;32m    385\u001b[0m \u001b[38;5;28;01mtry\u001b[39;00m:\n\u001b[1;32m--> 386\u001b[0m     \u001b[38;5;28;43mself\u001b[39;49m\u001b[38;5;241;43m.\u001b[39;49m\u001b[43m_validate_conn\u001b[49m\u001b[43m(\u001b[49m\u001b[43mconn\u001b[49m\u001b[43m)\u001b[49m\n\u001b[0;32m    387\u001b[0m \u001b[38;5;28;01mexcept\u001b[39;00m (SocketTimeout, BaseSSLError) \u001b[38;5;28;01mas\u001b[39;00m e:\n\u001b[0;32m    388\u001b[0m     \u001b[38;5;66;03m# Py2 raises this as a BaseSSLError, Py3 raises it as socket timeout.\u001b[39;00m\n",
      "File \u001b[1;32m~\\anaconda3\\lib\\site-packages\\urllib3\\connectionpool.py:1040\u001b[0m, in \u001b[0;36mHTTPSConnectionPool._validate_conn\u001b[1;34m(self, conn)\u001b[0m\n\u001b[0;32m   1039\u001b[0m \u001b[38;5;28;01mif\u001b[39;00m \u001b[38;5;129;01mnot\u001b[39;00m \u001b[38;5;28mgetattr\u001b[39m(conn, \u001b[38;5;124m\"\u001b[39m\u001b[38;5;124msock\u001b[39m\u001b[38;5;124m\"\u001b[39m, \u001b[38;5;28;01mNone\u001b[39;00m):  \u001b[38;5;66;03m# AppEngine might not have  `.sock`\u001b[39;00m\n\u001b[1;32m-> 1040\u001b[0m     \u001b[43mconn\u001b[49m\u001b[38;5;241;43m.\u001b[39;49m\u001b[43mconnect\u001b[49m\u001b[43m(\u001b[49m\u001b[43m)\u001b[49m\n\u001b[0;32m   1042\u001b[0m \u001b[38;5;28;01mif\u001b[39;00m \u001b[38;5;129;01mnot\u001b[39;00m conn\u001b[38;5;241m.\u001b[39mis_verified:\n",
      "File \u001b[1;32m~\\anaconda3\\lib\\site-packages\\urllib3\\connection.py:358\u001b[0m, in \u001b[0;36mHTTPSConnection.connect\u001b[1;34m(self)\u001b[0m\n\u001b[0;32m    356\u001b[0m \u001b[38;5;28;01mdef\u001b[39;00m \u001b[38;5;21mconnect\u001b[39m(\u001b[38;5;28mself\u001b[39m):\n\u001b[0;32m    357\u001b[0m     \u001b[38;5;66;03m# Add certificate verification\u001b[39;00m\n\u001b[1;32m--> 358\u001b[0m     \u001b[38;5;28mself\u001b[39m\u001b[38;5;241m.\u001b[39msock \u001b[38;5;241m=\u001b[39m conn \u001b[38;5;241m=\u001b[39m \u001b[38;5;28;43mself\u001b[39;49m\u001b[38;5;241;43m.\u001b[39;49m\u001b[43m_new_conn\u001b[49m\u001b[43m(\u001b[49m\u001b[43m)\u001b[49m\n\u001b[0;32m    359\u001b[0m     hostname \u001b[38;5;241m=\u001b[39m \u001b[38;5;28mself\u001b[39m\u001b[38;5;241m.\u001b[39mhost\n",
      "File \u001b[1;32m~\\anaconda3\\lib\\site-packages\\urllib3\\connection.py:186\u001b[0m, in \u001b[0;36mHTTPConnection._new_conn\u001b[1;34m(self)\u001b[0m\n\u001b[0;32m    185\u001b[0m \u001b[38;5;28;01mexcept\u001b[39;00m SocketError \u001b[38;5;28;01mas\u001b[39;00m e:\n\u001b[1;32m--> 186\u001b[0m     \u001b[38;5;28;01mraise\u001b[39;00m NewConnectionError(\n\u001b[0;32m    187\u001b[0m         \u001b[38;5;28mself\u001b[39m, \u001b[38;5;124m\"\u001b[39m\u001b[38;5;124mFailed to establish a new connection: \u001b[39m\u001b[38;5;132;01m%s\u001b[39;00m\u001b[38;5;124m\"\u001b[39m \u001b[38;5;241m%\u001b[39m e\n\u001b[0;32m    188\u001b[0m     )\n\u001b[0;32m    190\u001b[0m \u001b[38;5;28;01mreturn\u001b[39;00m conn\n",
      "\u001b[1;31mNewConnectionError\u001b[0m: <urllib3.connection.HTTPSConnection object at 0x0000020C528E5A30>: Failed to establish a new connection: [Errno 11001] getaddrinfo failed",
      "\nDuring handling of the above exception, another exception occurred:\n",
      "\u001b[1;31mMaxRetryError\u001b[0m                             Traceback (most recent call last)",
      "File \u001b[1;32m~\\anaconda3\\lib\\site-packages\\requests\\adapters.py:440\u001b[0m, in \u001b[0;36mHTTPAdapter.send\u001b[1;34m(self, request, stream, timeout, verify, cert, proxies)\u001b[0m\n\u001b[0;32m    439\u001b[0m \u001b[38;5;28;01mif\u001b[39;00m \u001b[38;5;129;01mnot\u001b[39;00m chunked:\n\u001b[1;32m--> 440\u001b[0m     resp \u001b[38;5;241m=\u001b[39m \u001b[43mconn\u001b[49m\u001b[38;5;241;43m.\u001b[39;49m\u001b[43murlopen\u001b[49m\u001b[43m(\u001b[49m\n\u001b[0;32m    441\u001b[0m \u001b[43m        \u001b[49m\u001b[43mmethod\u001b[49m\u001b[38;5;241;43m=\u001b[39;49m\u001b[43mrequest\u001b[49m\u001b[38;5;241;43m.\u001b[39;49m\u001b[43mmethod\u001b[49m\u001b[43m,\u001b[49m\n\u001b[0;32m    442\u001b[0m \u001b[43m        \u001b[49m\u001b[43murl\u001b[49m\u001b[38;5;241;43m=\u001b[39;49m\u001b[43murl\u001b[49m\u001b[43m,\u001b[49m\n\u001b[0;32m    443\u001b[0m \u001b[43m        \u001b[49m\u001b[43mbody\u001b[49m\u001b[38;5;241;43m=\u001b[39;49m\u001b[43mrequest\u001b[49m\u001b[38;5;241;43m.\u001b[39;49m\u001b[43mbody\u001b[49m\u001b[43m,\u001b[49m\n\u001b[0;32m    444\u001b[0m \u001b[43m        \u001b[49m\u001b[43mheaders\u001b[49m\u001b[38;5;241;43m=\u001b[39;49m\u001b[43mrequest\u001b[49m\u001b[38;5;241;43m.\u001b[39;49m\u001b[43mheaders\u001b[49m\u001b[43m,\u001b[49m\n\u001b[0;32m    445\u001b[0m \u001b[43m        \u001b[49m\u001b[43mredirect\u001b[49m\u001b[38;5;241;43m=\u001b[39;49m\u001b[38;5;28;43;01mFalse\u001b[39;49;00m\u001b[43m,\u001b[49m\n\u001b[0;32m    446\u001b[0m \u001b[43m        \u001b[49m\u001b[43massert_same_host\u001b[49m\u001b[38;5;241;43m=\u001b[39;49m\u001b[38;5;28;43;01mFalse\u001b[39;49;00m\u001b[43m,\u001b[49m\n\u001b[0;32m    447\u001b[0m \u001b[43m        \u001b[49m\u001b[43mpreload_content\u001b[49m\u001b[38;5;241;43m=\u001b[39;49m\u001b[38;5;28;43;01mFalse\u001b[39;49;00m\u001b[43m,\u001b[49m\n\u001b[0;32m    448\u001b[0m \u001b[43m        \u001b[49m\u001b[43mdecode_content\u001b[49m\u001b[38;5;241;43m=\u001b[39;49m\u001b[38;5;28;43;01mFalse\u001b[39;49;00m\u001b[43m,\u001b[49m\n\u001b[0;32m    449\u001b[0m \u001b[43m        \u001b[49m\u001b[43mretries\u001b[49m\u001b[38;5;241;43m=\u001b[39;49m\u001b[38;5;28;43mself\u001b[39;49m\u001b[38;5;241;43m.\u001b[39;49m\u001b[43mmax_retries\u001b[49m\u001b[43m,\u001b[49m\n\u001b[0;32m    450\u001b[0m \u001b[43m        \u001b[49m\u001b[43mtimeout\u001b[49m\u001b[38;5;241;43m=\u001b[39;49m\u001b[43mtimeout\u001b[49m\n\u001b[0;32m    451\u001b[0m \u001b[43m    \u001b[49m\u001b[43m)\u001b[49m\n\u001b[0;32m    453\u001b[0m \u001b[38;5;66;03m# Send the request.\u001b[39;00m\n\u001b[0;32m    454\u001b[0m \u001b[38;5;28;01melse\u001b[39;00m:\n",
      "File \u001b[1;32m~\\anaconda3\\lib\\site-packages\\urllib3\\connectionpool.py:785\u001b[0m, in \u001b[0;36mHTTPConnectionPool.urlopen\u001b[1;34m(self, method, url, body, headers, retries, redirect, assert_same_host, timeout, pool_timeout, release_conn, chunked, body_pos, **response_kw)\u001b[0m\n\u001b[0;32m    783\u001b[0m     e \u001b[38;5;241m=\u001b[39m ProtocolError(\u001b[38;5;124m\"\u001b[39m\u001b[38;5;124mConnection aborted.\u001b[39m\u001b[38;5;124m\"\u001b[39m, e)\n\u001b[1;32m--> 785\u001b[0m retries \u001b[38;5;241m=\u001b[39m \u001b[43mretries\u001b[49m\u001b[38;5;241;43m.\u001b[39;49m\u001b[43mincrement\u001b[49m\u001b[43m(\u001b[49m\n\u001b[0;32m    786\u001b[0m \u001b[43m    \u001b[49m\u001b[43mmethod\u001b[49m\u001b[43m,\u001b[49m\u001b[43m \u001b[49m\u001b[43murl\u001b[49m\u001b[43m,\u001b[49m\u001b[43m \u001b[49m\u001b[43merror\u001b[49m\u001b[38;5;241;43m=\u001b[39;49m\u001b[43me\u001b[49m\u001b[43m,\u001b[49m\u001b[43m \u001b[49m\u001b[43m_pool\u001b[49m\u001b[38;5;241;43m=\u001b[39;49m\u001b[38;5;28;43mself\u001b[39;49m\u001b[43m,\u001b[49m\u001b[43m \u001b[49m\u001b[43m_stacktrace\u001b[49m\u001b[38;5;241;43m=\u001b[39;49m\u001b[43msys\u001b[49m\u001b[38;5;241;43m.\u001b[39;49m\u001b[43mexc_info\u001b[49m\u001b[43m(\u001b[49m\u001b[43m)\u001b[49m\u001b[43m[\u001b[49m\u001b[38;5;241;43m2\u001b[39;49m\u001b[43m]\u001b[49m\n\u001b[0;32m    787\u001b[0m \u001b[43m\u001b[49m\u001b[43m)\u001b[49m\n\u001b[0;32m    788\u001b[0m retries\u001b[38;5;241m.\u001b[39msleep()\n",
      "File \u001b[1;32m~\\anaconda3\\lib\\site-packages\\urllib3\\util\\retry.py:592\u001b[0m, in \u001b[0;36mRetry.increment\u001b[1;34m(self, method, url, response, error, _pool, _stacktrace)\u001b[0m\n\u001b[0;32m    591\u001b[0m \u001b[38;5;28;01mif\u001b[39;00m new_retry\u001b[38;5;241m.\u001b[39mis_exhausted():\n\u001b[1;32m--> 592\u001b[0m     \u001b[38;5;28;01mraise\u001b[39;00m MaxRetryError(_pool, url, error \u001b[38;5;129;01mor\u001b[39;00m ResponseError(cause))\n\u001b[0;32m    594\u001b[0m log\u001b[38;5;241m.\u001b[39mdebug(\u001b[38;5;124m\"\u001b[39m\u001b[38;5;124mIncremented Retry for (url=\u001b[39m\u001b[38;5;124m'\u001b[39m\u001b[38;5;132;01m%s\u001b[39;00m\u001b[38;5;124m'\u001b[39m\u001b[38;5;124m): \u001b[39m\u001b[38;5;132;01m%r\u001b[39;00m\u001b[38;5;124m\"\u001b[39m, url, new_retry)\n",
      "\u001b[1;31mMaxRetryError\u001b[0m: HTTPSConnectionPool(host='api.twitter.com', port=443): Max retries exceeded with url: /2/tweets/search/all?start_time=2020-11-05T00%3A00%3A00.000Z&end_time=2020-11-05T23%3A59%3A59.000Z&tweet.fields=created_at%2Ctext%2Csource&user.fields=name%2Cusername%2Clocation%2Cverified%2Cdescription&place.fields=place_type%2Ccountry%2Ccountry_code&max_results=50&expansions=author_id%2Cgeo.place_id&query=%28vaccine+OR+covidvaccine+OR+vaccines+OR+%23vaccine+OR+%23vaccines+OR+%23covidvaccine%29+lang%3Aen+-is%3Aretweet+place_country%3AUS+has%3Ageo (Caused by NewConnectionError('<urllib3.connection.HTTPSConnection object at 0x0000020C528E5A30>: Failed to establish a new connection: [Errno 11001] getaddrinfo failed'))",
      "\nDuring handling of the above exception, another exception occurred:\n",
      "\u001b[1;31mConnectionError\u001b[0m                           Traceback (most recent call last)",
      "Input \u001b[1;32mIn [4]\u001b[0m, in \u001b[0;36m<cell line: 5>\u001b[1;34m()\u001b[0m\n\u001b[0;32m     12\u001b[0m count \u001b[38;5;241m=\u001b[39m \u001b[38;5;241m0\u001b[39m \u001b[38;5;66;03m# Counting tweets per time period\u001b[39;00m\n\u001b[0;32m     14\u001b[0m \u001b[38;5;66;03m# get tweets from the API\u001b[39;00m\n\u001b[1;32m---> 15\u001b[0m tweets \u001b[38;5;241m=\u001b[39m \u001b[43mclient\u001b[49m\u001b[38;5;241;43m.\u001b[39;49m\u001b[43msearch_all_tweets\u001b[49m\u001b[43m(\u001b[49m\u001b[43mquery\u001b[49m\u001b[38;5;241;43m=\u001b[39;49m\u001b[43mquery\u001b[49m\u001b[43m,\u001b[49m\n\u001b[0;32m     16\u001b[0m \u001b[43m                                 \u001b[49m\u001b[43mstart_time\u001b[49m\u001b[38;5;241;43m=\u001b[39;49m\u001b[43mstart_list\u001b[49m\u001b[43m[\u001b[49m\u001b[43mi\u001b[49m\u001b[43m]\u001b[49m\u001b[43m,\u001b[49m\n\u001b[0;32m     17\u001b[0m \u001b[43m                                 \u001b[49m\u001b[43mend_time\u001b[49m\u001b[38;5;241;43m=\u001b[39;49m\u001b[43mend_list\u001b[49m\u001b[43m[\u001b[49m\u001b[43mi\u001b[49m\u001b[43m]\u001b[49m\u001b[43m,\u001b[49m\n\u001b[0;32m     18\u001b[0m \u001b[43m                                 \u001b[49m\u001b[43mtweet_fields\u001b[49m\u001b[43m \u001b[49m\u001b[38;5;241;43m=\u001b[39;49m\u001b[43m \u001b[49m\u001b[43m[\u001b[49m\n\u001b[0;32m     19\u001b[0m \u001b[43m                                                 \u001b[49m\u001b[38;5;124;43m\"\u001b[39;49m\u001b[38;5;124;43mcreated_at\u001b[39;49m\u001b[38;5;124;43m\"\u001b[39;49m\u001b[43m,\u001b[49m\u001b[43m \u001b[49m\n\u001b[0;32m     20\u001b[0m \u001b[43m                                                 \u001b[49m\u001b[38;5;124;43m\"\u001b[39;49m\u001b[38;5;124;43mtext\u001b[39;49m\u001b[38;5;124;43m\"\u001b[39;49m\u001b[43m,\u001b[49m\u001b[43m \u001b[49m\n\u001b[0;32m     21\u001b[0m \u001b[43m                                                 \u001b[49m\u001b[38;5;124;43m\"\u001b[39;49m\u001b[38;5;124;43msource\u001b[39;49m\u001b[38;5;124;43m\"\u001b[39;49m\u001b[43m,\u001b[49m\u001b[43m \u001b[49m\n\u001b[0;32m     22\u001b[0m \u001b[43m                                                \u001b[49m\u001b[43m]\u001b[49m\u001b[43m,\u001b[49m\n\u001b[0;32m     23\u001b[0m \u001b[43m                              \u001b[49m\n\u001b[0;32m     24\u001b[0m \u001b[43m                                 \u001b[49m\u001b[43muser_fields\u001b[49m\u001b[43m \u001b[49m\u001b[38;5;241;43m=\u001b[39;49m\u001b[43m \u001b[49m\u001b[43m[\u001b[49m\n\u001b[0;32m     25\u001b[0m \u001b[43m                                                \u001b[49m\u001b[38;5;124;43m\"\u001b[39;49m\u001b[38;5;124;43mname\u001b[39;49m\u001b[38;5;124;43m\"\u001b[39;49m\u001b[43m,\u001b[49m\u001b[43m \u001b[49m\n\u001b[0;32m     26\u001b[0m \u001b[43m                                                \u001b[49m\u001b[38;5;124;43m\"\u001b[39;49m\u001b[38;5;124;43musername\u001b[39;49m\u001b[38;5;124;43m\"\u001b[39;49m\u001b[43m,\u001b[49m\u001b[43m \u001b[49m\n\u001b[0;32m     27\u001b[0m \u001b[43m                                                \u001b[49m\u001b[38;5;124;43m\"\u001b[39;49m\u001b[38;5;124;43mlocation\u001b[39;49m\u001b[38;5;124;43m\"\u001b[39;49m\u001b[43m,\u001b[49m\u001b[43m \u001b[49m\n\u001b[0;32m     28\u001b[0m \u001b[43m                                                \u001b[49m\u001b[38;5;124;43m\"\u001b[39;49m\u001b[38;5;124;43mverified\u001b[39;49m\u001b[38;5;124;43m\"\u001b[39;49m\u001b[43m,\u001b[49m\u001b[43m \u001b[49m\n\u001b[0;32m     29\u001b[0m \u001b[43m                                                \u001b[49m\u001b[38;5;124;43m\"\u001b[39;49m\u001b[38;5;124;43mdescription\u001b[39;49m\u001b[38;5;124;43m\"\u001b[39;49m\n\u001b[0;32m     30\u001b[0m \u001b[43m                                               \u001b[49m\u001b[43m]\u001b[49m\u001b[43m,\u001b[49m\n\u001b[0;32m     31\u001b[0m \u001b[43m                              \u001b[49m\n\u001b[0;32m     32\u001b[0m \u001b[43m                                 \u001b[49m\u001b[43mplace_fields\u001b[49m\u001b[38;5;241;43m=\u001b[39;49m\u001b[43m[\u001b[49m\n\u001b[0;32m     33\u001b[0m \u001b[43m                                               \u001b[49m\u001b[38;5;124;43m'\u001b[39;49m\u001b[38;5;124;43mplace_type\u001b[39;49m\u001b[38;5;124;43m'\u001b[39;49m\u001b[43m,\u001b[49m\u001b[43m \u001b[49m\n\u001b[0;32m     34\u001b[0m \u001b[43m                                               \u001b[49m\u001b[38;5;124;43m'\u001b[39;49m\u001b[38;5;124;43mcountry\u001b[39;49m\u001b[38;5;124;43m'\u001b[39;49m\u001b[43m,\u001b[49m\u001b[43m \u001b[49m\n\u001b[0;32m     35\u001b[0m \u001b[43m                                               \u001b[49m\u001b[38;5;124;43m'\u001b[39;49m\u001b[38;5;124;43mcountry_code\u001b[39;49m\u001b[38;5;124;43m'\u001b[39;49m\n\u001b[0;32m     36\u001b[0m \u001b[43m                                              \u001b[49m\u001b[43m]\u001b[49m\u001b[43m,\u001b[49m\n\u001b[0;32m     37\u001b[0m \u001b[43m                              \u001b[49m\n\u001b[0;32m     38\u001b[0m \u001b[43m                                 \u001b[49m\u001b[43mmax_results\u001b[49m\u001b[43m \u001b[49m\u001b[38;5;241;43m=\u001b[39;49m\u001b[43m \u001b[49m\u001b[38;5;241;43m50\u001b[39;49m\u001b[43m,\u001b[49m\n\u001b[0;32m     39\u001b[0m \u001b[43m                                 \u001b[49m\u001b[43mexpansions\u001b[49m\u001b[38;5;241;43m=\u001b[39;49m\u001b[43m[\u001b[49m\u001b[38;5;124;43m'\u001b[39;49m\u001b[38;5;124;43mauthor_id\u001b[39;49m\u001b[38;5;124;43m'\u001b[39;49m\u001b[43m,\u001b[49m\u001b[43m \u001b[49m\u001b[38;5;124;43m'\u001b[39;49m\u001b[38;5;124;43mgeo.place_id\u001b[39;49m\u001b[38;5;124;43m'\u001b[39;49m\u001b[43m]\u001b[49m\n\u001b[0;32m     40\u001b[0m \u001b[43m                                 \u001b[49m\u001b[43m)\u001b[49m\n\u001b[0;32m     42\u001b[0m \u001b[38;5;66;03m# create a list of records\u001b[39;00m\n\u001b[0;32m     43\u001b[0m tweet_info_ls \u001b[38;5;241m=\u001b[39m []\n",
      "File \u001b[1;32m~\\anaconda3\\lib\\site-packages\\tweepy\\client.py:1145\u001b[0m, in \u001b[0;36mClient.search_all_tweets\u001b[1;34m(self, query, **params)\u001b[0m\n\u001b[0;32m   1053\u001b[0m \u001b[38;5;124;03m\"\"\"search_all_tweets( \\\u001b[39;00m\n\u001b[0;32m   1054\u001b[0m \u001b[38;5;124;03m    query, *, end_time=None, expansions=None, max_results=None, \\\u001b[39;00m\n\u001b[0;32m   1055\u001b[0m \u001b[38;5;124;03m    media_fields=None, next_token=None, place_fields=None, \\\u001b[39;00m\n\u001b[1;32m   (...)\u001b[0m\n\u001b[0;32m   1142\u001b[0m \u001b[38;5;124;03m.. _pagination: https://developer.twitter.com/en/docs/twitter-api/tweets/search/integrate/paginate\u001b[39;00m\n\u001b[0;32m   1143\u001b[0m \u001b[38;5;124;03m\"\"\"\u001b[39;00m\n\u001b[0;32m   1144\u001b[0m params[\u001b[38;5;124m\"\u001b[39m\u001b[38;5;124mquery\u001b[39m\u001b[38;5;124m\"\u001b[39m] \u001b[38;5;241m=\u001b[39m query\n\u001b[1;32m-> 1145\u001b[0m \u001b[38;5;28;01mreturn\u001b[39;00m \u001b[38;5;28;43mself\u001b[39;49m\u001b[38;5;241;43m.\u001b[39;49m\u001b[43m_make_request\u001b[49m\u001b[43m(\u001b[49m\n\u001b[0;32m   1146\u001b[0m \u001b[43m    \u001b[49m\u001b[38;5;124;43m\"\u001b[39;49m\u001b[38;5;124;43mGET\u001b[39;49m\u001b[38;5;124;43m\"\u001b[39;49m\u001b[43m,\u001b[49m\u001b[43m \u001b[49m\u001b[38;5;124;43m\"\u001b[39;49m\u001b[38;5;124;43m/2/tweets/search/all\u001b[39;49m\u001b[38;5;124;43m\"\u001b[39;49m\u001b[43m,\u001b[49m\u001b[43m \u001b[49m\u001b[43mparams\u001b[49m\u001b[38;5;241;43m=\u001b[39;49m\u001b[43mparams\u001b[49m\u001b[43m,\u001b[49m\n\u001b[0;32m   1147\u001b[0m \u001b[43m    \u001b[49m\u001b[43mendpoint_parameters\u001b[49m\u001b[38;5;241;43m=\u001b[39;49m\u001b[43m(\u001b[49m\n\u001b[0;32m   1148\u001b[0m \u001b[43m        \u001b[49m\u001b[38;5;124;43m\"\u001b[39;49m\u001b[38;5;124;43mend_time\u001b[39;49m\u001b[38;5;124;43m\"\u001b[39;49m\u001b[43m,\u001b[49m\u001b[43m \u001b[49m\u001b[38;5;124;43m\"\u001b[39;49m\u001b[38;5;124;43mexpansions\u001b[39;49m\u001b[38;5;124;43m\"\u001b[39;49m\u001b[43m,\u001b[49m\u001b[43m \u001b[49m\u001b[38;5;124;43m\"\u001b[39;49m\u001b[38;5;124;43mmax_results\u001b[39;49m\u001b[38;5;124;43m\"\u001b[39;49m\u001b[43m,\u001b[49m\u001b[43m \u001b[49m\u001b[38;5;124;43m\"\u001b[39;49m\u001b[38;5;124;43mmedia.fields\u001b[39;49m\u001b[38;5;124;43m\"\u001b[39;49m\u001b[43m,\u001b[49m\n\u001b[0;32m   1149\u001b[0m \u001b[43m        \u001b[49m\u001b[38;5;124;43m\"\u001b[39;49m\u001b[38;5;124;43mnext_token\u001b[39;49m\u001b[38;5;124;43m\"\u001b[39;49m\u001b[43m,\u001b[49m\u001b[43m \u001b[49m\u001b[38;5;124;43m\"\u001b[39;49m\u001b[38;5;124;43mplace.fields\u001b[39;49m\u001b[38;5;124;43m\"\u001b[39;49m\u001b[43m,\u001b[49m\u001b[43m \u001b[49m\u001b[38;5;124;43m\"\u001b[39;49m\u001b[38;5;124;43mpoll.fields\u001b[39;49m\u001b[38;5;124;43m\"\u001b[39;49m\u001b[43m,\u001b[49m\u001b[43m \u001b[49m\u001b[38;5;124;43m\"\u001b[39;49m\u001b[38;5;124;43mquery\u001b[39;49m\u001b[38;5;124;43m\"\u001b[39;49m\u001b[43m,\u001b[49m\n\u001b[0;32m   1150\u001b[0m \u001b[43m        \u001b[49m\u001b[38;5;124;43m\"\u001b[39;49m\u001b[38;5;124;43msince_id\u001b[39;49m\u001b[38;5;124;43m\"\u001b[39;49m\u001b[43m,\u001b[49m\u001b[43m \u001b[49m\u001b[38;5;124;43m\"\u001b[39;49m\u001b[38;5;124;43msort_order\u001b[39;49m\u001b[38;5;124;43m\"\u001b[39;49m\u001b[43m,\u001b[49m\u001b[43m \u001b[49m\u001b[38;5;124;43m\"\u001b[39;49m\u001b[38;5;124;43mstart_time\u001b[39;49m\u001b[38;5;124;43m\"\u001b[39;49m\u001b[43m,\u001b[49m\u001b[43m \u001b[49m\u001b[38;5;124;43m\"\u001b[39;49m\u001b[38;5;124;43mtweet.fields\u001b[39;49m\u001b[38;5;124;43m\"\u001b[39;49m\u001b[43m,\u001b[49m\n\u001b[0;32m   1151\u001b[0m \u001b[43m        \u001b[49m\u001b[38;5;124;43m\"\u001b[39;49m\u001b[38;5;124;43muntil_id\u001b[39;49m\u001b[38;5;124;43m\"\u001b[39;49m\u001b[43m,\u001b[49m\u001b[43m \u001b[49m\u001b[38;5;124;43m\"\u001b[39;49m\u001b[38;5;124;43muser.fields\u001b[39;49m\u001b[38;5;124;43m\"\u001b[39;49m\n\u001b[0;32m   1152\u001b[0m \u001b[43m    \u001b[49m\u001b[43m)\u001b[49m\u001b[43m,\u001b[49m\u001b[43m \u001b[49m\u001b[43mdata_type\u001b[49m\u001b[38;5;241;43m=\u001b[39;49m\u001b[43mTweet\u001b[49m\n\u001b[0;32m   1153\u001b[0m \u001b[43m\u001b[49m\u001b[43m)\u001b[49m\n",
      "File \u001b[1;32m~\\anaconda3\\lib\\site-packages\\tweepy\\client.py:126\u001b[0m, in \u001b[0;36mBaseClient._make_request\u001b[1;34m(self, method, route, params, endpoint_parameters, json, data_type, user_auth)\u001b[0m\n\u001b[0;32m    122\u001b[0m \u001b[38;5;28;01mdef\u001b[39;00m \u001b[38;5;21m_make_request\u001b[39m(\u001b[38;5;28mself\u001b[39m, method, route, params\u001b[38;5;241m=\u001b[39m{}, endpoint_parameters\u001b[38;5;241m=\u001b[39m\u001b[38;5;28;01mNone\u001b[39;00m,\n\u001b[0;32m    123\u001b[0m                   json\u001b[38;5;241m=\u001b[39m\u001b[38;5;28;01mNone\u001b[39;00m, data_type\u001b[38;5;241m=\u001b[39m\u001b[38;5;28;01mNone\u001b[39;00m, user_auth\u001b[38;5;241m=\u001b[39m\u001b[38;5;28;01mFalse\u001b[39;00m):\n\u001b[0;32m    124\u001b[0m     request_params \u001b[38;5;241m=\u001b[39m \u001b[38;5;28mself\u001b[39m\u001b[38;5;241m.\u001b[39m_process_params(params, endpoint_parameters)\n\u001b[1;32m--> 126\u001b[0m     response \u001b[38;5;241m=\u001b[39m \u001b[38;5;28;43mself\u001b[39;49m\u001b[38;5;241;43m.\u001b[39;49m\u001b[43mrequest\u001b[49m\u001b[43m(\u001b[49m\u001b[43mmethod\u001b[49m\u001b[43m,\u001b[49m\u001b[43m \u001b[49m\u001b[43mroute\u001b[49m\u001b[43m,\u001b[49m\u001b[43m \u001b[49m\u001b[43mparams\u001b[49m\u001b[38;5;241;43m=\u001b[39;49m\u001b[43mrequest_params\u001b[49m\u001b[43m,\u001b[49m\n\u001b[0;32m    127\u001b[0m \u001b[43m                            \u001b[49m\u001b[43mjson\u001b[49m\u001b[38;5;241;43m=\u001b[39;49m\u001b[43mjson\u001b[49m\u001b[43m,\u001b[49m\u001b[43m \u001b[49m\u001b[43muser_auth\u001b[49m\u001b[38;5;241;43m=\u001b[39;49m\u001b[43muser_auth\u001b[49m\u001b[43m)\u001b[49m\n\u001b[0;32m    129\u001b[0m     \u001b[38;5;28;01mif\u001b[39;00m \u001b[38;5;28mself\u001b[39m\u001b[38;5;241m.\u001b[39mreturn_type \u001b[38;5;129;01mis\u001b[39;00m requests\u001b[38;5;241m.\u001b[39mResponse:\n\u001b[0;32m    130\u001b[0m         \u001b[38;5;28;01mreturn\u001b[39;00m response\n",
      "File \u001b[1;32m~\\anaconda3\\lib\\site-packages\\tweepy\\client.py:83\u001b[0m, in \u001b[0;36mBaseClient.request\u001b[1;34m(self, method, route, params, json, user_auth)\u001b[0m\n\u001b[0;32m     74\u001b[0m     headers[\u001b[38;5;124m\"\u001b[39m\u001b[38;5;124mAuthorization\u001b[39m\u001b[38;5;124m\"\u001b[39m] \u001b[38;5;241m=\u001b[39m \u001b[38;5;124mf\u001b[39m\u001b[38;5;124m\"\u001b[39m\u001b[38;5;124mBearer \u001b[39m\u001b[38;5;132;01m{\u001b[39;00m\u001b[38;5;28mself\u001b[39m\u001b[38;5;241m.\u001b[39mbearer_token\u001b[38;5;132;01m}\u001b[39;00m\u001b[38;5;124m\"\u001b[39m\n\u001b[0;32m     76\u001b[0m log\u001b[38;5;241m.\u001b[39mdebug(\n\u001b[0;32m     77\u001b[0m     \u001b[38;5;124mf\u001b[39m\u001b[38;5;124m\"\u001b[39m\u001b[38;5;124mMaking API request: \u001b[39m\u001b[38;5;132;01m{\u001b[39;00mmethod\u001b[38;5;132;01m}\u001b[39;00m\u001b[38;5;124m \u001b[39m\u001b[38;5;132;01m{\u001b[39;00mhost \u001b[38;5;241m+\u001b[39m route\u001b[38;5;132;01m}\u001b[39;00m\u001b[38;5;130;01m\\n\u001b[39;00m\u001b[38;5;124m\"\u001b[39m\n\u001b[0;32m     78\u001b[0m     \u001b[38;5;124mf\u001b[39m\u001b[38;5;124m\"\u001b[39m\u001b[38;5;124mParameters: \u001b[39m\u001b[38;5;132;01m{\u001b[39;00mparams\u001b[38;5;132;01m}\u001b[39;00m\u001b[38;5;130;01m\\n\u001b[39;00m\u001b[38;5;124m\"\u001b[39m\n\u001b[0;32m     79\u001b[0m     \u001b[38;5;124mf\u001b[39m\u001b[38;5;124m\"\u001b[39m\u001b[38;5;124mHeaders: \u001b[39m\u001b[38;5;132;01m{\u001b[39;00mheaders\u001b[38;5;132;01m}\u001b[39;00m\u001b[38;5;130;01m\\n\u001b[39;00m\u001b[38;5;124m\"\u001b[39m\n\u001b[0;32m     80\u001b[0m     \u001b[38;5;124mf\u001b[39m\u001b[38;5;124m\"\u001b[39m\u001b[38;5;124mBody: \u001b[39m\u001b[38;5;132;01m{\u001b[39;00mjson\u001b[38;5;132;01m}\u001b[39;00m\u001b[38;5;124m\"\u001b[39m\n\u001b[0;32m     81\u001b[0m )\n\u001b[1;32m---> 83\u001b[0m \u001b[38;5;28;01mwith\u001b[39;00m \u001b[38;5;28;43mself\u001b[39;49m\u001b[38;5;241;43m.\u001b[39;49m\u001b[43msession\u001b[49m\u001b[38;5;241;43m.\u001b[39;49m\u001b[43mrequest\u001b[49m\u001b[43m(\u001b[49m\n\u001b[0;32m     84\u001b[0m \u001b[43m    \u001b[49m\u001b[43mmethod\u001b[49m\u001b[43m,\u001b[49m\u001b[43m \u001b[49m\u001b[43mhost\u001b[49m\u001b[43m \u001b[49m\u001b[38;5;241;43m+\u001b[39;49m\u001b[43m \u001b[49m\u001b[43mroute\u001b[49m\u001b[43m,\u001b[49m\u001b[43m \u001b[49m\u001b[43mparams\u001b[49m\u001b[38;5;241;43m=\u001b[39;49m\u001b[43mparams\u001b[49m\u001b[43m,\u001b[49m\u001b[43m \u001b[49m\u001b[43mjson\u001b[49m\u001b[38;5;241;43m=\u001b[39;49m\u001b[43mjson\u001b[49m\u001b[43m,\u001b[49m\u001b[43m \u001b[49m\u001b[43mheaders\u001b[49m\u001b[38;5;241;43m=\u001b[39;49m\u001b[43mheaders\u001b[49m\u001b[43m,\u001b[49m\n\u001b[0;32m     85\u001b[0m \u001b[43m    \u001b[49m\u001b[43mauth\u001b[49m\u001b[38;5;241;43m=\u001b[39;49m\u001b[43mauth\u001b[49m\n\u001b[0;32m     86\u001b[0m \u001b[43m\u001b[49m\u001b[43m)\u001b[49m \u001b[38;5;28;01mas\u001b[39;00m response:\n\u001b[0;32m     87\u001b[0m     log\u001b[38;5;241m.\u001b[39mdebug(\n\u001b[0;32m     88\u001b[0m         \u001b[38;5;124m\"\u001b[39m\u001b[38;5;124mReceived API response: \u001b[39m\u001b[38;5;124m\"\u001b[39m\n\u001b[0;32m     89\u001b[0m         \u001b[38;5;124mf\u001b[39m\u001b[38;5;124m\"\u001b[39m\u001b[38;5;132;01m{\u001b[39;00mresponse\u001b[38;5;241m.\u001b[39mstatus_code\u001b[38;5;132;01m}\u001b[39;00m\u001b[38;5;124m \u001b[39m\u001b[38;5;132;01m{\u001b[39;00mresponse\u001b[38;5;241m.\u001b[39mreason\u001b[38;5;132;01m}\u001b[39;00m\u001b[38;5;130;01m\\n\u001b[39;00m\u001b[38;5;124m\"\u001b[39m\n\u001b[0;32m     90\u001b[0m         \u001b[38;5;124mf\u001b[39m\u001b[38;5;124m\"\u001b[39m\u001b[38;5;124mHeaders: \u001b[39m\u001b[38;5;132;01m{\u001b[39;00mresponse\u001b[38;5;241m.\u001b[39mheaders\u001b[38;5;132;01m}\u001b[39;00m\u001b[38;5;130;01m\\n\u001b[39;00m\u001b[38;5;124m\"\u001b[39m\n\u001b[0;32m     91\u001b[0m         \u001b[38;5;124mf\u001b[39m\u001b[38;5;124m\"\u001b[39m\u001b[38;5;124mContent: \u001b[39m\u001b[38;5;132;01m{\u001b[39;00mresponse\u001b[38;5;241m.\u001b[39mcontent\u001b[38;5;132;01m}\u001b[39;00m\u001b[38;5;124m\"\u001b[39m\n\u001b[0;32m     92\u001b[0m     )\n\u001b[0;32m     94\u001b[0m     \u001b[38;5;28;01mif\u001b[39;00m response\u001b[38;5;241m.\u001b[39mstatus_code \u001b[38;5;241m==\u001b[39m \u001b[38;5;241m400\u001b[39m:\n",
      "File \u001b[1;32m~\\anaconda3\\lib\\site-packages\\requests\\sessions.py:529\u001b[0m, in \u001b[0;36mSession.request\u001b[1;34m(self, method, url, params, data, headers, cookies, files, auth, timeout, allow_redirects, proxies, hooks, stream, verify, cert, json)\u001b[0m\n\u001b[0;32m    524\u001b[0m send_kwargs \u001b[38;5;241m=\u001b[39m {\n\u001b[0;32m    525\u001b[0m     \u001b[38;5;124m'\u001b[39m\u001b[38;5;124mtimeout\u001b[39m\u001b[38;5;124m'\u001b[39m: timeout,\n\u001b[0;32m    526\u001b[0m     \u001b[38;5;124m'\u001b[39m\u001b[38;5;124mallow_redirects\u001b[39m\u001b[38;5;124m'\u001b[39m: allow_redirects,\n\u001b[0;32m    527\u001b[0m }\n\u001b[0;32m    528\u001b[0m send_kwargs\u001b[38;5;241m.\u001b[39mupdate(settings)\n\u001b[1;32m--> 529\u001b[0m resp \u001b[38;5;241m=\u001b[39m \u001b[38;5;28mself\u001b[39m\u001b[38;5;241m.\u001b[39msend(prep, \u001b[38;5;241m*\u001b[39m\u001b[38;5;241m*\u001b[39msend_kwargs)\n\u001b[0;32m    531\u001b[0m \u001b[38;5;28;01mreturn\u001b[39;00m resp\n",
      "File \u001b[1;32m~\\anaconda3\\lib\\site-packages\\requests\\sessions.py:645\u001b[0m, in \u001b[0;36mSession.send\u001b[1;34m(self, request, **kwargs)\u001b[0m\n\u001b[0;32m    642\u001b[0m start \u001b[38;5;241m=\u001b[39m preferred_clock()\n\u001b[0;32m    644\u001b[0m \u001b[38;5;66;03m# Send the request\u001b[39;00m\n\u001b[1;32m--> 645\u001b[0m r \u001b[38;5;241m=\u001b[39m adapter\u001b[38;5;241m.\u001b[39msend(request, \u001b[38;5;241m*\u001b[39m\u001b[38;5;241m*\u001b[39mkwargs)\n\u001b[0;32m    647\u001b[0m \u001b[38;5;66;03m# Total elapsed time of the request (approximately)\u001b[39;00m\n\u001b[0;32m    648\u001b[0m elapsed \u001b[38;5;241m=\u001b[39m preferred_clock() \u001b[38;5;241m-\u001b[39m start\n",
      "File \u001b[1;32m~\\anaconda3\\lib\\site-packages\\requests\\adapters.py:519\u001b[0m, in \u001b[0;36mHTTPAdapter.send\u001b[1;34m(self, request, stream, timeout, verify, cert, proxies)\u001b[0m\n\u001b[0;32m    515\u001b[0m     \u001b[38;5;28;01mif\u001b[39;00m \u001b[38;5;28misinstance\u001b[39m(e\u001b[38;5;241m.\u001b[39mreason, _SSLError):\n\u001b[0;32m    516\u001b[0m         \u001b[38;5;66;03m# This branch is for urllib3 v1.22 and later.\u001b[39;00m\n\u001b[0;32m    517\u001b[0m         \u001b[38;5;28;01mraise\u001b[39;00m SSLError(e, request\u001b[38;5;241m=\u001b[39mrequest)\n\u001b[1;32m--> 519\u001b[0m     \u001b[38;5;28;01mraise\u001b[39;00m \u001b[38;5;167;01mConnectionError\u001b[39;00m(e, request\u001b[38;5;241m=\u001b[39mrequest)\n\u001b[0;32m    521\u001b[0m \u001b[38;5;28;01mexcept\u001b[39;00m ClosedPoolError \u001b[38;5;28;01mas\u001b[39;00m e:\n\u001b[0;32m    522\u001b[0m     \u001b[38;5;28;01mraise\u001b[39;00m \u001b[38;5;167;01mConnectionError\u001b[39;00m(e, request\u001b[38;5;241m=\u001b[39mrequest)\n",
      "\u001b[1;31mConnectionError\u001b[0m: HTTPSConnectionPool(host='api.twitter.com', port=443): Max retries exceeded with url: /2/tweets/search/all?start_time=2020-11-05T00%3A00%3A00.000Z&end_time=2020-11-05T23%3A59%3A59.000Z&tweet.fields=created_at%2Ctext%2Csource&user.fields=name%2Cusername%2Clocation%2Cverified%2Cdescription&place.fields=place_type%2Ccountry%2Ccountry_code&max_results=50&expansions=author_id%2Cgeo.place_id&query=%28vaccine+OR+covidvaccine+OR+vaccines+OR+%23vaccine+OR+%23vaccines+OR+%23covidvaccine%29+lang%3Aen+-is%3Aretweet+place_country%3AUS+has%3Ageo (Caused by NewConnectionError('<urllib3.connection.HTTPSConnection object at 0x0000020C528E5A30>: Failed to establish a new connection: [Errno 11001] getaddrinfo failed'))"
     ]
    }
   ],
   "source": [
    "df_out = pd.DataFrame()\n",
    "tweets_df = pd.DataFrame()\n",
    "total_tweets = 0\n",
    "\n",
    "for i in range(0,len(start_list)):\n",
    "    \n",
    "    print(\"-------------------\")\n",
    "    print(\"local time: \", datetime.now().strftime(\"%H:%M:%S\"))\n",
    "    print(\"startlist: \", start_list[i])\n",
    "    print(\"       to: \", end_list[i])\n",
    "    \n",
    "    count = 0 # Counting tweets per time period\n",
    "    \n",
    "    # get tweets from the API\n",
    "    tweets = client.search_all_tweets(query=query,\n",
    "                                     start_time=start_list[i],\n",
    "                                     end_time=end_list[i],\n",
    "                                     tweet_fields = [\n",
    "                                                     \"created_at\", \n",
    "                                                     \"text\", \n",
    "                                                     \"source\", \n",
    "                                                    ],\n",
    "                                  \n",
    "                                     user_fields = [\n",
    "                                                    \"name\", \n",
    "                                                    \"username\", \n",
    "                                                    \"location\", \n",
    "                                                    \"verified\", \n",
    "                                                    \"description\"\n",
    "                                                   ],\n",
    "                                  \n",
    "                                     place_fields=[\n",
    "                                                   'place_type', \n",
    "                                                   'country', \n",
    "                                                   'country_code'\n",
    "                                                  ],\n",
    "                                  \n",
    "                                     max_results = 50,\n",
    "                                     expansions=['author_id', 'geo.place_id']\n",
    "                                     )\n",
    "    \n",
    "    # create a list of records\n",
    "    tweet_info_ls = []\n",
    "    # iterate over each tweet and corresponding user details\n",
    "    for tweet, user, place in zip(tweets.data, tweets.includes['users'], tweets.includes['places']):\n",
    "        tweet_info = {\n",
    "            'created_at': tweet.created_at,\n",
    "            'text': tweet.text,\n",
    "            'source': tweet.source,\n",
    "            #'public_metrics': tweet.public_metrics,\n",
    "            #'organic_metrics': tweet.organic_metrics,\n",
    "            'name': user.name,\n",
    "            'username': user.username,\n",
    "            'user_location': user.location,\n",
    "            'tweet_location': place.full_name,\n",
    "            'country_code': place.country_code,\n",
    "            #'country': user.country,\n",
    "            'verified': user.verified,\n",
    "            'description': user.description\n",
    "        }\n",
    "        tweet_info_ls.append(tweet_info)\n",
    "        \n",
    "    # create dataframe from the extracted records\n",
    "    df_out = pd.DataFrame(tweet_info_ls)\n",
    "    \n",
    "    # looped data is appended to a single dataframe\n",
    "    tweets_df = tweets_df.append(df_out)\n",
    "    \n",
    "    # printing amount of tweets, amount of related user info, amount of related location info\n",
    "    print(len(tweets.data), \"tweets extracted\")\n",
    "    print(len(tweets.includes[\"users\"]), \"user related data extracted\")\n",
    "    print(len(tweets.includes['places']), \"location related data extracted\")\n",
    "    print(\"-------------------\")\n",
    "    \n",
    "    # Request limit time sleeper6\n",
    "    time.sleep(155)\n",
    "    \n",
    "tweets_df = tweets_df.reset_index(drop=True)\n",
    "tweets_df"
   ]
  },
  {
   "cell_type": "code",
   "execution_count": 5,
   "id": "932998f1-afc1-4dd7-b5dd-d42d252e15a8",
   "metadata": {
    "collapsed": true,
    "jupyter": {
     "outputs_hidden": true
    },
    "tags": []
   },
   "outputs": [
    {
     "data": {
      "text/html": [
       "<div>\n",
       "<style scoped>\n",
       "    .dataframe tbody tr th:only-of-type {\n",
       "        vertical-align: middle;\n",
       "    }\n",
       "\n",
       "    .dataframe tbody tr th {\n",
       "        vertical-align: top;\n",
       "    }\n",
       "\n",
       "    .dataframe thead th {\n",
       "        text-align: right;\n",
       "    }\n",
       "</style>\n",
       "<table border=\"1\" class=\"dataframe\">\n",
       "  <thead>\n",
       "    <tr style=\"text-align: right;\">\n",
       "      <th></th>\n",
       "      <th>created_at</th>\n",
       "      <th>text</th>\n",
       "      <th>source</th>\n",
       "      <th>name</th>\n",
       "      <th>username</th>\n",
       "      <th>user_location</th>\n",
       "      <th>tweet_location</th>\n",
       "      <th>country_code</th>\n",
       "      <th>verified</th>\n",
       "      <th>description</th>\n",
       "    </tr>\n",
       "  </thead>\n",
       "  <tbody>\n",
       "    <tr>\n",
       "      <th>0</th>\n",
       "      <td>2020-10-01 23:54:28+00:00</td>\n",
       "      <td>Great Article on Pfizer's Covid19 Vaccine! It ...</td>\n",
       "      <td>Twitter for Android</td>\n",
       "      <td>The Catholic Honey Badger ⛪🌄</td>\n",
       "      <td>RuralUSCatholic</td>\n",
       "      <td>West Plains, MO</td>\n",
       "      <td>Missouri, USA</td>\n",
       "      <td>US</td>\n",
       "      <td>False</td>\n",
       "      <td>In your hearts reverence Christ as Lord. Alway...</td>\n",
       "    </tr>\n",
       "    <tr>\n",
       "      <th>1</th>\n",
       "      <td>2020-10-01 23:33:18+00:00</td>\n",
       "      <td>Aight let’s get a vaccine and freaking rage on...</td>\n",
       "      <td>Twitter for iPhone</td>\n",
       "      <td>Berk</td>\n",
       "      <td>ChiBerk96</td>\n",
       "      <td>Chicago and Cincy</td>\n",
       "      <td>Chicago, IL</td>\n",
       "      <td>US</td>\n",
       "      <td>False</td>\n",
       "      <td>Die hard sports fan from Chicago, IL. U of Cin...</td>\n",
       "    </tr>\n",
       "    <tr>\n",
       "      <th>2</th>\n",
       "      <td>2020-10-01 23:25:36+00:00</td>\n",
       "      <td>Pfizer CEO Hits Back at the Politicization of ...</td>\n",
       "      <td>Twitter for Android</td>\n",
       "      <td>mark schade aka Spanky Dennison</td>\n",
       "      <td>Mschade2020</td>\n",
       "      <td>Toledo, OH Rust Belt</td>\n",
       "      <td>Toledo, OH</td>\n",
       "      <td>US</td>\n",
       "      <td>False</td>\n",
       "      <td>liberal minded retiree A gameshow host as prez...</td>\n",
       "    </tr>\n",
       "    <tr>\n",
       "      <th>3</th>\n",
       "      <td>2020-10-01 23:24:09+00:00</td>\n",
       "      <td>You take any Vaccine or any meds that #realDon...</td>\n",
       "      <td>Twitter for iPhone</td>\n",
       "      <td>Paul fox</td>\n",
       "      <td>compaulfox</td>\n",
       "      <td>None</td>\n",
       "      <td>Holly Springs, NC</td>\n",
       "      <td>US</td>\n",
       "      <td>False</td>\n",
       "      <td></td>\n",
       "    </tr>\n",
       "    <tr>\n",
       "      <th>4</th>\n",
       "      <td>2020-10-01 23:07:05+00:00</td>\n",
       "      <td>@GermResolute @PattyMurray Flu doesn’t have th...</td>\n",
       "      <td>Twitter for iPhone</td>\n",
       "      <td>Kevin Wren</td>\n",
       "      <td>wren_kevin</td>\n",
       "      <td>None</td>\n",
       "      <td>Seattle, WA</td>\n",
       "      <td>US</td>\n",
       "      <td>False</td>\n",
       "      <td>Equity advocate, #T1D since 2001 #HealthIsAHum...</td>\n",
       "    </tr>\n",
       "    <tr>\n",
       "      <th>...</th>\n",
       "      <td>...</td>\n",
       "      <td>...</td>\n",
       "      <td>...</td>\n",
       "      <td>...</td>\n",
       "      <td>...</td>\n",
       "      <td>...</td>\n",
       "      <td>...</td>\n",
       "      <td>...</td>\n",
       "      <td>...</td>\n",
       "      <td>...</td>\n",
       "    </tr>\n",
       "    <tr>\n",
       "      <th>1433</th>\n",
       "      <td>2020-11-04 19:54:00+00:00</td>\n",
       "      <td>“We don’t know when we’ll get our first vaccin...</td>\n",
       "      <td>Twitter for iPhone</td>\n",
       "      <td>@phoenix</td>\n",
       "      <td>phoenix66101281</td>\n",
       "      <td>Dallas, TX</td>\n",
       "      <td>Paradise, NV</td>\n",
       "      <td>US</td>\n",
       "      <td>False</td>\n",
       "      <td></td>\n",
       "    </tr>\n",
       "    <tr>\n",
       "      <th>1434</th>\n",
       "      <td>2020-11-04 19:44:22+00:00</td>\n",
       "      <td>&amp;amp; be cured &amp;amp; vaccine.\\nbut Biden lockd...</td>\n",
       "      <td>Twitter for Android</td>\n",
       "      <td>🏈~SarahD~Football Fan~🏈</td>\n",
       "      <td>sadnky</td>\n",
       "      <td>Louisville, Kentucky</td>\n",
       "      <td>Queens, NY</td>\n",
       "      <td>US</td>\n",
       "      <td>False</td>\n",
       "      <td>Family, Louisville Cardinals, Collision Course...</td>\n",
       "    </tr>\n",
       "    <tr>\n",
       "      <th>1435</th>\n",
       "      <td>2020-11-04 19:43:45+00:00</td>\n",
       "      <td>@o_creedo &amp;amp; be cured &amp;amp; vaccine.\\nbut B...</td>\n",
       "      <td>Twitter for Android</td>\n",
       "      <td>E</td>\n",
       "      <td>fukitimdown</td>\n",
       "      <td>Nevada, USA</td>\n",
       "      <td>Commerce City, CO</td>\n",
       "      <td>US</td>\n",
       "      <td>False</td>\n",
       "      <td>I'm not surprised motherfuckers</td>\n",
       "    </tr>\n",
       "    <tr>\n",
       "      <th>1436</th>\n",
       "      <td>2020-11-04 19:40:38+00:00</td>\n",
       "      <td>This 67 year young American will take any vacc...</td>\n",
       "      <td>Twitter for iPhone</td>\n",
       "      <td>EP, MD, MPH</td>\n",
       "      <td>setastarz</td>\n",
       "      <td>None</td>\n",
       "      <td>Raleigh, NC</td>\n",
       "      <td>US</td>\n",
       "      <td>False</td>\n",
       "      <td>Life is short, the art long. - Hippocrates</td>\n",
       "    </tr>\n",
       "    <tr>\n",
       "      <th>1437</th>\n",
       "      <td>2020-11-04 19:31:30+00:00</td>\n",
       "      <td>Getting the second round of Shingles vaccine t...</td>\n",
       "      <td>Twitter for iPhone</td>\n",
       "      <td>Andrew Justin</td>\n",
       "      <td>COSportsNut</td>\n",
       "      <td>Colorado, USA</td>\n",
       "      <td>Monroe, NC</td>\n",
       "      <td>US</td>\n",
       "      <td>False</td>\n",
       "      <td>I do the sports thing on the Twitter. Not for ...</td>\n",
       "    </tr>\n",
       "  </tbody>\n",
       "</table>\n",
       "<p>1438 rows × 10 columns</p>\n",
       "</div>"
      ],
      "text/plain": [
       "                    created_at  \\\n",
       "0    2020-10-01 23:54:28+00:00   \n",
       "1    2020-10-01 23:33:18+00:00   \n",
       "2    2020-10-01 23:25:36+00:00   \n",
       "3    2020-10-01 23:24:09+00:00   \n",
       "4    2020-10-01 23:07:05+00:00   \n",
       "...                        ...   \n",
       "1433 2020-11-04 19:54:00+00:00   \n",
       "1434 2020-11-04 19:44:22+00:00   \n",
       "1435 2020-11-04 19:43:45+00:00   \n",
       "1436 2020-11-04 19:40:38+00:00   \n",
       "1437 2020-11-04 19:31:30+00:00   \n",
       "\n",
       "                                                   text               source  \\\n",
       "0     Great Article on Pfizer's Covid19 Vaccine! It ...  Twitter for Android   \n",
       "1     Aight let’s get a vaccine and freaking rage on...   Twitter for iPhone   \n",
       "2     Pfizer CEO Hits Back at the Politicization of ...  Twitter for Android   \n",
       "3     You take any Vaccine or any meds that #realDon...   Twitter for iPhone   \n",
       "4     @GermResolute @PattyMurray Flu doesn’t have th...   Twitter for iPhone   \n",
       "...                                                 ...                  ...   \n",
       "1433  “We don’t know when we’ll get our first vaccin...   Twitter for iPhone   \n",
       "1434  &amp; be cured &amp; vaccine.\\nbut Biden lockd...  Twitter for Android   \n",
       "1435  @o_creedo &amp; be cured &amp; vaccine.\\nbut B...  Twitter for Android   \n",
       "1436  This 67 year young American will take any vacc...   Twitter for iPhone   \n",
       "1437  Getting the second round of Shingles vaccine t...   Twitter for iPhone   \n",
       "\n",
       "                                 name         username         user_location  \\\n",
       "0        The Catholic Honey Badger ⛪🌄  RuralUSCatholic       West Plains, MO   \n",
       "1                                Berk        ChiBerk96     Chicago and Cincy   \n",
       "2     mark schade aka Spanky Dennison      Mschade2020  Toledo, OH Rust Belt   \n",
       "3                            Paul fox       compaulfox                  None   \n",
       "4                          Kevin Wren       wren_kevin                  None   \n",
       "...                               ...              ...                   ...   \n",
       "1433                         @phoenix  phoenix66101281            Dallas, TX   \n",
       "1434          🏈~SarahD~Football Fan~🏈           sadnky  Louisville, Kentucky   \n",
       "1435                                E      fukitimdown           Nevada, USA   \n",
       "1436                      EP, MD, MPH        setastarz                  None   \n",
       "1437                    Andrew Justin      COSportsNut         Colorado, USA   \n",
       "\n",
       "         tweet_location country_code  verified  \\\n",
       "0         Missouri, USA           US     False   \n",
       "1           Chicago, IL           US     False   \n",
       "2            Toledo, OH           US     False   \n",
       "3     Holly Springs, NC           US     False   \n",
       "4           Seattle, WA           US     False   \n",
       "...                 ...          ...       ...   \n",
       "1433       Paradise, NV           US     False   \n",
       "1434         Queens, NY           US     False   \n",
       "1435  Commerce City, CO           US     False   \n",
       "1436        Raleigh, NC           US     False   \n",
       "1437         Monroe, NC           US     False   \n",
       "\n",
       "                                            description  \n",
       "0     In your hearts reverence Christ as Lord. Alway...  \n",
       "1     Die hard sports fan from Chicago, IL. U of Cin...  \n",
       "2     liberal minded retiree A gameshow host as prez...  \n",
       "3                                                        \n",
       "4     Equity advocate, #T1D since 2001 #HealthIsAHum...  \n",
       "...                                                 ...  \n",
       "1433                                                     \n",
       "1434  Family, Louisville Cardinals, Collision Course...  \n",
       "1435                    I'm not surprised motherfuckers  \n",
       "1436         Life is short, the art long. - Hippocrates  \n",
       "1437  I do the sports thing on the Twitter. Not for ...  \n",
       "\n",
       "[1438 rows x 10 columns]"
      ]
     },
     "execution_count": 5,
     "metadata": {},
     "output_type": "execute_result"
    }
   ],
   "source": [
    "tweets_df = tweets_df.reset_index(drop=True)\n",
    "tweets_df"
   ]
  },
  {
   "cell_type": "markdown",
   "id": "62d8febd-12b5-4697-8615-af140b9648a5",
   "metadata": {},
   "source": [
    "## 4. Creating dataframe from extracted data"
   ]
  },
  {
   "cell_type": "code",
   "execution_count": null,
   "id": "15924b88-a640-402f-80de-210ecaf535a0",
   "metadata": {},
   "outputs": [],
   "source": []
  },
  {
   "cell_type": "markdown",
   "id": "db2bad38-bfca-4cc1-94d5-30400477c62c",
   "metadata": {},
   "source": [
    "## 5. Cleaning location variable and extracting geo data "
   ]
  },
  {
   "cell_type": "markdown",
   "id": "348bd3f7-48c7-4d71-95c1-6cb77dc5c8b6",
   "metadata": {},
   "source": [
    "### Clean location data before extracting from Nomatim"
   ]
  },
  {
   "cell_type": "code",
   "execution_count": 6,
   "id": "42c19792-ea10-49f5-851e-d4f4e58783e6",
   "metadata": {},
   "outputs": [
    {
     "data": {
      "text/plain": [
       "1438"
      ]
     },
     "execution_count": 6,
     "metadata": {},
     "output_type": "execute_result"
    }
   ],
   "source": [
    "def cleaner(document_location):\n",
    "    \"\"\"\n",
    "    Cleaning location variable for:\n",
    "    mentions (@user), \n",
    "    removes \"#\", \n",
    "    removes everything after \"/\" since some users has multiple locations split by \"/\", - we take the first location.\n",
    "    try/except is used since the used method cannot be applied on empty values.\n",
    "    \"\"\"\n",
    "    try:\n",
    "        document_location = re.sub(r'@[^\\s]+','',document_location) #removes @user\n",
    "        document_location = re.sub(r'#[^\\s]+','',document_location) #removes #hashtag\n",
    "        #document_location = re.sub(r'\\/.*$','',document_location) #removes everything after / since some has multiple \"homes\", - we take the first\n",
    "        #document_location = re.sub(r'[\\d-]','',document_location) #removes digits\n",
    "        #document_location = re.sub(r'[^\\w\\s]','', document_location) #Remove non-alphanumeric characters\n",
    "        return document_location\n",
    "    except:\n",
    "        (\"Some variable is None\")\n",
    "\n",
    "tweets_df['tweet_location'] = tweets_df['tweet_location'].apply(cleaner)\n",
    "len(tweets_df)"
   ]
  },
  {
   "cell_type": "markdown",
   "id": "4a67d0fb-ab3f-4ba5-829d-35dafde573fd",
   "metadata": {},
   "source": [
    "### Collecting data from Nomatim using GeoPy"
   ]
  },
  {
   "cell_type": "code",
   "execution_count": 8,
   "id": "c3b831e5-d799-4d5e-bd16-5e6dea84a502",
   "metadata": {
    "tags": []
   },
   "outputs": [
    {
     "name": "stdout",
     "output_type": "stream",
     "text": [
      "Failed with location:  Santa Rosa Valley, CA\n",
      "Failed with location:  URI Engineering Quad\n",
      "Failed with location:  Medical University of South Carolina (MUSC)\n",
      "Failed with location:  Chestnut Health Systems\n",
      "Failed with location:  [Place name removed]\n"
     ]
    }
   ],
   "source": [
    "geolocator = Nominatim(user_agent=\"Christian Fogtdal, Student at Copenhagen University, rxw556@alumni.ku.dk\")\n",
    "\n",
    "def city_state_country(row):\n",
    "    \"\"\"\n",
    "    Using Nomatim API to get consistant data of city/state/country from a given country string, \n",
    "    - problem was that Twitter users either has \"city, state\" or \"state, country\", or something even less usable since location is a free text field.\n",
    "    \n",
    "    The code iterates over each row, and extracts city/state/country if applicable.\n",
    "    Sleep time is set to 1 second. - This is requested by the provider.\n",
    "    If not applicable the code returns the input.\n",
    "    \"\"\"\n",
    "    coord = f\"{row['tweet_location']}\"\n",
    "    sleep(1) #Nomatim is free to use, but requires users to only request 1/second\n",
    "    location = geolocator.geocode(coord,exactly_one=True, addressdetails=True)\n",
    "    if not location:\n",
    "        # if you see many in a row, it's probably Nominatim blocking you.\n",
    "        # if it's just every once in a while, there were just some bad results. \n",
    "        print('Failed with location: ', coord)\n",
    "        row['city'], row['state'], row['country'] = None, None, None\n",
    "        return row\n",
    "    address = location.raw['address']\n",
    "    city = address.get('city', '')\n",
    "    state = address.get('state', '')\n",
    "    country = address.get('country', '')\n",
    "    row['city'] = city\n",
    "    row['state'] = state\n",
    "    row['country'] = country\n",
    "    return row\n",
    "\n",
    "tweets_df = tweets_df.apply(city_state_country, axis=1)\n"
   ]
  },
  {
   "cell_type": "markdown",
   "id": "ea0a77c0-5abf-4aea-a83d-db6474bd0e54",
   "metadata": {},
   "source": [
    "### Final clean of location data"
   ]
  },
  {
   "cell_type": "code",
   "execution_count": 9,
   "id": "68782e3f-fbae-4fa8-a6b1-1ad7e15fe019",
   "metadata": {},
   "outputs": [
    {
     "data": {
      "text/plain": [
       "1427"
      ]
     },
     "execution_count": 9,
     "metadata": {},
     "output_type": "execute_result"
    }
   ],
   "source": [
    "# Removes rows, where country != 'United States'.\n",
    "# This is often due to free text, where the user for example has written 'my bed' or 'the city'\n",
    "# I.e. 'the city' returns \"City of London\", which is why it is removed.\n",
    "# \"None\" returns the city None in Piemonte, Italy\n",
    "tweets_df = tweets_df.drop(tweets_df[tweets_df.country != 'United States'].index)\n",
    "\n",
    "#Empty values to NaN\n",
    "tweets_df['city'].replace('', np.nan, inplace=True)\n",
    "tweets_df['state'].replace('', np.nan, inplace=True)\n",
    "\n",
    "# Also removes rows without state info\n",
    "tweets_df[~tweets_df['state'].isnull()]\n",
    "tweets_df.dropna(subset=['state'], inplace=True)\n",
    "len(tweets_df)"
   ]
  },
  {
   "cell_type": "code",
   "execution_count": 10,
   "id": "1a39a340-c12a-4f58-a3c9-fc57bb405dd1",
   "metadata": {},
   "outputs": [],
   "source": [
    "# Dictionary to get 2 digit state code to use for heatmap later\n",
    "us_state_to_abbrev = {\n",
    "    \"Alabama\": \"AL\",\n",
    "    \"Alaska\": \"AK\",\n",
    "    \"Arizona\": \"AZ\",\n",
    "    \"Arkansas\": \"AR\",\n",
    "    \"California\": \"CA\",\n",
    "    \"Colorado\": \"CO\",\n",
    "    \"Connecticut\": \"CT\",\n",
    "    \"Delaware\": \"DE\",\n",
    "    \"Florida\": \"FL\",\n",
    "    \"Georgia\": \"GA\",\n",
    "    \"Hawaii\": \"HI\",\n",
    "    \"Idaho\": \"ID\",\n",
    "    \"Illinois\": \"IL\",\n",
    "    \"Indiana\": \"IN\",\n",
    "    \"Iowa\": \"IA\",\n",
    "    \"Kansas\": \"KS\",\n",
    "    \"Kentucky\": \"KY\",\n",
    "    \"Louisiana\": \"LA\",\n",
    "    \"Maine\": \"ME\",\n",
    "    \"Maryland\": \"MD\",\n",
    "    \"Massachusetts\": \"MA\",\n",
    "    \"Michigan\": \"MI\",\n",
    "    \"Minnesota\": \"MN\",\n",
    "    \"Mississippi\": \"MS\",\n",
    "    \"Missouri\": \"MO\",\n",
    "    \"Montana\": \"MT\",\n",
    "    \"Nebraska\": \"NE\",\n",
    "    \"Nevada\": \"NV\",\n",
    "    \"New Hampshire\": \"NH\",\n",
    "    \"New Jersey\": \"NJ\",\n",
    "    \"New Mexico\": \"NM\",\n",
    "    \"New York\": \"NY\",\n",
    "    \"North Carolina\": \"NC\",\n",
    "    \"North Dakota\": \"ND\",\n",
    "    \"Ohio\": \"OH\",\n",
    "    \"Oklahoma\": \"OK\",\n",
    "    \"Oregon\": \"OR\",\n",
    "    \"Pennsylvania\": \"PA\",\n",
    "    \"Rhode Island\": \"RI\",\n",
    "    \"South Carolina\": \"SC\",\n",
    "    \"South Dakota\": \"SD\",\n",
    "    \"Tennessee\": \"TN\",\n",
    "    \"Texas\": \"TX\",\n",
    "    \"Utah\": \"UT\",\n",
    "    \"Vermont\": \"VT\",\n",
    "    \"Virginia\": \"VA\",\n",
    "    \"Washington\": \"WA\",\n",
    "    \"West Virginia\": \"WV\",\n",
    "    \"Wisconsin\": \"WI\",\n",
    "    \"Wyoming\": \"WY\",\n",
    "    \"District of Columbia\": \"DC\",\n",
    "    \"American Samoa\": \"AS\",\n",
    "    \"Guam\": \"GU\",\n",
    "    \"Northern Mariana Islands\": \"MP\",\n",
    "    \"Puerto Rico\": \"PR\",\n",
    "    \"United States Minor Outlying Islands\": \"UM\",\n",
    "    \"U.S. Virgin Islands\": \"VI\",\n",
    "}"
   ]
  },
  {
   "cell_type": "code",
   "execution_count": 11,
   "id": "ee798c73-8aef-45c0-85b4-181400c998c4",
   "metadata": {},
   "outputs": [
    {
     "data": {
      "text/html": [
       "<div>\n",
       "<style scoped>\n",
       "    .dataframe tbody tr th:only-of-type {\n",
       "        vertical-align: middle;\n",
       "    }\n",
       "\n",
       "    .dataframe tbody tr th {\n",
       "        vertical-align: top;\n",
       "    }\n",
       "\n",
       "    .dataframe thead th {\n",
       "        text-align: right;\n",
       "    }\n",
       "</style>\n",
       "<table border=\"1\" class=\"dataframe\">\n",
       "  <thead>\n",
       "    <tr style=\"text-align: right;\">\n",
       "      <th></th>\n",
       "      <th>created_at</th>\n",
       "      <th>text</th>\n",
       "      <th>source</th>\n",
       "      <th>name</th>\n",
       "      <th>username</th>\n",
       "      <th>user_location</th>\n",
       "      <th>tweet_location</th>\n",
       "      <th>country_code</th>\n",
       "      <th>verified</th>\n",
       "      <th>description</th>\n",
       "      <th>city</th>\n",
       "      <th>state</th>\n",
       "      <th>country</th>\n",
       "      <th>state_code</th>\n",
       "    </tr>\n",
       "  </thead>\n",
       "  <tbody>\n",
       "    <tr>\n",
       "      <th>0</th>\n",
       "      <td>2020-10-01 23:54:28+00:00</td>\n",
       "      <td>Great Article on Pfizer's Covid19 Vaccine! It ...</td>\n",
       "      <td>Twitter for Android</td>\n",
       "      <td>The Catholic Honey Badger ⛪🌄</td>\n",
       "      <td>RuralUSCatholic</td>\n",
       "      <td>West Plains, MO</td>\n",
       "      <td>Missouri, USA</td>\n",
       "      <td>US</td>\n",
       "      <td>False</td>\n",
       "      <td>In your hearts reverence Christ as Lord. Alway...</td>\n",
       "      <td>NaN</td>\n",
       "      <td>Missouri</td>\n",
       "      <td>United States</td>\n",
       "      <td>MO</td>\n",
       "    </tr>\n",
       "    <tr>\n",
       "      <th>1</th>\n",
       "      <td>2020-10-01 23:33:18+00:00</td>\n",
       "      <td>Aight let’s get a vaccine and freaking rage on...</td>\n",
       "      <td>Twitter for iPhone</td>\n",
       "      <td>Berk</td>\n",
       "      <td>ChiBerk96</td>\n",
       "      <td>Chicago and Cincy</td>\n",
       "      <td>Chicago, IL</td>\n",
       "      <td>US</td>\n",
       "      <td>False</td>\n",
       "      <td>Die hard sports fan from Chicago, IL. U of Cin...</td>\n",
       "      <td>Chicago</td>\n",
       "      <td>Illinois</td>\n",
       "      <td>United States</td>\n",
       "      <td>IL</td>\n",
       "    </tr>\n",
       "  </tbody>\n",
       "</table>\n",
       "</div>"
      ],
      "text/plain": [
       "                 created_at  \\\n",
       "0 2020-10-01 23:54:28+00:00   \n",
       "1 2020-10-01 23:33:18+00:00   \n",
       "\n",
       "                                                text               source  \\\n",
       "0  Great Article on Pfizer's Covid19 Vaccine! It ...  Twitter for Android   \n",
       "1  Aight let’s get a vaccine and freaking rage on...   Twitter for iPhone   \n",
       "\n",
       "                           name         username      user_location  \\\n",
       "0  The Catholic Honey Badger ⛪🌄  RuralUSCatholic    West Plains, MO   \n",
       "1                          Berk        ChiBerk96  Chicago and Cincy   \n",
       "\n",
       "  tweet_location country_code  verified  \\\n",
       "0  Missouri, USA           US     False   \n",
       "1    Chicago, IL           US     False   \n",
       "\n",
       "                                         description     city     state  \\\n",
       "0  In your hearts reverence Christ as Lord. Alway...      NaN  Missouri   \n",
       "1  Die hard sports fan from Chicago, IL. U of Cin...  Chicago  Illinois   \n",
       "\n",
       "         country state_code  \n",
       "0  United States         MO  \n",
       "1  United States         IL  "
      ]
     },
     "execution_count": 11,
     "metadata": {},
     "output_type": "execute_result"
    }
   ],
   "source": [
    "# Adding 2 digit state codes for map plot \n",
    "tweets_df['state_code'] = tweets_df['state'].map(us_state_to_abbrev)\n",
    "tweets_df.head(2)"
   ]
  },
  {
   "cell_type": "code",
   "execution_count": 12,
   "id": "ba63d845-e8ce-43ab-a498-4fc844200255",
   "metadata": {
    "tags": []
   },
   "outputs": [
    {
     "data": {
      "text/html": [
       "<div>\n",
       "<style scoped>\n",
       "    .dataframe tbody tr th:only-of-type {\n",
       "        vertical-align: middle;\n",
       "    }\n",
       "\n",
       "    .dataframe tbody tr th {\n",
       "        vertical-align: top;\n",
       "    }\n",
       "\n",
       "    .dataframe thead th {\n",
       "        text-align: right;\n",
       "    }\n",
       "</style>\n",
       "<table border=\"1\" class=\"dataframe\">\n",
       "  <thead>\n",
       "    <tr style=\"text-align: right;\">\n",
       "      <th></th>\n",
       "      <th>created_at</th>\n",
       "      <th>text</th>\n",
       "      <th>source</th>\n",
       "      <th>name</th>\n",
       "      <th>username</th>\n",
       "      <th>user_location</th>\n",
       "      <th>tweet_location</th>\n",
       "      <th>country_code</th>\n",
       "      <th>verified</th>\n",
       "      <th>description</th>\n",
       "      <th>city</th>\n",
       "      <th>state</th>\n",
       "      <th>country</th>\n",
       "      <th>state_code</th>\n",
       "      <th>date</th>\n",
       "    </tr>\n",
       "  </thead>\n",
       "  <tbody>\n",
       "    <tr>\n",
       "      <th>0</th>\n",
       "      <td>2020-10-01 23:54:28+00:00</td>\n",
       "      <td>Great Article on Pfizer's Covid19 Vaccine! It ...</td>\n",
       "      <td>Twitter for Android</td>\n",
       "      <td>The Catholic Honey Badger ⛪🌄</td>\n",
       "      <td>RuralUSCatholic</td>\n",
       "      <td>West Plains, MO</td>\n",
       "      <td>Missouri, USA</td>\n",
       "      <td>US</td>\n",
       "      <td>False</td>\n",
       "      <td>In your hearts reverence Christ as Lord. Alway...</td>\n",
       "      <td>NaN</td>\n",
       "      <td>Missouri</td>\n",
       "      <td>United States</td>\n",
       "      <td>MO</td>\n",
       "      <td>2020-10-01</td>\n",
       "    </tr>\n",
       "    <tr>\n",
       "      <th>1</th>\n",
       "      <td>2020-10-01 23:33:18+00:00</td>\n",
       "      <td>Aight let’s get a vaccine and freaking rage on...</td>\n",
       "      <td>Twitter for iPhone</td>\n",
       "      <td>Berk</td>\n",
       "      <td>ChiBerk96</td>\n",
       "      <td>Chicago and Cincy</td>\n",
       "      <td>Chicago, IL</td>\n",
       "      <td>US</td>\n",
       "      <td>False</td>\n",
       "      <td>Die hard sports fan from Chicago, IL. U of Cin...</td>\n",
       "      <td>Chicago</td>\n",
       "      <td>Illinois</td>\n",
       "      <td>United States</td>\n",
       "      <td>IL</td>\n",
       "      <td>2020-10-01</td>\n",
       "    </tr>\n",
       "  </tbody>\n",
       "</table>\n",
       "</div>"
      ],
      "text/plain": [
       "                 created_at  \\\n",
       "0 2020-10-01 23:54:28+00:00   \n",
       "1 2020-10-01 23:33:18+00:00   \n",
       "\n",
       "                                                text               source  \\\n",
       "0  Great Article on Pfizer's Covid19 Vaccine! It ...  Twitter for Android   \n",
       "1  Aight let’s get a vaccine and freaking rage on...   Twitter for iPhone   \n",
       "\n",
       "                           name         username      user_location  \\\n",
       "0  The Catholic Honey Badger ⛪🌄  RuralUSCatholic    West Plains, MO   \n",
       "1                          Berk        ChiBerk96  Chicago and Cincy   \n",
       "\n",
       "  tweet_location country_code  verified  \\\n",
       "0  Missouri, USA           US     False   \n",
       "1    Chicago, IL           US     False   \n",
       "\n",
       "                                         description     city     state  \\\n",
       "0  In your hearts reverence Christ as Lord. Alway...      NaN  Missouri   \n",
       "1  Die hard sports fan from Chicago, IL. U of Cin...  Chicago  Illinois   \n",
       "\n",
       "         country state_code       date  \n",
       "0  United States         MO 2020-10-01  \n",
       "1  United States         IL 2020-10-01  "
      ]
     },
     "execution_count": 12,
     "metadata": {},
     "output_type": "execute_result"
    }
   ],
   "source": [
    "# Creating date variable from datetime variable\n",
    "tweets_df['date'] = pd.to_datetime(tweets_df[\"created_at\"].dt.strftime('%Y-%m-%d'))\n",
    "tweets_df.head(2)"
   ]
  },
  {
   "cell_type": "markdown",
   "id": "e6d24877-abee-46be-9d64-5afee23dcb83",
   "metadata": {},
   "source": [
    "save copy as csv"
   ]
  },
  {
   "cell_type": "code",
   "execution_count": 56,
   "id": "5c922b4c-80ab-492f-a631-e7dcda4e198f",
   "metadata": {},
   "outputs": [],
   "source": [
    "#tweets_df.to_csv(r'pulled_data_1908.csv', index = False)"
   ]
  },
  {
   "cell_type": "markdown",
   "id": "492ae1a7-4495-483c-9e58-56525732ba88",
   "metadata": {},
   "source": [
    "### Collecting and cleaning data from Wikipedia"
   ]
  },
  {
   "cell_type": "code",
   "execution_count": 13,
   "id": "6338e28c-e93e-4959-8aa0-53778cfaca19",
   "metadata": {},
   "outputs": [
    {
     "data": {
      "text/html": [
       "<div>\n",
       "<style scoped>\n",
       "    .dataframe tbody tr th:only-of-type {\n",
       "        vertical-align: middle;\n",
       "    }\n",
       "\n",
       "    .dataframe tbody tr th {\n",
       "        vertical-align: top;\n",
       "    }\n",
       "\n",
       "    .dataframe thead th {\n",
       "        text-align: right;\n",
       "    }\n",
       "</style>\n",
       "<table border=\"1\" class=\"dataframe\">\n",
       "  <thead>\n",
       "    <tr style=\"text-align: right;\">\n",
       "      <th></th>\n",
       "      <th>State ordistrictState ordistrict</th>\n",
       "      <th>Biden/HarrisDemocraticVotes</th>\n",
       "      <th>Biden/HarrisDemocratic%</th>\n",
       "      <th>Biden/HarrisDemocraticEV</th>\n",
       "      <th>Trump/PenceRepublicanVotes</th>\n",
       "      <th>Trump/PenceRepublican%</th>\n",
       "      <th>Trump/PenceRepublicanEV</th>\n",
       "      <th>Jorgensen/CohenLibertarianVotes</th>\n",
       "      <th>Jorgensen/CohenLibertarian%</th>\n",
       "      <th>Jorgensen/CohenLibertarianEV</th>\n",
       "      <th>Hawkins/WalkerGreenVotes</th>\n",
       "      <th>Hawkins/WalkerGreen%</th>\n",
       "      <th>Hawkins/WalkerGreenEV</th>\n",
       "      <th>OthersVotes</th>\n",
       "      <th>Others%</th>\n",
       "      <th>OthersEV</th>\n",
       "      <th>MarginVotes</th>\n",
       "      <th>Margin%</th>\n",
       "      <th>Marginswing[l]%</th>\n",
       "      <th>TotalvotesTotalvotes</th>\n",
       "    </tr>\n",
       "  </thead>\n",
       "  <tbody>\n",
       "    <tr>\n",
       "      <th>0</th>\n",
       "      <td>Alab.</td>\n",
       "      <td>849624</td>\n",
       "      <td>36.57%</td>\n",
       "      <td>–</td>\n",
       "      <td>1441170</td>\n",
       "      <td>62.03%</td>\n",
       "      <td>9</td>\n",
       "      <td>25176</td>\n",
       "      <td>1.08%</td>\n",
       "      <td>–</td>\n",
       "      <td>[m]</td>\n",
       "      <td>[m]</td>\n",
       "      <td>–</td>\n",
       "      <td>7312</td>\n",
       "      <td>0.31%</td>\n",
       "      <td>–</td>\n",
       "      <td>−591,546</td>\n",
       "      <td>−25.46%</td>\n",
       "      <td>2.27%</td>\n",
       "      <td>2323282</td>\n",
       "    </tr>\n",
       "    <tr>\n",
       "      <th>1</th>\n",
       "      <td>Alaska</td>\n",
       "      <td>153778</td>\n",
       "      <td>42.77%</td>\n",
       "      <td>–</td>\n",
       "      <td>189951</td>\n",
       "      <td>52.83%</td>\n",
       "      <td>3</td>\n",
       "      <td>8897</td>\n",
       "      <td>2.47%</td>\n",
       "      <td>–</td>\n",
       "      <td>[n]</td>\n",
       "      <td>[n]</td>\n",
       "      <td>–</td>\n",
       "      <td>6904</td>\n",
       "      <td>1.92%</td>\n",
       "      <td>–</td>\n",
       "      <td>−36,173</td>\n",
       "      <td>−10.06%</td>\n",
       "      <td>4.67%</td>\n",
       "      <td>359530</td>\n",
       "    </tr>\n",
       "    <tr>\n",
       "      <th>2</th>\n",
       "      <td>Arizona</td>\n",
       "      <td>1672143</td>\n",
       "      <td>49.36%</td>\n",
       "      <td>11</td>\n",
       "      <td>1661686</td>\n",
       "      <td>49.06%</td>\n",
       "      <td>–</td>\n",
       "      <td>51465</td>\n",
       "      <td>1.52%</td>\n",
       "      <td>–</td>\n",
       "      <td>1557</td>\n",
       "      <td>0.05%</td>\n",
       "      <td>–</td>\n",
       "      <td>475</td>\n",
       "      <td>0.01%</td>\n",
       "      <td>–</td>\n",
       "      <td>10457</td>\n",
       "      <td>0.31%</td>\n",
       "      <td>3.81%</td>\n",
       "      <td>3387326</td>\n",
       "    </tr>\n",
       "    <tr>\n",
       "      <th>3</th>\n",
       "      <td>Ark.</td>\n",
       "      <td>423932</td>\n",
       "      <td>34.78%</td>\n",
       "      <td>–</td>\n",
       "      <td>760647</td>\n",
       "      <td>62.40%</td>\n",
       "      <td>6</td>\n",
       "      <td>13133</td>\n",
       "      <td>1.08%</td>\n",
       "      <td>–</td>\n",
       "      <td>2980</td>\n",
       "      <td>0.24%</td>\n",
       "      <td>–</td>\n",
       "      <td>18377</td>\n",
       "      <td>1.51%</td>\n",
       "      <td>–</td>\n",
       "      <td>−336,715</td>\n",
       "      <td>−27.62%</td>\n",
       "      <td>−0.70%</td>\n",
       "      <td>1219069</td>\n",
       "    </tr>\n",
       "    <tr>\n",
       "      <th>4</th>\n",
       "      <td>Calif.</td>\n",
       "      <td>11110250</td>\n",
       "      <td>63.48%</td>\n",
       "      <td>55</td>\n",
       "      <td>6006429</td>\n",
       "      <td>34.32%</td>\n",
       "      <td>–</td>\n",
       "      <td>187895</td>\n",
       "      <td>1.07%</td>\n",
       "      <td>–</td>\n",
       "      <td>81029</td>\n",
       "      <td>0.46%</td>\n",
       "      <td>–</td>\n",
       "      <td>115278</td>\n",
       "      <td>0.66%</td>\n",
       "      <td>–</td>\n",
       "      <td>5103821</td>\n",
       "      <td>29.16%</td>\n",
       "      <td>−0.95%</td>\n",
       "      <td>17500881</td>\n",
       "    </tr>\n",
       "  </tbody>\n",
       "</table>\n",
       "</div>"
      ],
      "text/plain": [
       "  State ordistrictState ordistrict Biden/HarrisDemocraticVotes  \\\n",
       "0                            Alab.                      849624   \n",
       "1                           Alaska                      153778   \n",
       "2                          Arizona                     1672143   \n",
       "3                             Ark.                      423932   \n",
       "4                           Calif.                    11110250   \n",
       "\n",
       "  Biden/HarrisDemocratic% Biden/HarrisDemocraticEV Trump/PenceRepublicanVotes  \\\n",
       "0                  36.57%                        –                    1441170   \n",
       "1                  42.77%                        –                     189951   \n",
       "2                  49.36%                       11                    1661686   \n",
       "3                  34.78%                        –                     760647   \n",
       "4                  63.48%                       55                    6006429   \n",
       "\n",
       "  Trump/PenceRepublican% Trump/PenceRepublicanEV  \\\n",
       "0                 62.03%                       9   \n",
       "1                 52.83%                       3   \n",
       "2                 49.06%                       –   \n",
       "3                 62.40%                       6   \n",
       "4                 34.32%                       –   \n",
       "\n",
       "  Jorgensen/CohenLibertarianVotes Jorgensen/CohenLibertarian%  \\\n",
       "0                           25176                       1.08%   \n",
       "1                            8897                       2.47%   \n",
       "2                           51465                       1.52%   \n",
       "3                           13133                       1.08%   \n",
       "4                          187895                       1.07%   \n",
       "\n",
       "  Jorgensen/CohenLibertarianEV Hawkins/WalkerGreenVotes Hawkins/WalkerGreen%  \\\n",
       "0                            –                      [m]                  [m]   \n",
       "1                            –                      [n]                  [n]   \n",
       "2                            –                     1557                0.05%   \n",
       "3                            –                     2980                0.24%   \n",
       "4                            –                    81029                0.46%   \n",
       "\n",
       "  Hawkins/WalkerGreenEV OthersVotes Others% OthersEV MarginVotes  Margin%  \\\n",
       "0                     –        7312   0.31%        –    −591,546  −25.46%   \n",
       "1                     –        6904   1.92%        –     −36,173  −10.06%   \n",
       "2                     –         475   0.01%        –       10457    0.31%   \n",
       "3                     –       18377   1.51%        –    −336,715  −27.62%   \n",
       "4                     –      115278   0.66%        –     5103821   29.16%   \n",
       "\n",
       "  Marginswing[l]% TotalvotesTotalvotes  \n",
       "0           2.27%              2323282  \n",
       "1           4.67%               359530  \n",
       "2           3.81%              3387326  \n",
       "3          −0.70%              1219069  \n",
       "4          −0.95%             17500881  "
      ]
     },
     "execution_count": 13,
     "metadata": {},
     "output_type": "execute_result"
    }
   ],
   "source": [
    "#Start by importing the website where we want to extract the data from\n",
    "dfs = pd.read_html('https://en.wikipedia.org/wiki/2020_United_States_presidential_election')\n",
    "\n",
    "#seeing that the table we want is the nr19 therefore we extract that\n",
    "table_stat = dfs[19]\n",
    "\n",
    "#from the above we see that there are 2 type of headers. We want to deal with this, therefore we put the two columns together \n",
    "#by f-string formatting \n",
    "table_stat.columns = [f'{i}{j}' for i, j in table_stat.columns]\n",
    "table_stat.head()"
   ]
  },
  {
   "cell_type": "code",
   "execution_count": 14,
   "id": "129b4815-65dd-4bae-8047-7fa694600456",
   "metadata": {},
   "outputs": [
    {
     "data": {
      "text/html": [
       "<div>\n",
       "<style scoped>\n",
       "    .dataframe tbody tr th:only-of-type {\n",
       "        vertical-align: middle;\n",
       "    }\n",
       "\n",
       "    .dataframe tbody tr th {\n",
       "        vertical-align: top;\n",
       "    }\n",
       "\n",
       "    .dataframe thead th {\n",
       "        text-align: right;\n",
       "    }\n",
       "</style>\n",
       "<table border=\"1\" class=\"dataframe\">\n",
       "  <thead>\n",
       "    <tr style=\"text-align: right;\">\n",
       "      <th></th>\n",
       "      <th>state</th>\n",
       "      <th>Democratic</th>\n",
       "      <th>Democraticpct</th>\n",
       "      <th>Republican</th>\n",
       "      <th>Republicanpct</th>\n",
       "    </tr>\n",
       "  </thead>\n",
       "  <tbody>\n",
       "    <tr>\n",
       "      <th>0</th>\n",
       "      <td>Alabama</td>\n",
       "      <td>849624</td>\n",
       "      <td>36.57%</td>\n",
       "      <td>1441170</td>\n",
       "      <td>62.03%</td>\n",
       "    </tr>\n",
       "    <tr>\n",
       "      <th>1</th>\n",
       "      <td>Alaska</td>\n",
       "      <td>153778</td>\n",
       "      <td>42.77%</td>\n",
       "      <td>189951</td>\n",
       "      <td>52.83%</td>\n",
       "    </tr>\n",
       "    <tr>\n",
       "      <th>2</th>\n",
       "      <td>Arizona</td>\n",
       "      <td>1672143</td>\n",
       "      <td>49.36%</td>\n",
       "      <td>1661686</td>\n",
       "      <td>49.06%</td>\n",
       "    </tr>\n",
       "    <tr>\n",
       "      <th>3</th>\n",
       "      <td>Arkansas</td>\n",
       "      <td>423932</td>\n",
       "      <td>34.78%</td>\n",
       "      <td>760647</td>\n",
       "      <td>62.40%</td>\n",
       "    </tr>\n",
       "  </tbody>\n",
       "</table>\n",
       "</div>"
      ],
      "text/plain": [
       "      state Democratic Democraticpct Republican Republicanpct\n",
       "0   Alabama     849624        36.57%    1441170        62.03%\n",
       "1    Alaska     153778        42.77%     189951        52.83%\n",
       "2   Arizona    1672143        49.36%    1661686        49.06%\n",
       "3  Arkansas     423932        34.78%     760647        62.40%"
      ]
     },
     "execution_count": 14,
     "metadata": {},
     "output_type": "execute_result"
    }
   ],
   "source": [
    "#then we drop the columns we are not interested in, since we only want to compare Democrats and Republicans\n",
    "table_stat1= table_stat.drop(table_stat.columns[[3, 6]], axis=1)\n",
    "table_stat2 = table_stat1.drop(table_stat1.iloc[:, 5:18], axis=1)\n",
    "\n",
    "#removing extra rows from Maine and Newbraske due to the election rules in these state\n",
    "table_stat3= table_stat2.drop(table_stat.index[[20, 21,30, 31, 32, 56, 57]], axis=0)\n",
    "\n",
    "# Manually handling the states so their are inlibne with the twitter data. Thereby we can merge the data\n",
    "table_stat4 = table_stat3.replace(['Alab.','Ark.','Calif.', 'Colo.', 'Conn.', 'Del.', 'D.C.' , 'Ky.', 'La.', 'Maine †', 'Md.', 'Mass.', 'Mich.',\n",
    "                                  'Minn.', 'Miss.', 'Mo.' , 'Mont.', 'Neb. †', 'Nev.[p]', 'N.H.', 'N.J.[q]' , 'N.M.', 'N.Y.[r]', 'N.C.',\n",
    "                                  'N.D.', 'Okla.', 'Pa.' , 'R.I.', 'S.C.', 'S.D.', 'Tenn.','Texas[t]', 'Vt.' , 'Va.', 'Wash.', 'W.Va.',\n",
    "                                  'Wis.', 'Wyo.'], \n",
    "                                  ['Alabama','Arkansas','California','Colorado', 'Connecticut', 'Delaware', 'District of Columbia', 'Kentucky',\n",
    "                                  'Louisiana', 'Maine', 'Maryland', 'Massachusetts', 'Michigan', 'Minnesota', 'Mississippi', 'Missouri', 'Montanna',\n",
    "                                  'Nebraska', 'Nevada', 'New Hampshire', 'New Jersey', 'New Mexico', 'New York', 'North Carolina', 'North Dakota',\n",
    "                                  'Oklahoma', 'Pennsylvania', 'Rhode Island', 'South Carolina', 'South Dakota', 'Tennessee', 'Texas', 'Vermont',\n",
    "                                  'Virginia', 'Washington', 'West Virginia', 'Wisconsin', 'Wyoming'])\n",
    "\n",
    "#renaming columns to give them more intuitive names for comparison \n",
    "table_stat5 = table_stat4.rename(columns = {'State ordistrictState ordistrict':'state', \n",
    "                                            'Biden/HarrisDemocraticVotes':'Democratic', \n",
    "                                            'Biden/HarrisDemocratic%':'Democraticpct', \n",
    "                                            'Trump/PenceRepublicanVotes':'Republican', \n",
    "                                            'Trump/PenceRepublican%' : 'Republicanpct'}\n",
    "                                )\n",
    "\n",
    "table_stat5.head(4)\n",
    "\n"
   ]
  },
  {
   "cell_type": "code",
   "execution_count": 15,
   "id": "1a200f38-38e7-4cc7-8bc5-e1ed336c2a3d",
   "metadata": {
    "tags": []
   },
   "outputs": [
    {
     "data": {
      "text/html": [
       "<div>\n",
       "<style scoped>\n",
       "    .dataframe tbody tr th:only-of-type {\n",
       "        vertical-align: middle;\n",
       "    }\n",
       "\n",
       "    .dataframe tbody tr th {\n",
       "        vertical-align: top;\n",
       "    }\n",
       "\n",
       "    .dataframe thead th {\n",
       "        text-align: right;\n",
       "    }\n",
       "</style>\n",
       "<table border=\"1\" class=\"dataframe\">\n",
       "  <thead>\n",
       "    <tr style=\"text-align: right;\">\n",
       "      <th></th>\n",
       "      <th>created_at</th>\n",
       "      <th>text</th>\n",
       "      <th>source</th>\n",
       "      <th>name</th>\n",
       "      <th>username</th>\n",
       "      <th>user_location</th>\n",
       "      <th>tweet_location</th>\n",
       "      <th>country_code</th>\n",
       "      <th>verified</th>\n",
       "      <th>description</th>\n",
       "      <th>city</th>\n",
       "      <th>state</th>\n",
       "      <th>country</th>\n",
       "      <th>state_code</th>\n",
       "      <th>date</th>\n",
       "      <th>Democratic</th>\n",
       "      <th>Democraticpct</th>\n",
       "      <th>Republican</th>\n",
       "      <th>Republicanpct</th>\n",
       "      <th>state_color</th>\n",
       "    </tr>\n",
       "  </thead>\n",
       "  <tbody>\n",
       "    <tr>\n",
       "      <th>0</th>\n",
       "      <td>2020-10-01 23:54:28+00:00</td>\n",
       "      <td>Great Article on Pfizer's Covid19 Vaccine! It ...</td>\n",
       "      <td>Twitter for Android</td>\n",
       "      <td>The Catholic Honey Badger ⛪🌄</td>\n",
       "      <td>RuralUSCatholic</td>\n",
       "      <td>West Plains, MO</td>\n",
       "      <td>Missouri, USA</td>\n",
       "      <td>US</td>\n",
       "      <td>False</td>\n",
       "      <td>In your hearts reverence Christ as Lord. Alway...</td>\n",
       "      <td>NaN</td>\n",
       "      <td>Missouri</td>\n",
       "      <td>United States</td>\n",
       "      <td>MO</td>\n",
       "      <td>2020-10-01</td>\n",
       "      <td>1253014</td>\n",
       "      <td>41.41%</td>\n",
       "      <td>1718736</td>\n",
       "      <td>56.80%</td>\n",
       "      <td>Red</td>\n",
       "    </tr>\n",
       "    <tr>\n",
       "      <th>1</th>\n",
       "      <td>2020-10-02 22:39:08+00:00</td>\n",
       "      <td>@twoine35 i definitely heard something about h...</td>\n",
       "      <td>Twitter for iPhone</td>\n",
       "      <td>EP53</td>\n",
       "      <td>fiftytres</td>\n",
       "      <td>TX✈️CA</td>\n",
       "      <td>Warren, MI</td>\n",
       "      <td>US</td>\n",
       "      <td>False</td>\n",
       "      <td>$ | R.I.P JORDAN | R.I.P JAILUN | #JUCOPRODUCT...</td>\n",
       "      <td>NaN</td>\n",
       "      <td>Missouri</td>\n",
       "      <td>United States</td>\n",
       "      <td>MO</td>\n",
       "      <td>2020-10-02</td>\n",
       "      <td>1253014</td>\n",
       "      <td>41.41%</td>\n",
       "      <td>1718736</td>\n",
       "      <td>56.80%</td>\n",
       "      <td>Red</td>\n",
       "    </tr>\n",
       "  </tbody>\n",
       "</table>\n",
       "</div>"
      ],
      "text/plain": [
       "                 created_at  \\\n",
       "0 2020-10-01 23:54:28+00:00   \n",
       "1 2020-10-02 22:39:08+00:00   \n",
       "\n",
       "                                                text               source  \\\n",
       "0  Great Article on Pfizer's Covid19 Vaccine! It ...  Twitter for Android   \n",
       "1  @twoine35 i definitely heard something about h...   Twitter for iPhone   \n",
       "\n",
       "                           name         username    user_location  \\\n",
       "0  The Catholic Honey Badger ⛪🌄  RuralUSCatholic  West Plains, MO   \n",
       "1                          EP53        fiftytres           TX✈️CA   \n",
       "\n",
       "  tweet_location country_code  verified  \\\n",
       "0  Missouri, USA           US     False   \n",
       "1     Warren, MI           US     False   \n",
       "\n",
       "                                         description city     state  \\\n",
       "0  In your hearts reverence Christ as Lord. Alway...  NaN  Missouri   \n",
       "1  $ | R.I.P JORDAN | R.I.P JAILUN | #JUCOPRODUCT...  NaN  Missouri   \n",
       "\n",
       "         country state_code       date Democratic Democraticpct Republican  \\\n",
       "0  United States         MO 2020-10-01    1253014        41.41%    1718736   \n",
       "1  United States         MO 2020-10-02    1253014        41.41%    1718736   \n",
       "\n",
       "  Republicanpct state_color  \n",
       "0        56.80%         Red  \n",
       "1        56.80%         Red  "
      ]
     },
     "execution_count": 15,
     "metadata": {},
     "output_type": "execute_result"
    }
   ],
   "source": [
    "#Comparing the vote pct to see if the state is either Democratic (blue) or Republican (red) and adding a new collum\n",
    "comparison_column = np.where(table_stat5[\"Democraticpct\"] > table_stat5[\"Republicanpct\"], 'Blue', 'Red')\n",
    "#comparison_pct_column = np.where(table_stat5[\"Democraticpct\"] > table_stat5[\"Republicanpct\"], table_stat5[\"Democratic\"]-table_stat5[\"Republican\"], 1)\n",
    "\n",
    "\n",
    "table_stat5[\"state_color\"] = comparison_column\n",
    "#table_stat5[\"pct_dif\"] = comparison_pct_column\n",
    "\n",
    "# merging the datasets\n",
    "tweets_df2 = tweets_df.merge(table_stat5, how='inner', on='state')\n",
    "tweets_df2.head(2)"
   ]
  },
  {
   "cell_type": "markdown",
   "id": "784cfb39-532d-4cf1-bd03-ea7ba69cca0a",
   "metadata": {},
   "source": [
    "## 6. Cleaning of the tweet text"
   ]
  },
  {
   "cell_type": "code",
   "execution_count": 16,
   "id": "598692cc-5d40-4fef-9038-40c87b45c5eb",
   "metadata": {},
   "outputs": [],
   "source": [
    "## Making a copy, to not be forced to load from the start every time\n",
    "tweets_df3 = tweets_df2.copy()"
   ]
  },
  {
   "cell_type": "code",
   "execution_count": 17,
   "id": "10291271-c827-4e8d-afaf-7728360787ef",
   "metadata": {},
   "outputs": [
    {
     "data": {
      "text/plain": [
       "'During the swine flue ( obama /Biden ) the vaccines killed and made more people sick . So much for Biden handling the pandemic'"
      ]
     },
     "execution_count": 17,
     "metadata": {},
     "output_type": "execute_result"
    }
   ],
   "source": [
    "tweets_df2['text'][69]"
   ]
  },
  {
   "cell_type": "markdown",
   "id": "424d86f7-86af-4822-aa93-55d499b3f24c",
   "metadata": {},
   "source": [
    "### Cleaner for the text variable"
   ]
  },
  {
   "cell_type": "code",
   "execution_count": 18,
   "id": "cf68383b-b77a-4fc0-a640-7eed785599b6",
   "metadata": {},
   "outputs": [],
   "source": [
    "def cleaner_text(document_tweet):\n",
    "    \"\"\"\n",
    "    Cleaning tweet text for:\n",
    "    replacing \\n newlines with white space ' ',\n",
    "    lower case everything,\n",
    "    removes mentions (@user), \n",
    "    removes \"#\" before hashtags and keeps the text, \n",
    "    removes digits, \n",
    "    removes http-links,\n",
    "    \"\"\"\n",
    "    document_tweet = re.sub(r'\\r\\n|\\r|\\n', ' ', document_tweet) #replaces newline with with space\n",
    "    document_tweet = document_tweet.lower() #To lower case\n",
    "    document_tweet = re.sub(r'@[^\\s]+','',document_tweet) #removes @user\n",
    "    document_tweet = re.sub(r'[#]','',document_tweet) #Removes only #-sign\n",
    "    document_tweet = re.sub(r'[\\d-]','',document_tweet) #removes digits\n",
    "    document_tweet = re.sub(r'http[^\\s]+','',document_tweet) #removes links starting with https\n",
    "    document_tweet = re.sub(r'[^\\w\\s]','', document_tweet) #Remove non-alphanumeric characters\n",
    "    #document_tweet = re.sub(r'#[^\\s]+','',document_tweet) #removes \"#\" and #hashtagstring\n",
    "    return document_tweet\n",
    "\n",
    "tweets_df3['text'] = tweets_df3['text'].apply(cleaner_text)"
   ]
  },
  {
   "cell_type": "markdown",
   "id": "554add26-ef1d-4ce4-82cc-6df7a21b9a24",
   "metadata": {},
   "source": [
    "### Translate emojis to text"
   ]
  },
  {
   "cell_type": "code",
   "execution_count": null,
   "id": "81f67c50-f36f-4af4-a209-112ed9ec1473",
   "metadata": {},
   "outputs": [],
   "source": [
    "def demojize_text(text_tweet):\n",
    "    \"\"\"\n",
    "    translates emojis to text.\n",
    "    \"\"\"\n",
    "    return emoji.demojize(text_tweet, delimiters=(\"\", \" \"))\n",
    "\n",
    "tweets_df2['text'] = tweets_df2['text'].apply(demojize_text)"
   ]
  },
  {
   "cell_type": "markdown",
   "id": "2f5c620f-0e84-40d4-a2a5-0229b2b6ac5b",
   "metadata": {
    "tags": []
   },
   "source": [
    "### Removing stop words"
   ]
  },
  {
   "cell_type": "markdown",
   "id": "b8e794b6-d4b3-4122-8ecc-997fa272148a",
   "metadata": {},
   "source": [
    "doing this before ML"
   ]
  },
  {
   "cell_type": "markdown",
   "id": "82b0530c-a2e6-4a81-be4c-831978bb4817",
   "metadata": {},
   "source": [
    "### Apply the sentiment analysis using Vader"
   ]
  },
  {
   "cell_type": "code",
   "execution_count": 19,
   "id": "ae41d02f-7761-4100-90fd-c1180024b8e4",
   "metadata": {
    "scrolled": true,
    "tags": []
   },
   "outputs": [
    {
     "data": {
      "text/html": [
       "<div>\n",
       "<style scoped>\n",
       "    .dataframe tbody tr th:only-of-type {\n",
       "        vertical-align: middle;\n",
       "    }\n",
       "\n",
       "    .dataframe tbody tr th {\n",
       "        vertical-align: top;\n",
       "    }\n",
       "\n",
       "    .dataframe thead th {\n",
       "        text-align: right;\n",
       "    }\n",
       "</style>\n",
       "<table border=\"1\" class=\"dataframe\">\n",
       "  <thead>\n",
       "    <tr style=\"text-align: right;\">\n",
       "      <th></th>\n",
       "      <th>created_at</th>\n",
       "      <th>text</th>\n",
       "      <th>source</th>\n",
       "      <th>name</th>\n",
       "      <th>username</th>\n",
       "      <th>user_location</th>\n",
       "      <th>tweet_location</th>\n",
       "      <th>country_code</th>\n",
       "      <th>verified</th>\n",
       "      <th>description</th>\n",
       "      <th>...</th>\n",
       "      <th>country</th>\n",
       "      <th>state_code</th>\n",
       "      <th>date</th>\n",
       "      <th>Democratic</th>\n",
       "      <th>Democraticpct</th>\n",
       "      <th>Republican</th>\n",
       "      <th>Republicanpct</th>\n",
       "      <th>state_color</th>\n",
       "      <th>sentiment_score</th>\n",
       "      <th>tweet_sentiment</th>\n",
       "    </tr>\n",
       "  </thead>\n",
       "  <tbody>\n",
       "    <tr>\n",
       "      <th>0</th>\n",
       "      <td>2020-10-01 23:54:28+00:00</td>\n",
       "      <td>great article on pfizers covid vaccine it may ...</td>\n",
       "      <td>Twitter for Android</td>\n",
       "      <td>The Catholic Honey Badger ⛪🌄</td>\n",
       "      <td>RuralUSCatholic</td>\n",
       "      <td>West Plains, MO</td>\n",
       "      <td>Missouri, USA</td>\n",
       "      <td>US</td>\n",
       "      <td>False</td>\n",
       "      <td>In your hearts reverence Christ as Lord. Alway...</td>\n",
       "      <td>...</td>\n",
       "      <td>United States</td>\n",
       "      <td>MO</td>\n",
       "      <td>2020-10-01</td>\n",
       "      <td>1253014</td>\n",
       "      <td>41.41%</td>\n",
       "      <td>1718736</td>\n",
       "      <td>56.80%</td>\n",
       "      <td>Red</td>\n",
       "      <td>0.6249</td>\n",
       "      <td>1</td>\n",
       "    </tr>\n",
       "    <tr>\n",
       "      <th>1</th>\n",
       "      <td>2020-10-02 22:39:08+00:00</td>\n",
       "      <td>i definitely heard something about him buyin ...</td>\n",
       "      <td>Twitter for iPhone</td>\n",
       "      <td>EP53</td>\n",
       "      <td>fiftytres</td>\n",
       "      <td>TX✈️CA</td>\n",
       "      <td>Warren, MI</td>\n",
       "      <td>US</td>\n",
       "      <td>False</td>\n",
       "      <td>$ | R.I.P JORDAN | R.I.P JAILUN | #JUCOPRODUCT...</td>\n",
       "      <td>...</td>\n",
       "      <td>United States</td>\n",
       "      <td>MO</td>\n",
       "      <td>2020-10-02</td>\n",
       "      <td>1253014</td>\n",
       "      <td>41.41%</td>\n",
       "      <td>1718736</td>\n",
       "      <td>56.80%</td>\n",
       "      <td>Red</td>\n",
       "      <td>0.4019</td>\n",
       "      <td>1</td>\n",
       "    </tr>\n",
       "  </tbody>\n",
       "</table>\n",
       "<p>2 rows × 22 columns</p>\n",
       "</div>"
      ],
      "text/plain": [
       "                 created_at  \\\n",
       "0 2020-10-01 23:54:28+00:00   \n",
       "1 2020-10-02 22:39:08+00:00   \n",
       "\n",
       "                                                text               source  \\\n",
       "0  great article on pfizers covid vaccine it may ...  Twitter for Android   \n",
       "1   i definitely heard something about him buyin ...   Twitter for iPhone   \n",
       "\n",
       "                           name         username    user_location  \\\n",
       "0  The Catholic Honey Badger ⛪🌄  RuralUSCatholic  West Plains, MO   \n",
       "1                          EP53        fiftytres           TX✈️CA   \n",
       "\n",
       "  tweet_location country_code  verified  \\\n",
       "0  Missouri, USA           US     False   \n",
       "1     Warren, MI           US     False   \n",
       "\n",
       "                                         description  ...        country  \\\n",
       "0  In your hearts reverence Christ as Lord. Alway...  ...  United States   \n",
       "1  $ | R.I.P JORDAN | R.I.P JAILUN | #JUCOPRODUCT...  ...  United States   \n",
       "\n",
       "  state_code       date Democratic Democraticpct Republican Republicanpct  \\\n",
       "0         MO 2020-10-01    1253014        41.41%    1718736        56.80%   \n",
       "1         MO 2020-10-02    1253014        41.41%    1718736        56.80%   \n",
       "\n",
       "  state_color sentiment_score tweet_sentiment  \n",
       "0         Red          0.6249               1  \n",
       "1         Red          0.4019               1  \n",
       "\n",
       "[2 rows x 22 columns]"
      ]
     },
     "execution_count": 19,
     "metadata": {},
     "output_type": "execute_result"
    }
   ],
   "source": [
    "# Vader sentiment analysis\n",
    "def sentiment_analyser(tweet_text):\n",
    "    \"\"\"\n",
    "    Using Vader as sentiment analyser.\n",
    "    Vader outputs neg, neu, pos and compound, - we only keep compound.\n",
    "    This is done for each tweet.\n",
    "    \"\"\"\n",
    "    analyser= SentimentIntensityAnalyzer()\n",
    "    sentiment_score = analyser.polarity_scores(tweet_text)[\"compound\"]\n",
    "    return sentiment_score\n",
    "\n",
    "# sentiment score from -1 to 1\n",
    "tweets_df3['sentiment_score'] = tweets_df3['text'].apply(sentiment_analyser)\n",
    "\n",
    "# boolean value is 0 if sentiment is negative, else 1\n",
    "tweets_df3['tweet_sentiment'] = [0 if i < 0 else 1 for i in tweets_df3.sentiment_score]\n",
    "tweets_df3.head(2)"
   ]
  },
  {
   "cell_type": "code",
   "execution_count": 20,
   "id": "20791ff9-e588-4364-bf85-18120f1756fd",
   "metadata": {},
   "outputs": [],
   "source": [
    "df = tweets_df3"
   ]
  },
  {
   "cell_type": "code",
   "execution_count": 21,
   "id": "72803aff-1e71-4d08-be14-bea08e9097d7",
   "metadata": {},
   "outputs": [
    {
     "data": {
      "image/png": "[encoded data removed]",
      "text/plain": [
       "<Figure size 432x288 with 1 Axes>"
      ]
     },
     "metadata": {
      "needs_background": "light"
     },
     "output_type": "display_data"
    }
   ],
   "source": [
    "import statsmodels.api as sm\n",
    "import pandas as pd\n",
    "\n",
    "# defining the variables\n",
    "x = df['sentiment_score'].tolist()\n",
    "y = df['state'].tolist()\n",
    "plt.scatter(x, y)\n",
    "\n",
    "max_x = df['sentiment_score'].max()\n",
    "min_x = df['sentiment_score'].min()\n",
    "\n",
    "x = np.arange(min_x, max_x, 1)\n",
    "\n",
    "# adding the constant term\n",
    "#x = sm.add_constant(x)\n",
    " \n",
    "# performing the regression\n",
    "# and fitting the model\n",
    "#result = sm.OLS(y, x).fit()\n",
    "\n",
    "# printing the summary table\n",
    "#print(result.summary())"
   ]
  },
  {
   "cell_type": "code",
   "execution_count": null,
   "id": "ed24a18c-7df7-4013-b5de-eb2d217362f3",
   "metadata": {},
   "outputs": [],
   "source": []
  },
  {
   "cell_type": "code",
   "execution_count": null,
   "id": "7f966e62-a411-480c-a4a1-ad21eeb891d1",
   "metadata": {
    "tags": []
   },
   "outputs": [],
   "source": []
  },
  {
   "cell_type": "markdown",
   "id": "671bd450-3c68-4a49-a46f-4e2b1189e9db",
   "metadata": {
    "tags": []
   },
   "source": [
    "### Heatmap for mean sentiment"
   ]
  },
  {
   "cell_type": "code",
   "execution_count": 22,
   "id": "be9bb1b1-89b9-40eb-a96b-0c2e699fc690",
   "metadata": {},
   "outputs": [
    {
     "data": {
      "text/html": [
       "<div>\n",
       "<style scoped>\n",
       "    .dataframe tbody tr th:only-of-type {\n",
       "        vertical-align: middle;\n",
       "    }\n",
       "\n",
       "    .dataframe tbody tr th {\n",
       "        vertical-align: top;\n",
       "    }\n",
       "\n",
       "    .dataframe thead th {\n",
       "        text-align: right;\n",
       "    }\n",
       "</style>\n",
       "<table border=\"1\" class=\"dataframe\">\n",
       "  <thead>\n",
       "    <tr style=\"text-align: right;\">\n",
       "      <th></th>\n",
       "      <th>state</th>\n",
       "      <th>state_code</th>\n",
       "      <th>count</th>\n",
       "      <th>mean_sentiment</th>\n",
       "    </tr>\n",
       "  </thead>\n",
       "  <tbody>\n",
       "    <tr>\n",
       "      <th>0</th>\n",
       "      <td>Alabama</td>\n",
       "      <td>AL</td>\n",
       "      <td>18</td>\n",
       "      <td>-0.144456</td>\n",
       "    </tr>\n",
       "    <tr>\n",
       "      <th>1</th>\n",
       "      <td>Alaska</td>\n",
       "      <td>AK</td>\n",
       "      <td>3</td>\n",
       "      <td>0.066233</td>\n",
       "    </tr>\n",
       "    <tr>\n",
       "      <th>2</th>\n",
       "      <td>Arizona</td>\n",
       "      <td>AZ</td>\n",
       "      <td>38</td>\n",
       "      <td>0.105955</td>\n",
       "    </tr>\n",
       "    <tr>\n",
       "      <th>3</th>\n",
       "      <td>Arkansas</td>\n",
       "      <td>AR</td>\n",
       "      <td>7</td>\n",
       "      <td>0.133829</td>\n",
       "    </tr>\n",
       "    <tr>\n",
       "      <th>4</th>\n",
       "      <td>California</td>\n",
       "      <td>CA</td>\n",
       "      <td>200</td>\n",
       "      <td>-0.042262</td>\n",
       "    </tr>\n",
       "  </tbody>\n",
       "</table>\n",
       "</div>"
      ],
      "text/plain": [
       "        state state_code  count  mean_sentiment\n",
       "0     Alabama         AL     18       -0.144456\n",
       "1      Alaska         AK      3        0.066233\n",
       "2     Arizona         AZ     38        0.105955\n",
       "3    Arkansas         AR      7        0.133829\n",
       "4  California         CA    200       -0.042262"
      ]
     },
     "execution_count": 22,
     "metadata": {},
     "output_type": "execute_result"
    }
   ],
   "source": [
    "tweets_mean = tweets_df3.groupby(['state', 'state_code']) \\\n",
    "       .agg(count=('state', 'size'), mean_sentiment=('sentiment_score', 'mean')) \\\n",
    "       .reset_index()\n",
    "tweets_mean.head()"
   ]
  },
  {
   "cell_type": "code",
   "execution_count": 57,
   "id": "9dce7381-2ed1-4310-9c23-7f5b19e1384e",
   "metadata": {},
   "outputs": [
    {
     "data": {
      "application/vnd.plotly.v1+json": {
       "config": {
        "plotlyServerURL": "https://plot.ly"
       },
       "data": [
        {
         "autocolorscale": true,
         "colorbar": {
          "title": {
           "text": "Sentiment (-1, 1)"
          }
         },
         "colorscale": [
          [
           0,
           "rgb(103,0,31)"
          ],
          [
           0.1,
           "rgb(178,24,43)"
          ],
          [
           0.2,
           "rgb(214,96,77)"
          ],
          [
           0.3,
           "rgb(244,165,130)"
          ],
          [
           0.4,
           "rgb(253,219,199)"
          ],
          [
           0.5,
           "rgb(247,247,247)"
          ],
          [
           0.6,
           "rgb(209,229,240)"
          ],
          [
           0.7,
           "rgb(146,197,222)"
          ],
          [
           0.8,
           "rgb(67,147,195)"
          ],
          [
           0.9,
           "rgb(33,102,172)"
          ],
          [
           1,
           "rgb(5,48,97)"
          ]
         ],
         "locationmode": "USA-states",
         "locations": [
          "AL",
          "AK",
          "AZ",
          "AR",
          "CA",
          "CO",
          "CT",
          "DE",
          "DC",
          "FL",
          "GA",
          "HI",
          "ID",
          "IL",
          "IN",
          "IA",
          "KS",
          "KY",
          "LA",
          "ME",
          "MD",
          "MA",
          "MI",
          "MN",
          "MS",
          "MO",
          "NE",
          "NV",
          "NH",
          "NJ",
          "NM",
          "NY",
          "NC",
          "OH",
          "OK",
          "OR",
          "PA",
          "RI",
          "SC",
          "SD",
          "TN",
          "TX",
          "UT",
          "VT",
          "VA",
          "WA",
          "WV",
          "WI",
          "WY"
         ],
         "marker": {
          "line": {
           "color": "white"
          }
         },
         "text": [
          "Alabama",
          "Alaska",
          "Arizona",
          "Arkansas",
          "California",
          "Colorado",
          "Connecticut",
          "Delaware",
          "District of Columbia",
          "Florida",
          "Georgia",
          "Hawaii",
          "Idaho",
          "Illinois",
          "Indiana",
          "Iowa",
          "Kansas",
          "Kentucky",
          "Louisiana",
          "Maine",
          "Maryland",
          "Massachusetts",
          "Michigan",
          "Minnesota",
          "Mississippi",
          "Missouri",
          "Nebraska",
          "Nevada",
          "New Hampshire",
          "New Jersey",
          "New Mexico",
          "New York",
          "North Carolina",
          "Ohio",
          "Oklahoma",
          "Oregon",
          "Pennsylvania",
          "Rhode Island",
          "South Carolina",
          "South Dakota",
          "Tennessee",
          "Texas",
          "Utah",
          "Vermont",
          "Virginia",
          "Washington",
          "West Virginia",
          "Wisconsin",
          "Wyoming"
         ],
         "type": "choropleth",
         "z": [
          -0.14445555555555556,
          0.06623333333333332,
          0.10595526315789473,
          0.13382857142857144,
          -0.042262,
          0.006583999999999994,
          0.08267333333333333,
          0.13688,
          0.017218750000000005,
          0.05575583333333334,
          0.099221875,
          0.2783333333333333,
          -0.17793333333333336,
          -0.020137254901960784,
          -0.06749375,
          0.183,
          0.059175000000000005,
          -0.12075714285714287,
          0.0001588235294117668,
          0.13712,
          0.04373529411764705,
          0.08903846153846154,
          -0.11616428571428572,
          0.09533461538461538,
          0.33267500000000005,
          0.11898095238095238,
          -0.02970000000000001,
          -0.02715833333333333,
          -0.035549999999999984,
          0.076035,
          -0.2454,
          0.026470093457943926,
          0.03990666666666666,
          0.048057446808510644,
          0.015123529411764688,
          -0.0415421052631579,
          0.010000000000000014,
          -0.015874999999999993,
          0.2741,
          -0.50875,
          -0.07816206896551725,
          0.017655462184873953,
          0.12047272727272727,
          -0.13982857142857144,
          -0.009052941176470581,
          0.09035000000000001,
          0.059783333333333334,
          -0.011066666666666673,
          -0.242
         ],
         "zmax": 0.6,
         "zmin": -0.6
        }
       ],
       "layout": {
        "autosize": true,
        "geo": {
         "lakecolor": "rgb(255, 255, 255)",
         "projection": {
          "type": "albers usa"
         },
         "scope": "usa",
         "showlakes": true
        },
        "margin": {
         "b": 0,
         "l": 0,
         "r": 0,
         "t": 0
        },
        "template": {
         "data": {
          "bar": [
           {
            "error_x": {
             "color": "#2a3f5f"
            },
            "error_y": {
             "color": "#2a3f5f"
            },
            "marker": {
             "line": {
              "color": "#E5ECF6",
              "width": 0.5
             },
             "pattern": {
              "fillmode": "overlay",
              "size": 10,
              "solidity": 0.2
             }
            },
            "type": "bar"
           }
          ],
          "barpolar": [
           {
            "marker": {
             "line": {
              "color": "#E5ECF6",
              "width": 0.5
             },
             "pattern": {
              "fillmode": "overlay",
              "size": 10,
              "solidity": 0.2
             }
            },
            "type": "barpolar"
           }
          ],
          "carpet": [
           {
            "aaxis": {
             "endlinecolor": "#2a3f5f",
             "gridcolor": "white",
             "linecolor": "white",
             "minorgridcolor": "white",
             "startlinecolor": "#2a3f5f"
            },
            "baxis": {
             "endlinecolor": "#2a3f5f",
             "gridcolor": "white",
             "linecolor": "white",
             "minorgridcolor": "white",
             "startlinecolor": "#2a3f5f"
            },
            "type": "carpet"
           }
          ],
          "choropleth": [
           {
            "colorbar": {
             "outlinewidth": 0,
             "ticks": ""
            },
            "type": "choropleth"
           }
          ],
          "contour": [
           {
            "colorbar": {
             "outlinewidth": 0,
             "ticks": ""
            },
            "colorscale": [
             [
              0,
              "#0d0887"
             ],
             [
              0.1111111111111111,
              "#46039f"
             ],
             [
              0.2222222222222222,
              "#7201a8"
             ],
             [
              0.3333333333333333,
              "#9c179e"
             ],
             [
              0.4444444444444444,
              "#bd3786"
             ],
             [
              0.5555555555555556,
              "#d8576b"
             ],
             [
              0.6666666666666666,
              "#ed7953"
             ],
             [
              0.7777777777777778,
              "#fb9f3a"
             ],
             [
              0.8888888888888888,
              "#fdca26"
             ],
             [
              1,
              "#f0f921"
             ]
            ],
            "type": "contour"
           }
          ],
          "contourcarpet": [
           {
            "colorbar": {
             "outlinewidth": 0,
             "ticks": ""
            },
            "type": "contourcarpet"
           }
          ],
          "heatmap": [
           {
            "colorbar": {
             "outlinewidth": 0,
             "ticks": ""
            },
            "colorscale": [
             [
              0,
              "#0d0887"
             ],
             [
              0.1111111111111111,
              "#46039f"
             ],
             [
              0.2222222222222222,
              "#7201a8"
             ],
             [
              0.3333333333333333,
              "#9c179e"
             ],
             [
              0.4444444444444444,
              "#bd3786"
             ],
             [
              0.5555555555555556,
              "#d8576b"
             ],
             [
              0.6666666666666666,
              "#ed7953"
             ],
             [
              0.7777777777777778,
              "#fb9f3a"
             ],
             [
              0.8888888888888888,
              "#fdca26"
             ],
             [
              1,
              "#f0f921"
             ]
            ],
            "type": "heatmap"
           }
          ],
          "heatmapgl": [
           {
            "colorbar": {
             "outlinewidth": 0,
             "ticks": ""
            },
            "colorscale": [
             [
              0,
              "#0d0887"
             ],
             [
              0.1111111111111111,
              "#46039f"
             ],
             [
              0.2222222222222222,
              "#7201a8"
             ],
             [
              0.3333333333333333,
              "#9c179e"
             ],
             [
              0.4444444444444444,
              "#bd3786"
             ],
             [
              0.5555555555555556,
              "#d8576b"
             ],
             [
              0.6666666666666666,
              "#ed7953"
             ],
             [
              0.7777777777777778,
              "#fb9f3a"
             ],
             [
              0.8888888888888888,
              "#fdca26"
             ],
             [
              1,
              "#f0f921"
             ]
            ],
            "type": "heatmapgl"
           }
          ],
          "histogram": [
           {
            "marker": {
             "pattern": {
              "fillmode": "overlay",
              "size": 10,
              "solidity": 0.2
             }
            },
            "type": "histogram"
           }
          ],
          "histogram2d": [
           {
            "colorbar": {
             "outlinewidth": 0,
             "ticks": ""
            },
            "colorscale": [
             [
              0,
              "#0d0887"
             ],
             [
              0.1111111111111111,
              "#46039f"
             ],
             [
              0.2222222222222222,
              "#7201a8"
             ],
             [
              0.3333333333333333,
              "#9c179e"
             ],
             [
              0.4444444444444444,
              "#bd3786"
             ],
             [
              0.5555555555555556,
              "#d8576b"
             ],
             [
              0.6666666666666666,
              "#ed7953"
             ],
             [
              0.7777777777777778,
              "#fb9f3a"
             ],
             [
              0.8888888888888888,
              "#fdca26"
             ],
             [
              1,
              "#f0f921"
             ]
            ],
            "type": "histogram2d"
           }
          ],
          "histogram2dcontour": [
           {
            "colorbar": {
             "outlinewidth": 0,
             "ticks": ""
            },
            "colorscale": [
             [
              0,
              "#0d0887"
             ],
             [
              0.1111111111111111,
              "#46039f"
             ],
             [
              0.2222222222222222,
              "#7201a8"
             ],
             [
              0.3333333333333333,
              "#9c179e"
             ],
             [
              0.4444444444444444,
              "#bd3786"
             ],
             [
              0.5555555555555556,
              "#d8576b"
             ],
             [
              0.6666666666666666,
              "#ed7953"
             ],
             [
              0.7777777777777778,
              "#fb9f3a"
             ],
             [
              0.8888888888888888,
              "#fdca26"
             ],
             [
              1,
              "#f0f921"
             ]
            ],
            "type": "histogram2dcontour"
           }
          ],
          "mesh3d": [
           {
            "colorbar": {
             "outlinewidth": 0,
             "ticks": ""
            },
            "type": "mesh3d"
           }
          ],
          "parcoords": [
           {
            "line": {
             "colorbar": {
              "outlinewidth": 0,
              "ticks": ""
             }
            },
            "type": "parcoords"
           }
          ],
          "pie": [
           {
            "automargin": true,
            "type": "pie"
           }
          ],
          "scatter": [
           {
            "marker": {
             "colorbar": {
              "outlinewidth": 0,
              "ticks": ""
             }
            },
            "type": "scatter"
           }
          ],
          "scatter3d": [
           {
            "line": {
             "colorbar": {
              "outlinewidth": 0,
              "ticks": ""
             }
            },
            "marker": {
             "colorbar": {
              "outlinewidth": 0,
              "ticks": ""
             }
            },
            "type": "scatter3d"
           }
          ],
          "scattercarpet": [
           {
            "marker": {
             "colorbar": {
              "outlinewidth": 0,
              "ticks": ""
             }
            },
            "type": "scattercarpet"
           }
          ],
          "scattergeo": [
           {
            "marker": {
             "colorbar": {
              "outlinewidth": 0,
              "ticks": ""
             }
            },
            "type": "scattergeo"
           }
          ],
          "scattergl": [
           {
            "marker": {
             "colorbar": {
              "outlinewidth": 0,
              "ticks": ""
             }
            },
            "type": "scattergl"
           }
          ],
          "scattermapbox": [
           {
            "marker": {
             "colorbar": {
              "outlinewidth": 0,
              "ticks": ""
             }
            },
            "type": "scattermapbox"
           }
          ],
          "scatterpolar": [
           {
            "marker": {
             "colorbar": {
              "outlinewidth": 0,
              "ticks": ""
             }
            },
            "type": "scatterpolar"
           }
          ],
          "scatterpolargl": [
           {
            "marker": {
             "colorbar": {
              "outlinewidth": 0,
              "ticks": ""
             }
            },
            "type": "scatterpolargl"
           }
          ],
          "scatterternary": [
           {
            "marker": {
             "colorbar": {
              "outlinewidth": 0,
              "ticks": ""
             }
            },
            "type": "scatterternary"
           }
          ],
          "surface": [
           {
            "colorbar": {
             "outlinewidth": 0,
             "ticks": ""
            },
            "colorscale": [
             [
              0,
              "#0d0887"
             ],
             [
              0.1111111111111111,
              "#46039f"
             ],
             [
              0.2222222222222222,
              "#7201a8"
             ],
             [
              0.3333333333333333,
              "#9c179e"
             ],
             [
              0.4444444444444444,
              "#bd3786"
             ],
             [
              0.5555555555555556,
              "#d8576b"
             ],
             [
              0.6666666666666666,
              "#ed7953"
             ],
             [
              0.7777777777777778,
              "#fb9f3a"
             ],
             [
              0.8888888888888888,
              "#fdca26"
             ],
             [
              1,
              "#f0f921"
             ]
            ],
            "type": "surface"
           }
          ],
          "table": [
           {
            "cells": {
             "fill": {
              "color": "#EBF0F8"
             },
             "line": {
              "color": "white"
             }
            },
            "header": {
             "fill": {
              "color": "#C8D4E3"
             },
             "line": {
              "color": "white"
             }
            },
            "type": "table"
           }
          ]
         },
         "layout": {
          "annotationdefaults": {
           "arrowcolor": "#2a3f5f",
           "arrowhead": 0,
           "arrowwidth": 1
          },
          "autotypenumbers": "strict",
          "coloraxis": {
           "colorbar": {
            "outlinewidth": 0,
            "ticks": ""
           }
          },
          "colorscale": {
           "diverging": [
            [
             0,
             "#8e0152"
            ],
            [
             0.1,
             "#c51b7d"
            ],
            [
             0.2,
             "#de77ae"
            ],
            [
             0.3,
             "#f1b6da"
            ],
            [
             0.4,
             "#fde0ef"
            ],
            [
             0.5,
             "#f7f7f7"
            ],
            [
             0.6,
             "#e6f5d0"
            ],
            [
             0.7,
             "#b8e186"
            ],
            [
             0.8,
             "#7fbc41"
            ],
            [
             0.9,
             "#4d9221"
            ],
            [
             1,
             "#276419"
            ]
           ],
           "sequential": [
            [
             0,
             "#0d0887"
            ],
            [
             0.1111111111111111,
             "#46039f"
            ],
            [
             0.2222222222222222,
             "#7201a8"
            ],
            [
             0.3333333333333333,
             "#9c179e"
            ],
            [
             0.4444444444444444,
             "#bd3786"
            ],
            [
             0.5555555555555556,
             "#d8576b"
            ],
            [
             0.6666666666666666,
             "#ed7953"
            ],
            [
             0.7777777777777778,
             "#fb9f3a"
            ],
            [
             0.8888888888888888,
             "#fdca26"
            ],
            [
             1,
             "#f0f921"
            ]
           ],
           "sequentialminus": [
            [
             0,
             "#0d0887"
            ],
            [
             0.1111111111111111,
             "#46039f"
            ],
            [
             0.2222222222222222,
             "#7201a8"
            ],
            [
             0.3333333333333333,
             "#9c179e"
            ],
            [
             0.4444444444444444,
             "#bd3786"
            ],
            [
             0.5555555555555556,
             "#d8576b"
            ],
            [
             0.6666666666666666,
             "#ed7953"
            ],
            [
             0.7777777777777778,
             "#fb9f3a"
            ],
            [
             0.8888888888888888,
             "#fdca26"
            ],
            [
             1,
             "#f0f921"
            ]
           ]
          },
          "colorway": [
           "#636efa",
           "#EF553B",
           "#00cc96",
           "#ab63fa",
           "#FFA15A",
           "#19d3f3",
           "#FF6692",
           "#B6E880",
           "#FF97FF",
           "#FECB52"
          ],
          "font": {
           "color": "#2a3f5f"
          },
          "geo": {
           "bgcolor": "white",
           "lakecolor": "white",
           "landcolor": "#E5ECF6",
           "showlakes": true,
           "showland": true,
           "subunitcolor": "white"
          },
          "hoverlabel": {
           "align": "left"
          },
          "hovermode": "closest",
          "mapbox": {
           "style": "light"
          },
          "paper_bgcolor": "white",
          "plot_bgcolor": "#E5ECF6",
          "polar": {
           "angularaxis": {
            "gridcolor": "white",
            "linecolor": "white",
            "ticks": ""
           },
           "bgcolor": "#E5ECF6",
           "radialaxis": {
            "gridcolor": "white",
            "linecolor": "white",
            "ticks": ""
           }
          },
          "scene": {
           "xaxis": {
            "backgroundcolor": "#E5ECF6",
            "gridcolor": "white",
            "gridwidth": 2,
            "linecolor": "white",
            "showbackground": true,
            "ticks": "",
            "zerolinecolor": "white"
           },
           "yaxis": {
            "backgroundcolor": "#E5ECF6",
            "gridcolor": "white",
            "gridwidth": 2,
            "linecolor": "white",
            "showbackground": true,
            "ticks": "",
            "zerolinecolor": "white"
           },
           "zaxis": {
            "backgroundcolor": "#E5ECF6",
            "gridcolor": "white",
            "gridwidth": 2,
            "linecolor": "white",
            "showbackground": true,
            "ticks": "",
            "zerolinecolor": "white"
           }
          },
          "shapedefaults": {
           "line": {
            "color": "#2a3f5f"
           }
          },
          "ternary": {
           "aaxis": {
            "gridcolor": "white",
            "linecolor": "white",
            "ticks": ""
           },
           "baxis": {
            "gridcolor": "white",
            "linecolor": "white",
            "ticks": ""
           },
           "bgcolor": "#E5ECF6",
           "caxis": {
            "gridcolor": "white",
            "linecolor": "white",
            "ticks": ""
           }
          },
          "title": {
           "x": 0.05
          },
          "xaxis": {
           "automargin": true,
           "gridcolor": "white",
           "linecolor": "white",
           "ticks": "",
           "title": {
            "standoff": 15
           },
           "zerolinecolor": "white",
           "zerolinewidth": 2
          },
          "yaxis": {
           "automargin": true,
           "gridcolor": "white",
           "linecolor": "white",
           "ticks": "",
           "title": {
            "standoff": 15
           },
           "zerolinecolor": "white",
           "zerolinewidth": 2
          }
         }
        }
       }
      },
      "image/png": "[encoded data removed]",
      "text/html": [
       "<div>                            <div id=\"ee052068-347d-4bab-a51d-578cd38c4fcd\" class=\"plotly-graph-div\" style=\"height:525px; width:100%;\"></div>            <script type=\"text/javascript\">                require([\"plotly\"], function(Plotly) {                    window.PLOTLYENV=window.PLOTLYENV || {};                                    if (document.getElementById(\"ee052068-347d-4bab-a51d-578cd38c4fcd\")) {                    Plotly.newPlot(                        \"ee052068-347d-4bab-a51d-578cd38c4fcd\",                        [{\"autocolorscale\":true,\"colorbar\":{\"title\":{\"text\":\"Sentiment (-1, 1)\"}},\"colorscale\":[[0.0,\"rgb(103,0,31)\"],[0.1,\"rgb(178,24,43)\"],[0.2,\"rgb(214,96,77)\"],[0.3,\"rgb(244,165,130)\"],[0.4,\"rgb(253,219,199)\"],[0.5,\"rgb(247,247,247)\"],[0.6,\"rgb(209,229,240)\"],[0.7,\"rgb(146,197,222)\"],[0.8,\"rgb(67,147,195)\"],[0.9,\"rgb(33,102,172)\"],[1.0,\"rgb(5,48,97)\"]],\"locationmode\":\"USA-states\",\"locations\":[\"AL\",\"AK\",\"AZ\",\"AR\",\"CA\",\"CO\",\"CT\",\"DE\",\"DC\",\"FL\",\"GA\",\"HI\",\"ID\",\"IL\",\"IN\",\"IA\",\"KS\",\"KY\",\"LA\",\"ME\",\"MD\",\"MA\",\"MI\",\"MN\",\"MS\",\"MO\",\"NE\",\"NV\",\"NH\",\"NJ\",\"NM\",\"NY\",\"NC\",\"OH\",\"OK\",\"OR\",\"PA\",\"RI\",\"SC\",\"SD\",\"TN\",\"TX\",\"UT\",\"VT\",\"VA\",\"WA\",\"WV\",\"WI\",\"WY\"],\"marker\":{\"line\":{\"color\":\"white\"}},\"text\":[\"Alabama\",\"Alaska\",\"Arizona\",\"Arkansas\",\"California\",\"Colorado\",\"Connecticut\",\"Delaware\",\"District of Columbia\",\"Florida\",\"Georgia\",\"Hawaii\",\"Idaho\",\"Illinois\",\"Indiana\",\"Iowa\",\"Kansas\",\"Kentucky\",\"Louisiana\",\"Maine\",\"Maryland\",\"Massachusetts\",\"Michigan\",\"Minnesota\",\"Mississippi\",\"Missouri\",\"Nebraska\",\"Nevada\",\"New Hampshire\",\"New Jersey\",\"New Mexico\",\"New York\",\"North Carolina\",\"Ohio\",\"Oklahoma\",\"Oregon\",\"Pennsylvania\",\"Rhode Island\",\"South Carolina\",\"South Dakota\",\"Tennessee\",\"Texas\",\"Utah\",\"Vermont\",\"Virginia\",\"Washington\",\"West Virginia\",\"Wisconsin\",\"Wyoming\"],\"z\":[-0.14445555555555556,0.06623333333333332,0.10595526315789473,0.13382857142857144,-0.042262,0.006583999999999994,0.08267333333333333,0.13688,0.017218750000000005,0.05575583333333334,0.099221875,0.2783333333333333,-0.17793333333333336,-0.020137254901960784,-0.06749375,0.183,0.059175000000000005,-0.12075714285714287,0.0001588235294117668,0.13712,0.04373529411764705,0.08903846153846154,-0.11616428571428572,0.09533461538461538,0.33267500000000005,0.11898095238095238,-0.02970000000000001,-0.02715833333333333,-0.035549999999999984,0.076035,-0.2454,0.026470093457943926,0.03990666666666666,0.048057446808510644,0.015123529411764688,-0.0415421052631579,0.010000000000000014,-0.015874999999999993,0.2741,-0.50875,-0.07816206896551725,0.017655462184873953,0.12047272727272727,-0.13982857142857144,-0.009052941176470581,0.09035000000000001,0.059783333333333334,-0.011066666666666673,-0.242],\"zmax\":0.6,\"zmin\":-0.6,\"type\":\"choropleth\"}],                        {\"template\":{\"data\":{\"bar\":[{\"error_x\":{\"color\":\"#2a3f5f\"},\"error_y\":{\"color\":\"#2a3f5f\"},\"marker\":{\"line\":{\"color\":\"#E5ECF6\",\"width\":0.5},\"pattern\":{\"fillmode\":\"overlay\",\"size\":10,\"solidity\":0.2}},\"type\":\"bar\"}],\"barpolar\":[{\"marker\":{\"line\":{\"color\":\"#E5ECF6\",\"width\":0.5},\"pattern\":{\"fillmode\":\"overlay\",\"size\":10,\"solidity\":0.2}},\"type\":\"barpolar\"}],\"carpet\":[{\"aaxis\":{\"endlinecolor\":\"#2a3f5f\",\"gridcolor\":\"white\",\"linecolor\":\"white\",\"minorgridcolor\":\"white\",\"startlinecolor\":\"#2a3f5f\"},\"baxis\":{\"endlinecolor\":\"#2a3f5f\",\"gridcolor\":\"white\",\"linecolor\":\"white\",\"minorgridcolor\":\"white\",\"startlinecolor\":\"#2a3f5f\"},\"type\":\"carpet\"}],\"choropleth\":[{\"colorbar\":{\"outlinewidth\":0,\"ticks\":\"\"},\"type\":\"choropleth\"}],\"contour\":[{\"colorbar\":{\"outlinewidth\":0,\"ticks\":\"\"},\"colorscale\":[[0.0,\"#0d0887\"],[0.1111111111111111,\"#46039f\"],[0.2222222222222222,\"#7201a8\"],[0.3333333333333333,\"#9c179e\"],[0.4444444444444444,\"#bd3786\"],[0.5555555555555556,\"#d8576b\"],[0.6666666666666666,\"#ed7953\"],[0.7777777777777778,\"#fb9f3a\"],[0.8888888888888888,\"#fdca26\"],[1.0,\"#f0f921\"]],\"type\":\"contour\"}],\"contourcarpet\":[{\"colorbar\":{\"outlinewidth\":0,\"ticks\":\"\"},\"type\":\"contourcarpet\"}],\"heatmap\":[{\"colorbar\":{\"outlinewidth\":0,\"ticks\":\"\"},\"colorscale\":[[0.0,\"#0d0887\"],[0.1111111111111111,\"#46039f\"],[0.2222222222222222,\"#7201a8\"],[0.3333333333333333,\"#9c179e\"],[0.4444444444444444,\"#bd3786\"],[0.5555555555555556,\"#d8576b\"],[0.6666666666666666,\"#ed7953\"],[0.7777777777777778,\"#fb9f3a\"],[0.8888888888888888,\"#fdca26\"],[1.0,\"#f0f921\"]],\"type\":\"heatmap\"}],\"heatmapgl\":[{\"colorbar\":{\"outlinewidth\":0,\"ticks\":\"\"},\"colorscale\":[[0.0,\"#0d0887\"],[0.1111111111111111,\"#46039f\"],[0.2222222222222222,\"#7201a8\"],[0.3333333333333333,\"#9c179e\"],[0.4444444444444444,\"#bd3786\"],[0.5555555555555556,\"#d8576b\"],[0.6666666666666666,\"#ed7953\"],[0.7777777777777778,\"#fb9f3a\"],[0.8888888888888888,\"#fdca26\"],[1.0,\"#f0f921\"]],\"type\":\"heatmapgl\"}],\"histogram\":[{\"marker\":{\"pattern\":{\"fillmode\":\"overlay\",\"size\":10,\"solidity\":0.2}},\"type\":\"histogram\"}],\"histogram2d\":[{\"colorbar\":{\"outlinewidth\":0,\"ticks\":\"\"},\"colorscale\":[[0.0,\"#0d0887\"],[0.1111111111111111,\"#46039f\"],[0.2222222222222222,\"#7201a8\"],[0.3333333333333333,\"#9c179e\"],[0.4444444444444444,\"#bd3786\"],[0.5555555555555556,\"#d8576b\"],[0.6666666666666666,\"#ed7953\"],[0.7777777777777778,\"#fb9f3a\"],[0.8888888888888888,\"#fdca26\"],[1.0,\"#f0f921\"]],\"type\":\"histogram2d\"}],\"histogram2dcontour\":[{\"colorbar\":{\"outlinewidth\":0,\"ticks\":\"\"},\"colorscale\":[[0.0,\"#0d0887\"],[0.1111111111111111,\"#46039f\"],[0.2222222222222222,\"#7201a8\"],[0.3333333333333333,\"#9c179e\"],[0.4444444444444444,\"#bd3786\"],[0.5555555555555556,\"#d8576b\"],[0.6666666666666666,\"#ed7953\"],[0.7777777777777778,\"#fb9f3a\"],[0.8888888888888888,\"#fdca26\"],[1.0,\"#f0f921\"]],\"type\":\"histogram2dcontour\"}],\"mesh3d\":[{\"colorbar\":{\"outlinewidth\":0,\"ticks\":\"\"},\"type\":\"mesh3d\"}],\"parcoords\":[{\"line\":{\"colorbar\":{\"outlinewidth\":0,\"ticks\":\"\"}},\"type\":\"parcoords\"}],\"pie\":[{\"automargin\":true,\"type\":\"pie\"}],\"scatter\":[{\"marker\":{\"colorbar\":{\"outlinewidth\":0,\"ticks\":\"\"}},\"type\":\"scatter\"}],\"scatter3d\":[{\"line\":{\"colorbar\":{\"outlinewidth\":0,\"ticks\":\"\"}},\"marker\":{\"colorbar\":{\"outlinewidth\":0,\"ticks\":\"\"}},\"type\":\"scatter3d\"}],\"scattercarpet\":[{\"marker\":{\"colorbar\":{\"outlinewidth\":0,\"ticks\":\"\"}},\"type\":\"scattercarpet\"}],\"scattergeo\":[{\"marker\":{\"colorbar\":{\"outlinewidth\":0,\"ticks\":\"\"}},\"type\":\"scattergeo\"}],\"scattergl\":[{\"marker\":{\"colorbar\":{\"outlinewidth\":0,\"ticks\":\"\"}},\"type\":\"scattergl\"}],\"scattermapbox\":[{\"marker\":{\"colorbar\":{\"outlinewidth\":0,\"ticks\":\"\"}},\"type\":\"scattermapbox\"}],\"scatterpolar\":[{\"marker\":{\"colorbar\":{\"outlinewidth\":0,\"ticks\":\"\"}},\"type\":\"scatterpolar\"}],\"scatterpolargl\":[{\"marker\":{\"colorbar\":{\"outlinewidth\":0,\"ticks\":\"\"}},\"type\":\"scatterpolargl\"}],\"scatterternary\":[{\"marker\":{\"colorbar\":{\"outlinewidth\":0,\"ticks\":\"\"}},\"type\":\"scatterternary\"}],\"surface\":[{\"colorbar\":{\"outlinewidth\":0,\"ticks\":\"\"},\"colorscale\":[[0.0,\"#0d0887\"],[0.1111111111111111,\"#46039f\"],[0.2222222222222222,\"#7201a8\"],[0.3333333333333333,\"#9c179e\"],[0.4444444444444444,\"#bd3786\"],[0.5555555555555556,\"#d8576b\"],[0.6666666666666666,\"#ed7953\"],[0.7777777777777778,\"#fb9f3a\"],[0.8888888888888888,\"#fdca26\"],[1.0,\"#f0f921\"]],\"type\":\"surface\"}],\"table\":[{\"cells\":{\"fill\":{\"color\":\"#EBF0F8\"},\"line\":{\"color\":\"white\"}},\"header\":{\"fill\":{\"color\":\"#C8D4E3\"},\"line\":{\"color\":\"white\"}},\"type\":\"table\"}]},\"layout\":{\"annotationdefaults\":{\"arrowcolor\":\"#2a3f5f\",\"arrowhead\":0,\"arrowwidth\":1},\"autotypenumbers\":\"strict\",\"coloraxis\":{\"colorbar\":{\"outlinewidth\":0,\"ticks\":\"\"}},\"colorscale\":{\"diverging\":[[0,\"#8e0152\"],[0.1,\"#c51b7d\"],[0.2,\"#de77ae\"],[0.3,\"#f1b6da\"],[0.4,\"#fde0ef\"],[0.5,\"#f7f7f7\"],[0.6,\"#e6f5d0\"],[0.7,\"#b8e186\"],[0.8,\"#7fbc41\"],[0.9,\"#4d9221\"],[1,\"#276419\"]],\"sequential\":[[0.0,\"#0d0887\"],[0.1111111111111111,\"#46039f\"],[0.2222222222222222,\"#7201a8\"],[0.3333333333333333,\"#9c179e\"],[0.4444444444444444,\"#bd3786\"],[0.5555555555555556,\"#d8576b\"],[0.6666666666666666,\"#ed7953\"],[0.7777777777777778,\"#fb9f3a\"],[0.8888888888888888,\"#fdca26\"],[1.0,\"#f0f921\"]],\"sequentialminus\":[[0.0,\"#0d0887\"],[0.1111111111111111,\"#46039f\"],[0.2222222222222222,\"#7201a8\"],[0.3333333333333333,\"#9c179e\"],[0.4444444444444444,\"#bd3786\"],[0.5555555555555556,\"#d8576b\"],[0.6666666666666666,\"#ed7953\"],[0.7777777777777778,\"#fb9f3a\"],[0.8888888888888888,\"#fdca26\"],[1.0,\"#f0f921\"]]},\"colorway\":[\"#636efa\",\"#EF553B\",\"#00cc96\",\"#ab63fa\",\"#FFA15A\",\"#19d3f3\",\"#FF6692\",\"#B6E880\",\"#FF97FF\",\"#FECB52\"],\"font\":{\"color\":\"#2a3f5f\"},\"geo\":{\"bgcolor\":\"white\",\"lakecolor\":\"white\",\"landcolor\":\"#E5ECF6\",\"showlakes\":true,\"showland\":true,\"subunitcolor\":\"white\"},\"hoverlabel\":{\"align\":\"left\"},\"hovermode\":\"closest\",\"mapbox\":{\"style\":\"light\"},\"paper_bgcolor\":\"white\",\"plot_bgcolor\":\"#E5ECF6\",\"polar\":{\"angularaxis\":{\"gridcolor\":\"white\",\"linecolor\":\"white\",\"ticks\":\"\"},\"bgcolor\":\"#E5ECF6\",\"radialaxis\":{\"gridcolor\":\"white\",\"linecolor\":\"white\",\"ticks\":\"\"}},\"scene\":{\"xaxis\":{\"backgroundcolor\":\"#E5ECF6\",\"gridcolor\":\"white\",\"gridwidth\":2,\"linecolor\":\"white\",\"showbackground\":true,\"ticks\":\"\",\"zerolinecolor\":\"white\"},\"yaxis\":{\"backgroundcolor\":\"#E5ECF6\",\"gridcolor\":\"white\",\"gridwidth\":2,\"linecolor\":\"white\",\"showbackground\":true,\"ticks\":\"\",\"zerolinecolor\":\"white\"},\"zaxis\":{\"backgroundcolor\":\"#E5ECF6\",\"gridcolor\":\"white\",\"gridwidth\":2,\"linecolor\":\"white\",\"showbackground\":true,\"ticks\":\"\",\"zerolinecolor\":\"white\"}},\"shapedefaults\":{\"line\":{\"color\":\"#2a3f5f\"}},\"ternary\":{\"aaxis\":{\"gridcolor\":\"white\",\"linecolor\":\"white\",\"ticks\":\"\"},\"baxis\":{\"gridcolor\":\"white\",\"linecolor\":\"white\",\"ticks\":\"\"},\"bgcolor\":\"#E5ECF6\",\"caxis\":{\"gridcolor\":\"white\",\"linecolor\":\"white\",\"ticks\":\"\"}},\"title\":{\"x\":0.05},\"xaxis\":{\"automargin\":true,\"gridcolor\":\"white\",\"linecolor\":\"white\",\"ticks\":\"\",\"title\":{\"standoff\":15},\"zerolinecolor\":\"white\",\"zerolinewidth\":2},\"yaxis\":{\"automargin\":true,\"gridcolor\":\"white\",\"linecolor\":\"white\",\"ticks\":\"\",\"title\":{\"standoff\":15},\"zerolinecolor\":\"white\",\"zerolinewidth\":2}}},\"geo\":{\"scope\":\"usa\",\"projection\":{\"type\":\"albers usa\"},\"showlakes\":true,\"lakecolor\":\"rgb(255, 255, 255)\"},\"margin\":{\"r\":0,\"t\":0,\"l\":0,\"b\":0}},                        {\"responsive\": true}                    ).then(function(){\n",
       "                            \n",
       "var gd = document.getElementById('ee052068-347d-4bab-a51d-578cd38c4fcd');\n",
       "var x = new MutationObserver(function (mutations, observer) {{\n",
       "        var display = window.getComputedStyle(gd).display;\n",
       "        if (!display || display === 'none') {{\n",
       "            console.log([gd, 'removed!']);\n",
       "            Plotly.purge(gd);\n",
       "            observer.disconnect();\n",
       "        }}\n",
       "}});\n",
       "\n",
       "// Listen for the removal of the full notebook cells\n",
       "var notebookContainer = gd.closest('#notebook-container');\n",
       "if (notebookContainer) {{\n",
       "    x.observe(notebookContainer, {childList: true});\n",
       "}}\n",
       "\n",
       "// Listen for the clearing of the current output cell\n",
       "var outputEl = gd.closest('.output');\n",
       "if (outputEl) {{\n",
       "    x.observe(outputEl, {childList: true});\n",
       "}}\n",
       "\n",
       "                        })                };                });            </script>        </div>"
      ]
     },
     "metadata": {},
     "output_type": "display_data"
    }
   ],
   "source": [
    "#df_map = tweets_df4\n",
    "\n",
    "tweets_mean['text'] = tweets_mean['state']\n",
    "\n",
    "fig = go.Figure(data=go.Choropleth(\n",
    "    locations=tweets_mean['state_code'], # Spatial coordinates,\n",
    "    z = tweets_mean['mean_sentiment'].astype(float), # Data to be color-coded\n",
    "    locationmode='USA-states',\n",
    "    colorscale='RdBu',\n",
    "    autocolorscale=True,\n",
    "    text=tweets_mean['text'], # hover text\n",
    "    marker_line_color='white', # line markers between states\n",
    "    colorbar_title=\"Sentiment (-1, 1)\", \n",
    "    zmin=-0.6, # min value for colorbar\n",
    "    zmax=0.6 # max value for colorbar\n",
    "))\n",
    "\n",
    "\n",
    "fig.update_layout(\n",
    "    #title_text='Sentiment around 2020 US presidential election',\n",
    "    geo = dict(\n",
    "        scope='usa',\n",
    "        projection=go.layout.geo.Projection(type = 'albers usa'),\n",
    "        showlakes=True, # lakes\n",
    "        lakecolor='rgb(255, 255, 255)'),\n",
    ")\n",
    "\n",
    "fig.update_layout(margin={\"r\":0,\"t\":0,\"l\":0,\"b\":0})\n",
    "fig.show()\n",
    "\n"
   ]
  },
  {
   "cell_type": "markdown",
   "id": "ab9f2456-61e2-495c-8990-82907d0fb05c",
   "metadata": {},
   "source": [
    "### Violinplot over average sentiment for each party"
   ]
  },
  {
   "cell_type": "code",
   "execution_count": 29,
   "id": "60402cd8-fdd2-4934-a359-be6eaf41c5b6",
   "metadata": {},
   "outputs": [
    {
     "data": {
      "image/png": "[encoded data removed]",
      "text/plain": [
       "<Figure size 576x360 with 1 Axes>"
      ]
     },
     "metadata": {
      "needs_background": "light"
     },
     "output_type": "display_data"
    }
   ],
   "source": [
    "fig = plt.figure(figsize=(8, 5))\n",
    "my_pal = {\"Blue\": \"b\", \"Red\": \"r\"}\n",
    "\n",
    "\n",
    "#sns.set(style=\"darkgrid\") # run this once for dark colored graphs, - dont know why\n",
    "\n",
    "ax = sns.violinplot(x=\"state_color\", y=\"sentiment_score\", data=tweets_df3, palette=my_pal, linewidth=3)\n",
    "\n",
    "# Calculate number of obs per group & median to position labels\n",
    "medians = tweets_df3.groupby(['state_color'])['sentiment_score'].mean().values\n",
    "nobs = tweets_df3['state_color'].value_counts().values\n",
    "nobs = [str(x) for x in nobs.tolist()]\n",
    "nobs = [\"n tweets: \" + i for i in nobs]\n",
    "\n",
    "# Add text to the figure\n",
    "pos = range(len(nobs))\n",
    "for tick, label in zip(pos, ax.get_xticklabels()):\n",
    "    ax.text(pos[tick],\n",
    "            medians[tick]+0.1, \n",
    "            nobs[tick],\n",
    "            horizontalalignment='center',\n",
    "            color='w', # text  color\n",
    "            fontsize=12,\n",
    "            weight='semibold'\n",
    "           )\n",
    "    \n",
    "#colors\n",
    "sns.set_style(\"white\")\n",
    "\n",
    "sns.despine(offset=10, trim=True); #remove unnecessary axis \n",
    "ax.set_xlabel('States elected republican (Red) or democratic (Blue)') # Choose title x-axis\n",
    "ax.xaxis.label.set_fontsize(12) # Choose font size for x-axis title\n",
    "\n",
    "ax.set_ylabel('Sentiment') # Choose title y-axis\n",
    "ax.yaxis.label.set_fontsize(12) # Choose font size for y-axis title\n",
    "fig.savefig('violinplot_red_blue.pdf') "
   ]
  },
  {
   "cell_type": "markdown",
   "id": "25dfab0c-de37-4f8d-97f2-08e721770327",
   "metadata": {},
   "source": [
    "### Boxplot for sentiment for each source of the tweet\n",
    "OBS: low n for various sources\n",
    "\n",
    "see count below"
   ]
  },
  {
   "cell_type": "code",
   "execution_count": 36,
   "id": "c6c1ca7c-2f8b-40ea-b735-6d0190631542",
   "metadata": {},
   "outputs": [
    {
     "data": {
      "text/html": [
       "<div>\n",
       "<style scoped>\n",
       "    .dataframe tbody tr th:only-of-type {\n",
       "        vertical-align: middle;\n",
       "    }\n",
       "\n",
       "    .dataframe tbody tr th {\n",
       "        vertical-align: top;\n",
       "    }\n",
       "\n",
       "    .dataframe thead th {\n",
       "        text-align: right;\n",
       "    }\n",
       "</style>\n",
       "<table border=\"1\" class=\"dataframe\">\n",
       "  <thead>\n",
       "    <tr style=\"text-align: right;\">\n",
       "      <th></th>\n",
       "      <th>source</th>\n",
       "      <th>count</th>\n",
       "      <th>mean_sentiment</th>\n",
       "    </tr>\n",
       "  </thead>\n",
       "  <tbody>\n",
       "    <tr>\n",
       "      <th>0</th>\n",
       "      <td>Instagram</td>\n",
       "      <td>11</td>\n",
       "      <td>0.118445</td>\n",
       "    </tr>\n",
       "    <tr>\n",
       "      <th>1</th>\n",
       "      <td>Sprout Social</td>\n",
       "      <td>1</td>\n",
       "      <td>-0.381800</td>\n",
       "    </tr>\n",
       "    <tr>\n",
       "      <th>2</th>\n",
       "      <td>Squarespace</td>\n",
       "      <td>1</td>\n",
       "      <td>0.964800</td>\n",
       "    </tr>\n",
       "    <tr>\n",
       "      <th>3</th>\n",
       "      <td>Tweetbot for iΟS</td>\n",
       "      <td>5</td>\n",
       "      <td>0.125480</td>\n",
       "    </tr>\n",
       "    <tr>\n",
       "      <th>4</th>\n",
       "      <td>Twitter for Android</td>\n",
       "      <td>495</td>\n",
       "      <td>0.003303</td>\n",
       "    </tr>\n",
       "    <tr>\n",
       "      <th>5</th>\n",
       "      <td>Twitter for iPad</td>\n",
       "      <td>24</td>\n",
       "      <td>-0.173825</td>\n",
       "    </tr>\n",
       "    <tr>\n",
       "      <th>6</th>\n",
       "      <td>Twitter for iPhone</td>\n",
       "      <td>885</td>\n",
       "      <td>0.029638</td>\n",
       "    </tr>\n",
       "  </tbody>\n",
       "</table>\n",
       "</div>"
      ],
      "text/plain": [
       "                source  count  mean_sentiment\n",
       "0            Instagram     11        0.118445\n",
       "1        Sprout Social      1       -0.381800\n",
       "2          Squarespace      1        0.964800\n",
       "3     Tweetbot for iΟS      5        0.125480\n",
       "4  Twitter for Android    495        0.003303\n",
       "5     Twitter for iPad     24       -0.173825\n",
       "6   Twitter for iPhone    885        0.029638"
      ]
     },
     "execution_count": 36,
     "metadata": {},
     "output_type": "execute_result"
    }
   ],
   "source": [
    "\n",
    "tweets_mean_source = tweets_df3.groupby(['source']) \\\n",
    "       .agg(count=('source', 'size'), mean_sentiment=('sentiment_score', 'mean')) \\\n",
    "       .reset_index()\n",
    "tweets_mean_source"
   ]
  },
  {
   "cell_type": "code",
   "execution_count": 38,
   "id": "223cc050-7717-4975-8ad4-b656ae6a38e3",
   "metadata": {},
   "outputs": [
    {
     "data": {
      "text/html": [
       "<div>\n",
       "<style scoped>\n",
       "    .dataframe tbody tr th:only-of-type {\n",
       "        vertical-align: middle;\n",
       "    }\n",
       "\n",
       "    .dataframe tbody tr th {\n",
       "        vertical-align: top;\n",
       "    }\n",
       "\n",
       "    .dataframe thead th {\n",
       "        text-align: right;\n",
       "    }\n",
       "</style>\n",
       "<table border=\"1\" class=\"dataframe\">\n",
       "  <thead>\n",
       "    <tr style=\"text-align: right;\">\n",
       "      <th></th>\n",
       "      <th>source</th>\n",
       "      <th>count</th>\n",
       "      <th>mean_sentiment</th>\n",
       "    </tr>\n",
       "  </thead>\n",
       "  <tbody>\n",
       "    <tr>\n",
       "      <th>4</th>\n",
       "      <td>Twitter for Android</td>\n",
       "      <td>495</td>\n",
       "      <td>0.003303</td>\n",
       "    </tr>\n",
       "    <tr>\n",
       "      <th>6</th>\n",
       "      <td>Twitter for iPhone</td>\n",
       "      <td>885</td>\n",
       "      <td>0.029638</td>\n",
       "    </tr>\n",
       "  </tbody>\n",
       "</table>\n",
       "</div>"
      ],
      "text/plain": [
       "                source  count  mean_sentiment\n",
       "4  Twitter for Android    495        0.003303\n",
       "6   Twitter for iPhone    885        0.029638"
      ]
     },
     "execution_count": 38,
     "metadata": {},
     "output_type": "execute_result"
    }
   ],
   "source": [
    "# only take n > 50\n",
    "tweets_mean_source = tweets_mean_source.loc[tweets_mean_source['count'] > 50]\n",
    "tweets_mean_source"
   ]
  },
  {
   "cell_type": "code",
   "execution_count": 41,
   "id": "fa3f130b-d733-4453-814a-6fd51ba97f6f",
   "metadata": {},
   "outputs": [
    {
     "data": {
      "image/png": "[encoded data removed]",
      "text/plain": [
       "<Figure size 720x432 with 1 Axes>"
      ]
     },
     "metadata": {},
     "output_type": "display_data"
    }
   ],
   "source": [
    "fig = plt.figure(figsize=(10, 6))\n",
    "sns.set_style(\"white\")\n",
    "my_order = df.groupby(by=[\"source\"])[\"sentiment_score\"].count().iloc[::-1].index\n",
    "\n",
    "#my_order = [\"Twitter for iPhone\", \"Twitter for Android\", \"Twitter for iPad\", \"Tweetbot for iΟS\", \"Squarespace\"]\n",
    "ax = sns.boxplot(\n",
    "                x=\"source\", \n",
    "                y=\"sentiment_score\", \n",
    "                data=tweets_df3, \n",
    "                palette=\"tab10\",\n",
    "                linewidth=1, \n",
    "                order=my_order\n",
    "                )\n",
    "\n",
    "# Calculate number of obs per group & median to position labels\n",
    "means = tweets_df3.groupby(['source'])['sentiment_score'].mean().values\n",
    "nobs = tweets_df3['source'].value_counts().values\n",
    "nobs = [str(x) for x in nobs.tolist()]\n",
    "nobs = [\"n: \" + i for i in nobs]\n",
    " \n",
    "# Add text to the figure\n",
    "pos = range(len(nobs))\n",
    "for tick, label in zip(pos, ax.get_xticklabels()):\n",
    "    ax.text(pos[tick],\n",
    "            0, \n",
    "            nobs[tick],\n",
    "            horizontalalignment='center',\n",
    "            fontsize=12,\n",
    "            #color='w', # text  color\n",
    "            weight='semibold'\n",
    "           )\n",
    "\n",
    "sns.despine(offset=20, trim=True);\n",
    "\n",
    "ax.set_ylabel('Sentiment') # Choose title y-axis\n",
    "ax.yaxis.label.set_fontsize(14) # Choose font size for y-axis title\n",
    "fig.savefig('Semtiment_source_tweet.pdf') "
   ]
  },
  {
   "cell_type": "markdown",
   "id": "6bdc2d4d-e45c-480e-a10d-c6e93fa6eb80",
   "metadata": {},
   "source": [
    "# alt spiller hertil"
   ]
  },
  {
   "cell_type": "markdown",
   "id": "e4aade0d-1876-4d03-a52b-09d7885cb86e",
   "metadata": {
    "tags": []
   },
   "source": [
    "#### sentiment over time for each party"
   ]
  },
  {
   "cell_type": "code",
   "execution_count": 42,
   "id": "bfb03605-2c77-46f0-b2b0-e4367be4907a",
   "metadata": {},
   "outputs": [
    {
     "data": {
      "text/html": [
       "<div>\n",
       "<style scoped>\n",
       "    .dataframe tbody tr th:only-of-type {\n",
       "        vertical-align: middle;\n",
       "    }\n",
       "\n",
       "    .dataframe tbody tr th {\n",
       "        vertical-align: top;\n",
       "    }\n",
       "\n",
       "    .dataframe thead th {\n",
       "        text-align: right;\n",
       "    }\n",
       "</style>\n",
       "<table border=\"1\" class=\"dataframe\">\n",
       "  <thead>\n",
       "    <tr style=\"text-align: right;\">\n",
       "      <th></th>\n",
       "      <th>date</th>\n",
       "      <th>state_color</th>\n",
       "      <th>count</th>\n",
       "      <th>mean_sentiment</th>\n",
       "    </tr>\n",
       "  </thead>\n",
       "  <tbody>\n",
       "    <tr>\n",
       "      <th>0</th>\n",
       "      <td>2020-10-01</td>\n",
       "      <td>Blue</td>\n",
       "      <td>29</td>\n",
       "      <td>0.018814</td>\n",
       "    </tr>\n",
       "    <tr>\n",
       "      <th>1</th>\n",
       "      <td>2020-10-01</td>\n",
       "      <td>Red</td>\n",
       "      <td>14</td>\n",
       "      <td>0.034221</td>\n",
       "    </tr>\n",
       "    <tr>\n",
       "      <th>2</th>\n",
       "      <td>2020-10-02</td>\n",
       "      <td>Blue</td>\n",
       "      <td>22</td>\n",
       "      <td>0.016468</td>\n",
       "    </tr>\n",
       "    <tr>\n",
       "      <th>3</th>\n",
       "      <td>2020-10-02</td>\n",
       "      <td>Red</td>\n",
       "      <td>20</td>\n",
       "      <td>-0.040390</td>\n",
       "    </tr>\n",
       "    <tr>\n",
       "      <th>4</th>\n",
       "      <td>2020-10-03</td>\n",
       "      <td>Blue</td>\n",
       "      <td>24</td>\n",
       "      <td>-0.056904</td>\n",
       "    </tr>\n",
       "    <tr>\n",
       "      <th>...</th>\n",
       "      <td>...</td>\n",
       "      <td>...</td>\n",
       "      <td>...</td>\n",
       "      <td>...</td>\n",
       "    </tr>\n",
       "    <tr>\n",
       "      <th>65</th>\n",
       "      <td>2020-11-02</td>\n",
       "      <td>Red</td>\n",
       "      <td>15</td>\n",
       "      <td>-0.041860</td>\n",
       "    </tr>\n",
       "    <tr>\n",
       "      <th>66</th>\n",
       "      <td>2020-11-03</td>\n",
       "      <td>Blue</td>\n",
       "      <td>21</td>\n",
       "      <td>0.017376</td>\n",
       "    </tr>\n",
       "    <tr>\n",
       "      <th>67</th>\n",
       "      <td>2020-11-03</td>\n",
       "      <td>Red</td>\n",
       "      <td>15</td>\n",
       "      <td>0.123967</td>\n",
       "    </tr>\n",
       "    <tr>\n",
       "      <th>68</th>\n",
       "      <td>2020-11-04</td>\n",
       "      <td>Blue</td>\n",
       "      <td>25</td>\n",
       "      <td>0.021424</td>\n",
       "    </tr>\n",
       "    <tr>\n",
       "      <th>69</th>\n",
       "      <td>2020-11-04</td>\n",
       "      <td>Red</td>\n",
       "      <td>18</td>\n",
       "      <td>-0.075711</td>\n",
       "    </tr>\n",
       "  </tbody>\n",
       "</table>\n",
       "<p>70 rows × 4 columns</p>\n",
       "</div>"
      ],
      "text/plain": [
       "         date state_color  count  mean_sentiment\n",
       "0  2020-10-01        Blue     29        0.018814\n",
       "1  2020-10-01         Red     14        0.034221\n",
       "2  2020-10-02        Blue     22        0.016468\n",
       "3  2020-10-02         Red     20       -0.040390\n",
       "4  2020-10-03        Blue     24       -0.056904\n",
       "..        ...         ...    ...             ...\n",
       "65 2020-11-02         Red     15       -0.041860\n",
       "66 2020-11-03        Blue     21        0.017376\n",
       "67 2020-11-03         Red     15        0.123967\n",
       "68 2020-11-04        Blue     25        0.021424\n",
       "69 2020-11-04         Red     18       -0.075711\n",
       "\n",
       "[70 rows x 4 columns]"
      ]
     },
     "execution_count": 42,
     "metadata": {},
     "output_type": "execute_result"
    }
   ],
   "source": [
    "tweets_mean_date = tweets_df3.groupby(['date', 'state_color']) \\\n",
    "       .agg(count=('state', 'size'), mean_sentiment=('sentiment_score', 'mean')) \\\n",
    "       .reset_index()\n",
    "tweets_mean_date\n"
   ]
  },
  {
   "cell_type": "code",
   "execution_count": 43,
   "id": "2008fba7-57d8-4d62-9d68-f3a0da4f570b",
   "metadata": {},
   "outputs": [],
   "source": [
    "tweets_mean_blue = tweets_mean_date.loc[tweets_mean_date['state_color'] == 'Blue']\n",
    "tweets_mean_blue = tweets_mean_blue.reset_index(drop=True)\n",
    "\n",
    "tweets_mean_red = tweets_mean_date.loc[tweets_mean_date['state_color'] == 'Red']\n",
    "tweets_mean_red = tweets_mean_red.reset_index(drop=True)"
   ]
  },
  {
   "cell_type": "code",
   "execution_count": 44,
   "id": "6fc93117-95e5-4925-abcc-fd73972cbfea",
   "metadata": {},
   "outputs": [
    {
     "data": {
      "text/plain": [
       "<matplotlib.legend.Legend at 0x20c5a51ec70>"
      ]
     },
     "execution_count": 44,
     "metadata": {},
     "output_type": "execute_result"
    },
    {
     "data": {
      "image/png": "[encoded data removed]",
      "text/plain": [
       "<Figure size 432x288 with 1 Axes>"
      ]
     },
     "metadata": {},
     "output_type": "display_data"
    }
   ],
   "source": [
    "f,ax = plt.subplots()\n",
    "mean_sentiment_blue = ax.plot(tweets_mean_blue['mean_sentiment'], color = 'blue', label='mean_sentiment_blue') # Choose lineplot\n",
    "mean_sentiment_red = ax.plot(tweets_mean_red['mean_sentiment'], color = 'red', label='mean_sentiment_red') # Choose lineplot\n",
    "\n",
    "ax.set_title('Sentiment over time for each party') # Choose title for plot\n",
    "ax.title.set_fontsize(14) # Choose title font size\n",
    "\n",
    "ax.set_xlabel('Date') # Choose title x-axis\n",
    "ax.xaxis.label.set_fontsize(12) # Choose font size for x-axis title\n",
    "\n",
    "ax.set_ylabel('sentiment') # Choose title y-axis\n",
    "ax.yaxis.label.set_fontsize(12) # Choose font size for y-axis title\n",
    "\n",
    "ax.legend(loc = 'upper left', bbox_to_anchor=(0, 1))\n"
   ]
  },
  {
   "cell_type": "code",
   "execution_count": 45,
   "id": "babb4e71-c103-4d22-b7f1-fd54bba6f533",
   "metadata": {
    "tags": []
   },
   "outputs": [
    {
     "data": {
      "image/png": "[encoded data removed]",
      "text/plain": [
       "<Figure size 864x576 with 1 Axes>"
      ]
     },
     "metadata": {},
     "output_type": "display_data"
    }
   ],
   "source": [
    "# Plot scatter\n",
    "fig = plt.figure(figsize=(12, 8))\n",
    "plt.plot(tweets_mean_blue[\"date\"], tweets_mean_blue[\"mean_sentiment\"], color = 'blue', label='Mean of blue States', linewidth=5)\n",
    "plt.plot(tweets_mean_red[\"date\"], tweets_mean_red[\"mean_sentiment\"], color = 'red', label='Mean of red States', linewidth=5)\n",
    "\n",
    "# Labelling \n",
    "plt.xlabel(\"Date\", fontsize=18)\n",
    "plt.ylabel(\"Sentiment\", fontsize=18)\n",
    "\n",
    "plt.grid(True)\n",
    "\n",
    "# Auto space\n",
    "plt.legend(fontsize=14)\n",
    "\n",
    "# autoformat date\n",
    "fig.autofmt_xdate()\n",
    "\n",
    "#plt.annotate('Halloween', (mdates.date2num(x[1]), y[1]), xytext=(15, 15),\n",
    "#            textcoords='offset points', arrowprops=dict(arrowstyle='-|>'))\n",
    "\n",
    "# EVENTUALLY change tick font size\n",
    "# other type of line?\n",
    "\n",
    "plt.show()"
   ]
  },
  {
   "cell_type": "markdown",
   "id": "b392e498-8e8d-4736-80e9-0ec9299ec50d",
   "metadata": {},
   "source": [
    "# Alt godt heril"
   ]
  },
  {
   "cell_type": "code",
   "execution_count": null,
   "id": "5486e9c4-120b-4149-a7fa-f440ce7c2df8",
   "metadata": {},
   "outputs": [],
   "source": []
  },
  {
   "cell_type": "code",
   "execution_count": null,
   "id": "720ce2ed-5514-46f3-9950-67a39bce2a2f",
   "metadata": {},
   "outputs": [],
   "source": []
  },
  {
   "cell_type": "markdown",
   "id": "d3e87697-d9fc-4fb3-a047-d65a82ed5138",
   "metadata": {},
   "source": [
    "## Machine learning"
   ]
  },
  {
   "cell_type": "markdown",
   "id": "123a8961-1e29-450d-b516-90eb7e688970",
   "metadata": {
    "tags": []
   },
   "source": [
    "### test train split"
   ]
  },
  {
   "cell_type": "code",
   "execution_count": 46,
   "id": "d81a1ebb-9a0a-42f0-8a77-b2f4248a36a8",
   "metadata": {},
   "outputs": [],
   "source": [
    "tweets_df4 = tweets_df3.copy()"
   ]
  },
  {
   "cell_type": "code",
   "execution_count": 47,
   "id": "390bd16f-9a71-4f06-8a2d-6ea43174a212",
   "metadata": {},
   "outputs": [],
   "source": [
    "def remove_stopwords(tweet_text):\n",
    "    \"\"\"\n",
    "    removes stop words defined by package nltk.corpus\n",
    "    \"\"\"\n",
    "    stop = stopwords.words('english')\n",
    "    tweet_text = \" \".join([word for word in tweet_text.split() if word not in (stop)])\n",
    "    return tweet_text\n",
    "\n",
    "tweets_df4['text'] = tweets_df4['text'].apply(remove_stopwords)"
   ]
  },
  {
   "cell_type": "code",
   "execution_count": 48,
   "id": "250de6af-a084-4cef-8af9-ff5715957b7e",
   "metadata": {
    "tags": []
   },
   "outputs": [],
   "source": [
    "# list of tweet sentiments\n",
    "tweet_sentiments = [0 if i<0 else 1 for i in tweets_df4.sentiment_score]"
   ]
  },
  {
   "cell_type": "code",
   "execution_count": 49,
   "id": "37ee0c93-e3cc-4237-a606-a736aa60494e",
   "metadata": {},
   "outputs": [],
   "source": [
    "\n",
    "# splitting dataset into test and train\n",
    "df_train, df_test = train_test_split(tweets_df4, test_size=.5, random_state=1337)\n"
   ]
  },
  {
   "cell_type": "code",
   "execution_count": 50,
   "id": "ba4867e6-91d9-4194-8506-1f894f165ecd",
   "metadata": {},
   "outputs": [
    {
     "data": {
      "text/plain": [
       "LogisticRegression(random_state=0)"
      ]
     },
     "execution_count": 50,
     "metadata": {},
     "output_type": "execute_result"
    }
   ],
   "source": [
    "# Sort the data randomly to mix positive and negative reviews\n",
    "np.random.seed(0)\n",
    "df_train = tweets_df4.reindex(np.random.permutation(df_train.index))\n",
    "df_test = tweets_df4.reindex(np.random.permutation(df_test.index))\n",
    "\n",
    "# Take out X and Y variable\n",
    "x_train = df_train['text'].values\n",
    "x_test = df_test['text'].values\n",
    "y_train = df_train['tweet_sentiment'].values\n",
    "y_test = df_test['tweet_sentiment'].values\n",
    "\n",
    "# Make our bag of words\n",
    "tfidf = TfidfVectorizer()\n",
    "x_train_bag = tfidf.fit_transform(x_train)\n",
    "\n",
    "# Fit the model\n",
    "lr_text = LogisticRegression(random_state=0) #Text classifier\n",
    "lr_text.fit(x_train_bag,y_train)"
   ]
  },
  {
   "cell_type": "code",
   "execution_count": 51,
   "id": "73e97b73-cbf3-4e54-abdf-cc1b8cd2fff4",
   "metadata": {},
   "outputs": [
    {
     "name": "stdout",
     "output_type": "stream",
     "text": [
      "Testing accuracy = 0.7426160337552743\n"
     ]
    }
   ],
   "source": [
    "tweets_bag = tfidf.transform(tweets_df4['text'].values)\n",
    "\n",
    "preds = lr_text.predict(tweets_bag)\n",
    "print(\"Testing accuracy =\",np.mean([(preds==tweets_df4['tweet_sentiment'])]))"
   ]
  },
  {
   "cell_type": "markdown",
   "id": "aa282adf-d349-40c0-bd6f-579396425566",
   "metadata": {
    "tags": []
   },
   "source": [
    "### ML v2"
   ]
  },
  {
   "cell_type": "code",
   "execution_count": 52,
   "id": "52387f20-16af-4184-9ec1-1f2f5bb4db2f",
   "metadata": {
    "tags": []
   },
   "outputs": [
    {
     "data": {
      "text/plain": [
       "LogisticRegression(random_state=0)"
      ]
     },
     "execution_count": 52,
     "metadata": {},
     "output_type": "execute_result"
    }
   ],
   "source": [
    "# Make our bag of words\n",
    "tfidf_tweet = TfidfVectorizer()\n",
    "tweets_new_bag = tfidf_tweet.fit_transform(tweets_df4['text'].values)\n",
    "\n",
    "# Fit the model\n",
    "lr_tweets = LogisticRegression(random_state=0) #Text classifier\n",
    "lr_tweets.fit(tweets_new_bag, tweet_sentiments)\n"
   ]
  },
  {
   "cell_type": "code",
   "execution_count": 54,
   "id": "18295af4-27c7-4f1b-ba4e-54e9d9749070",
   "metadata": {},
   "outputs": [
    {
     "name": "stdout",
     "output_type": "stream",
     "text": [
      "\n",
      "                  0\n",
      "vaccine    1.408770\n",
      "ready      1.194733\n",
      "good       1.183615\n",
      "free       1.008043\n",
      "effective  0.939846\n",
      "supposed   0.918240\n",
      "great      0.906169\n",
      "pfizer     0.885654\n",
      "read       0.877657\n",
      "best       0.873054\n",
      "\n",
      "                  0\n",
      "flu       -2.964828\n",
      "shit      -1.732447\n",
      "people    -1.707944\n",
      "stop      -1.553971\n",
      "die       -1.517696\n",
      "democrats -1.420526\n",
      "bad       -1.323268\n",
      "death     -1.304389\n",
      "cant      -1.258560\n",
      "kill      -1.215493\n"
     ]
    }
   ],
   "source": [
    "\n",
    "# Make our bag of words\n",
    "tweets_features = ['_'.join(s.split()) for s in tfidf_tweet.get_feature_names_out()]\n",
    "tweets_coefficients = lr_tweets.coef_\n",
    "tweets_coefs_df = pd.DataFrame.from_records(tweets_coefficients, columns=tweets_features)\n",
    "\n",
    "# Most important (positive and negative) features:\n",
    "print()\n",
    "print(tweets_coefs_df.T.sort_values(by=[0], ascending=False).head(10))\n",
    "print()\n",
    "print(tweets_coefs_df.T.sort_values(by=[0], ascending=True).head(10))\n"
   ]
  },
  {
   "cell_type": "markdown",
   "id": "9795ba8c-22a4-4f2f-a19a-549071bc9e34",
   "metadata": {},
   "source": [
    "### Tokenization"
   ]
  },
  {
   "cell_type": "code",
   "execution_count": null,
   "id": "b0153380-b83a-4fdf-afd1-212e52dd2fed",
   "metadata": {},
   "outputs": [],
   "source": [
    "#text_tokens = nltk.tokenize.word_tokenize(text)\n",
    "#text_tokens"
   ]
  },
  {
   "cell_type": "markdown",
   "id": "3234b558-d57c-4863-85df-60823acf0353",
   "metadata": {},
   "source": [
    "### Stemming"
   ]
  },
  {
   "cell_type": "code",
   "execution_count": null,
   "id": "cf66c18c-f975-4a2d-9619-9e4507862469",
   "metadata": {},
   "outputs": [],
   "source": [
    "#porter = nltk.PorterStemmer()\n",
    "#review_stemmed = [porter.stem(i) for i in review_nostop]\n",
    "#review_stemmed"
   ]
  }
 ],
 "metadata": {
  "kernelspec": {
   "display_name": "Python 3 (ipykernel)",
   "language": "python",
   "name": "python3"
  },
  "language_info": {
   "codemirror_mode": {
    "name": "ipython",
    "version": 3
   },
   "file_extension": ".py",
   "mimetype": "text/x-python",
   "name": "python",
   "nbconvert_exporter": "python",
   "pygments_lexer": "ipython3",
   "version": "3.9.12"
  }
 },
 "nbformat": 4,
 "nbformat_minor": 5
}
