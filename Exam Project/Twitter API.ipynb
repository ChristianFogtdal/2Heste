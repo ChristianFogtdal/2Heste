{
 "cells": [
  {
   "cell_type": "code",
   "execution_count": 4,
   "id": "1fe62243-088b-4a15-bcc7-ba87509c906d",
   "metadata": {},
   "outputs": [],
   "source": [
    "from requests_oauthlib import OAuth1Session\n",
    "import os\n",
    "import json"
   ]
  },
  {
   "cell_type": "code",
   "execution_count": 19,
   "id": "c103b314-4f0e-46f3-8e6f-80e4f9b31b61",
   "metadata": {},
   "outputs": [],
   "source": [
    "# To set your enviornment variables in your terminal run the following line:\n",
    "#export 'CONSUMER_KEY'='<your_consumer_key>'\n",
    "#export 'CONSUMER_SECRET'='<your_consumer_secret>'\n",
    "\n",
    "CONSUMER_KEY = 'hOamrxCC1zNAOBqUJNWGpjV4U'\n",
    "CONSUMER_SECRET ='YqCnnxYQ7gZdp15nwZZij2D9jk4IGiAKB9i0vSfjrkpXpN7aA8'\n"
   ]
  },
  {
   "cell_type": "code",
   "execution_count": 20,
   "id": "e5da1ddf-0609-4f21-b24d-aa7bb6be1b69",
   "metadata": {},
   "outputs": [],
   "source": [
    "\n",
    "consumer_key = os.environ.get(\"CONSUMER_KEY\")\n",
    "consumer_secret = os.environ.get(\"CONSUMER_SECRET\")\n"
   ]
  },
  {
   "cell_type": "code",
   "execution_count": 21,
   "id": "2bb768ab-4935-4853-813f-28013e1d1fb9",
   "metadata": {},
   "outputs": [
    {
     "name": "stdout",
     "output_type": "stream",
     "text": [
      "There may have been an issue with the consumer_key or consumer_secret you entered.\n"
     ]
    },
    {
     "ename": "NameError",
     "evalue": "name 'fetch_response' is not defined",
     "output_type": "error",
     "traceback": [
      "\u001b[1;31m---------------------------------------------------------------------------\u001b[0m",
      "\u001b[1;31mNameError\u001b[0m                                 Traceback (most recent call last)",
      "Input \u001b[1;32mIn [21]\u001b[0m, in \u001b[0;36m<cell line: 22>\u001b[1;34m()\u001b[0m\n\u001b[0;32m     17\u001b[0m \u001b[38;5;28;01mexcept\u001b[39;00m \u001b[38;5;167;01mValueError\u001b[39;00m:\n\u001b[0;32m     18\u001b[0m     \u001b[38;5;28mprint\u001b[39m(\n\u001b[0;32m     19\u001b[0m         \u001b[38;5;124m\"\u001b[39m\u001b[38;5;124mThere may have been an issue with the consumer_key or consumer_secret you entered.\u001b[39m\u001b[38;5;124m\"\u001b[39m\n\u001b[0;32m     20\u001b[0m     )\n\u001b[1;32m---> 22\u001b[0m resource_owner_key \u001b[38;5;241m=\u001b[39m \u001b[43mfetch_response\u001b[49m\u001b[38;5;241m.\u001b[39mget(\u001b[38;5;124m\"\u001b[39m\u001b[38;5;124moauth_token\u001b[39m\u001b[38;5;124m\"\u001b[39m)\n\u001b[0;32m     23\u001b[0m resource_owner_secret \u001b[38;5;241m=\u001b[39m fetch_response\u001b[38;5;241m.\u001b[39mget(\u001b[38;5;124m\"\u001b[39m\u001b[38;5;124moauth_token_secret\u001b[39m\u001b[38;5;124m\"\u001b[39m)\n\u001b[0;32m     24\u001b[0m \u001b[38;5;28mprint\u001b[39m(\u001b[38;5;124m\"\u001b[39m\u001b[38;5;124mGot OAuth token: \u001b[39m\u001b[38;5;132;01m%s\u001b[39;00m\u001b[38;5;124m\"\u001b[39m \u001b[38;5;241m%\u001b[39m resource_owner_key)\n",
      "\u001b[1;31mNameError\u001b[0m: name 'fetch_response' is not defined"
     ]
    }
   ],
   "source": [
    "# You can adjust ids to include a single Tweets\n",
    "# Or you can add to up to 100 comma-separated IDs\n",
    "params = {\"ids\": \"1278747501642657792\", \"tweet.fields\": \"created_at\"}\n",
    "# Tweet fields are adjustable.\n",
    "# Options include:\n",
    "# attachments, author_id, context_annotations,\n",
    "# conversation_id, created_at, entities, geo, id,\n",
    "# in_reply_to_user_id, lang, non_public_metrics, organic_metrics,\n",
    "# possibly_sensitive, promoted_metrics, public_metrics, referenced_tweets,\n",
    "# source, text, and withheld\n",
    "\n",
    "request_token_url = \"https://api.twitter.com/oauth/request_token\"\n",
    "oauth = OAuth1Session(consumer_key, client_secret=consumer_secret)\n",
    "\n",
    "try:\n",
    "    fetch_response = oauth.fetch_request_token(request_token_url)\n",
    "except ValueError:\n",
    "    print(\n",
    "        \"There may have been an issue with the consumer_key or consumer_secret you entered.\"\n",
    "    )\n",
    "\n",
    "resource_owner_key = fetch_response.get(\"oauth_token\")\n",
    "resource_owner_secret = fetch_response.get(\"oauth_token_secret\")\n",
    "print(\"Got OAuth token: %s\" % resource_owner_key)\n",
    "\n",
    "# Get authorization\n",
    "base_authorization_url = \"https://api.twitter.com/oauth/authorize\"\n",
    "authorization_url = oauth.authorization_url(base_authorization_url)\n",
    "print(\"Please go here and authorize: %s\" % authorization_url)\n",
    "verifier = input(\"Paste the PIN here: \")\n",
    "\n",
    "# Get the access token\n",
    "access_token_url = \"https://api.twitter.com/oauth/access_token\"\n",
    "oauth = OAuth1Session(\n",
    "    consumer_key,\n",
    "    client_secret=consumer_secret,\n",
    "    resource_owner_key=resource_owner_key,\n",
    "    resource_owner_secret=resource_owner_secret,\n",
    "    verifier=verifier,\n",
    ")\n",
    "oauth_tokens = oauth.fetch_access_token(access_token_url)\n",
    "\n",
    "\n",
    "access_token = oauth_tokens[\"oauth_token\"]\n",
    "access_token_secret = oauth_tokens[\"oauth_token_secret\"]\n",
    "\n",
    "# Make the request\n",
    "oauth = OAuth1Session(\n",
    "    consumer_key,\n",
    "    client_secret=consumer_secret,\n",
    "    resource_owner_key=access_token,\n",
    "    resource_owner_secret=access_token_secret,\n",
    ")\n",
    "\n",
    "response = oauth.get(\n",
    "    \"https://api.twitter.com/2/tweets\", params=params\n",
    ")\n",
    "\n",
    "if response.status_code != 200:\n",
    "    raise Exception(\n",
    "        \"Request returned an error: {} {}\".format(response.status_code, response.text)\n",
    "    )\n",
    "\n",
    "print(\"Response code: {}\".format(response.status_code))\n",
    "json_response = response.json()\n",
    "print(json.dumps(json_response, indent=4, sort_keys=True))"
   ]
  }
 ],
 "metadata": {
  "kernelspec": {
   "display_name": "Python 3 (ipykernel)",
   "language": "python",
   "name": "python3"
  },
  "language_info": {
   "codemirror_mode": {
    "name": "ipython",
    "version": 3
   },
   "file_extension": ".py",
   "mimetype": "text/x-python",
   "name": "python",
   "nbconvert_exporter": "python",
   "pygments_lexer": "ipython3",
   "version": "3.9.12"
  }
 },
 "nbformat": 4,
 "nbformat_minor": 5
}
