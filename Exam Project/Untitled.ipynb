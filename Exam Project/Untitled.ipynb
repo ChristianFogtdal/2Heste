{
 "cells": [
  {
   "cell_type": "code",
   "execution_count": 1,
   "id": "d34f444e-9997-44a5-afc1-6a573b059634",
   "metadata": {},
   "outputs": [],
   "source": [
    "# basic\n",
    "import numpy as np\n",
    "import pandas as pd\n",
    "\n",
    "#packages to handle API connection\n",
    "from tqdm import tqdm #progress bar, use code tqdm.pandas()\n",
    "from time import sleep #module to control speed of extraction\n",
    "\n",
    "# Twitter\n",
    "import tweepy as tw # main twitter API package\n",
    "from tqdm import tqdm #progress bar, use code tqdm.pandas()\n",
    "from time import sleep #module to control speed of extraction\n",
    "import time #module to control speed of extraction\n",
    "from datetime import datetime\n",
    "import warnings\n",
    "warnings.simplefilter(action='ignore', category=FutureWarning)\n",
    "import csv\n",
    "\n",
    "# Nominatim - API to access geo data\n",
    "from geopy.geocoders import Nominatim #Geodata for datacleaning states\n",
    "from geopy.exc import GeocoderTimedOut #Geodata for datacleaning states\n",
    "from geopy.extra.rate_limiter import RateLimiter #rate limiter to geopy requests\n",
    "\n",
    "# packages to handle string elements\n",
    "import re #regex\n",
    "from textblob import TextBlob #To analyse sentiment\n",
    "from vaderSentiment.vaderSentiment import SentimentIntensityAnalyzer #Sentiment analyser\n",
    "from nltk.sentiment.vader import SentimentIntensityAnalyzer\n",
    "import emoji #to \"demojize\" - translate emojis to text\n",
    "import nltk #Natural Language Toolkit\n",
    "import nltk.corpus \n",
    "from nltk.corpus import stopwords # list of stopwords to remove\n",
    "from nltk.stem.porter import PorterStemmer #Stemming and lemmitization\n",
    "from nltk.stem import WordNetLemmatizer #Stemming and lemmitization\n",
    "\n",
    "# Machinelearning\n",
    "from sklearn.model_selection import train_test_split #randomly split dataframe into test and train data\n",
    "from sklearn.feature_extraction.text import TfidfVectorizer #\n",
    "from sklearn.linear_model import LogisticRegression\n",
    "import random #randomizer\n",
    "from sklearn.feature_extraction.text import CountVectorizer\n",
    "from collections import Counter\n",
    "\n",
    "# import webbrowser\n",
    "# import requests\n",
    "# from bs4 import BeautifulSoup\n",
    "\n",
    "# plots\n",
    "import matplotlib.pyplot as plt\n",
    "from matplotlib import pyplot as plt, dates as mdates\n",
    "from chart_studio import plotly as py\n",
    "import pandas as pd\n",
    "import plotly.graph_objects as go\n",
    "import seaborn as sns\n"
   ]
  },
  {
   "cell_type": "code",
   "execution_count": null,
   "id": "88d647c1-1ddb-496e-88f6-f99a70f81043",
   "metadata": {},
   "outputs": [],
   "source": []
  },
  {
   "cell_type": "code",
   "execution_count": 2,
   "id": "9af1e1a4-cead-49cd-a532-842319cab6bb",
   "metadata": {},
   "outputs": [
    {
     "ename": "NameError",
     "evalue": "name 'tweets_df3' is not defined",
     "output_type": "error",
     "traceback": [
      "\u001b[1;31m---------------------------------------------------------------------------\u001b[0m",
      "\u001b[1;31mNameError\u001b[0m                                 Traceback (most recent call last)",
      "Input \u001b[1;32mIn [2]\u001b[0m, in \u001b[0;36m<cell line: 1>\u001b[1;34m()\u001b[0m\n\u001b[1;32m----> 1\u001b[0m \u001b[43mtweets_df3\u001b[49m[\u001b[38;5;124m'\u001b[39m\u001b[38;5;124mtext\u001b[39m\u001b[38;5;124m'\u001b[39m] \u001b[38;5;241m=\u001b[39m \u001b[38;5;124m\"\u001b[39m\u001b[38;5;124mFinally, I have been vaccinated with the Covid-19 vaccine! God bless us all\u001b[39m\u001b[38;5;124m\"\u001b[39m\n",
      "\u001b[1;31mNameError\u001b[0m: name 'tweets_df3' is not defined"
     ]
    }
   ],
   "source": [
    "tweets_df3['text'] = \"Finally, I have been vaccinated with the Covid-19 vaccine! God bless us all\""
   ]
  },
  {
   "cell_type": "code",
   "execution_count": null,
   "id": "f553341d-7fdf-4710-bc11-27da25217213",
   "metadata": {},
   "outputs": [],
   "source": [
    "# Vader sentiment analysis\n",
    "def sentiment_analyser(tweet_text):\n",
    "    \"\"\"\n",
    "    Using Vader as sentiment analyser.\n",
    "    Vader outputs neg, neu, pos and compound, - we only keep compound.\n",
    "    This is done for each tweet.\n",
    "    \"\"\"\n",
    "    analyser= SentimentIntensityAnalyzer()\n",
    "    sentiment_score = analyser.polarity_scores(tweet_text)[\"compound\"]\n",
    "    return sentiment_score\n",
    "\n",
    "# sentiment score from -1 to 1\n",
    "tweets_df3['sentiment_score'] = tweets_df3['text'].apply(sentiment_analyser)\n",
    "\n",
    "# boolean value is 0 if sentiment is negative, else 1\n",
    "tweets_df3['tweet_sentiment'] = [0 if i < 0 else 1 for i in tweets_df3.sentiment_score]\n",
    "tweets_df3.head(2)"
   ]
  },
  {
   "cell_type": "code",
   "execution_count": 12,
   "id": "31550e67-9081-4eda-86aa-96814ebe9d83",
   "metadata": {},
   "outputs": [
    {
     "data": {
      "text/plain": [
       "0.9728"
      ]
     },
     "execution_count": 12,
     "metadata": {},
     "output_type": "execute_result"
    }
   ],
   "source": [
    "analyser= SentimentIntensityAnalyzer()\n",
    "sentiment_score = analyser.polarity_scores(\"Thankfully, I have been safely vaccinated for free with the trustworthy Covid-19 vaccine! God bless us all and this great country!\")[\"compound\"]\n",
    "sentiment_score"
   ]
  },
  {
   "cell_type": "code",
   "execution_count": 16,
   "id": "ceb7d622-1b50-4040-a3fe-aeecd2e273ad",
   "metadata": {},
   "outputs": [
    {
     "data": {
      "text/plain": [
       "-0.9452"
      ]
     },
     "execution_count": 16,
     "metadata": {},
     "output_type": "execute_result"
    }
   ],
   "source": [
    "analyser= SentimentIntensityAnalyzer()\n",
    "sentiment_score = analyser.polarity_scores(\"FAKE NEWS! The flu virus people is at it again... They are lying about the fake illness again!\")[\"compound\"]\n",
    "sentiment_score"
   ]
  }
 ],
 "metadata": {
  "kernelspec": {
   "display_name": "Python 3 (ipykernel)",
   "language": "python",
   "name": "python3"
  },
  "language_info": {
   "codemirror_mode": {
    "name": "ipython",
    "version": 3
   },
   "file_extension": ".py",
   "mimetype": "text/x-python",
   "name": "python",
   "nbconvert_exporter": "python",
   "pygments_lexer": "ipython3",
   "version": "3.9.12"
  }
 },
 "nbformat": 4,
 "nbformat_minor": 5
}
