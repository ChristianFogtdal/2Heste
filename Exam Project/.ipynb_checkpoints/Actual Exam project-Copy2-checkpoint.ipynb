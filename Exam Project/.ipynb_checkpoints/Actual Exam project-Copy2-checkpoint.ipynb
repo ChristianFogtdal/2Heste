{
 "cells": [
  {
   "cell_type": "markdown",
   "id": "016a0979-3bb2-438b-9eb2-e18d1cecda0a",
   "metadata": {
    "tags": []
   },
   "source": [
    "# Project Notebook\n",
    "\n",
    "## Social Data Science - exam notebook\n",
    "\n",
    "\n",
    "#### Authors: \n",
    "#### Anton Maach-Møller\n",
    "#### Christian Nøjgaard Fogdal"
   ]
  },
  {
   "cell_type": "markdown",
   "id": "093b48f7-e436-4c3a-a77d-de422b77be56",
   "metadata": {
    "tags": []
   },
   "source": [
    "## 1. Installations"
   ]
  },
  {
   "cell_type": "code",
   "execution_count": 1,
   "id": "7a7dd23e-2dd2-4517-a998-1daf9085f26b",
   "metadata": {},
   "outputs": [],
   "source": [
    "# pip install geopy\n",
    "# pip install textblob\n",
    "# pip install vaderSentiment\n",
    "# pip install emoji\n",
    "# nltk.download('stopwords')\n",
    "# nltk.download('vader_lexicon')\n",
    "# pip install statsmodels\n",
    "# pip install Wikipedia-API\n",
    "# pip install chart_studio"
   ]
  },
  {
   "cell_type": "markdown",
   "id": "e8aaab30-0dcf-466b-b0ae-a99e70cb1305",
   "metadata": {
    "tags": []
   },
   "source": [
    "## 2. Import of used packages"
   ]
  },
  {
   "cell_type": "code",
   "execution_count": 1,
   "id": "23d0fb73-6690-4f75-91c2-30178eba6276",
   "metadata": {},
   "outputs": [],
   "source": [
    "# basic\n",
    "import numpy as np\n",
    "import pandas as pd\n",
    "\n",
    "#packages to handle API connection\n",
    "from tqdm import tqdm #progress bar, use code tqdm.pandas()\n",
    "from time import sleep #module to control speed of extraction\n",
    "\n",
    "# Twitter\n",
    "import tweepy as tw # main twitter API package\n",
    "from tqdm import tqdm #progress bar, use code tqdm.pandas()\n",
    "from time import sleep #module to control speed of extraction\n",
    "import time #module to control speed of extraction\n",
    "from datetime import datetime\n",
    "import warnings\n",
    "warnings.simplefilter(action='ignore', category=FutureWarning)\n",
    "import csv\n",
    "\n",
    "# Nominatim - API to access geo data\n",
    "from geopy.geocoders import Nominatim #Geodata for datacleaning states\n",
    "from geopy.exc import GeocoderTimedOut #Geodata for datacleaning states\n",
    "from geopy.extra.rate_limiter import RateLimiter #rate limiter to geopy requests\n",
    "\n",
    "# packages to handle string elements\n",
    "import re #regex\n",
    "from textblob import TextBlob #To analyse sentiment\n",
    "from vaderSentiment.vaderSentiment import SentimentIntensityAnalyzer #Sentiment analyser\n",
    "from nltk.sentiment.vader import SentimentIntensityAnalyzer\n",
    "import emoji #to \"demojize\" - translate emojis to text\n",
    "import nltk #Natural Language Toolkit\n",
    "import nltk.corpus \n",
    "from nltk.corpus import stopwords # list of stopwords to remove\n",
    "from nltk.stem.porter import PorterStemmer #Stemming and lemmitization\n",
    "from nltk.stem import WordNetLemmatizer #Stemming and lemmitization\n",
    "\n",
    "# Machinelearning\n",
    "from sklearn.model_selection import train_test_split #randomly split dataframe into test and train data\n",
    "from sklearn.feature_extraction.text import TfidfVectorizer #\n",
    "from sklearn.linear_model import LogisticRegression\n",
    "import random #randomizer\n",
    "from sklearn.feature_extraction.text import CountVectorizer\n",
    "from collections import Counter\n",
    "\n",
    "# import webbrowser\n",
    "# import requests\n",
    "# from bs4 import BeautifulSoup\n",
    "\n",
    "# plots\n",
    "import matplotlib.pyplot as plt\n",
    "from matplotlib import pyplot as plt, dates as mdates\n",
    "from chart_studio import plotly as py\n",
    "import pandas as pd\n",
    "import plotly.graph_objects as go\n",
    "import seaborn as sns\n"
   ]
  },
  {
   "cell_type": "markdown",
   "id": "0fa5d368-1360-42f6-8a95-d9f68efcb160",
   "metadata": {
    "tags": []
   },
   "source": [
    "## 3. Extraction of data from Twitter"
   ]
  },
  {
   "cell_type": "markdown",
   "id": "0ab620c5-0a74-4e26-bff6-72360f350dd6",
   "metadata": {},
   "source": [
    "#### Definitions"
   ]
  },
  {
   "cell_type": "code",
   "execution_count": 3,
   "id": "44ada4a1-db18-4201-ac3f-3b67eb37fde5",
   "metadata": {
    "tags": []
   },
   "outputs": [],
   "source": [
    "\n",
    "# Unique bearer token - is removed when published, since it is private\n",
    "MY_BEARER_TOKEN = \"AAAAAAAAAAAAAAAAAAAAANcAaQEAAAAA84hzZvsLo8rITqxhQJoQHVAd5wI%3DfD5dXkdwihlc4K08dNi3y84D4lVhjiOIREITen9vVe2UVYxFh7\"\n",
    "\n",
    "# authentication using .client\n",
    "client = tw.Client(bearer_token=MY_BEARER_TOKEN, wait_on_rate_limit=True)\n",
    "\n",
    "# query to search for tweets\n",
    "query = \"(vaccine OR covidvaccine OR vaccines OR #vaccine OR #vaccines OR #covidvaccine) lang:en -is:retweet place_country:US has:geo\"\n",
    "\n",
    "# start and end time lists for looping\n",
    "start_list =    ['2020-09-15T00:00:00.000Z',\n",
    "                 '2020-09-16T00:00:00.000Z',\n",
    "                 '2020-09-17T00:00:00.000Z',\n",
    "                 '2020-09-18T00:00:00.000Z',\n",
    "                 '2020-09-19T00:00:00.000Z',\n",
    "                 '2020-09-20T00:00:00.000Z',\n",
    "                 '2020-09-21T00:00:00.000Z',\n",
    "                 '2020-09-22T00:00:00.000Z',\n",
    "                 '2020-09-23T00:00:00.000Z',\n",
    "                 '2020-09-24T00:00:00.000Z',\n",
    "                 '2020-09-25T00:00:00.000Z',\n",
    "                 '2020-09-26T00:00:00.000Z',\n",
    "                 '2020-09-27T00:00:00.000Z',\n",
    "                 '2020-09-28T00:00:00.000Z',\n",
    "                 '2020-09-29T00:00:00.000Z',\n",
    "                 '2020-09-30T00:00:00.000Z',\n",
    "                 '2020-10-01T00:00:00.000Z',\n",
    "                 '2020-10-02T00:00:00.000Z',\n",
    "                 '2020-10-03T00:00:00.000Z',\n",
    "                 '2020-10-04T00:00:00.000Z',\n",
    "                 '2020-10-05T00:00:00.000Z',\n",
    "                 '2020-10-06T00:00:00.000Z',\n",
    "                 '2020-10-07T00:00:00.000Z',\n",
    "                 '2020-10-08T00:00:00.000Z',\n",
    "                 '2020-10-09T00:00:00.000Z',\n",
    "                 '2020-10-10T00:00:00.000Z',\n",
    "                 '2020-10-11T00:00:00.000Z',\n",
    "                 '2020-10-12T00:00:00.000Z',\n",
    "                 '2020-10-13T00:00:00.000Z',\n",
    "                 '2020-10-14T00:00:00.000Z',\n",
    "                 '2020-10-15T00:00:00.000Z',\n",
    "                 '2020-10-16T00:00:00.000Z',\n",
    "                 '2020-10-17T00:00:00.000Z',\n",
    "                 '2020-10-18T00:00:00.000Z',\n",
    "                 '2020-10-19T00:00:00.000Z',\n",
    "                 '2020-10-20T00:00:00.000Z',\n",
    "                 '2020-10-21T00:00:00.000Z',\n",
    "                 '2020-10-22T00:00:00.000Z',\n",
    "                 '2020-10-23T00:00:00.000Z',\n",
    "                 '2020-10-24T00:00:00.000Z',\n",
    "                 '2020-10-25T00:00:00.000Z',\n",
    "                 '2020-10-26T00:00:00.000Z',\n",
    "                 '2020-10-27T00:00:00.000Z',\n",
    "                 '2020-10-28T00:00:00.000Z',\n",
    "                 '2020-10-29T00:00:00.000Z',\n",
    "                 '2020-10-30T00:00:00.000Z',\n",
    "                 '2020-10-31T00:00:00.000Z',\n",
    "                 '2020-11-01T00:00:00.000Z',\n",
    "                 '2020-11-02T00:00:00.000Z',\n",
    "                 '2020-11-03T00:00:00.000Z',\n",
    "                 '2020-11-04T00:00:00.000Z',\n",
    "                 '2020-11-05T00:00:00.000Z',\n",
    "                 '2020-11-06T00:00:00.000Z',\n",
    "                 '2020-11-07T00:00:00.000Z',\n",
    "                 '2020-11-08T00:00:00.000Z',\n",
    "                 '2020-11-09T00:00:00.000Z',\n",
    "                 '2020-11-10T00:00:00.000Z',\n",
    "                 '2020-11-11T00:00:00.000Z',\n",
    "                 '2020-11-12T00:00:00.000Z',\n",
    "                 '2020-11-13T00:00:00.000Z',\n",
    "                 '2020-11-14T00:00:00.000Z',\n",
    "                 '2020-11-15T00:00:00.000Z',\n",
    "                 '2020-11-16T00:00:00.000Z',\n",
    "                 '2020-11-17T00:00:00.000Z',\n",
    "                 '2020-11-18T00:00:00.000Z',\n",
    "                 '2020-11-19T00:00:00.000Z',\n",
    "                 '2020-11-20T00:00:00.000Z',\n",
    "                 '2020-11-21T00:00:00.000Z',\n",
    "                 '2020-11-22T00:00:00.000Z',\n",
    "                 '2020-11-23T00:00:00.000Z',\n",
    "                 '2020-11-24T00:00:00.000Z',\n",
    "                 '2020-11-25T00:00:00.000Z',\n",
    "                 '2020-11-26T00:00:00.000Z',\n",
    "                 '2020-11-27T00:00:00.000Z',\n",
    "                 '2020-11-28T00:00:00.000Z',\n",
    "                 '2020-11-29T00:00:00.000Z',\n",
    "                 '2020-11-30T00:00:00.000Z',\n",
    "                 '2020-12-01T00:00:00.000Z',\n",
    "                 '2020-12-02T00:00:00.000Z',\n",
    "                 '2020-12-03T00:00:00.000Z',\n",
    "                 '2020-12-04T00:00:00.000Z',\n",
    "                 '2020-12-05T00:00:00.000Z',\n",
    "                 '2020-12-06T00:00:00.000Z',\n",
    "                 '2020-12-07T00:00:00.000Z',\n",
    "                 '2020-12-08T00:00:00.000Z',\n",
    "                 '2020-12-09T00:00:00.000Z',\n",
    "                 '2020-12-10T00:00:00.000Z',\n",
    "                 '2020-12-11T00:00:00.000Z',\n",
    "                 '2020-12-12T00:00:00.000Z',\n",
    "                 '2020-12-13T00:00:00.000Z',\n",
    "                 '2020-12-14T00:00:00.000Z',\n",
    "                 '2020-12-15T00:00:00.000Z'\n",
    "                ]\n",
    "\n",
    "end_list =      ['2020-09-15T23:59:59.000Z',\n",
    "                 '2020-09-16T23:59:59.000Z',\n",
    "                 '2020-09-17T23:59:59.000Z',\n",
    "                 '2020-09-18T23:59:59.000Z',\n",
    "                 '2020-09-19T23:59:59.000Z',\n",
    "                 '2020-09-20T23:59:59.000Z',\n",
    "                 '2020-09-21T23:59:59.000Z',\n",
    "                 '2020-09-22T23:59:59.000Z',\n",
    "                 '2020-09-23T23:59:59.000Z',\n",
    "                 '2020-09-24T23:59:59.000Z',\n",
    "                 '2020-09-25T23:59:59.000Z',\n",
    "                 '2020-09-26T23:59:59.000Z',\n",
    "                 '2020-09-27T23:59:59.000Z',\n",
    "                 '2020-09-28T23:59:59.000Z',\n",
    "                 '2020-09-29T23:59:59.000Z',\n",
    "                 '2020-09-30T23:59:59.000Z',\n",
    "                 '2020-10-01T23:59:59.000Z',\n",
    "                 '2020-10-02T23:59:59.000Z',\n",
    "                 '2020-10-03T23:59:59.000Z',\n",
    "                 '2020-10-04T23:59:59.000Z',\n",
    "                 '2020-10-05T23:59:59.000Z',\n",
    "                 '2020-10-06T23:59:59.000Z',\n",
    "                 '2020-10-07T23:59:59.000Z',\n",
    "                 '2020-10-08T23:59:59.000Z',\n",
    "                 '2020-10-09T23:59:59.000Z',\n",
    "                 '2020-10-10T23:59:59.000Z',\n",
    "                 '2020-10-11T23:59:59.000Z',\n",
    "                 '2020-10-12T23:59:59.000Z',\n",
    "                 '2020-10-13T23:59:59.000Z',\n",
    "                 '2020-10-14T23:59:59.000Z',\n",
    "                 '2020-10-15T23:59:59.000Z',\n",
    "                 '2020-10-16T23:59:59.000Z',\n",
    "                 '2020-10-17T23:59:59.000Z',\n",
    "                 '2020-10-18T23:59:59.000Z',\n",
    "                 '2020-10-19T23:59:59.000Z',\n",
    "                 '2020-10-20T23:59:59.000Z',\n",
    "                 '2020-10-21T23:59:59.000Z',\n",
    "                 '2020-10-22T23:59:59.000Z',\n",
    "                 '2020-10-23T23:59:59.000Z',\n",
    "                 '2020-10-24T23:59:59.000Z',\n",
    "                 '2020-10-25T23:59:59.000Z',\n",
    "                 '2020-10-26T23:59:59.000Z',\n",
    "                 '2020-10-27T23:59:59.000Z',\n",
    "                 '2020-10-28T23:59:59.000Z',\n",
    "                 '2020-10-29T23:59:59.000Z',\n",
    "                 '2020-10-30T23:59:59.000Z',\n",
    "                 '2020-10-31T23:59:59.000Z',\n",
    "                 '2020-11-01T23:59:59.000Z',\n",
    "                 '2020-11-02T23:59:59.000Z',\n",
    "                 '2020-11-03T23:59:59.000Z',\n",
    "                 '2020-11-04T23:59:59.000Z',\n",
    "                 '2020-11-05T23:59:59.000Z',\n",
    "                 '2020-11-06T23:59:59.000Z',\n",
    "                 '2020-11-07T23:59:59.000Z',\n",
    "                 '2020-11-08T23:59:59.000Z',\n",
    "                 '2020-11-09T23:59:59.000Z',\n",
    "                 '2020-11-10T23:59:59.000Z',\n",
    "                 '2020-11-11T23:59:59.000Z',\n",
    "                 '2020-11-12T23:59:59.000Z',\n",
    "                 '2020-11-13T23:59:59.000Z',\n",
    "                 '2020-11-14T23:59:59.000Z',\n",
    "                 '2020-11-15T23:59:59.000Z',\n",
    "                 '2020-11-16T23:59:59.000Z',\n",
    "                 '2020-11-17T23:59:59.000Z',\n",
    "                 '2020-11-18T23:59:59.000Z',\n",
    "                 '2020-11-19T23:59:59.000Z',\n",
    "                 '2020-11-20T23:59:59.000Z',\n",
    "                 '2020-11-21T23:59:59.000Z',\n",
    "                 '2020-11-22T23:59:59.000Z',\n",
    "                 '2020-11-23T23:59:59.000Z',\n",
    "                 '2020-11-24T23:59:59.000Z',\n",
    "                 '2020-11-25T23:59:59.000Z',\n",
    "                 '2020-11-26T23:59:59.000Z',\n",
    "                 '2020-11-27T23:59:59.000Z',\n",
    "                 '2020-11-28T23:59:59.000Z',\n",
    "                 '2020-11-29T23:59:59.000Z',\n",
    "                 '2020-11-30T23:59:59.000Z',\n",
    "                 '2020-12-01T23:59:59.000Z',\n",
    "                 '2020-12-02T23:59:59.000Z',\n",
    "                 '2020-12-03T23:59:59.000Z',\n",
    "                 '2020-12-04T23:59:59.000Z',\n",
    "                 '2020-12-05T23:59:59.000Z',\n",
    "                 '2020-12-06T23:59:59.000Z',\n",
    "                 '2020-12-07T23:59:59.000Z',\n",
    "                 '2020-12-08T23:59:59.000Z',\n",
    "                 '2020-12-09T23:59:59.000Z',\n",
    "                 '2020-12-10T23:59:59.000Z',\n",
    "                 '2020-12-11T23:59:59.000Z',\n",
    "                 '2020-12-12T23:59:59.000Z',\n",
    "                 '2020-12-13T23:59:59.000Z',\n",
    "                 '2020-12-14T23:59:59.000Z',\n",
    "                 '2020-12-15T23:59:59.000Z'\n",
    "                ]\n",
    "\n",
    "#max_results = 20\n",
    "\n",
    "# Total number of tweets we collected from the loop\n",
    "# total_tweets = 0\n",
    "\n",
    "# time"
   ]
  },
  {
   "cell_type": "markdown",
   "id": "0f6d85de-c8db-4f7b-b756-c6791a53090f",
   "metadata": {},
   "source": [
    "#### API call and creation of dataframe"
   ]
  },
  {
   "cell_type": "code",
   "execution_count": 4,
   "id": "f76689de-ff8f-45cf-b3ee-01f5ae7b179f",
   "metadata": {
    "collapsed": true,
    "jupyter": {
     "outputs_hidden": true
    },
    "tags": []
   },
   "outputs": [
    {
     "name": "stdout",
     "output_type": "stream",
     "text": [
      "-------------------\n",
      "local time:  01:03:42\n",
      "startlist:  2020-09-15T00:00:00.000Z\n",
      "       to:  2020-09-15T23:59:59.000Z\n",
      "264 tweets extracted\n",
      "217 user related data extracted\n",
      "169 location related data extracted\n",
      "-------------------\n",
      "-------------------\n",
      "local time:  01:18:59\n",
      "startlist:  2020-09-16T00:00:00.000Z\n",
      "       to:  2020-09-16T23:59:59.000Z\n",
      "269 tweets extracted\n",
      "228 user related data extracted\n",
      "178 location related data extracted\n",
      "-------------------\n",
      "-------------------\n",
      "local time:  01:34:15\n",
      "startlist:  2020-09-17T00:00:00.000Z\n",
      "       to:  2020-09-17T23:59:59.000Z\n",
      "285 tweets extracted\n",
      "256 user related data extracted\n",
      "213 location related data extracted\n",
      "-------------------\n",
      "-------------------\n",
      "local time:  01:49:31\n",
      "startlist:  2020-09-18T00:00:00.000Z\n",
      "       to:  2020-09-18T23:59:59.000Z\n",
      "289 tweets extracted\n",
      "258 user related data extracted\n",
      "199 location related data extracted\n",
      "-------------------\n",
      "-------------------\n",
      "local time:  02:04:47\n",
      "startlist:  2020-09-19T00:00:00.000Z\n",
      "       to:  2020-09-19T23:59:59.000Z\n",
      "170 tweets extracted\n",
      "159 user related data extracted\n",
      "131 location related data extracted\n",
      "-------------------\n",
      "-------------------\n",
      "local time:  02:20:03\n",
      "startlist:  2020-09-20T00:00:00.000Z\n",
      "       to:  2020-09-20T23:59:59.000Z\n",
      "209 tweets extracted\n",
      "190 user related data extracted\n",
      "158 location related data extracted\n",
      "-------------------\n",
      "-------------------\n",
      "local time:  02:35:19\n",
      "startlist:  2020-09-21T00:00:00.000Z\n",
      "       to:  2020-09-21T23:59:59.000Z\n",
      "283 tweets extracted\n",
      "244 user related data extracted\n",
      "186 location related data extracted\n",
      "-------------------\n",
      "-------------------\n",
      "local time:  02:50:36\n",
      "startlist:  2020-09-22T00:00:00.000Z\n",
      "       to:  2020-09-22T23:59:59.000Z\n",
      "284 tweets extracted\n",
      "242 user related data extracted\n",
      "190 location related data extracted\n",
      "-------------------\n",
      "-------------------\n",
      "local time:  03:05:52\n",
      "startlist:  2020-09-23T00:00:00.000Z\n",
      "       to:  2020-09-23T23:59:59.000Z\n",
      "278 tweets extracted\n",
      "259 user related data extracted\n",
      "206 location related data extracted\n",
      "-------------------\n",
      "-------------------\n",
      "local time:  03:21:08\n",
      "startlist:  2020-09-24T00:00:00.000Z\n",
      "       to:  2020-09-24T23:59:59.000Z\n",
      "268 tweets extracted\n",
      "233 user related data extracted\n",
      "176 location related data extracted\n",
      "-------------------\n",
      "-------------------\n",
      "local time:  03:36:24\n",
      "startlist:  2020-09-25T00:00:00.000Z\n",
      "       to:  2020-09-25T23:59:59.000Z\n",
      "281 tweets extracted\n",
      "254 user related data extracted\n",
      "198 location related data extracted\n",
      "-------------------\n",
      "-------------------\n",
      "local time:  03:51:40\n",
      "startlist:  2020-09-26T00:00:00.000Z\n",
      "       to:  2020-09-26T23:59:59.000Z\n",
      "248 tweets extracted\n",
      "220 user related data extracted\n",
      "163 location related data extracted\n",
      "-------------------\n",
      "-------------------\n",
      "local time:  04:06:56\n",
      "startlist:  2020-09-27T00:00:00.000Z\n",
      "       to:  2020-09-27T23:59:59.000Z\n",
      "140 tweets extracted\n",
      "131 user related data extracted\n",
      "112 location related data extracted\n",
      "-------------------\n",
      "-------------------\n",
      "local time:  04:22:12\n",
      "startlist:  2020-09-28T00:00:00.000Z\n",
      "       to:  2020-09-28T23:59:59.000Z\n",
      "179 tweets extracted\n",
      "155 user related data extracted\n",
      "121 location related data extracted\n",
      "-------------------\n",
      "-------------------\n",
      "local time:  04:37:28\n",
      "startlist:  2020-09-29T00:00:00.000Z\n",
      "       to:  2020-09-29T23:59:59.000Z\n",
      "215 tweets extracted\n",
      "196 user related data extracted\n",
      "136 location related data extracted\n",
      "-------------------\n",
      "-------------------\n",
      "local time:  04:52:44\n",
      "startlist:  2020-09-30T00:00:00.000Z\n",
      "       to:  2020-09-30T23:59:59.000Z\n",
      "284 tweets extracted\n",
      "262 user related data extracted\n",
      "201 location related data extracted\n",
      "-------------------\n",
      "-------------------\n",
      "local time:  05:08:00\n",
      "startlist:  2020-10-01T00:00:00.000Z\n",
      "       to:  2020-10-01T23:59:59.000Z\n",
      "195 tweets extracted\n",
      "183 user related data extracted\n",
      "146 location related data extracted\n",
      "-------------------\n",
      "-------------------\n",
      "local time:  05:23:16\n",
      "startlist:  2020-10-02T00:00:00.000Z\n",
      "       to:  2020-10-02T23:59:59.000Z\n",
      "284 tweets extracted\n",
      "272 user related data extracted\n",
      "199 location related data extracted\n",
      "-------------------\n",
      "-------------------\n",
      "local time:  05:38:32\n",
      "startlist:  2020-10-03T00:00:00.000Z\n",
      "       to:  2020-10-03T23:59:59.000Z\n",
      "273 tweets extracted\n",
      "251 user related data extracted\n",
      "192 location related data extracted\n",
      "-------------------\n",
      "-------------------\n",
      "local time:  05:53:48\n",
      "startlist:  2020-10-04T00:00:00.000Z\n",
      "       to:  2020-10-04T23:59:59.000Z\n",
      "192 tweets extracted\n",
      "165 user related data extracted\n",
      "134 location related data extracted\n",
      "-------------------\n",
      "-------------------\n",
      "local time:  06:09:04\n",
      "startlist:  2020-10-05T00:00:00.000Z\n",
      "       to:  2020-10-05T23:59:59.000Z\n",
      "266 tweets extracted\n",
      "231 user related data extracted\n",
      "178 location related data extracted\n",
      "-------------------\n",
      "-------------------\n",
      "local time:  06:24:20\n",
      "startlist:  2020-10-06T00:00:00.000Z\n",
      "       to:  2020-10-06T23:59:59.000Z\n",
      "288 tweets extracted\n",
      "266 user related data extracted\n",
      "202 location related data extracted\n",
      "-------------------\n",
      "-------------------\n",
      "local time:  06:39:36\n",
      "startlist:  2020-10-07T00:00:00.000Z\n",
      "       to:  2020-10-07T23:59:59.000Z\n",
      "274 tweets extracted\n",
      "237 user related data extracted\n",
      "177 location related data extracted\n",
      "-------------------\n",
      "-------------------\n",
      "local time:  06:54:52\n",
      "startlist:  2020-10-08T00:00:00.000Z\n",
      "       to:  2020-10-08T23:59:59.000Z\n",
      "275 tweets extracted\n",
      "251 user related data extracted\n",
      "187 location related data extracted\n",
      "-------------------\n",
      "-------------------\n",
      "local time:  07:10:08\n",
      "startlist:  2020-10-09T00:00:00.000Z\n",
      "       to:  2020-10-09T23:59:59.000Z\n",
      "251 tweets extracted\n",
      "217 user related data extracted\n",
      "177 location related data extracted\n",
      "-------------------\n",
      "-------------------\n",
      "local time:  07:25:25\n",
      "startlist:  2020-10-10T00:00:00.000Z\n",
      "       to:  2020-10-10T23:59:59.000Z\n",
      "204 tweets extracted\n",
      "183 user related data extracted\n",
      "144 location related data extracted\n",
      "-------------------\n",
      "-------------------\n",
      "local time:  07:40:40\n",
      "startlist:  2020-10-11T00:00:00.000Z\n",
      "       to:  2020-10-11T23:59:59.000Z\n",
      "238 tweets extracted\n",
      "222 user related data extracted\n",
      "169 location related data extracted\n",
      "-------------------\n",
      "-------------------\n",
      "local time:  07:55:56\n",
      "startlist:  2020-10-12T00:00:00.000Z\n",
      "       to:  2020-10-12T23:59:59.000Z\n",
      "239 tweets extracted\n",
      "208 user related data extracted\n",
      "168 location related data extracted\n",
      "-------------------\n",
      "-------------------\n",
      "local time:  08:11:12\n",
      "startlist:  2020-10-13T00:00:00.000Z\n",
      "       to:  2020-10-13T23:59:59.000Z\n",
      "294 tweets extracted\n",
      "268 user related data extracted\n",
      "202 location related data extracted\n",
      "-------------------\n",
      "-------------------\n",
      "local time:  08:26:29\n",
      "startlist:  2020-10-14T00:00:00.000Z\n",
      "       to:  2020-10-14T23:59:59.000Z\n",
      "214 tweets extracted\n",
      "185 user related data extracted\n",
      "148 location related data extracted\n",
      "-------------------\n",
      "-------------------\n",
      "local time:  08:41:45\n",
      "startlist:  2020-10-15T00:00:00.000Z\n",
      "       to:  2020-10-15T23:59:59.000Z\n",
      "220 tweets extracted\n",
      "179 user related data extracted\n",
      "143 location related data extracted\n",
      "-------------------\n",
      "-------------------\n",
      "local time:  08:57:01\n",
      "startlist:  2020-10-16T00:00:00.000Z\n",
      "       to:  2020-10-16T23:59:59.000Z\n",
      "284 tweets extracted\n",
      "260 user related data extracted\n",
      "187 location related data extracted\n",
      "-------------------\n",
      "-------------------\n",
      "local time:  09:12:17\n",
      "startlist:  2020-10-17T00:00:00.000Z\n",
      "       to:  2020-10-17T23:59:59.000Z\n",
      "213 tweets extracted\n",
      "186 user related data extracted\n",
      "144 location related data extracted\n",
      "-------------------\n",
      "-------------------\n",
      "local time:  09:27:33\n",
      "startlist:  2020-10-18T00:00:00.000Z\n",
      "       to:  2020-10-18T23:59:59.000Z\n",
      "195 tweets extracted\n",
      "165 user related data extracted\n",
      "121 location related data extracted\n",
      "-------------------\n",
      "-------------------\n",
      "local time:  09:42:49\n",
      "startlist:  2020-10-19T00:00:00.000Z\n",
      "       to:  2020-10-19T23:59:59.000Z\n",
      "248 tweets extracted\n",
      "227 user related data extracted\n",
      "182 location related data extracted\n",
      "-------------------\n",
      "-------------------\n",
      "local time:  09:58:05\n",
      "startlist:  2020-10-20T00:00:00.000Z\n",
      "       to:  2020-10-20T23:59:59.000Z\n",
      "267 tweets extracted\n",
      "224 user related data extracted\n",
      "175 location related data extracted\n",
      "-------------------\n",
      "-------------------\n",
      "local time:  10:13:21\n",
      "startlist:  2020-10-21T00:00:00.000Z\n",
      "       to:  2020-10-21T23:59:59.000Z\n",
      "290 tweets extracted\n",
      "240 user related data extracted\n",
      "185 location related data extracted\n",
      "-------------------\n",
      "-------------------\n",
      "local time:  10:28:37\n",
      "startlist:  2020-10-22T00:00:00.000Z\n",
      "       to:  2020-10-22T23:59:59.000Z\n",
      "276 tweets extracted\n",
      "248 user related data extracted\n",
      "181 location related data extracted\n",
      "-------------------\n",
      "-------------------\n",
      "local time:  10:43:53\n",
      "startlist:  2020-10-23T00:00:00.000Z\n",
      "       to:  2020-10-23T23:59:59.000Z\n",
      "292 tweets extracted\n",
      "243 user related data extracted\n",
      "192 location related data extracted\n",
      "-------------------\n",
      "-------------------\n",
      "local time:  10:59:09\n",
      "startlist:  2020-10-24T00:00:00.000Z\n",
      "       to:  2020-10-24T23:59:59.000Z\n",
      "278 tweets extracted\n",
      "241 user related data extracted\n",
      "188 location related data extracted\n",
      "-------------------\n",
      "-------------------\n",
      "local time:  11:14:25\n",
      "startlist:  2020-10-25T00:00:00.000Z\n",
      "       to:  2020-10-25T23:59:59.000Z\n",
      "292 tweets extracted\n",
      "253 user related data extracted\n",
      "186 location related data extracted\n",
      "-------------------\n",
      "-------------------\n",
      "local time:  11:29:42\n",
      "startlist:  2020-10-26T00:00:00.000Z\n",
      "       to:  2020-10-26T23:59:59.000Z\n",
      "288 tweets extracted\n",
      "229 user related data extracted\n",
      "177 location related data extracted\n",
      "-------------------\n",
      "-------------------\n",
      "local time:  11:44:58\n",
      "startlist:  2020-10-27T00:00:00.000Z\n",
      "       to:  2020-10-27T23:59:59.000Z\n",
      "281 tweets extracted\n",
      "262 user related data extracted\n",
      "203 location related data extracted\n",
      "-------------------\n",
      "-------------------\n",
      "local time:  12:00:14\n",
      "startlist:  2020-10-28T00:00:00.000Z\n",
      "       to:  2020-10-28T23:59:59.000Z\n",
      "282 tweets extracted\n",
      "258 user related data extracted\n",
      "203 location related data extracted\n",
      "-------------------\n",
      "-------------------\n",
      "local time:  12:15:30\n",
      "startlist:  2020-10-29T00:00:00.000Z\n",
      "       to:  2020-10-29T23:59:59.000Z\n",
      "237 tweets extracted\n",
      "216 user related data extracted\n",
      "174 location related data extracted\n",
      "-------------------\n",
      "-------------------\n",
      "local time:  12:30:46\n",
      "startlist:  2020-10-30T00:00:00.000Z\n",
      "       to:  2020-10-30T23:59:59.000Z\n",
      "287 tweets extracted\n",
      "255 user related data extracted\n",
      "193 location related data extracted\n",
      "-------------------\n",
      "-------------------\n",
      "local time:  12:46:02\n",
      "startlist:  2020-10-31T00:00:00.000Z\n",
      "       to:  2020-10-31T23:59:59.000Z\n",
      "289 tweets extracted\n",
      "254 user related data extracted\n",
      "198 location related data extracted\n",
      "-------------------\n",
      "-------------------\n",
      "local time:  13:01:19\n",
      "startlist:  2020-11-01T00:00:00.000Z\n",
      "       to:  2020-11-01T23:59:59.000Z\n",
      "200 tweets extracted\n",
      "183 user related data extracted\n",
      "142 location related data extracted\n",
      "-------------------\n",
      "-------------------\n",
      "local time:  13:16:35\n",
      "startlist:  2020-11-02T00:00:00.000Z\n",
      "       to:  2020-11-02T23:59:59.000Z\n",
      "249 tweets extracted\n",
      "225 user related data extracted\n",
      "183 location related data extracted\n",
      "-------------------\n",
      "-------------------\n",
      "local time:  13:31:51\n",
      "startlist:  2020-11-03T00:00:00.000Z\n",
      "       to:  2020-11-03T23:59:59.000Z\n",
      "246 tweets extracted\n",
      "228 user related data extracted\n",
      "167 location related data extracted\n",
      "-------------------\n",
      "-------------------\n",
      "local time:  13:47:07\n",
      "startlist:  2020-11-04T00:00:00.000Z\n",
      "       to:  2020-11-04T23:59:59.000Z\n",
      "118 tweets extracted\n",
      "111 user related data extracted\n",
      "95 location related data extracted\n",
      "-------------------\n",
      "-------------------\n",
      "local time:  14:02:22\n",
      "startlist:  2020-11-05T00:00:00.000Z\n",
      "       to:  2020-11-05T23:59:59.000Z\n",
      "175 tweets extracted\n",
      "163 user related data extracted\n",
      "132 location related data extracted\n",
      "-------------------\n",
      "-------------------\n",
      "local time:  14:17:38\n",
      "startlist:  2020-11-06T00:00:00.000Z\n",
      "       to:  2020-11-06T23:59:59.000Z\n",
      "187 tweets extracted\n",
      "165 user related data extracted\n",
      "128 location related data extracted\n",
      "-------------------\n",
      "-------------------\n",
      "local time:  14:32:54\n",
      "startlist:  2020-11-07T00:00:00.000Z\n",
      "       to:  2020-11-07T23:59:59.000Z\n",
      "247 tweets extracted\n",
      "231 user related data extracted\n",
      "171 location related data extracted\n",
      "-------------------\n",
      "-------------------\n",
      "local time:  14:48:10\n",
      "startlist:  2020-11-08T00:00:00.000Z\n",
      "       to:  2020-11-08T23:59:59.000Z\n",
      "240 tweets extracted\n",
      "214 user related data extracted\n",
      "165 location related data extracted\n",
      "-------------------\n",
      "-------------------\n",
      "local time:  15:03:26\n",
      "startlist:  2020-11-09T00:00:00.000Z\n",
      "       to:  2020-11-09T23:59:59.000Z\n",
      "287 tweets extracted\n",
      "261 user related data extracted\n",
      "195 location related data extracted\n",
      "-------------------\n",
      "-------------------\n",
      "local time:  15:18:43\n",
      "startlist:  2020-11-10T00:00:00.000Z\n",
      "       to:  2020-11-10T23:59:59.000Z\n",
      "287 tweets extracted\n",
      "262 user related data extracted\n",
      "191 location related data extracted\n",
      "-------------------\n",
      "-------------------\n",
      "local time:  15:33:59\n",
      "startlist:  2020-11-11T00:00:00.000Z\n",
      "       to:  2020-11-11T23:59:59.000Z\n",
      "290 tweets extracted\n",
      "228 user related data extracted\n",
      "177 location related data extracted\n",
      "-------------------\n",
      "-------------------\n",
      "local time:  15:49:15\n",
      "startlist:  2020-11-12T00:00:00.000Z\n",
      "       to:  2020-11-12T23:59:59.000Z\n",
      "286 tweets extracted\n",
      "262 user related data extracted\n",
      "199 location related data extracted\n",
      "-------------------\n",
      "-------------------\n",
      "local time:  16:04:31\n",
      "startlist:  2020-11-13T00:00:00.000Z\n",
      "       to:  2020-11-13T23:59:59.000Z\n",
      "286 tweets extracted\n",
      "243 user related data extracted\n",
      "172 location related data extracted\n",
      "-------------------\n",
      "-------------------\n",
      "local time:  16:19:47\n",
      "startlist:  2020-11-14T00:00:00.000Z\n",
      "       to:  2020-11-14T23:59:59.000Z\n",
      "285 tweets extracted\n",
      "248 user related data extracted\n",
      "189 location related data extracted\n",
      "-------------------\n",
      "-------------------\n",
      "local time:  16:35:03\n",
      "startlist:  2020-11-15T00:00:00.000Z\n",
      "       to:  2020-11-15T23:59:59.000Z\n",
      "288 tweets extracted\n",
      "258 user related data extracted\n",
      "198 location related data extracted\n",
      "-------------------\n",
      "-------------------\n",
      "local time:  16:50:20\n",
      "startlist:  2020-11-16T00:00:00.000Z\n",
      "       to:  2020-11-16T23:59:59.000Z\n",
      "284 tweets extracted\n",
      "263 user related data extracted\n",
      "186 location related data extracted\n",
      "-------------------\n",
      "-------------------\n",
      "local time:  17:05:36\n",
      "startlist:  2020-11-17T00:00:00.000Z\n",
      "       to:  2020-11-17T23:59:59.000Z\n",
      "294 tweets extracted\n",
      "264 user related data extracted\n",
      "203 location related data extracted\n",
      "-------------------\n",
      "-------------------\n",
      "local time:  17:20:52\n",
      "startlist:  2020-11-18T00:00:00.000Z\n",
      "       to:  2020-11-18T23:59:59.000Z\n",
      "290 tweets extracted\n",
      "264 user related data extracted\n",
      "195 location related data extracted\n",
      "-------------------\n",
      "-------------------\n",
      "local time:  17:36:08\n",
      "startlist:  2020-11-19T00:00:00.000Z\n",
      "       to:  2020-11-19T23:59:59.000Z\n",
      "291 tweets extracted\n",
      "258 user related data extracted\n",
      "189 location related data extracted\n",
      "-------------------\n",
      "-------------------\n",
      "local time:  17:51:25\n",
      "startlist:  2020-11-20T00:00:00.000Z\n",
      "       to:  2020-11-20T23:59:59.000Z\n",
      "292 tweets extracted\n",
      "266 user related data extracted\n",
      "211 location related data extracted\n",
      "-------------------\n",
      "-------------------\n",
      "local time:  18:06:41\n",
      "startlist:  2020-11-21T00:00:00.000Z\n",
      "       to:  2020-11-21T23:59:59.000Z\n",
      "285 tweets extracted\n",
      "255 user related data extracted\n",
      "192 location related data extracted\n",
      "-------------------\n",
      "-------------------\n",
      "local time:  18:21:57\n",
      "startlist:  2020-11-22T00:00:00.000Z\n",
      "       to:  2020-11-22T23:59:59.000Z\n",
      "287 tweets extracted\n",
      "256 user related data extracted\n",
      "199 location related data extracted\n",
      "-------------------\n",
      "-------------------\n",
      "local time:  18:37:13\n",
      "startlist:  2020-11-23T00:00:00.000Z\n",
      "       to:  2020-11-23T23:59:59.000Z\n",
      "291 tweets extracted\n",
      "257 user related data extracted\n",
      "186 location related data extracted\n",
      "-------------------\n",
      "-------------------\n",
      "local time:  18:52:29\n",
      "startlist:  2020-11-24T00:00:00.000Z\n",
      "       to:  2020-11-24T23:59:59.000Z\n",
      "288 tweets extracted\n",
      "258 user related data extracted\n",
      "191 location related data extracted\n",
      "-------------------\n",
      "-------------------\n",
      "local time:  19:07:46\n",
      "startlist:  2020-11-25T00:00:00.000Z\n",
      "       to:  2020-11-25T23:59:59.000Z\n",
      "283 tweets extracted\n",
      "238 user related data extracted\n",
      "185 location related data extracted\n",
      "-------------------\n",
      "-------------------\n",
      "local time:  19:23:02\n",
      "startlist:  2020-11-26T00:00:00.000Z\n",
      "       to:  2020-11-26T23:59:59.000Z\n",
      "282 tweets extracted\n",
      "251 user related data extracted\n",
      "180 location related data extracted\n",
      "-------------------\n",
      "-------------------\n",
      "local time:  19:38:18\n",
      "startlist:  2020-11-27T00:00:00.000Z\n",
      "       to:  2020-11-27T23:59:59.000Z\n",
      "281 tweets extracted\n",
      "250 user related data extracted\n",
      "187 location related data extracted\n",
      "-------------------\n",
      "-------------------\n",
      "local time:  19:53:34\n",
      "startlist:  2020-11-28T00:00:00.000Z\n",
      "       to:  2020-11-28T23:59:59.000Z\n",
      "249 tweets extracted\n",
      "232 user related data extracted\n",
      "175 location related data extracted\n",
      "-------------------\n",
      "-------------------\n",
      "local time:  20:08:50\n",
      "startlist:  2020-11-29T00:00:00.000Z\n",
      "       to:  2020-11-29T23:59:59.000Z\n",
      "279 tweets extracted\n",
      "251 user related data extracted\n",
      "196 location related data extracted\n",
      "-------------------\n",
      "-------------------\n",
      "local time:  20:24:06\n",
      "startlist:  2020-11-30T00:00:00.000Z\n",
      "       to:  2020-11-30T23:59:59.000Z\n",
      "290 tweets extracted\n",
      "244 user related data extracted\n",
      "180 location related data extracted\n",
      "-------------------\n",
      "-------------------\n",
      "local time:  20:39:23\n",
      "startlist:  2020-12-01T00:00:00.000Z\n",
      "       to:  2020-12-01T23:59:59.000Z\n",
      "289 tweets extracted\n",
      "255 user related data extracted\n",
      "190 location related data extracted\n",
      "-------------------\n",
      "-------------------\n",
      "local time:  20:54:39\n",
      "startlist:  2020-12-02T00:00:00.000Z\n",
      "       to:  2020-12-02T23:59:59.000Z\n",
      "284 tweets extracted\n",
      "250 user related data extracted\n",
      "198 location related data extracted\n",
      "-------------------\n",
      "-------------------\n",
      "local time:  21:09:55\n",
      "startlist:  2020-12-03T00:00:00.000Z\n",
      "       to:  2020-12-03T23:59:59.000Z\n",
      "289 tweets extracted\n",
      "263 user related data extracted\n",
      "195 location related data extracted\n",
      "-------------------\n",
      "-------------------\n",
      "local time:  21:25:11\n",
      "startlist:  2020-12-04T00:00:00.000Z\n",
      "       to:  2020-12-04T23:59:59.000Z\n",
      "281 tweets extracted\n",
      "261 user related data extracted\n",
      "189 location related data extracted\n",
      "-------------------\n",
      "-------------------\n",
      "local time:  21:40:27\n",
      "startlist:  2020-12-05T00:00:00.000Z\n",
      "       to:  2020-12-05T23:59:59.000Z\n",
      "280 tweets extracted\n",
      "245 user related data extracted\n",
      "175 location related data extracted\n",
      "-------------------\n",
      "-------------------\n",
      "local time:  21:55:43\n",
      "startlist:  2020-12-06T00:00:00.000Z\n",
      "       to:  2020-12-06T23:59:59.000Z\n",
      "286 tweets extracted\n",
      "267 user related data extracted\n",
      "190 location related data extracted\n",
      "-------------------\n",
      "-------------------\n",
      "local time:  22:11:00\n",
      "startlist:  2020-12-07T00:00:00.000Z\n",
      "       to:  2020-12-07T23:59:59.000Z\n",
      "286 tweets extracted\n",
      "256 user related data extracted\n",
      "178 location related data extracted\n",
      "-------------------\n",
      "-------------------\n",
      "local time:  22:26:16\n",
      "startlist:  2020-12-08T00:00:00.000Z\n",
      "       to:  2020-12-08T23:59:59.000Z\n",
      "287 tweets extracted\n",
      "252 user related data extracted\n",
      "187 location related data extracted\n",
      "-------------------\n",
      "-------------------\n",
      "local time:  22:41:32\n",
      "startlist:  2020-12-09T00:00:00.000Z\n",
      "       to:  2020-12-09T23:59:59.000Z\n",
      "292 tweets extracted\n",
      "264 user related data extracted\n",
      "204 location related data extracted\n",
      "-------------------\n",
      "-------------------\n",
      "local time:  22:56:48\n",
      "startlist:  2020-12-10T00:00:00.000Z\n",
      "       to:  2020-12-10T23:59:59.000Z\n",
      "288 tweets extracted\n",
      "274 user related data extracted\n",
      "199 location related data extracted\n",
      "-------------------\n",
      "-------------------\n",
      "local time:  23:12:04\n",
      "startlist:  2020-12-11T00:00:00.000Z\n",
      "       to:  2020-12-11T23:59:59.000Z\n",
      "290 tweets extracted\n",
      "262 user related data extracted\n",
      "199 location related data extracted\n",
      "-------------------\n",
      "-------------------\n",
      "local time:  23:27:21\n",
      "startlist:  2020-12-12T00:00:00.000Z\n",
      "       to:  2020-12-12T23:59:59.000Z\n",
      "290 tweets extracted\n",
      "258 user related data extracted\n",
      "195 location related data extracted\n",
      "-------------------\n",
      "-------------------\n",
      "local time:  23:42:37\n",
      "startlist:  2020-12-13T00:00:00.000Z\n",
      "       to:  2020-12-13T23:59:59.000Z\n",
      "291 tweets extracted\n",
      "269 user related data extracted\n",
      "190 location related data extracted\n",
      "-------------------\n",
      "-------------------\n",
      "local time:  23:57:53\n",
      "startlist:  2020-12-14T00:00:00.000Z\n",
      "       to:  2020-12-14T23:59:59.000Z\n",
      "293 tweets extracted\n",
      "274 user related data extracted\n",
      "207 location related data extracted\n",
      "-------------------\n",
      "-------------------\n",
      "local time:  00:13:09\n",
      "startlist:  2020-12-15T00:00:00.000Z\n",
      "       to:  2020-12-15T23:59:59.000Z\n",
      "285 tweets extracted\n",
      "265 user related data extracted\n",
      "197 location related data extracted\n",
      "-------------------\n"
     ]
    },
    {
     "data": {
      "text/html": [
       "<div>\n",
       "<style scoped>\n",
       "    .dataframe tbody tr th:only-of-type {\n",
       "        vertical-align: middle;\n",
       "    }\n",
       "\n",
       "    .dataframe tbody tr th {\n",
       "        vertical-align: top;\n",
       "    }\n",
       "\n",
       "    .dataframe thead th {\n",
       "        text-align: right;\n",
       "    }\n",
       "</style>\n",
       "<table border=\"1\" class=\"dataframe\">\n",
       "  <thead>\n",
       "    <tr style=\"text-align: right;\">\n",
       "      <th></th>\n",
       "      <th>created_at</th>\n",
       "      <th>text</th>\n",
       "      <th>source</th>\n",
       "      <th>name</th>\n",
       "      <th>username</th>\n",
       "      <th>user_location</th>\n",
       "      <th>tweet_location</th>\n",
       "      <th>country_code</th>\n",
       "      <th>verified</th>\n",
       "      <th>description</th>\n",
       "    </tr>\n",
       "  </thead>\n",
       "  <tbody>\n",
       "    <tr>\n",
       "      <th>0</th>\n",
       "      <td>2020-09-15 23:55:19+00:00</td>\n",
       "      <td>@Matthew_4_Trump I will not take the vaccine!</td>\n",
       "      <td>Twitter for Android</td>\n",
       "      <td>@PK Trump Supporter</td>\n",
       "      <td>nlwestby</td>\n",
       "      <td>None</td>\n",
       "      <td>Oregon, USA</td>\n",
       "      <td>US</td>\n",
       "      <td>False</td>\n",
       "      <td>Christian Conservative Woman, Patriotic, Loyal...</td>\n",
       "    </tr>\n",
       "    <tr>\n",
       "      <th>1</th>\n",
       "      <td>2020-09-15 23:55:06+00:00</td>\n",
       "      <td>Vaccine...and MS... neuro concerns....\\nhttps:...</td>\n",
       "      <td>Twitter for Android</td>\n",
       "      <td>enigma4ever 🌻🇺🇦🌻😷 #nycnurse #CovidIsAirborne</td>\n",
       "      <td>watergatesummer</td>\n",
       "      <td>nyc</td>\n",
       "      <td>Brooklyn, NY</td>\n",
       "      <td>US</td>\n",
       "      <td>False</td>\n",
       "      <td>Enigma4ever,Mom to 6-6,RN,Our dogs&amp;cats are fa...</td>\n",
       "    </tr>\n",
       "    <tr>\n",
       "      <th>2</th>\n",
       "      <td>2020-09-15 23:48:41+00:00</td>\n",
       "      <td>@Queeenbee55 @BerkeleyJr I'll take your vaccin...</td>\n",
       "      <td>Twitter for Android</td>\n",
       "      <td>Paulman</td>\n",
       "      <td>spaulforty</td>\n",
       "      <td>Central Florida USA</td>\n",
       "      <td>DeBary, FL</td>\n",
       "      <td>US</td>\n",
       "      <td>False</td>\n",
       "      <td>Veteran of CAD/CAM industry and the high-end a...</td>\n",
       "    </tr>\n",
       "    <tr>\n",
       "      <th>3</th>\n",
       "      <td>2020-09-15 23:45:56+00:00</td>\n",
       "      <td>When I  hear these lunatics bleating on about ...</td>\n",
       "      <td>Twitter for Android</td>\n",
       "      <td>Russell The Gray</td>\n",
       "      <td>rge2001</td>\n",
       "      <td>Denver</td>\n",
       "      <td>Wheat Ridge, CO</td>\n",
       "      <td>US</td>\n",
       "      <td>False</td>\n",
       "      <td>As always...the love you take is equal to the ...</td>\n",
       "    </tr>\n",
       "    <tr>\n",
       "      <th>4</th>\n",
       "      <td>2020-09-15 23:44:50+00:00</td>\n",
       "      <td>@ard1choke Play football, weR a mask, stay out...</td>\n",
       "      <td>Twitter for iPhone</td>\n",
       "      <td>Mary Wadford</td>\n",
       "      <td>wadforml</td>\n",
       "      <td>lakeland florida</td>\n",
       "      <td>Okemos, MI</td>\n",
       "      <td>US</td>\n",
       "      <td>False</td>\n",
       "      <td></td>\n",
       "    </tr>\n",
       "    <tr>\n",
       "      <th>...</th>\n",
       "      <td>...</td>\n",
       "      <td>...</td>\n",
       "      <td>...</td>\n",
       "      <td>...</td>\n",
       "      <td>...</td>\n",
       "      <td>...</td>\n",
       "      <td>...</td>\n",
       "      <td>...</td>\n",
       "      <td>...</td>\n",
       "      <td>...</td>\n",
       "    </tr>\n",
       "    <tr>\n",
       "      <th>16439</th>\n",
       "      <td>2020-12-15 22:48:44+00:00</td>\n",
       "      <td>@MiamiHerald :\\n\\n\"For Florida’s general popul...</td>\n",
       "      <td>Twitter for Android</td>\n",
       "      <td>Mike Scheier</td>\n",
       "      <td>scheiers</td>\n",
       "      <td>None</td>\n",
       "      <td>Municipality of Monroeville, PA</td>\n",
       "      <td>US</td>\n",
       "      <td>False</td>\n",
       "      <td></td>\n",
       "    </tr>\n",
       "    <tr>\n",
       "      <th>16440</th>\n",
       "      <td>2020-12-15 22:48:34+00:00</td>\n",
       "      <td>On the topic of the vaccine: I will be first i...</td>\n",
       "      <td>Twitter for iPhone</td>\n",
       "      <td>Cheryl Kane</td>\n",
       "      <td>cherylkanere</td>\n",
       "      <td>Fort Lauderdale , Fl.</td>\n",
       "      <td>Conyers, GA</td>\n",
       "      <td>US</td>\n",
       "      <td>False</td>\n",
       "      <td>This brand new Grandma loves the USA , my chil...</td>\n",
       "    </tr>\n",
       "    <tr>\n",
       "      <th>16441</th>\n",
       "      <td>2020-12-15 22:48:33+00:00</td>\n",
       "      <td>Tuesday at the pizza shop. Newsmax, no masks, ...</td>\n",
       "      <td>Twitter for iPhone</td>\n",
       "      <td>Wolters World</td>\n",
       "      <td>woltersworld</td>\n",
       "      <td>Where The Wind Takes Us</td>\n",
       "      <td>Olympia, WA</td>\n",
       "      <td>US</td>\n",
       "      <td>False</td>\n",
       "      <td>Traveler, husband, father, professor. Honest, ...</td>\n",
       "    </tr>\n",
       "    <tr>\n",
       "      <th>16442</th>\n",
       "      <td>2020-12-15 22:48:20+00:00</td>\n",
       "      <td>@okayimjordan @artsygod i highly suggest doing...</td>\n",
       "      <td>Twitter for iPhone</td>\n",
       "      <td>Taylor of House Targaryen🐉</td>\n",
       "      <td>fireandblonde</td>\n",
       "      <td>Valyria, Essos</td>\n",
       "      <td>Grand Prairie, TX</td>\n",
       "      <td>US</td>\n",
       "      <td>False</td>\n",
       "      <td>Hi☺️ | 32 | 🇸🇪 | UNC (Future MD) - Forensic Pa...</td>\n",
       "    </tr>\n",
       "    <tr>\n",
       "      <th>16443</th>\n",
       "      <td>2020-12-15 22:47:27+00:00</td>\n",
       "      <td>First COVID vaccine dose in! Arm is a little s...</td>\n",
       "      <td>Twitter for iPhone</td>\n",
       "      <td>Let Me Tell You What We Aint Gonna Do</td>\n",
       "      <td>Envysheit</td>\n",
       "      <td>Maryland, USA</td>\n",
       "      <td>Massachusetts, USA</td>\n",
       "      <td>US</td>\n",
       "      <td>False</td>\n",
       "      <td>❤️#allblacklivesmatter</td>\n",
       "    </tr>\n",
       "  </tbody>\n",
       "</table>\n",
       "<p>16444 rows × 10 columns</p>\n",
       "</div>"
      ],
      "text/plain": [
       "                     created_at  \\\n",
       "0     2020-09-15 23:55:19+00:00   \n",
       "1     2020-09-15 23:55:06+00:00   \n",
       "2     2020-09-15 23:48:41+00:00   \n",
       "3     2020-09-15 23:45:56+00:00   \n",
       "4     2020-09-15 23:44:50+00:00   \n",
       "...                         ...   \n",
       "16439 2020-12-15 22:48:44+00:00   \n",
       "16440 2020-12-15 22:48:34+00:00   \n",
       "16441 2020-12-15 22:48:33+00:00   \n",
       "16442 2020-12-15 22:48:20+00:00   \n",
       "16443 2020-12-15 22:47:27+00:00   \n",
       "\n",
       "                                                    text               source  \\\n",
       "0          @Matthew_4_Trump I will not take the vaccine!  Twitter for Android   \n",
       "1      Vaccine...and MS... neuro concerns....\\nhttps:...  Twitter for Android   \n",
       "2      @Queeenbee55 @BerkeleyJr I'll take your vaccin...  Twitter for Android   \n",
       "3      When I  hear these lunatics bleating on about ...  Twitter for Android   \n",
       "4      @ard1choke Play football, weR a mask, stay out...   Twitter for iPhone   \n",
       "...                                                  ...                  ...   \n",
       "16439  @MiamiHerald :\\n\\n\"For Florida’s general popul...  Twitter for Android   \n",
       "16440  On the topic of the vaccine: I will be first i...   Twitter for iPhone   \n",
       "16441  Tuesday at the pizza shop. Newsmax, no masks, ...   Twitter for iPhone   \n",
       "16442  @okayimjordan @artsygod i highly suggest doing...   Twitter for iPhone   \n",
       "16443  First COVID vaccine dose in! Arm is a little s...   Twitter for iPhone   \n",
       "\n",
       "                                               name         username  \\\n",
       "0                               @PK Trump Supporter         nlwestby   \n",
       "1      enigma4ever 🌻🇺🇦🌻😷 #nycnurse #CovidIsAirborne  watergatesummer   \n",
       "2                                           Paulman       spaulforty   \n",
       "3                                  Russell The Gray          rge2001   \n",
       "4                                      Mary Wadford         wadforml   \n",
       "...                                             ...              ...   \n",
       "16439                                  Mike Scheier         scheiers   \n",
       "16440                                  Cheryl Kane      cherylkanere   \n",
       "16441                                 Wolters World     woltersworld   \n",
       "16442                    Taylor of House Targaryen🐉    fireandblonde   \n",
       "16443         Let Me Tell You What We Aint Gonna Do        Envysheit   \n",
       "\n",
       "                 user_location                   tweet_location country_code  \\\n",
       "0                         None                      Oregon, USA           US   \n",
       "1                          nyc                     Brooklyn, NY           US   \n",
       "2          Central Florida USA                       DeBary, FL           US   \n",
       "3                       Denver                  Wheat Ridge, CO           US   \n",
       "4             lakeland florida                       Okemos, MI           US   \n",
       "...                        ...                              ...          ...   \n",
       "16439                     None  Municipality of Monroeville, PA           US   \n",
       "16440   Fort Lauderdale , Fl.                       Conyers, GA           US   \n",
       "16441  Where The Wind Takes Us                      Olympia, WA           US   \n",
       "16442           Valyria, Essos                Grand Prairie, TX           US   \n",
       "16443            Maryland, USA               Massachusetts, USA           US   \n",
       "\n",
       "       verified                                        description  \n",
       "0         False  Christian Conservative Woman, Patriotic, Loyal...  \n",
       "1         False  Enigma4ever,Mom to 6-6,RN,Our dogs&cats are fa...  \n",
       "2         False  Veteran of CAD/CAM industry and the high-end a...  \n",
       "3         False  As always...the love you take is equal to the ...  \n",
       "4         False                                                     \n",
       "...         ...                                                ...  \n",
       "16439     False                                                     \n",
       "16440     False  This brand new Grandma loves the USA , my chil...  \n",
       "16441     False  Traveler, husband, father, professor. Honest, ...  \n",
       "16442     False  Hi☺️ | 32 | 🇸🇪 | UNC (Future MD) - Forensic Pa...  \n",
       "16443     False                             ❤️#allblacklivesmatter  \n",
       "\n",
       "[16444 rows x 10 columns]"
      ]
     },
     "execution_count": 4,
     "metadata": {},
     "output_type": "execute_result"
    }
   ],
   "source": [
    "df_out = pd.DataFrame()\n",
    "tweets_df = pd.DataFrame()\n",
    "total_tweets = 0\n",
    "\n",
    "for i in range(0,len(start_list)):\n",
    "    \n",
    "    print(\"-------------------\")\n",
    "    print(\"local time: \", datetime.now().strftime(\"%H:%M:%S\"))\n",
    "    print(\"startlist: \", start_list[i])\n",
    "    print(\"       to: \", end_list[i])\n",
    "    \n",
    "    count = 0 # Counting tweets per time period\n",
    "    \n",
    "    # get tweets from the API\n",
    "    tweets = client.search_all_tweets(query=query,\n",
    "                                     start_time=start_list[i],\n",
    "                                     end_time=end_list[i],\n",
    "                                     tweet_fields = [\n",
    "                                                     \"created_at\", \n",
    "                                                     \"text\", \n",
    "                                                     \"source\", \n",
    "                                                    ],\n",
    "                                  \n",
    "                                     user_fields = [\n",
    "                                                    \"name\", \n",
    "                                                    \"username\", \n",
    "                                                    \"location\", \n",
    "                                                    \"verified\", \n",
    "                                                    \"description\"\n",
    "                                                   ],\n",
    "                                  \n",
    "                                     place_fields=[\n",
    "                                                   'place_type', \n",
    "                                                   'country', \n",
    "                                                   'country_code'\n",
    "                                                  ],\n",
    "                                  \n",
    "                                     max_results = 300,\n",
    "                                     expansions=['author_id', 'geo.place_id']\n",
    "                                     )\n",
    "    \n",
    "    # create a list of records\n",
    "    tweet_info_ls = []\n",
    "    # iterate over each tweet and corresponding user details\n",
    "    for tweet, user, place in zip(tweets.data, tweets.includes['users'], tweets.includes['places']):\n",
    "        tweet_info = {\n",
    "            'created_at': tweet.created_at,\n",
    "            'text': tweet.text,\n",
    "            'source': tweet.source,\n",
    "            #'public_metrics': tweet.public_metrics,\n",
    "            #'organic_metrics': tweet.organic_metrics,\n",
    "            'name': user.name,\n",
    "            'username': user.username,\n",
    "            'user_location': user.location,\n",
    "            'tweet_location': place.full_name,\n",
    "            'country_code': place.country_code,\n",
    "            #'country': user.country,\n",
    "            'verified': user.verified,\n",
    "            'description': user.description\n",
    "        }\n",
    "        tweet_info_ls.append(tweet_info)\n",
    "        \n",
    "    # create dataframe from the extracted records\n",
    "    df_out = pd.DataFrame(tweet_info_ls)\n",
    "    \n",
    "    # looped data is appended to a single dataframe\n",
    "    tweets_df = tweets_df.append(df_out)\n",
    "    \n",
    "    # printing amount of tweets, amount of related user info, amount of related location info\n",
    "    print(len(tweets.data), \"tweets extracted\")\n",
    "    print(len(tweets.includes[\"users\"]), \"user related data extracted\")\n",
    "    print(len(tweets.includes['places']), \"location related data extracted\")\n",
    "    print(\"-------------------\")\n",
    "    \n",
    "    # Request limit time sleeper6\n",
    "    time.sleep(915)\n",
    "    \n",
    "tweets_df = tweets_df.reset_index(drop=True)\n",
    "tweets_df"
   ]
  },
  {
   "cell_type": "code",
   "execution_count": 44,
   "id": "bbaae0b9-4131-4194-888c-19e12766a47f",
   "metadata": {},
   "outputs": [],
   "source": [
    "\n",
    "#tweets_df.to_csv(r'from_twitter.csv', index = False)\n",
    "tweets_df = pd.read_csv('from_twitter.csv')"
   ]
  },
  {
   "cell_type": "code",
   "execution_count": 102,
   "id": "0ae91979-c56e-4e7c-85c6-cafa88202344",
   "metadata": {},
   "outputs": [],
   "source": [
    "tweets_df8 = tweets_df.iloc[5000:5500]\n",
    "tweets_df8 = tweets_df8.reset_index(drop=True)"
   ]
  },
  {
   "cell_type": "code",
   "execution_count": 51,
   "id": "148477d0-cf0e-446f-96a3-52d038d0f0e9",
   "metadata": {
    "tags": []
   },
   "outputs": [],
   "source": [
    "#tweets_df= tweets_df.loc[tweets_df['source'] == 'Twitter for Android']\n",
    "#tweets_df = tweets_df.reset_index(drop=True)\n",
    "#tweets_df"
   ]
  },
  {
   "cell_type": "markdown",
   "id": "62d8febd-12b5-4697-8615-af140b9648a5",
   "metadata": {},
   "source": [
    "## 4. Creating dataframe from extracted data"
   ]
  },
  {
   "cell_type": "code",
   "execution_count": null,
   "id": "15924b88-a640-402f-80de-210ecaf535a0",
   "metadata": {},
   "outputs": [],
   "source": []
  },
  {
   "cell_type": "markdown",
   "id": "db2bad38-bfca-4cc1-94d5-30400477c62c",
   "metadata": {},
   "source": [
    "## 5. Cleaning location variable and extracting geo data "
   ]
  },
  {
   "cell_type": "markdown",
   "id": "348bd3f7-48c7-4d71-95c1-6cb77dc5c8b6",
   "metadata": {},
   "source": [
    "### Clean location data before extracting from Nomatim"
   ]
  },
  {
   "cell_type": "code",
   "execution_count": 103,
   "id": "42c19792-ea10-49f5-851e-d4f4e58783e6",
   "metadata": {},
   "outputs": [
    {
     "data": {
      "text/plain": [
       "500"
      ]
     },
     "execution_count": 103,
     "metadata": {},
     "output_type": "execute_result"
    }
   ],
   "source": [
    "def cleaner(document_location):\n",
    "    \"\"\"\n",
    "    Cleaning location variable for:\n",
    "    mentions (@user), \n",
    "    removes \"#\", \n",
    "    removes everything after \"/\" since some users has multiple locations split by \"/\", - we take the first location.\n",
    "    try/except is used since the used method cannot be applied on empty values.\n",
    "    \"\"\"\n",
    "    try:\n",
    "        document_location = re.sub(r'@[^\\s]+','',document_location) #removes @user\n",
    "        document_location = re.sub(r'#[^\\s]+','',document_location) #removes #hashtag\n",
    "        #document_location = re.sub(r'\\/.*$','',document_location) #removes everything after / since some has multiple \"homes\", - we take the first\n",
    "        #document_location = re.sub(r'[\\d-]','',document_location) #removes digits\n",
    "        document_location = re.sub(r'[^\\w\\s]','', document_location) #Remove non-alphanumeric characters\n",
    "        return document_location\n",
    "    except:\n",
    "        (\"Some variable is None\")\n",
    "\n",
    "tweets_df8['tweet_location'] = tweets_df8['tweet_location'].apply(cleaner)\n",
    "len(tweets_df8)"
   ]
  },
  {
   "cell_type": "markdown",
   "id": "4a67d0fb-ab3f-4ba5-829d-35dafde573fd",
   "metadata": {},
   "source": [
    "### Collecting data from Nominatim using GeoPy"
   ]
  },
  {
   "cell_type": "code",
   "execution_count": null,
   "id": "c3b831e5-d799-4d5e-bd16-5e6dea84a502",
   "metadata": {
    "tags": []
   },
   "outputs": [
    {
     "name": "stdout",
     "output_type": "stream",
     "text": [
      "Failed with location at 11:36:21: Chestnut Health Systems\n",
      "Failed with location at 11:38:21: WinstonSalem NC\n",
      "Failed with location at 11:39:47: Barneys Gourmet Hamburgers\n",
      "Failed with location at 11:41:35: Erie Canal Boat Company Inc\n"
     ]
    }
   ],
   "source": [
    "geolocator = Nominatim(user_agent=\"Student at Singapore University\")\n",
    "\n",
    "def city_state_country(row):\n",
    "    \"\"\"\n",
    "    Using Nomatim API to get consistant data of city/state/country from a spurious location string, \n",
    "    - problem was that Twitter users either has \"city, state\" or \"state, country\", or something even less usable since location is a free text field.\n",
    "    \n",
    "    The code iterates over each row, and extracts city/state/country if applicable.\n",
    "    Sleep time is set to 1 second. - This is requested by the provider.\n",
    "    If not applicable the code returns the input.\n",
    "    \"\"\"\n",
    "    coord = f\"{row['tweet_location']}\"\n",
    "    sleep(1) #Nomatim is free to use, but requires users to only request 1/second\n",
    "    location = geolocator.geocode(coord,exactly_one=True, addressdetails=True)\n",
    "    if not location:\n",
    "        # if you see many in a row, it's probably Nominatim blocking you.\n",
    "        # if it's just every once in a while, there were just some bad results. \n",
    "        print(\"Failed with location at \" + datetime.now().strftime(\"%H:%M:%S\") + \": \" + coord)\n",
    "        row['city'], row['state'], row['country'] = None, None, None\n",
    "        return row\n",
    "    address = location.raw['address']\n",
    "    city = address.get('city', '')\n",
    "    state = address.get('state', '')\n",
    "    country = address.get('country', '')\n",
    "    row['city'] = city\n",
    "    row['state'] = state\n",
    "    row['country'] = country\n",
    "    return row\n",
    "\n",
    "tweets_df8 = tweets_df8.apply(city_state_country, axis=1)\n"
   ]
  },
  {
   "cell_type": "code",
   "execution_count": 101,
   "id": "018a291a-3bab-4c71-840f-f5da29632f8a",
   "metadata": {},
   "outputs": [],
   "source": [
    "tweets_df8.to_csv(r'geo_8.csv', index = False)\n",
    "#tweets_df = pd.read_csv('geo_1.csv')"
   ]
  },
  {
   "cell_type": "code",
   "execution_count": null,
   "id": "23203be8-ecc2-4b21-b90f-2322599a109c",
   "metadata": {},
   "outputs": [],
   "source": [
    "geo_1 = pd.read_csv('geo_1.csv')\n",
    "geo_2 = pd.read_csv('geo_2.csv')\n",
    "geo_3 = pd.read_csv('geo_3.csv')\n",
    "geo_4 = pd.read_csv('geo_4.csv')\n",
    "geo_5 = pd.read_csv('geo_5.csv')"
   ]
  },
  {
   "cell_type": "code",
   "execution_count": null,
   "id": "bcb0eaf9-f987-458e-a58e-1a18072569dc",
   "metadata": {},
   "outputs": [],
   "source": [
    "df_samlet = pd.concat([geo_1, geo2], ignore_index=True)"
   ]
  },
  {
   "cell_type": "code",
   "execution_count": null,
   "id": "f9c7846a-ce5b-43ab-a27c-a3b23ce3b024",
   "metadata": {},
   "outputs": [],
   "source": [
    "df_samlet = geo_1.append(geo_2, ignore_index=True)\n"
   ]
  },
  {
   "cell_type": "markdown",
   "id": "ea0a77c0-5abf-4aea-a83d-db6474bd0e54",
   "metadata": {},
   "source": [
    "### Final clean of location data"
   ]
  },
  {
   "cell_type": "code",
   "execution_count": 8,
   "id": "68782e3f-fbae-4fa8-a6b1-1ad7e15fe019",
   "metadata": {
    "collapsed": true,
    "jupyter": {
     "outputs_hidden": true
    },
    "tags": []
   },
   "outputs": [
    {
     "ename": "AttributeError",
     "evalue": "'DataFrame' object has no attribute 'country'",
     "output_type": "error",
     "traceback": [
      "\u001b[1;31m---------------------------------------------------------------------------\u001b[0m",
      "\u001b[1;31mAttributeError\u001b[0m                            Traceback (most recent call last)",
      "Input \u001b[1;32mIn [8]\u001b[0m, in \u001b[0;36m<cell line: 5>\u001b[1;34m()\u001b[0m\n\u001b[0;32m      1\u001b[0m \u001b[38;5;66;03m# Removes rows, where country != 'United States'.\u001b[39;00m\n\u001b[0;32m      2\u001b[0m \u001b[38;5;66;03m# This is often due to free text, where the user for example has written 'my bed' or 'the city'\u001b[39;00m\n\u001b[0;32m      3\u001b[0m \u001b[38;5;66;03m# I.e. 'the city' returns \"City of London\", which is why it is removed.\u001b[39;00m\n\u001b[0;32m      4\u001b[0m \u001b[38;5;66;03m# \"None\" returns the city None in Piemonte, Italy\u001b[39;00m\n\u001b[1;32m----> 5\u001b[0m tweets_df \u001b[38;5;241m=\u001b[39m tweets_df\u001b[38;5;241m.\u001b[39mdrop(tweets_df[\u001b[43mtweets_df\u001b[49m\u001b[38;5;241;43m.\u001b[39;49m\u001b[43mcountry\u001b[49m \u001b[38;5;241m!=\u001b[39m \u001b[38;5;124m'\u001b[39m\u001b[38;5;124mUnited States\u001b[39m\u001b[38;5;124m'\u001b[39m]\u001b[38;5;241m.\u001b[39mindex)\n\u001b[0;32m      7\u001b[0m \u001b[38;5;66;03m#Empty values to NaN\u001b[39;00m\n\u001b[0;32m      8\u001b[0m tweets_df[\u001b[38;5;124m'\u001b[39m\u001b[38;5;124mcity\u001b[39m\u001b[38;5;124m'\u001b[39m]\u001b[38;5;241m.\u001b[39mreplace(\u001b[38;5;124m'\u001b[39m\u001b[38;5;124m'\u001b[39m, np\u001b[38;5;241m.\u001b[39mnan, inplace\u001b[38;5;241m=\u001b[39m\u001b[38;5;28;01mTrue\u001b[39;00m)\n",
      "File \u001b[1;32m~\\anaconda3\\lib\\site-packages\\pandas\\core\\generic.py:5575\u001b[0m, in \u001b[0;36mNDFrame.__getattr__\u001b[1;34m(self, name)\u001b[0m\n\u001b[0;32m   5568\u001b[0m \u001b[38;5;28;01mif\u001b[39;00m (\n\u001b[0;32m   5569\u001b[0m     name \u001b[38;5;129;01mnot\u001b[39;00m \u001b[38;5;129;01min\u001b[39;00m \u001b[38;5;28mself\u001b[39m\u001b[38;5;241m.\u001b[39m_internal_names_set\n\u001b[0;32m   5570\u001b[0m     \u001b[38;5;129;01mand\u001b[39;00m name \u001b[38;5;129;01mnot\u001b[39;00m \u001b[38;5;129;01min\u001b[39;00m \u001b[38;5;28mself\u001b[39m\u001b[38;5;241m.\u001b[39m_metadata\n\u001b[0;32m   5571\u001b[0m     \u001b[38;5;129;01mand\u001b[39;00m name \u001b[38;5;129;01mnot\u001b[39;00m \u001b[38;5;129;01min\u001b[39;00m \u001b[38;5;28mself\u001b[39m\u001b[38;5;241m.\u001b[39m_accessors\n\u001b[0;32m   5572\u001b[0m     \u001b[38;5;129;01mand\u001b[39;00m \u001b[38;5;28mself\u001b[39m\u001b[38;5;241m.\u001b[39m_info_axis\u001b[38;5;241m.\u001b[39m_can_hold_identifiers_and_holds_name(name)\n\u001b[0;32m   5573\u001b[0m ):\n\u001b[0;32m   5574\u001b[0m     \u001b[38;5;28;01mreturn\u001b[39;00m \u001b[38;5;28mself\u001b[39m[name]\n\u001b[1;32m-> 5575\u001b[0m \u001b[38;5;28;01mreturn\u001b[39;00m \u001b[38;5;28;43mobject\u001b[39;49m\u001b[38;5;241;43m.\u001b[39;49m\u001b[38;5;21;43m__getattribute__\u001b[39;49m\u001b[43m(\u001b[49m\u001b[38;5;28;43mself\u001b[39;49m\u001b[43m,\u001b[49m\u001b[43m \u001b[49m\u001b[43mname\u001b[49m\u001b[43m)\u001b[49m\n",
      "\u001b[1;31mAttributeError\u001b[0m: 'DataFrame' object has no attribute 'country'"
     ]
    }
   ],
   "source": [
    "# Removes rows, where country != 'United States'.\n",
    "# This is often due to free text, where the user for example has written 'my bed' or 'the city'\n",
    "# I.e. 'the city' returns \"City of London\", which is why it is removed.\n",
    "# \"None\" returns the city None in Piemonte, Italy\n",
    "tweets_df = tweets_df.drop(tweets_df[tweets_df.country != 'United States'].index)\n",
    "\n",
    "#Empty values to NaN\n",
    "tweets_df['city'].replace('', np.nan, inplace=True)\n",
    "tweets_df['state'].replace('', np.nan, inplace=True)\n",
    "\n",
    "# Also removes rows without state info\n",
    "tweets_df[~tweets_df['state'].isnull()]\n",
    "tweets_df.dropna(subset=['state'], inplace=True)\n",
    "len(tweets_df)"
   ]
  },
  {
   "cell_type": "code",
   "execution_count": null,
   "id": "1a39a340-c12a-4f58-a3c9-fc57bb405dd1",
   "metadata": {
    "tags": []
   },
   "outputs": [],
   "source": [
    "# Dictionary to get 2 digit state code to use for heatmap later\n",
    "us_state_to_abbrev = {\n",
    "    \"Alabama\": \"AL\",\n",
    "    \"Alaska\": \"AK\",\n",
    "    \"Arizona\": \"AZ\",\n",
    "    \"Arkansas\": \"AR\",\n",
    "    \"California\": \"CA\",\n",
    "    \"Colorado\": \"CO\",\n",
    "    \"Connecticut\": \"CT\",\n",
    "    \"Delaware\": \"DE\",\n",
    "    \"Florida\": \"FL\",\n",
    "    \"Georgia\": \"GA\",\n",
    "    \"Hawaii\": \"HI\",\n",
    "    \"Idaho\": \"ID\",\n",
    "    \"Illinois\": \"IL\",\n",
    "    \"Indiana\": \"IN\",\n",
    "    \"Iowa\": \"IA\",\n",
    "    \"Kansas\": \"KS\",\n",
    "    \"Kentucky\": \"KY\",\n",
    "    \"Louisiana\": \"LA\",\n",
    "    \"Maine\": \"ME\",\n",
    "    \"Maryland\": \"MD\",\n",
    "    \"Massachusetts\": \"MA\",\n",
    "    \"Michigan\": \"MI\",\n",
    "    \"Minnesota\": \"MN\",\n",
    "    \"Mississippi\": \"MS\",\n",
    "    \"Missouri\": \"MO\",\n",
    "    \"Montana\": \"MT\",\n",
    "    \"Nebraska\": \"NE\",\n",
    "    \"Nevada\": \"NV\",\n",
    "    \"New Hampshire\": \"NH\",\n",
    "    \"New Jersey\": \"NJ\",\n",
    "    \"New Mexico\": \"NM\",\n",
    "    \"New York\": \"NY\",\n",
    "    \"North Carolina\": \"NC\",\n",
    "    \"North Dakota\": \"ND\",\n",
    "    \"Ohio\": \"OH\",\n",
    "    \"Oklahoma\": \"OK\",\n",
    "    \"Oregon\": \"OR\",\n",
    "    \"Pennsylvania\": \"PA\",\n",
    "    \"Rhode Island\": \"RI\",\n",
    "    \"South Carolina\": \"SC\",\n",
    "    \"South Dakota\": \"SD\",\n",
    "    \"Tennessee\": \"TN\",\n",
    "    \"Texas\": \"TX\",\n",
    "    \"Utah\": \"UT\",\n",
    "    \"Vermont\": \"VT\",\n",
    "    \"Virginia\": \"VA\",\n",
    "    \"Washington\": \"WA\",\n",
    "    \"West Virginia\": \"WV\",\n",
    "    \"Wisconsin\": \"WI\",\n",
    "    \"Wyoming\": \"WY\",\n",
    "    \"District of Columbia\": \"DC\",\n",
    "    \"American Samoa\": \"AS\",\n",
    "    \"Guam\": \"GU\",\n",
    "    \"Northern Mariana Islands\": \"MP\",\n",
    "    \"Puerto Rico\": \"PR\",\n",
    "    \"United States Minor Outlying Islands\": \"UM\",\n",
    "    \"U.S. Virgin Islands\": \"VI\",\n",
    "}"
   ]
  },
  {
   "cell_type": "code",
   "execution_count": null,
   "id": "ee798c73-8aef-45c0-85b4-181400c998c4",
   "metadata": {},
   "outputs": [],
   "source": [
    "# Adding 2 digit state codes for map plot \n",
    "tweets_df['state_code'] = tweets_df['state'].map(us_state_to_abbrev)\n",
    "tweets_df.head(2)"
   ]
  },
  {
   "cell_type": "code",
   "execution_count": null,
   "id": "ba63d845-e8ce-43ab-a498-4fc844200255",
   "metadata": {
    "tags": []
   },
   "outputs": [],
   "source": [
    "# Creating date variable from datetime variable\n",
    "tweets_df['date'] = pd.to_datetime(tweets_df[\"created_at\"].dt.strftime('%Y-%m-%d'))\n",
    "tweets_df.head(2)"
   ]
  },
  {
   "cell_type": "markdown",
   "id": "e6d24877-abee-46be-9d64-5afee23dcb83",
   "metadata": {},
   "source": [
    "save copy as csv"
   ]
  },
  {
   "cell_type": "code",
   "execution_count": 8,
   "id": "adca588b-54cc-451b-b6fb-6e0d5348a1f1",
   "metadata": {},
   "outputs": [],
   "source": [
    "tweets_df = pd.read_csv('pulled_data_1908.csv')"
   ]
  },
  {
   "cell_type": "markdown",
   "id": "492ae1a7-4495-483c-9e58-56525732ba88",
   "metadata": {},
   "source": [
    "### Collecting and cleaning data from Wikipedia"
   ]
  },
  {
   "cell_type": "code",
   "execution_count": 9,
   "id": "6338e28c-e93e-4959-8aa0-53778cfaca19",
   "metadata": {},
   "outputs": [
    {
     "data": {
      "text/html": [
       "<div>\n",
       "<style scoped>\n",
       "    .dataframe tbody tr th:only-of-type {\n",
       "        vertical-align: middle;\n",
       "    }\n",
       "\n",
       "    .dataframe tbody tr th {\n",
       "        vertical-align: top;\n",
       "    }\n",
       "\n",
       "    .dataframe thead th {\n",
       "        text-align: right;\n",
       "    }\n",
       "</style>\n",
       "<table border=\"1\" class=\"dataframe\">\n",
       "  <thead>\n",
       "    <tr style=\"text-align: right;\">\n",
       "      <th></th>\n",
       "      <th>State ordistrictState ordistrict</th>\n",
       "      <th>Biden/HarrisDemocraticVotes</th>\n",
       "      <th>Biden/HarrisDemocratic%</th>\n",
       "      <th>Biden/HarrisDemocraticEV</th>\n",
       "      <th>Trump/PenceRepublicanVotes</th>\n",
       "      <th>Trump/PenceRepublican%</th>\n",
       "      <th>Trump/PenceRepublicanEV</th>\n",
       "      <th>Jorgensen/CohenLibertarianVotes</th>\n",
       "      <th>Jorgensen/CohenLibertarian%</th>\n",
       "      <th>Jorgensen/CohenLibertarianEV</th>\n",
       "      <th>Hawkins/WalkerGreenVotes</th>\n",
       "      <th>Hawkins/WalkerGreen%</th>\n",
       "      <th>Hawkins/WalkerGreenEV</th>\n",
       "      <th>OthersVotes</th>\n",
       "      <th>Others%</th>\n",
       "      <th>OthersEV</th>\n",
       "      <th>MarginVotes</th>\n",
       "      <th>Margin%</th>\n",
       "      <th>Marginswing[l]%</th>\n",
       "      <th>TotalvotesTotalvotes</th>\n",
       "    </tr>\n",
       "  </thead>\n",
       "  <tbody>\n",
       "    <tr>\n",
       "      <th>0</th>\n",
       "      <td>Alab.</td>\n",
       "      <td>849624</td>\n",
       "      <td>36.57%</td>\n",
       "      <td>–</td>\n",
       "      <td>1441170</td>\n",
       "      <td>62.03%</td>\n",
       "      <td>9</td>\n",
       "      <td>25176</td>\n",
       "      <td>1.08%</td>\n",
       "      <td>–</td>\n",
       "      <td>[m]</td>\n",
       "      <td>[m]</td>\n",
       "      <td>–</td>\n",
       "      <td>7312</td>\n",
       "      <td>0.31%</td>\n",
       "      <td>–</td>\n",
       "      <td>−591,546</td>\n",
       "      <td>−25.46%</td>\n",
       "      <td>2.27%</td>\n",
       "      <td>2323282</td>\n",
       "    </tr>\n",
       "    <tr>\n",
       "      <th>1</th>\n",
       "      <td>Alaska</td>\n",
       "      <td>153778</td>\n",
       "      <td>42.77%</td>\n",
       "      <td>–</td>\n",
       "      <td>189951</td>\n",
       "      <td>52.83%</td>\n",
       "      <td>3</td>\n",
       "      <td>8897</td>\n",
       "      <td>2.47%</td>\n",
       "      <td>–</td>\n",
       "      <td>[n]</td>\n",
       "      <td>[n]</td>\n",
       "      <td>–</td>\n",
       "      <td>6904</td>\n",
       "      <td>1.92%</td>\n",
       "      <td>–</td>\n",
       "      <td>−36,173</td>\n",
       "      <td>−10.06%</td>\n",
       "      <td>4.67%</td>\n",
       "      <td>359530</td>\n",
       "    </tr>\n",
       "    <tr>\n",
       "      <th>2</th>\n",
       "      <td>Arizona</td>\n",
       "      <td>1672143</td>\n",
       "      <td>49.36%</td>\n",
       "      <td>11</td>\n",
       "      <td>1661686</td>\n",
       "      <td>49.06%</td>\n",
       "      <td>–</td>\n",
       "      <td>51465</td>\n",
       "      <td>1.52%</td>\n",
       "      <td>–</td>\n",
       "      <td>1557</td>\n",
       "      <td>0.05%</td>\n",
       "      <td>–</td>\n",
       "      <td>475</td>\n",
       "      <td>0.01%</td>\n",
       "      <td>–</td>\n",
       "      <td>10457</td>\n",
       "      <td>0.31%</td>\n",
       "      <td>3.81%</td>\n",
       "      <td>3387326</td>\n",
       "    </tr>\n",
       "    <tr>\n",
       "      <th>3</th>\n",
       "      <td>Ark.</td>\n",
       "      <td>423932</td>\n",
       "      <td>34.78%</td>\n",
       "      <td>–</td>\n",
       "      <td>760647</td>\n",
       "      <td>62.40%</td>\n",
       "      <td>6</td>\n",
       "      <td>13133</td>\n",
       "      <td>1.08%</td>\n",
       "      <td>–</td>\n",
       "      <td>2980</td>\n",
       "      <td>0.24%</td>\n",
       "      <td>–</td>\n",
       "      <td>18377</td>\n",
       "      <td>1.51%</td>\n",
       "      <td>–</td>\n",
       "      <td>−336,715</td>\n",
       "      <td>−27.62%</td>\n",
       "      <td>−0.70%</td>\n",
       "      <td>1219069</td>\n",
       "    </tr>\n",
       "    <tr>\n",
       "      <th>4</th>\n",
       "      <td>Calif.</td>\n",
       "      <td>11110250</td>\n",
       "      <td>63.48%</td>\n",
       "      <td>55</td>\n",
       "      <td>6006429</td>\n",
       "      <td>34.32%</td>\n",
       "      <td>–</td>\n",
       "      <td>187895</td>\n",
       "      <td>1.07%</td>\n",
       "      <td>–</td>\n",
       "      <td>81029</td>\n",
       "      <td>0.46%</td>\n",
       "      <td>–</td>\n",
       "      <td>115278</td>\n",
       "      <td>0.66%</td>\n",
       "      <td>–</td>\n",
       "      <td>5103821</td>\n",
       "      <td>29.16%</td>\n",
       "      <td>−0.95%</td>\n",
       "      <td>17500881</td>\n",
       "    </tr>\n",
       "  </tbody>\n",
       "</table>\n",
       "</div>"
      ],
      "text/plain": [
       "  State ordistrictState ordistrict Biden/HarrisDemocraticVotes  \\\n",
       "0                            Alab.                      849624   \n",
       "1                           Alaska                      153778   \n",
       "2                          Arizona                     1672143   \n",
       "3                             Ark.                      423932   \n",
       "4                           Calif.                    11110250   \n",
       "\n",
       "  Biden/HarrisDemocratic% Biden/HarrisDemocraticEV Trump/PenceRepublicanVotes  \\\n",
       "0                  36.57%                        –                    1441170   \n",
       "1                  42.77%                        –                     189951   \n",
       "2                  49.36%                       11                    1661686   \n",
       "3                  34.78%                        –                     760647   \n",
       "4                  63.48%                       55                    6006429   \n",
       "\n",
       "  Trump/PenceRepublican% Trump/PenceRepublicanEV  \\\n",
       "0                 62.03%                       9   \n",
       "1                 52.83%                       3   \n",
       "2                 49.06%                       –   \n",
       "3                 62.40%                       6   \n",
       "4                 34.32%                       –   \n",
       "\n",
       "  Jorgensen/CohenLibertarianVotes Jorgensen/CohenLibertarian%  \\\n",
       "0                           25176                       1.08%   \n",
       "1                            8897                       2.47%   \n",
       "2                           51465                       1.52%   \n",
       "3                           13133                       1.08%   \n",
       "4                          187895                       1.07%   \n",
       "\n",
       "  Jorgensen/CohenLibertarianEV Hawkins/WalkerGreenVotes Hawkins/WalkerGreen%  \\\n",
       "0                            –                      [m]                  [m]   \n",
       "1                            –                      [n]                  [n]   \n",
       "2                            –                     1557                0.05%   \n",
       "3                            –                     2980                0.24%   \n",
       "4                            –                    81029                0.46%   \n",
       "\n",
       "  Hawkins/WalkerGreenEV OthersVotes Others% OthersEV MarginVotes  Margin%  \\\n",
       "0                     –        7312   0.31%        –    −591,546  −25.46%   \n",
       "1                     –        6904   1.92%        –     −36,173  −10.06%   \n",
       "2                     –         475   0.01%        –       10457    0.31%   \n",
       "3                     –       18377   1.51%        –    −336,715  −27.62%   \n",
       "4                     –      115278   0.66%        –     5103821   29.16%   \n",
       "\n",
       "  Marginswing[l]% TotalvotesTotalvotes  \n",
       "0           2.27%              2323282  \n",
       "1           4.67%               359530  \n",
       "2           3.81%              3387326  \n",
       "3          −0.70%              1219069  \n",
       "4          −0.95%             17500881  "
      ]
     },
     "execution_count": 9,
     "metadata": {},
     "output_type": "execute_result"
    }
   ],
   "source": [
    "#Start by importing the website where we want to extract the data from\n",
    "dfs = pd.read_html('https://en.wikipedia.org/wiki/2020_United_States_presidential_election')\n",
    "\n",
    "#seeing that the table we want is the nr19 therefore we extract that\n",
    "table_stat = dfs[19]\n",
    "\n",
    "#from the above we see that there are 2 type of headers. We want to deal with this, therefore we put the two columns together \n",
    "#by f-string formatting \n",
    "table_stat.columns = [f'{i}{j}' for i, j in table_stat.columns]\n",
    "table_stat.head()"
   ]
  },
  {
   "cell_type": "code",
   "execution_count": 10,
   "id": "129b4815-65dd-4bae-8047-7fa694600456",
   "metadata": {},
   "outputs": [
    {
     "data": {
      "text/html": [
       "<div>\n",
       "<style scoped>\n",
       "    .dataframe tbody tr th:only-of-type {\n",
       "        vertical-align: middle;\n",
       "    }\n",
       "\n",
       "    .dataframe tbody tr th {\n",
       "        vertical-align: top;\n",
       "    }\n",
       "\n",
       "    .dataframe thead th {\n",
       "        text-align: right;\n",
       "    }\n",
       "</style>\n",
       "<table border=\"1\" class=\"dataframe\">\n",
       "  <thead>\n",
       "    <tr style=\"text-align: right;\">\n",
       "      <th></th>\n",
       "      <th>state</th>\n",
       "      <th>Democratic</th>\n",
       "      <th>Democraticpct</th>\n",
       "      <th>Republican</th>\n",
       "      <th>Republicanpct</th>\n",
       "    </tr>\n",
       "  </thead>\n",
       "  <tbody>\n",
       "    <tr>\n",
       "      <th>0</th>\n",
       "      <td>Alabama</td>\n",
       "      <td>849624</td>\n",
       "      <td>36.57%</td>\n",
       "      <td>1441170</td>\n",
       "      <td>62.03%</td>\n",
       "    </tr>\n",
       "    <tr>\n",
       "      <th>1</th>\n",
       "      <td>Alaska</td>\n",
       "      <td>153778</td>\n",
       "      <td>42.77%</td>\n",
       "      <td>189951</td>\n",
       "      <td>52.83%</td>\n",
       "    </tr>\n",
       "    <tr>\n",
       "      <th>2</th>\n",
       "      <td>Arizona</td>\n",
       "      <td>1672143</td>\n",
       "      <td>49.36%</td>\n",
       "      <td>1661686</td>\n",
       "      <td>49.06%</td>\n",
       "    </tr>\n",
       "    <tr>\n",
       "      <th>3</th>\n",
       "      <td>Arkansas</td>\n",
       "      <td>423932</td>\n",
       "      <td>34.78%</td>\n",
       "      <td>760647</td>\n",
       "      <td>62.40%</td>\n",
       "    </tr>\n",
       "  </tbody>\n",
       "</table>\n",
       "</div>"
      ],
      "text/plain": [
       "      state Democratic Democraticpct Republican Republicanpct\n",
       "0   Alabama     849624        36.57%    1441170        62.03%\n",
       "1    Alaska     153778        42.77%     189951        52.83%\n",
       "2   Arizona    1672143        49.36%    1661686        49.06%\n",
       "3  Arkansas     423932        34.78%     760647        62.40%"
      ]
     },
     "execution_count": 10,
     "metadata": {},
     "output_type": "execute_result"
    }
   ],
   "source": [
    "#then we drop the columns we are not interested in, since we only want to compare Democrats and Republicans\n",
    "table_stat1= table_stat.drop(table_stat.columns[[3, 6]], axis=1)\n",
    "table_stat2 = table_stat1.drop(table_stat1.iloc[:, 5:18], axis=1)\n",
    "\n",
    "#removing extra rows from Maine and Newbraske due to the election rules in these state\n",
    "table_stat3= table_stat2.drop(table_stat.index[[20, 21,30, 31, 32, 56, 57]], axis=0)\n",
    "\n",
    "# Manually handling the states so their are inlibne with the twitter data. Thereby we can merge the data\n",
    "table_stat4 = table_stat3.replace(['Alab.','Ark.','Calif.', 'Colo.', 'Conn.', 'Del.', 'D.C.' , 'Ky.', 'La.', 'Maine †', 'Md.', 'Mass.', 'Mich.',\n",
    "                                  'Minn.', 'Miss.', 'Mo.' , 'Mont.', 'Neb. †', 'Nev.[p]', 'N.H.', 'N.J.[q]' , 'N.M.', 'N.Y.[r]', 'N.C.',\n",
    "                                  'N.D.', 'Okla.', 'Pa.' , 'R.I.', 'S.C.', 'S.D.', 'Tenn.','Texas[t]', 'Vt.' , 'Va.', 'Wash.', 'W.Va.',\n",
    "                                  'Wis.', 'Wyo.'], \n",
    "                                  ['Alabama','Arkansas','California','Colorado', 'Connecticut', 'Delaware', 'District of Columbia', 'Kentucky',\n",
    "                                  'Louisiana', 'Maine', 'Maryland', 'Massachusetts', 'Michigan', 'Minnesota', 'Mississippi', 'Missouri', 'Montanna',\n",
    "                                  'Nebraska', 'Nevada', 'New Hampshire', 'New Jersey', 'New Mexico', 'New York', 'North Carolina', 'North Dakota',\n",
    "                                  'Oklahoma', 'Pennsylvania', 'Rhode Island', 'South Carolina', 'South Dakota', 'Tennessee', 'Texas', 'Vermont',\n",
    "                                  'Virginia', 'Washington', 'West Virginia', 'Wisconsin', 'Wyoming'])\n",
    "\n",
    "#renaming columns to give them more intuitive names for comparison \n",
    "table_stat5 = table_stat4.rename(columns = {'State ordistrictState ordistrict':'state', \n",
    "                                            'Biden/HarrisDemocraticVotes':'Democratic', \n",
    "                                            'Biden/HarrisDemocratic%':'Democraticpct', \n",
    "                                            'Trump/PenceRepublicanVotes':'Republican', \n",
    "                                            'Trump/PenceRepublican%' : 'Republicanpct'}\n",
    "                                )\n",
    "\n",
    "table_stat5.head(4)\n",
    "\n"
   ]
  },
  {
   "cell_type": "code",
   "execution_count": 11,
   "id": "1a200f38-38e7-4cc7-8bc5-e1ed336c2a3d",
   "metadata": {
    "tags": []
   },
   "outputs": [
    {
     "data": {
      "text/html": [
       "<div>\n",
       "<style scoped>\n",
       "    .dataframe tbody tr th:only-of-type {\n",
       "        vertical-align: middle;\n",
       "    }\n",
       "\n",
       "    .dataframe tbody tr th {\n",
       "        vertical-align: top;\n",
       "    }\n",
       "\n",
       "    .dataframe thead th {\n",
       "        text-align: right;\n",
       "    }\n",
       "</style>\n",
       "<table border=\"1\" class=\"dataframe\">\n",
       "  <thead>\n",
       "    <tr style=\"text-align: right;\">\n",
       "      <th></th>\n",
       "      <th>created_at</th>\n",
       "      <th>text</th>\n",
       "      <th>source</th>\n",
       "      <th>name</th>\n",
       "      <th>username</th>\n",
       "      <th>user_location</th>\n",
       "      <th>tweet_location</th>\n",
       "      <th>country_code</th>\n",
       "      <th>verified</th>\n",
       "      <th>description</th>\n",
       "      <th>city</th>\n",
       "      <th>state</th>\n",
       "      <th>country</th>\n",
       "      <th>state_code</th>\n",
       "      <th>date</th>\n",
       "      <th>Democratic</th>\n",
       "      <th>Democraticpct</th>\n",
       "      <th>Republican</th>\n",
       "      <th>Republicanpct</th>\n",
       "      <th>state_color</th>\n",
       "    </tr>\n",
       "  </thead>\n",
       "  <tbody>\n",
       "    <tr>\n",
       "      <th>0</th>\n",
       "      <td>2020-10-01 23:54:28+00:00</td>\n",
       "      <td>Great Article on Pfizer's Covid19 Vaccine! It ...</td>\n",
       "      <td>Twitter for Android</td>\n",
       "      <td>The Catholic Honey Badger ⛪🌄</td>\n",
       "      <td>RuralUSCatholic</td>\n",
       "      <td>West Plains, MO</td>\n",
       "      <td>Missouri, USA</td>\n",
       "      <td>US</td>\n",
       "      <td>False</td>\n",
       "      <td>In your hearts reverence Christ as Lord. Alway...</td>\n",
       "      <td>NaN</td>\n",
       "      <td>Missouri</td>\n",
       "      <td>United States</td>\n",
       "      <td>MO</td>\n",
       "      <td>2020-10-01</td>\n",
       "      <td>1253014</td>\n",
       "      <td>41.41%</td>\n",
       "      <td>1718736</td>\n",
       "      <td>56.80%</td>\n",
       "      <td>Red</td>\n",
       "    </tr>\n",
       "    <tr>\n",
       "      <th>1</th>\n",
       "      <td>2020-10-02 22:39:08+00:00</td>\n",
       "      <td>@twoine35 i definitely heard something about h...</td>\n",
       "      <td>Twitter for iPhone</td>\n",
       "      <td>EP53</td>\n",
       "      <td>fiftytres</td>\n",
       "      <td>TX✈️CA</td>\n",
       "      <td>Warren, MI</td>\n",
       "      <td>US</td>\n",
       "      <td>False</td>\n",
       "      <td>$ | R.I.P JORDAN | R.I.P JAILUN | #JUCOPRODUCT...</td>\n",
       "      <td>NaN</td>\n",
       "      <td>Missouri</td>\n",
       "      <td>United States</td>\n",
       "      <td>MO</td>\n",
       "      <td>2020-10-02</td>\n",
       "      <td>1253014</td>\n",
       "      <td>41.41%</td>\n",
       "      <td>1718736</td>\n",
       "      <td>56.80%</td>\n",
       "      <td>Red</td>\n",
       "    </tr>\n",
       "  </tbody>\n",
       "</table>\n",
       "</div>"
      ],
      "text/plain": [
       "                  created_at  \\\n",
       "0  2020-10-01 23:54:28+00:00   \n",
       "1  2020-10-02 22:39:08+00:00   \n",
       "\n",
       "                                                text               source  \\\n",
       "0  Great Article on Pfizer's Covid19 Vaccine! It ...  Twitter for Android   \n",
       "1  @twoine35 i definitely heard something about h...   Twitter for iPhone   \n",
       "\n",
       "                           name         username    user_location  \\\n",
       "0  The Catholic Honey Badger ⛪🌄  RuralUSCatholic  West Plains, MO   \n",
       "1                          EP53        fiftytres           TX✈️CA   \n",
       "\n",
       "  tweet_location country_code  verified  \\\n",
       "0  Missouri, USA           US     False   \n",
       "1     Warren, MI           US     False   \n",
       "\n",
       "                                         description city     state  \\\n",
       "0  In your hearts reverence Christ as Lord. Alway...  NaN  Missouri   \n",
       "1  $ | R.I.P JORDAN | R.I.P JAILUN | #JUCOPRODUCT...  NaN  Missouri   \n",
       "\n",
       "         country state_code        date Democratic Democraticpct Republican  \\\n",
       "0  United States         MO  2020-10-01    1253014        41.41%    1718736   \n",
       "1  United States         MO  2020-10-02    1253014        41.41%    1718736   \n",
       "\n",
       "  Republicanpct state_color  \n",
       "0        56.80%         Red  \n",
       "1        56.80%         Red  "
      ]
     },
     "execution_count": 11,
     "metadata": {},
     "output_type": "execute_result"
    }
   ],
   "source": [
    "#Comparing the vote pct to see if the state is either Democratic (blue) or Republican (red) and adding a new collum\n",
    "comparison_column = np.where(table_stat5[\"Democraticpct\"] > table_stat5[\"Republicanpct\"], 'Blue', 'Red')\n",
    "#comparison_pct_column = np.where(table_stat5[\"Democraticpct\"] > table_stat5[\"Republicanpct\"], table_stat5[\"Democratic\"]-table_stat5[\"Republican\"], 1)\n",
    "\n",
    "\n",
    "table_stat5[\"state_color\"] = comparison_column\n",
    "#table_stat5[\"pct_dif\"] = comparison_pct_column\n",
    "\n",
    "# merging the datasets\n",
    "tweets_df2 = tweets_df.merge(table_stat5, how='inner', on='state')\n",
    "tweets_df2.head(2)"
   ]
  },
  {
   "cell_type": "code",
   "execution_count": 12,
   "id": "d28aed0a-5451-4599-8c5f-cae0748410e1",
   "metadata": {},
   "outputs": [],
   "source": [
    "tweets_df2.to_csv(r'all_pulled_data.csv', index = False)\n"
   ]
  },
  {
   "cell_type": "markdown",
   "id": "784cfb39-532d-4cf1-bd03-ea7ba69cca0a",
   "metadata": {},
   "source": [
    "## 6. Cleaning of the tweet text"
   ]
  },
  {
   "cell_type": "code",
   "execution_count": 23,
   "id": "598692cc-5d40-4fef-9038-40c87b45c5eb",
   "metadata": {},
   "outputs": [],
   "source": [
    "## Making a copy, to not be forced to load from the start every time\n",
    "tweets_df3 = tweets_df2.copy()"
   ]
  },
  {
   "cell_type": "code",
   "execution_count": 14,
   "id": "10291271-c827-4e8d-afaf-7728360787ef",
   "metadata": {},
   "outputs": [
    {
     "data": {
      "text/plain": [
       "'During the swine flue ( obama /Biden ) the vaccines killed and made more people sick . So much for Biden handling the pandemic'"
      ]
     },
     "execution_count": 14,
     "metadata": {},
     "output_type": "execute_result"
    }
   ],
   "source": [
    "tweets_df2['text'][69]"
   ]
  },
  {
   "cell_type": "markdown",
   "id": "424d86f7-86af-4822-aa93-55d499b3f24c",
   "metadata": {},
   "source": [
    "### Cleaner for the text variable"
   ]
  },
  {
   "cell_type": "code",
   "execution_count": 24,
   "id": "cf68383b-b77a-4fc0-a640-7eed785599b6",
   "metadata": {},
   "outputs": [],
   "source": [
    "def cleaner_text(document_tweet):\n",
    "    \"\"\"\n",
    "    Cleaning tweet text for:\n",
    "    replacing \\n newlines with white space ' ',\n",
    "    lower case everything,\n",
    "    removes mentions (@user), \n",
    "    removes \"#\" before hashtags and keeps the text, \n",
    "    removes digits, \n",
    "    removes http-links,\n",
    "    \"\"\"\n",
    "    document_tweet = re.sub(r'\\r\\n|\\r|\\n', ' ', document_tweet) #replaces newline with white space\n",
    "    document_tweet = document_tweet.lower() #To lower case\n",
    "    document_tweet = re.sub(r'@[^\\s]+','',document_tweet) #removes @user\n",
    "    document_tweet = re.sub(r'[#]','',document_tweet) #Removes only #-sign\n",
    "    document_tweet = re.sub(r'[\\d-]','',document_tweet) #removes digits\n",
    "    document_tweet = re.sub(r'http[^\\s]+','',document_tweet) #removes links starting with http\n",
    "    document_tweet = re.sub(r'[^\\w\\s]','', document_tweet) #Remove non-alphanumeric characters\n",
    "    #document_tweet = re.sub(r'#[^\\s]+','',document_tweet) #removes \"#\" and #hashtagstring\n",
    "    return document_tweet\n",
    "\n",
    "tweets_df3['text'] = tweets_df3['text'].apply(cleaner_text)"
   ]
  },
  {
   "cell_type": "markdown",
   "id": "554add26-ef1d-4ce4-82cc-6df7a21b9a24",
   "metadata": {},
   "source": [
    "### Translate emojis to text"
   ]
  },
  {
   "cell_type": "code",
   "execution_count": null,
   "id": "81f67c50-f36f-4af4-a209-112ed9ec1473",
   "metadata": {},
   "outputs": [],
   "source": [
    "def demojize_text(text_tweet):\n",
    "    \"\"\"\n",
    "    translates emojis to text.\n",
    "    \"\"\"\n",
    "    return emoji.demojize(text_tweet, delimiters=(\"\", \" \"))\n",
    "\n",
    "tweets_df2['text'] = tweets_df2['text'].apply(demojize_text)"
   ]
  },
  {
   "cell_type": "markdown",
   "id": "2f5c620f-0e84-40d4-a2a5-0229b2b6ac5b",
   "metadata": {
    "tags": []
   },
   "source": [
    "### Removing stop words"
   ]
  },
  {
   "cell_type": "markdown",
   "id": "b8e794b6-d4b3-4122-8ecc-997fa272148a",
   "metadata": {},
   "source": [
    "doing this before ML"
   ]
  },
  {
   "cell_type": "markdown",
   "id": "82b0530c-a2e6-4a81-be4c-831978bb4817",
   "metadata": {},
   "source": [
    "### Apply the sentiment analysis using Vader"
   ]
  },
  {
   "cell_type": "code",
   "execution_count": 25,
   "id": "ae41d02f-7761-4100-90fd-c1180024b8e4",
   "metadata": {
    "scrolled": true,
    "tags": []
   },
   "outputs": [
    {
     "data": {
      "text/html": [
       "<div>\n",
       "<style scoped>\n",
       "    .dataframe tbody tr th:only-of-type {\n",
       "        vertical-align: middle;\n",
       "    }\n",
       "\n",
       "    .dataframe tbody tr th {\n",
       "        vertical-align: top;\n",
       "    }\n",
       "\n",
       "    .dataframe thead th {\n",
       "        text-align: right;\n",
       "    }\n",
       "</style>\n",
       "<table border=\"1\" class=\"dataframe\">\n",
       "  <thead>\n",
       "    <tr style=\"text-align: right;\">\n",
       "      <th></th>\n",
       "      <th>created_at</th>\n",
       "      <th>text</th>\n",
       "      <th>source</th>\n",
       "      <th>name</th>\n",
       "      <th>username</th>\n",
       "      <th>user_location</th>\n",
       "      <th>tweet_location</th>\n",
       "      <th>country_code</th>\n",
       "      <th>verified</th>\n",
       "      <th>description</th>\n",
       "      <th>...</th>\n",
       "      <th>country</th>\n",
       "      <th>state_code</th>\n",
       "      <th>date</th>\n",
       "      <th>Democratic</th>\n",
       "      <th>Democraticpct</th>\n",
       "      <th>Republican</th>\n",
       "      <th>Republicanpct</th>\n",
       "      <th>state_color</th>\n",
       "      <th>sentiment_score</th>\n",
       "      <th>tweet_sentiment</th>\n",
       "    </tr>\n",
       "  </thead>\n",
       "  <tbody>\n",
       "    <tr>\n",
       "      <th>0</th>\n",
       "      <td>2020-10-01 23:54:28+00:00</td>\n",
       "      <td>great article on pfizers covid vaccine it may ...</td>\n",
       "      <td>Twitter for Android</td>\n",
       "      <td>The Catholic Honey Badger ⛪🌄</td>\n",
       "      <td>RuralUSCatholic</td>\n",
       "      <td>West Plains, MO</td>\n",
       "      <td>Missouri, USA</td>\n",
       "      <td>US</td>\n",
       "      <td>False</td>\n",
       "      <td>In your hearts reverence Christ as Lord. Alway...</td>\n",
       "      <td>...</td>\n",
       "      <td>United States</td>\n",
       "      <td>MO</td>\n",
       "      <td>2020-10-01</td>\n",
       "      <td>1253014</td>\n",
       "      <td>41.41%</td>\n",
       "      <td>1718736</td>\n",
       "      <td>56.80%</td>\n",
       "      <td>Red</td>\n",
       "      <td>0.6249</td>\n",
       "      <td>1</td>\n",
       "    </tr>\n",
       "    <tr>\n",
       "      <th>1</th>\n",
       "      <td>2020-10-02 22:39:08+00:00</td>\n",
       "      <td>i definitely heard something about him buyin ...</td>\n",
       "      <td>Twitter for iPhone</td>\n",
       "      <td>EP53</td>\n",
       "      <td>fiftytres</td>\n",
       "      <td>TX✈️CA</td>\n",
       "      <td>Warren, MI</td>\n",
       "      <td>US</td>\n",
       "      <td>False</td>\n",
       "      <td>$ | R.I.P JORDAN | R.I.P JAILUN | #JUCOPRODUCT...</td>\n",
       "      <td>...</td>\n",
       "      <td>United States</td>\n",
       "      <td>MO</td>\n",
       "      <td>2020-10-02</td>\n",
       "      <td>1253014</td>\n",
       "      <td>41.41%</td>\n",
       "      <td>1718736</td>\n",
       "      <td>56.80%</td>\n",
       "      <td>Red</td>\n",
       "      <td>0.4019</td>\n",
       "      <td>1</td>\n",
       "    </tr>\n",
       "  </tbody>\n",
       "</table>\n",
       "<p>2 rows × 22 columns</p>\n",
       "</div>"
      ],
      "text/plain": [
       "                  created_at  \\\n",
       "0  2020-10-01 23:54:28+00:00   \n",
       "1  2020-10-02 22:39:08+00:00   \n",
       "\n",
       "                                                text               source  \\\n",
       "0  great article on pfizers covid vaccine it may ...  Twitter for Android   \n",
       "1   i definitely heard something about him buyin ...   Twitter for iPhone   \n",
       "\n",
       "                           name         username    user_location  \\\n",
       "0  The Catholic Honey Badger ⛪🌄  RuralUSCatholic  West Plains, MO   \n",
       "1                          EP53        fiftytres           TX✈️CA   \n",
       "\n",
       "  tweet_location country_code  verified  \\\n",
       "0  Missouri, USA           US     False   \n",
       "1     Warren, MI           US     False   \n",
       "\n",
       "                                         description  ...        country  \\\n",
       "0  In your hearts reverence Christ as Lord. Alway...  ...  United States   \n",
       "1  $ | R.I.P JORDAN | R.I.P JAILUN | #JUCOPRODUCT...  ...  United States   \n",
       "\n",
       "  state_code        date Democratic Democraticpct Republican Republicanpct  \\\n",
       "0         MO  2020-10-01    1253014        41.41%    1718736        56.80%   \n",
       "1         MO  2020-10-02    1253014        41.41%    1718736        56.80%   \n",
       "\n",
       "  state_color sentiment_score tweet_sentiment  \n",
       "0         Red          0.6249               1  \n",
       "1         Red          0.4019               1  \n",
       "\n",
       "[2 rows x 22 columns]"
      ]
     },
     "execution_count": 25,
     "metadata": {},
     "output_type": "execute_result"
    }
   ],
   "source": [
    "# Vader sentiment analysis\n",
    "def sentiment_analyser(tweet_text):\n",
    "    \"\"\"\n",
    "    Using Vader as sentiment analyser.\n",
    "    Vader outputs neg, neu, pos and compound, - we only keep compound.\n",
    "    This is done for each tweet.\n",
    "    \"\"\"\n",
    "    analyser= SentimentIntensityAnalyzer()\n",
    "    sentiment_score = analyser.polarity_scores(tweet_text)[\"compound\"]\n",
    "    return sentiment_score\n",
    "\n",
    "# sentiment score from -1 to 1\n",
    "tweets_df3['sentiment_score'] = tweets_df3['text'].apply(sentiment_analyser)\n",
    "\n",
    "# boolean value is 0 if sentiment is negative, else 1\n",
    "tweets_df3['tweet_sentiment'] = [0 if i < 0 else 1 for i in tweets_df3.sentiment_score]\n",
    "tweets_df3.head(2)"
   ]
  },
  {
   "cell_type": "markdown",
   "id": "671bd450-3c68-4a49-a46f-4e2b1189e9db",
   "metadata": {
    "tags": []
   },
   "source": [
    "### Heatmap for mean sentiment"
   ]
  },
  {
   "cell_type": "code",
   "execution_count": 26,
   "id": "be9bb1b1-89b9-40eb-a96b-0c2e699fc690",
   "metadata": {},
   "outputs": [
    {
     "data": {
      "text/html": [
       "<div>\n",
       "<style scoped>\n",
       "    .dataframe tbody tr th:only-of-type {\n",
       "        vertical-align: middle;\n",
       "    }\n",
       "\n",
       "    .dataframe tbody tr th {\n",
       "        vertical-align: top;\n",
       "    }\n",
       "\n",
       "    .dataframe thead th {\n",
       "        text-align: right;\n",
       "    }\n",
       "</style>\n",
       "<table border=\"1\" class=\"dataframe\">\n",
       "  <thead>\n",
       "    <tr style=\"text-align: right;\">\n",
       "      <th></th>\n",
       "      <th>state</th>\n",
       "      <th>state_code</th>\n",
       "      <th>count</th>\n",
       "      <th>mean_sentiment</th>\n",
       "    </tr>\n",
       "  </thead>\n",
       "  <tbody>\n",
       "    <tr>\n",
       "      <th>0</th>\n",
       "      <td>Alabama</td>\n",
       "      <td>AL</td>\n",
       "      <td>18</td>\n",
       "      <td>-0.144456</td>\n",
       "    </tr>\n",
       "    <tr>\n",
       "      <th>1</th>\n",
       "      <td>Alaska</td>\n",
       "      <td>AK</td>\n",
       "      <td>3</td>\n",
       "      <td>0.066233</td>\n",
       "    </tr>\n",
       "    <tr>\n",
       "      <th>2</th>\n",
       "      <td>Arizona</td>\n",
       "      <td>AZ</td>\n",
       "      <td>38</td>\n",
       "      <td>0.105955</td>\n",
       "    </tr>\n",
       "    <tr>\n",
       "      <th>3</th>\n",
       "      <td>Arkansas</td>\n",
       "      <td>AR</td>\n",
       "      <td>7</td>\n",
       "      <td>0.133829</td>\n",
       "    </tr>\n",
       "    <tr>\n",
       "      <th>4</th>\n",
       "      <td>California</td>\n",
       "      <td>CA</td>\n",
       "      <td>200</td>\n",
       "      <td>-0.042262</td>\n",
       "    </tr>\n",
       "  </tbody>\n",
       "</table>\n",
       "</div>"
      ],
      "text/plain": [
       "        state state_code  count  mean_sentiment\n",
       "0     Alabama         AL     18       -0.144456\n",
       "1      Alaska         AK      3        0.066233\n",
       "2     Arizona         AZ     38        0.105955\n",
       "3    Arkansas         AR      7        0.133829\n",
       "4  California         CA    200       -0.042262"
      ]
     },
     "execution_count": 26,
     "metadata": {},
     "output_type": "execute_result"
    }
   ],
   "source": [
    "tweets_mean = tweets_df3.groupby(['state', 'state_code']) \\\n",
    "       .agg(count=('state', 'size'), mean_sentiment=('sentiment_score', 'mean')) \\\n",
    "       .reset_index()\n",
    "tweets_mean.head()"
   ]
  },
  {
   "cell_type": "code",
   "execution_count": 27,
   "id": "9dce7381-2ed1-4310-9c23-7f5b19e1384e",
   "metadata": {},
   "outputs": [
    {
     "data": {
      "application/vnd.plotly.v1+json": {
       "config": {
        "plotlyServerURL": "https://plot.ly"
       },
       "data": [
        {
         "autocolorscale": true,
         "colorbar": {
          "title": {
           "text": "Mean sentiment"
          }
         },
         "locationmode": "USA-states",
         "locations": [
          "AL",
          "AK",
          "AZ",
          "AR",
          "CA",
          "CO",
          "CT",
          "DE",
          "DC",
          "FL",
          "GA",
          "HI",
          "ID",
          "IL",
          "IN",
          "IA",
          "KS",
          "KY",
          "LA",
          "ME",
          "MD",
          "MA",
          "MI",
          "MN",
          "MS",
          "MO",
          "NE",
          "NV",
          "NH",
          "NJ",
          "NM",
          "NY",
          "NC",
          "OH",
          "OK",
          "OR",
          "PA",
          "RI",
          "SC",
          "SD",
          "TN",
          "TX",
          "UT",
          "VT",
          "VA",
          "WA",
          "WV",
          "WI",
          "WY"
         ],
         "text": [
          "Alabama",
          "Alaska",
          "Arizona",
          "Arkansas",
          "California",
          "Colorado",
          "Connecticut",
          "Delaware",
          "District of Columbia",
          "Florida",
          "Georgia",
          "Hawaii",
          "Idaho",
          "Illinois",
          "Indiana",
          "Iowa",
          "Kansas",
          "Kentucky",
          "Louisiana",
          "Maine",
          "Maryland",
          "Massachusetts",
          "Michigan",
          "Minnesota",
          "Mississippi",
          "Missouri",
          "Nebraska",
          "Nevada",
          "New Hampshire",
          "New Jersey",
          "New Mexico",
          "New York",
          "North Carolina",
          "Ohio",
          "Oklahoma",
          "Oregon",
          "Pennsylvania",
          "Rhode Island",
          "South Carolina",
          "South Dakota",
          "Tennessee",
          "Texas",
          "Utah",
          "Vermont",
          "Virginia",
          "Washington",
          "West Virginia",
          "Wisconsin",
          "Wyoming"
         ],
         "type": "choropleth",
         "z": [
          -0.14445555555555556,
          0.06623333333333332,
          0.10595526315789473,
          0.13382857142857144,
          -0.042262,
          0.006583999999999994,
          0.08267333333333333,
          0.13688,
          0.017218750000000005,
          0.05575583333333334,
          0.099221875,
          0.2783333333333333,
          -0.17793333333333336,
          -0.020137254901960784,
          -0.06749375,
          0.183,
          0.059175000000000005,
          -0.12075714285714287,
          0.0001588235294117668,
          0.13712,
          0.04373529411764705,
          0.08903846153846154,
          -0.11616428571428572,
          0.09533461538461538,
          0.33267500000000005,
          0.11898095238095238,
          -0.02970000000000001,
          -0.02715833333333333,
          -0.035549999999999984,
          0.076035,
          -0.2454,
          0.026470093457943926,
          0.03990666666666666,
          0.048057446808510644,
          0.015123529411764688,
          -0.0415421052631579,
          0.010000000000000014,
          -0.015874999999999993,
          0.2741,
          -0.50875,
          -0.07816206896551725,
          0.017655462184873953,
          0.12047272727272727,
          -0.13982857142857144,
          -0.009052941176470581,
          0.09035000000000001,
          0.059783333333333334,
          -0.011066666666666673,
          -0.242
         ],
         "zmax": 0.3,
         "zmin": -0.3
        }
       ],
       "layout": {
        "autosize": true,
        "geo": {
         "center": {
          "lat": 39.03649410241872,
          "lon": -92.7529120692896
         },
         "lakecolor": "rgb(255, 255, 255)",
         "projection": {
          "scale": 0.8705505632961241,
          "type": "albers usa"
         },
         "scope": "usa",
         "showlakes": true
        },
        "margin": {
         "b": 0,
         "l": 100,
         "r": 800,
         "t": 0
        },
        "template": {
         "data": {
          "bar": [
           {
            "error_x": {
             "color": "#2a3f5f"
            },
            "error_y": {
             "color": "#2a3f5f"
            },
            "marker": {
             "line": {
              "color": "#E5ECF6",
              "width": 0.5
             },
             "pattern": {
              "fillmode": "overlay",
              "size": 10,
              "solidity": 0.2
             }
            },
            "type": "bar"
           }
          ],
          "barpolar": [
           {
            "marker": {
             "line": {
              "color": "#E5ECF6",
              "width": 0.5
             },
             "pattern": {
              "fillmode": "overlay",
              "size": 10,
              "solidity": 0.2
             }
            },
            "type": "barpolar"
           }
          ],
          "carpet": [
           {
            "aaxis": {
             "endlinecolor": "#2a3f5f",
             "gridcolor": "white",
             "linecolor": "white",
             "minorgridcolor": "white",
             "startlinecolor": "#2a3f5f"
            },
            "baxis": {
             "endlinecolor": "#2a3f5f",
             "gridcolor": "white",
             "linecolor": "white",
             "minorgridcolor": "white",
             "startlinecolor": "#2a3f5f"
            },
            "type": "carpet"
           }
          ],
          "choropleth": [
           {
            "colorbar": {
             "outlinewidth": 0,
             "ticks": ""
            },
            "type": "choropleth"
           }
          ],
          "contour": [
           {
            "colorbar": {
             "outlinewidth": 0,
             "ticks": ""
            },
            "colorscale": [
             [
              0,
              "#0d0887"
             ],
             [
              0.1111111111111111,
              "#46039f"
             ],
             [
              0.2222222222222222,
              "#7201a8"
             ],
             [
              0.3333333333333333,
              "#9c179e"
             ],
             [
              0.4444444444444444,
              "#bd3786"
             ],
             [
              0.5555555555555556,
              "#d8576b"
             ],
             [
              0.6666666666666666,
              "#ed7953"
             ],
             [
              0.7777777777777778,
              "#fb9f3a"
             ],
             [
              0.8888888888888888,
              "#fdca26"
             ],
             [
              1,
              "#f0f921"
             ]
            ],
            "type": "contour"
           }
          ],
          "contourcarpet": [
           {
            "colorbar": {
             "outlinewidth": 0,
             "ticks": ""
            },
            "type": "contourcarpet"
           }
          ],
          "heatmap": [
           {
            "colorbar": {
             "outlinewidth": 0,
             "ticks": ""
            },
            "colorscale": [
             [
              0,
              "#0d0887"
             ],
             [
              0.1111111111111111,
              "#46039f"
             ],
             [
              0.2222222222222222,
              "#7201a8"
             ],
             [
              0.3333333333333333,
              "#9c179e"
             ],
             [
              0.4444444444444444,
              "#bd3786"
             ],
             [
              0.5555555555555556,
              "#d8576b"
             ],
             [
              0.6666666666666666,
              "#ed7953"
             ],
             [
              0.7777777777777778,
              "#fb9f3a"
             ],
             [
              0.8888888888888888,
              "#fdca26"
             ],
             [
              1,
              "#f0f921"
             ]
            ],
            "type": "heatmap"
           }
          ],
          "heatmapgl": [
           {
            "colorbar": {
             "outlinewidth": 0,
             "ticks": ""
            },
            "colorscale": [
             [
              0,
              "#0d0887"
             ],
             [
              0.1111111111111111,
              "#46039f"
             ],
             [
              0.2222222222222222,
              "#7201a8"
             ],
             [
              0.3333333333333333,
              "#9c179e"
             ],
             [
              0.4444444444444444,
              "#bd3786"
             ],
             [
              0.5555555555555556,
              "#d8576b"
             ],
             [
              0.6666666666666666,
              "#ed7953"
             ],
             [
              0.7777777777777778,
              "#fb9f3a"
             ],
             [
              0.8888888888888888,
              "#fdca26"
             ],
             [
              1,
              "#f0f921"
             ]
            ],
            "type": "heatmapgl"
           }
          ],
          "histogram": [
           {
            "marker": {
             "pattern": {
              "fillmode": "overlay",
              "size": 10,
              "solidity": 0.2
             }
            },
            "type": "histogram"
           }
          ],
          "histogram2d": [
           {
            "colorbar": {
             "outlinewidth": 0,
             "ticks": ""
            },
            "colorscale": [
             [
              0,
              "#0d0887"
             ],
             [
              0.1111111111111111,
              "#46039f"
             ],
             [
              0.2222222222222222,
              "#7201a8"
             ],
             [
              0.3333333333333333,
              "#9c179e"
             ],
             [
              0.4444444444444444,
              "#bd3786"
             ],
             [
              0.5555555555555556,
              "#d8576b"
             ],
             [
              0.6666666666666666,
              "#ed7953"
             ],
             [
              0.7777777777777778,
              "#fb9f3a"
             ],
             [
              0.8888888888888888,
              "#fdca26"
             ],
             [
              1,
              "#f0f921"
             ]
            ],
            "type": "histogram2d"
           }
          ],
          "histogram2dcontour": [
           {
            "colorbar": {
             "outlinewidth": 0,
             "ticks": ""
            },
            "colorscale": [
             [
              0,
              "#0d0887"
             ],
             [
              0.1111111111111111,
              "#46039f"
             ],
             [
              0.2222222222222222,
              "#7201a8"
             ],
             [
              0.3333333333333333,
              "#9c179e"
             ],
             [
              0.4444444444444444,
              "#bd3786"
             ],
             [
              0.5555555555555556,
              "#d8576b"
             ],
             [
              0.6666666666666666,
              "#ed7953"
             ],
             [
              0.7777777777777778,
              "#fb9f3a"
             ],
             [
              0.8888888888888888,
              "#fdca26"
             ],
             [
              1,
              "#f0f921"
             ]
            ],
            "type": "histogram2dcontour"
           }
          ],
          "mesh3d": [
           {
            "colorbar": {
             "outlinewidth": 0,
             "ticks": ""
            },
            "type": "mesh3d"
           }
          ],
          "parcoords": [
           {
            "line": {
             "colorbar": {
              "outlinewidth": 0,
              "ticks": ""
             }
            },
            "type": "parcoords"
           }
          ],
          "pie": [
           {
            "automargin": true,
            "type": "pie"
           }
          ],
          "scatter": [
           {
            "marker": {
             "colorbar": {
              "outlinewidth": 0,
              "ticks": ""
             }
            },
            "type": "scatter"
           }
          ],
          "scatter3d": [
           {
            "line": {
             "colorbar": {
              "outlinewidth": 0,
              "ticks": ""
             }
            },
            "marker": {
             "colorbar": {
              "outlinewidth": 0,
              "ticks": ""
             }
            },
            "type": "scatter3d"
           }
          ],
          "scattercarpet": [
           {
            "marker": {
             "colorbar": {
              "outlinewidth": 0,
              "ticks": ""
             }
            },
            "type": "scattercarpet"
           }
          ],
          "scattergeo": [
           {
            "marker": {
             "colorbar": {
              "outlinewidth": 0,
              "ticks": ""
             }
            },
            "type": "scattergeo"
           }
          ],
          "scattergl": [
           {
            "marker": {
             "colorbar": {
              "outlinewidth": 0,
              "ticks": ""
             }
            },
            "type": "scattergl"
           }
          ],
          "scattermapbox": [
           {
            "marker": {
             "colorbar": {
              "outlinewidth": 0,
              "ticks": ""
             }
            },
            "type": "scattermapbox"
           }
          ],
          "scatterpolar": [
           {
            "marker": {
             "colorbar": {
              "outlinewidth": 0,
              "ticks": ""
             }
            },
            "type": "scatterpolar"
           }
          ],
          "scatterpolargl": [
           {
            "marker": {
             "colorbar": {
              "outlinewidth": 0,
              "ticks": ""
             }
            },
            "type": "scatterpolargl"
           }
          ],
          "scatterternary": [
           {
            "marker": {
             "colorbar": {
              "outlinewidth": 0,
              "ticks": ""
             }
            },
            "type": "scatterternary"
           }
          ],
          "surface": [
           {
            "colorbar": {
             "outlinewidth": 0,
             "ticks": ""
            },
            "colorscale": [
             [
              0,
              "#0d0887"
             ],
             [
              0.1111111111111111,
              "#46039f"
             ],
             [
              0.2222222222222222,
              "#7201a8"
             ],
             [
              0.3333333333333333,
              "#9c179e"
             ],
             [
              0.4444444444444444,
              "#bd3786"
             ],
             [
              0.5555555555555556,
              "#d8576b"
             ],
             [
              0.6666666666666666,
              "#ed7953"
             ],
             [
              0.7777777777777778,
              "#fb9f3a"
             ],
             [
              0.8888888888888888,
              "#fdca26"
             ],
             [
              1,
              "#f0f921"
             ]
            ],
            "type": "surface"
           }
          ],
          "table": [
           {
            "cells": {
             "fill": {
              "color": "#EBF0F8"
             },
             "line": {
              "color": "white"
             }
            },
            "header": {
             "fill": {
              "color": "#C8D4E3"
             },
             "line": {
              "color": "white"
             }
            },
            "type": "table"
           }
          ]
         },
         "layout": {
          "annotationdefaults": {
           "arrowcolor": "#2a3f5f",
           "arrowhead": 0,
           "arrowwidth": 1
          },
          "autotypenumbers": "strict",
          "coloraxis": {
           "colorbar": {
            "outlinewidth": 0,
            "ticks": ""
           }
          },
          "colorscale": {
           "diverging": [
            [
             0,
             "#8e0152"
            ],
            [
             0.1,
             "#c51b7d"
            ],
            [
             0.2,
             "#de77ae"
            ],
            [
             0.3,
             "#f1b6da"
            ],
            [
             0.4,
             "#fde0ef"
            ],
            [
             0.5,
             "#f7f7f7"
            ],
            [
             0.6,
             "#e6f5d0"
            ],
            [
             0.7,
             "#b8e186"
            ],
            [
             0.8,
             "#7fbc41"
            ],
            [
             0.9,
             "#4d9221"
            ],
            [
             1,
             "#276419"
            ]
           ],
           "sequential": [
            [
             0,
             "#0d0887"
            ],
            [
             0.1111111111111111,
             "#46039f"
            ],
            [
             0.2222222222222222,
             "#7201a8"
            ],
            [
             0.3333333333333333,
             "#9c179e"
            ],
            [
             0.4444444444444444,
             "#bd3786"
            ],
            [
             0.5555555555555556,
             "#d8576b"
            ],
            [
             0.6666666666666666,
             "#ed7953"
            ],
            [
             0.7777777777777778,
             "#fb9f3a"
            ],
            [
             0.8888888888888888,
             "#fdca26"
            ],
            [
             1,
             "#f0f921"
            ]
           ],
           "sequentialminus": [
            [
             0,
             "#0d0887"
            ],
            [
             0.1111111111111111,
             "#46039f"
            ],
            [
             0.2222222222222222,
             "#7201a8"
            ],
            [
             0.3333333333333333,
             "#9c179e"
            ],
            [
             0.4444444444444444,
             "#bd3786"
            ],
            [
             0.5555555555555556,
             "#d8576b"
            ],
            [
             0.6666666666666666,
             "#ed7953"
            ],
            [
             0.7777777777777778,
             "#fb9f3a"
            ],
            [
             0.8888888888888888,
             "#fdca26"
            ],
            [
             1,
             "#f0f921"
            ]
           ]
          },
          "colorway": [
           "#636efa",
           "#EF553B",
           "#00cc96",
           "#ab63fa",
           "#FFA15A",
           "#19d3f3",
           "#FF6692",
           "#B6E880",
           "#FF97FF",
           "#FECB52"
          ],
          "font": {
           "color": "#2a3f5f"
          },
          "geo": {
           "bgcolor": "white",
           "lakecolor": "white",
           "landcolor": "#E5ECF6",
           "showlakes": true,
           "showland": true,
           "subunitcolor": "white"
          },
          "hoverlabel": {
           "align": "left"
          },
          "hovermode": "closest",
          "mapbox": {
           "style": "light"
          },
          "paper_bgcolor": "white",
          "plot_bgcolor": "#E5ECF6",
          "polar": {
           "angularaxis": {
            "gridcolor": "white",
            "linecolor": "white",
            "ticks": ""
           },
           "bgcolor": "#E5ECF6",
           "radialaxis": {
            "gridcolor": "white",
            "linecolor": "white",
            "ticks": ""
           }
          },
          "scene": {
           "xaxis": {
            "backgroundcolor": "#E5ECF6",
            "gridcolor": "white",
            "gridwidth": 2,
            "linecolor": "white",
            "showbackground": true,
            "ticks": "",
            "zerolinecolor": "white"
           },
           "yaxis": {
            "backgroundcolor": "#E5ECF6",
            "gridcolor": "white",
            "gridwidth": 2,
            "linecolor": "white",
            "showbackground": true,
            "ticks": "",
            "zerolinecolor": "white"
           },
           "zaxis": {
            "backgroundcolor": "#E5ECF6",
            "gridcolor": "white",
            "gridwidth": 2,
            "linecolor": "white",
            "showbackground": true,
            "ticks": "",
            "zerolinecolor": "white"
           }
          },
          "shapedefaults": {
           "line": {
            "color": "#2a3f5f"
           }
          },
          "ternary": {
           "aaxis": {
            "gridcolor": "white",
            "linecolor": "white",
            "ticks": ""
           },
           "baxis": {
            "gridcolor": "white",
            "linecolor": "white",
            "ticks": ""
           },
           "bgcolor": "#E5ECF6",
           "caxis": {
            "gridcolor": "white",
            "linecolor": "white",
            "ticks": ""
           }
          },
          "title": {
           "x": 0.05
          },
          "xaxis": {
           "automargin": true,
           "gridcolor": "white",
           "linecolor": "white",
           "ticks": "",
           "title": {
            "standoff": 15
           },
           "zerolinecolor": "white",
           "zerolinewidth": 2
          },
          "yaxis": {
           "automargin": true,
           "gridcolor": "white",
           "linecolor": "white",
           "ticks": "",
           "title": {
            "standoff": 15
           },
           "zerolinecolor": "white",
           "zerolinewidth": 2
          }
         }
        }
       }
      },
      "image/png": "[encoded data removed]",
      "text/html": [
       "<div>                            <div id=\"9f806d22-1b09-4221-8c2d-de0621049faa\" class=\"plotly-graph-div\" style=\"height:525px; width:100%;\"></div>            <script type=\"text/javascript\">                require([\"plotly\"], function(Plotly) {                    window.PLOTLYENV=window.PLOTLYENV || {};                                    if (document.getElementById(\"9f806d22-1b09-4221-8c2d-de0621049faa\")) {                    Plotly.newPlot(                        \"9f806d22-1b09-4221-8c2d-de0621049faa\",                        [{\"autocolorscale\":true,\"colorbar\":{\"title\":{\"text\":\"Mean sentiment\"}},\"locationmode\":\"USA-states\",\"locations\":[\"AL\",\"AK\",\"AZ\",\"AR\",\"CA\",\"CO\",\"CT\",\"DE\",\"DC\",\"FL\",\"GA\",\"HI\",\"ID\",\"IL\",\"IN\",\"IA\",\"KS\",\"KY\",\"LA\",\"ME\",\"MD\",\"MA\",\"MI\",\"MN\",\"MS\",\"MO\",\"NE\",\"NV\",\"NH\",\"NJ\",\"NM\",\"NY\",\"NC\",\"OH\",\"OK\",\"OR\",\"PA\",\"RI\",\"SC\",\"SD\",\"TN\",\"TX\",\"UT\",\"VT\",\"VA\",\"WA\",\"WV\",\"WI\",\"WY\"],\"text\":[\"Alabama\",\"Alaska\",\"Arizona\",\"Arkansas\",\"California\",\"Colorado\",\"Connecticut\",\"Delaware\",\"District of Columbia\",\"Florida\",\"Georgia\",\"Hawaii\",\"Idaho\",\"Illinois\",\"Indiana\",\"Iowa\",\"Kansas\",\"Kentucky\",\"Louisiana\",\"Maine\",\"Maryland\",\"Massachusetts\",\"Michigan\",\"Minnesota\",\"Mississippi\",\"Missouri\",\"Nebraska\",\"Nevada\",\"New Hampshire\",\"New Jersey\",\"New Mexico\",\"New York\",\"North Carolina\",\"Ohio\",\"Oklahoma\",\"Oregon\",\"Pennsylvania\",\"Rhode Island\",\"South Carolina\",\"South Dakota\",\"Tennessee\",\"Texas\",\"Utah\",\"Vermont\",\"Virginia\",\"Washington\",\"West Virginia\",\"Wisconsin\",\"Wyoming\"],\"z\":[-0.14445555555555556,0.06623333333333332,0.10595526315789473,0.13382857142857144,-0.042262,0.006583999999999994,0.08267333333333333,0.13688,0.017218750000000005,0.05575583333333334,0.099221875,0.2783333333333333,-0.17793333333333336,-0.020137254901960784,-0.06749375,0.183,0.059175000000000005,-0.12075714285714287,0.0001588235294117668,0.13712,0.04373529411764705,0.08903846153846154,-0.11616428571428572,0.09533461538461538,0.33267500000000005,0.11898095238095238,-0.02970000000000001,-0.02715833333333333,-0.035549999999999984,0.076035,-0.2454,0.026470093457943926,0.03990666666666666,0.048057446808510644,0.015123529411764688,-0.0415421052631579,0.010000000000000014,-0.015874999999999993,0.2741,-0.50875,-0.07816206896551725,0.017655462184873953,0.12047272727272727,-0.13982857142857144,-0.009052941176470581,0.09035000000000001,0.059783333333333334,-0.011066666666666673,-0.242],\"zmax\":0.3,\"zmin\":-0.3,\"type\":\"choropleth\"}],                        {\"template\":{\"data\":{\"bar\":[{\"error_x\":{\"color\":\"#2a3f5f\"},\"error_y\":{\"color\":\"#2a3f5f\"},\"marker\":{\"line\":{\"color\":\"#E5ECF6\",\"width\":0.5},\"pattern\":{\"fillmode\":\"overlay\",\"size\":10,\"solidity\":0.2}},\"type\":\"bar\"}],\"barpolar\":[{\"marker\":{\"line\":{\"color\":\"#E5ECF6\",\"width\":0.5},\"pattern\":{\"fillmode\":\"overlay\",\"size\":10,\"solidity\":0.2}},\"type\":\"barpolar\"}],\"carpet\":[{\"aaxis\":{\"endlinecolor\":\"#2a3f5f\",\"gridcolor\":\"white\",\"linecolor\":\"white\",\"minorgridcolor\":\"white\",\"startlinecolor\":\"#2a3f5f\"},\"baxis\":{\"endlinecolor\":\"#2a3f5f\",\"gridcolor\":\"white\",\"linecolor\":\"white\",\"minorgridcolor\":\"white\",\"startlinecolor\":\"#2a3f5f\"},\"type\":\"carpet\"}],\"choropleth\":[{\"colorbar\":{\"outlinewidth\":0,\"ticks\":\"\"},\"type\":\"choropleth\"}],\"contour\":[{\"colorbar\":{\"outlinewidth\":0,\"ticks\":\"\"},\"colorscale\":[[0.0,\"#0d0887\"],[0.1111111111111111,\"#46039f\"],[0.2222222222222222,\"#7201a8\"],[0.3333333333333333,\"#9c179e\"],[0.4444444444444444,\"#bd3786\"],[0.5555555555555556,\"#d8576b\"],[0.6666666666666666,\"#ed7953\"],[0.7777777777777778,\"#fb9f3a\"],[0.8888888888888888,\"#fdca26\"],[1.0,\"#f0f921\"]],\"type\":\"contour\"}],\"contourcarpet\":[{\"colorbar\":{\"outlinewidth\":0,\"ticks\":\"\"},\"type\":\"contourcarpet\"}],\"heatmap\":[{\"colorbar\":{\"outlinewidth\":0,\"ticks\":\"\"},\"colorscale\":[[0.0,\"#0d0887\"],[0.1111111111111111,\"#46039f\"],[0.2222222222222222,\"#7201a8\"],[0.3333333333333333,\"#9c179e\"],[0.4444444444444444,\"#bd3786\"],[0.5555555555555556,\"#d8576b\"],[0.6666666666666666,\"#ed7953\"],[0.7777777777777778,\"#fb9f3a\"],[0.8888888888888888,\"#fdca26\"],[1.0,\"#f0f921\"]],\"type\":\"heatmap\"}],\"heatmapgl\":[{\"colorbar\":{\"outlinewidth\":0,\"ticks\":\"\"},\"colorscale\":[[0.0,\"#0d0887\"],[0.1111111111111111,\"#46039f\"],[0.2222222222222222,\"#7201a8\"],[0.3333333333333333,\"#9c179e\"],[0.4444444444444444,\"#bd3786\"],[0.5555555555555556,\"#d8576b\"],[0.6666666666666666,\"#ed7953\"],[0.7777777777777778,\"#fb9f3a\"],[0.8888888888888888,\"#fdca26\"],[1.0,\"#f0f921\"]],\"type\":\"heatmapgl\"}],\"histogram\":[{\"marker\":{\"pattern\":{\"fillmode\":\"overlay\",\"size\":10,\"solidity\":0.2}},\"type\":\"histogram\"}],\"histogram2d\":[{\"colorbar\":{\"outlinewidth\":0,\"ticks\":\"\"},\"colorscale\":[[0.0,\"#0d0887\"],[0.1111111111111111,\"#46039f\"],[0.2222222222222222,\"#7201a8\"],[0.3333333333333333,\"#9c179e\"],[0.4444444444444444,\"#bd3786\"],[0.5555555555555556,\"#d8576b\"],[0.6666666666666666,\"#ed7953\"],[0.7777777777777778,\"#fb9f3a\"],[0.8888888888888888,\"#fdca26\"],[1.0,\"#f0f921\"]],\"type\":\"histogram2d\"}],\"histogram2dcontour\":[{\"colorbar\":{\"outlinewidth\":0,\"ticks\":\"\"},\"colorscale\":[[0.0,\"#0d0887\"],[0.1111111111111111,\"#46039f\"],[0.2222222222222222,\"#7201a8\"],[0.3333333333333333,\"#9c179e\"],[0.4444444444444444,\"#bd3786\"],[0.5555555555555556,\"#d8576b\"],[0.6666666666666666,\"#ed7953\"],[0.7777777777777778,\"#fb9f3a\"],[0.8888888888888888,\"#fdca26\"],[1.0,\"#f0f921\"]],\"type\":\"histogram2dcontour\"}],\"mesh3d\":[{\"colorbar\":{\"outlinewidth\":0,\"ticks\":\"\"},\"type\":\"mesh3d\"}],\"parcoords\":[{\"line\":{\"colorbar\":{\"outlinewidth\":0,\"ticks\":\"\"}},\"type\":\"parcoords\"}],\"pie\":[{\"automargin\":true,\"type\":\"pie\"}],\"scatter\":[{\"marker\":{\"colorbar\":{\"outlinewidth\":0,\"ticks\":\"\"}},\"type\":\"scatter\"}],\"scatter3d\":[{\"line\":{\"colorbar\":{\"outlinewidth\":0,\"ticks\":\"\"}},\"marker\":{\"colorbar\":{\"outlinewidth\":0,\"ticks\":\"\"}},\"type\":\"scatter3d\"}],\"scattercarpet\":[{\"marker\":{\"colorbar\":{\"outlinewidth\":0,\"ticks\":\"\"}},\"type\":\"scattercarpet\"}],\"scattergeo\":[{\"marker\":{\"colorbar\":{\"outlinewidth\":0,\"ticks\":\"\"}},\"type\":\"scattergeo\"}],\"scattergl\":[{\"marker\":{\"colorbar\":{\"outlinewidth\":0,\"ticks\":\"\"}},\"type\":\"scattergl\"}],\"scattermapbox\":[{\"marker\":{\"colorbar\":{\"outlinewidth\":0,\"ticks\":\"\"}},\"type\":\"scattermapbox\"}],\"scatterpolar\":[{\"marker\":{\"colorbar\":{\"outlinewidth\":0,\"ticks\":\"\"}},\"type\":\"scatterpolar\"}],\"scatterpolargl\":[{\"marker\":{\"colorbar\":{\"outlinewidth\":0,\"ticks\":\"\"}},\"type\":\"scatterpolargl\"}],\"scatterternary\":[{\"marker\":{\"colorbar\":{\"outlinewidth\":0,\"ticks\":\"\"}},\"type\":\"scatterternary\"}],\"surface\":[{\"colorbar\":{\"outlinewidth\":0,\"ticks\":\"\"},\"colorscale\":[[0.0,\"#0d0887\"],[0.1111111111111111,\"#46039f\"],[0.2222222222222222,\"#7201a8\"],[0.3333333333333333,\"#9c179e\"],[0.4444444444444444,\"#bd3786\"],[0.5555555555555556,\"#d8576b\"],[0.6666666666666666,\"#ed7953\"],[0.7777777777777778,\"#fb9f3a\"],[0.8888888888888888,\"#fdca26\"],[1.0,\"#f0f921\"]],\"type\":\"surface\"}],\"table\":[{\"cells\":{\"fill\":{\"color\":\"#EBF0F8\"},\"line\":{\"color\":\"white\"}},\"header\":{\"fill\":{\"color\":\"#C8D4E3\"},\"line\":{\"color\":\"white\"}},\"type\":\"table\"}]},\"layout\":{\"annotationdefaults\":{\"arrowcolor\":\"#2a3f5f\",\"arrowhead\":0,\"arrowwidth\":1},\"autotypenumbers\":\"strict\",\"coloraxis\":{\"colorbar\":{\"outlinewidth\":0,\"ticks\":\"\"}},\"colorscale\":{\"diverging\":[[0,\"#8e0152\"],[0.1,\"#c51b7d\"],[0.2,\"#de77ae\"],[0.3,\"#f1b6da\"],[0.4,\"#fde0ef\"],[0.5,\"#f7f7f7\"],[0.6,\"#e6f5d0\"],[0.7,\"#b8e186\"],[0.8,\"#7fbc41\"],[0.9,\"#4d9221\"],[1,\"#276419\"]],\"sequential\":[[0.0,\"#0d0887\"],[0.1111111111111111,\"#46039f\"],[0.2222222222222222,\"#7201a8\"],[0.3333333333333333,\"#9c179e\"],[0.4444444444444444,\"#bd3786\"],[0.5555555555555556,\"#d8576b\"],[0.6666666666666666,\"#ed7953\"],[0.7777777777777778,\"#fb9f3a\"],[0.8888888888888888,\"#fdca26\"],[1.0,\"#f0f921\"]],\"sequentialminus\":[[0.0,\"#0d0887\"],[0.1111111111111111,\"#46039f\"],[0.2222222222222222,\"#7201a8\"],[0.3333333333333333,\"#9c179e\"],[0.4444444444444444,\"#bd3786\"],[0.5555555555555556,\"#d8576b\"],[0.6666666666666666,\"#ed7953\"],[0.7777777777777778,\"#fb9f3a\"],[0.8888888888888888,\"#fdca26\"],[1.0,\"#f0f921\"]]},\"colorway\":[\"#636efa\",\"#EF553B\",\"#00cc96\",\"#ab63fa\",\"#FFA15A\",\"#19d3f3\",\"#FF6692\",\"#B6E880\",\"#FF97FF\",\"#FECB52\"],\"font\":{\"color\":\"#2a3f5f\"},\"geo\":{\"bgcolor\":\"white\",\"lakecolor\":\"white\",\"landcolor\":\"#E5ECF6\",\"showlakes\":true,\"showland\":true,\"subunitcolor\":\"white\"},\"hoverlabel\":{\"align\":\"left\"},\"hovermode\":\"closest\",\"mapbox\":{\"style\":\"light\"},\"paper_bgcolor\":\"white\",\"plot_bgcolor\":\"#E5ECF6\",\"polar\":{\"angularaxis\":{\"gridcolor\":\"white\",\"linecolor\":\"white\",\"ticks\":\"\"},\"bgcolor\":\"#E5ECF6\",\"radialaxis\":{\"gridcolor\":\"white\",\"linecolor\":\"white\",\"ticks\":\"\"}},\"scene\":{\"xaxis\":{\"backgroundcolor\":\"#E5ECF6\",\"gridcolor\":\"white\",\"gridwidth\":2,\"linecolor\":\"white\",\"showbackground\":true,\"ticks\":\"\",\"zerolinecolor\":\"white\"},\"yaxis\":{\"backgroundcolor\":\"#E5ECF6\",\"gridcolor\":\"white\",\"gridwidth\":2,\"linecolor\":\"white\",\"showbackground\":true,\"ticks\":\"\",\"zerolinecolor\":\"white\"},\"zaxis\":{\"backgroundcolor\":\"#E5ECF6\",\"gridcolor\":\"white\",\"gridwidth\":2,\"linecolor\":\"white\",\"showbackground\":true,\"ticks\":\"\",\"zerolinecolor\":\"white\"}},\"shapedefaults\":{\"line\":{\"color\":\"#2a3f5f\"}},\"ternary\":{\"aaxis\":{\"gridcolor\":\"white\",\"linecolor\":\"white\",\"ticks\":\"\"},\"baxis\":{\"gridcolor\":\"white\",\"linecolor\":\"white\",\"ticks\":\"\"},\"bgcolor\":\"#E5ECF6\",\"caxis\":{\"gridcolor\":\"white\",\"linecolor\":\"white\",\"ticks\":\"\"}},\"title\":{\"x\":0.05},\"xaxis\":{\"automargin\":true,\"gridcolor\":\"white\",\"linecolor\":\"white\",\"ticks\":\"\",\"title\":{\"standoff\":15},\"zerolinecolor\":\"white\",\"zerolinewidth\":2},\"yaxis\":{\"automargin\":true,\"gridcolor\":\"white\",\"linecolor\":\"white\",\"ticks\":\"\",\"title\":{\"standoff\":15},\"zerolinecolor\":\"white\",\"zerolinewidth\":2}}},\"geo\":{\"scope\":\"usa\",\"projection\":{\"type\":\"albers usa\"},\"showlakes\":true,\"lakecolor\":\"rgb(255, 255, 255)\"},\"margin\":{\"r\":800,\"t\":0,\"l\":100,\"b\":0}},                        {\"responsive\": true}                    ).then(function(){\n",
       "                            \n",
       "var gd = document.getElementById('9f806d22-1b09-4221-8c2d-de0621049faa');\n",
       "var x = new MutationObserver(function (mutations, observer) {{\n",
       "        var display = window.getComputedStyle(gd).display;\n",
       "        if (!display || display === 'none') {{\n",
       "            console.log([gd, 'removed!']);\n",
       "            Plotly.purge(gd);\n",
       "            observer.disconnect();\n",
       "        }}\n",
       "}});\n",
       "\n",
       "// Listen for the removal of the full notebook cells\n",
       "var notebookContainer = gd.closest('#notebook-container');\n",
       "if (notebookContainer) {{\n",
       "    x.observe(notebookContainer, {childList: true});\n",
       "}}\n",
       "\n",
       "// Listen for the clearing of the current output cell\n",
       "var outputEl = gd.closest('.output');\n",
       "if (outputEl) {{\n",
       "    x.observe(outputEl, {childList: true});\n",
       "}}\n",
       "\n",
       "                        })                };                });            </script>        </div>"
      ]
     },
     "metadata": {},
     "output_type": "display_data"
    }
   ],
   "source": [
    "tweets_mean['text'] = tweets_mean['state']\n",
    "\n",
    "fig = go.Figure(data=go.Choropleth(\n",
    "    locations=tweets_mean['state_code'], # Spatial coordinates,\n",
    "    z = tweets_mean['mean_sentiment'].astype(float), # Data to be color-coded\n",
    "    locationmode='USA-states',\n",
    "    #colorscale='RdBu',\n",
    "    autocolorscale=True,\n",
    "    text=tweets_mean['text'], # hover text\n",
    "    #marker_line_color='white', # line markers between states\n",
    "    colorbar_title=\"Mean sentiment\", \n",
    "    zmin=-0.3, # min value for colorbar\n",
    "    zmax=0.3 # max value for colorbar\n",
    "))\n",
    "\n",
    "\n",
    "fig.update_layout(\n",
    "    #title_text='Sentiment around 2020 US presidential election',\n",
    "    geo = dict(\n",
    "        scope='usa',\n",
    "        projection=go.layout.geo.Projection(type = 'albers usa'),\n",
    "        showlakes=True, # lakes\n",
    "        lakecolor='rgb(255, 255, 255)'),\n",
    ")\n",
    "\n",
    "fig.update_layout(margin={\"r\":800,\"t\":0,\"l\":100,\"b\":0})\n",
    "fig.show()"
   ]
  },
  {
   "cell_type": "markdown",
   "id": "ab9f2456-61e2-495c-8990-82907d0fb05c",
   "metadata": {},
   "source": [
    "### Violinplot over average sentiment for each party"
   ]
  },
  {
   "cell_type": "code",
   "execution_count": 29,
   "id": "60402cd8-fdd2-4934-a359-be6eaf41c5b6",
   "metadata": {},
   "outputs": [
    {
     "data": {
      "image/png": "[encoded data removed]",
      "text/plain": [
       "<Figure size 576x360 with 1 Axes>"
      ]
     },
     "metadata": {},
     "output_type": "display_data"
    }
   ],
   "source": [
    "fig = plt.figure(figsize=(8, 5))\n",
    "my_pal = {\"Blue\": \"b\", \"Red\": \"r\"}\n",
    "\n",
    "\n",
    "#sns.set(style=\"darkgrid\") # run this once for dark colored graphs, - dont know why\n",
    "\n",
    "ax = sns.violinplot(x=\"state_color\", y=\"sentiment_score\", data=tweets_df3, palette=my_pal, linewidth=3)\n",
    "\n",
    "# Calculate number of obs per group & median to position labels\n",
    "medians = tweets_df3.groupby(['state_color'])['sentiment_score'].mean().values\n",
    "nobs = tweets_df3['state_color'].value_counts().values\n",
    "nobs = [str(x) for x in nobs.tolist()]\n",
    "nobs = [\"n tweets: \" + i for i in nobs]\n",
    "\n",
    "# Add text to the figure\n",
    "pos = range(len(nobs))\n",
    "for tick, label in zip(pos, ax.get_xticklabels()):\n",
    "    ax.text(pos[tick],\n",
    "            medians[tick]+0.1, \n",
    "            nobs[tick],\n",
    "            horizontalalignment='center',\n",
    "            color='w', # text  color\n",
    "            fontsize=12,\n",
    "            weight='semibold'\n",
    "           )\n",
    "    \n",
    "#colors\n",
    "sns.set_style(\"white\")\n",
    "\n",
    "sns.despine(offset=10, trim=True); #remove unnecessary axis \n",
    "ax.set_xlabel('States elected republican (Red) or democratic (Blue)') # Choose title x-axis\n",
    "ax.xaxis.label.set_fontsize(12) # Choose font size for x-axis title\n",
    "\n",
    "ax.set_ylabel('Sentiment') # Choose title y-axis\n",
    "ax.yaxis.label.set_fontsize(12) # Choose font size for y-axis title\n",
    "fig.savefig('violinplot_red_blue.pdf') "
   ]
  },
  {
   "cell_type": "markdown",
   "id": "25dfab0c-de37-4f8d-97f2-08e721770327",
   "metadata": {},
   "source": [
    "### Boxplot for sentiment for each source of the tweet\n",
    "OBS: low n for various sources\n",
    "\n",
    "see count below"
   ]
  },
  {
   "cell_type": "code",
   "execution_count": 30,
   "id": "c6c1ca7c-2f8b-40ea-b735-6d0190631542",
   "metadata": {},
   "outputs": [
    {
     "data": {
      "text/html": [
       "<div>\n",
       "<style scoped>\n",
       "    .dataframe tbody tr th:only-of-type {\n",
       "        vertical-align: middle;\n",
       "    }\n",
       "\n",
       "    .dataframe tbody tr th {\n",
       "        vertical-align: top;\n",
       "    }\n",
       "\n",
       "    .dataframe thead th {\n",
       "        text-align: right;\n",
       "    }\n",
       "</style>\n",
       "<table border=\"1\" class=\"dataframe\">\n",
       "  <thead>\n",
       "    <tr style=\"text-align: right;\">\n",
       "      <th></th>\n",
       "      <th>source</th>\n",
       "      <th>count</th>\n",
       "      <th>mean_sentiment</th>\n",
       "    </tr>\n",
       "  </thead>\n",
       "  <tbody>\n",
       "    <tr>\n",
       "      <th>0</th>\n",
       "      <td>Instagram</td>\n",
       "      <td>11</td>\n",
       "      <td>0.118445</td>\n",
       "    </tr>\n",
       "    <tr>\n",
       "      <th>1</th>\n",
       "      <td>Sprout Social</td>\n",
       "      <td>1</td>\n",
       "      <td>-0.381800</td>\n",
       "    </tr>\n",
       "    <tr>\n",
       "      <th>2</th>\n",
       "      <td>Squarespace</td>\n",
       "      <td>1</td>\n",
       "      <td>0.964800</td>\n",
       "    </tr>\n",
       "    <tr>\n",
       "      <th>3</th>\n",
       "      <td>Tweetbot for iΟS</td>\n",
       "      <td>5</td>\n",
       "      <td>0.125480</td>\n",
       "    </tr>\n",
       "    <tr>\n",
       "      <th>4</th>\n",
       "      <td>Twitter for Android</td>\n",
       "      <td>495</td>\n",
       "      <td>0.003303</td>\n",
       "    </tr>\n",
       "    <tr>\n",
       "      <th>5</th>\n",
       "      <td>Twitter for iPad</td>\n",
       "      <td>24</td>\n",
       "      <td>-0.173825</td>\n",
       "    </tr>\n",
       "    <tr>\n",
       "      <th>6</th>\n",
       "      <td>Twitter for iPhone</td>\n",
       "      <td>885</td>\n",
       "      <td>0.029638</td>\n",
       "    </tr>\n",
       "  </tbody>\n",
       "</table>\n",
       "</div>"
      ],
      "text/plain": [
       "                source  count  mean_sentiment\n",
       "0            Instagram     11        0.118445\n",
       "1        Sprout Social      1       -0.381800\n",
       "2          Squarespace      1        0.964800\n",
       "3     Tweetbot for iΟS      5        0.125480\n",
       "4  Twitter for Android    495        0.003303\n",
       "5     Twitter for iPad     24       -0.173825\n",
       "6   Twitter for iPhone    885        0.029638"
      ]
     },
     "execution_count": 30,
     "metadata": {},
     "output_type": "execute_result"
    }
   ],
   "source": [
    "tweets_df3_mean = tweets_df3.groupby(['source']) \\\n",
    "       .agg(count=('source', 'size'), mean_sentiment=('sentiment_score', 'mean')) \\\n",
    "       .reset_index()\n",
    "tweets_df3_mean"
   ]
  },
  {
   "cell_type": "code",
   "execution_count": 35,
   "id": "223cc050-7717-4975-8ad4-b656ae6a38e3",
   "metadata": {
    "tags": []
   },
   "outputs": [
    {
     "data": {
      "text/html": [
       "<div>\n",
       "<style scoped>\n",
       "    .dataframe tbody tr th:only-of-type {\n",
       "        vertical-align: middle;\n",
       "    }\n",
       "\n",
       "    .dataframe tbody tr th {\n",
       "        vertical-align: top;\n",
       "    }\n",
       "\n",
       "    .dataframe thead th {\n",
       "        text-align: right;\n",
       "    }\n",
       "</style>\n",
       "<table border=\"1\" class=\"dataframe\">\n",
       "  <thead>\n",
       "    <tr style=\"text-align: right;\">\n",
       "      <th></th>\n",
       "      <th>created_at</th>\n",
       "      <th>text</th>\n",
       "      <th>source</th>\n",
       "      <th>name</th>\n",
       "      <th>username</th>\n",
       "      <th>user_location</th>\n",
       "      <th>tweet_location</th>\n",
       "      <th>country_code</th>\n",
       "      <th>verified</th>\n",
       "      <th>description</th>\n",
       "      <th>...</th>\n",
       "      <th>country</th>\n",
       "      <th>state_code</th>\n",
       "      <th>date</th>\n",
       "      <th>Democratic</th>\n",
       "      <th>Democraticpct</th>\n",
       "      <th>Republican</th>\n",
       "      <th>Republicanpct</th>\n",
       "      <th>state_color</th>\n",
       "      <th>sentiment_score</th>\n",
       "      <th>tweet_sentiment</th>\n",
       "    </tr>\n",
       "  </thead>\n",
       "  <tbody>\n",
       "    <tr>\n",
       "      <th>0</th>\n",
       "      <td>2020-10-01 23:54:28+00:00</td>\n",
       "      <td>great article on pfizers covid vaccine it may ...</td>\n",
       "      <td>Twitter for Android</td>\n",
       "      <td>The Catholic Honey Badger ⛪🌄</td>\n",
       "      <td>RuralUSCatholic</td>\n",
       "      <td>West Plains, MO</td>\n",
       "      <td>Missouri, USA</td>\n",
       "      <td>US</td>\n",
       "      <td>False</td>\n",
       "      <td>In your hearts reverence Christ as Lord. Alway...</td>\n",
       "      <td>...</td>\n",
       "      <td>United States</td>\n",
       "      <td>MO</td>\n",
       "      <td>2020-10-01</td>\n",
       "      <td>1253014</td>\n",
       "      <td>41.41%</td>\n",
       "      <td>1718736</td>\n",
       "      <td>56.80%</td>\n",
       "      <td>Red</td>\n",
       "      <td>0.6249</td>\n",
       "      <td>1</td>\n",
       "    </tr>\n",
       "    <tr>\n",
       "      <th>1</th>\n",
       "      <td>2020-10-02 22:39:08+00:00</td>\n",
       "      <td>i definitely heard something about him buyin ...</td>\n",
       "      <td>Twitter for iPhone</td>\n",
       "      <td>EP53</td>\n",
       "      <td>fiftytres</td>\n",
       "      <td>TX✈️CA</td>\n",
       "      <td>Warren, MI</td>\n",
       "      <td>US</td>\n",
       "      <td>False</td>\n",
       "      <td>$ | R.I.P JORDAN | R.I.P JAILUN | #JUCOPRODUCT...</td>\n",
       "      <td>...</td>\n",
       "      <td>United States</td>\n",
       "      <td>MO</td>\n",
       "      <td>2020-10-02</td>\n",
       "      <td>1253014</td>\n",
       "      <td>41.41%</td>\n",
       "      <td>1718736</td>\n",
       "      <td>56.80%</td>\n",
       "      <td>Red</td>\n",
       "      <td>0.4019</td>\n",
       "      <td>1</td>\n",
       "    </tr>\n",
       "  </tbody>\n",
       "</table>\n",
       "<p>2 rows × 22 columns</p>\n",
       "</div>"
      ],
      "text/plain": [
       "                  created_at  \\\n",
       "0  2020-10-01 23:54:28+00:00   \n",
       "1  2020-10-02 22:39:08+00:00   \n",
       "\n",
       "                                                text               source  \\\n",
       "0  great article on pfizers covid vaccine it may ...  Twitter for Android   \n",
       "1   i definitely heard something about him buyin ...   Twitter for iPhone   \n",
       "\n",
       "                           name         username    user_location  \\\n",
       "0  The Catholic Honey Badger ⛪🌄  RuralUSCatholic  West Plains, MO   \n",
       "1                          EP53        fiftytres           TX✈️CA   \n",
       "\n",
       "  tweet_location country_code  verified  \\\n",
       "0  Missouri, USA           US     False   \n",
       "1     Warren, MI           US     False   \n",
       "\n",
       "                                         description  ...        country  \\\n",
       "0  In your hearts reverence Christ as Lord. Alway...  ...  United States   \n",
       "1  $ | R.I.P JORDAN | R.I.P JAILUN | #JUCOPRODUCT...  ...  United States   \n",
       "\n",
       "  state_code        date Democratic Democraticpct Republican Republicanpct  \\\n",
       "0         MO  2020-10-01    1253014        41.41%    1718736        56.80%   \n",
       "1         MO  2020-10-02    1253014        41.41%    1718736        56.80%   \n",
       "\n",
       "  state_color sentiment_score tweet_sentiment  \n",
       "0         Red          0.6249               1  \n",
       "1         Red          0.4019               1  \n",
       "\n",
       "[2 rows x 22 columns]"
      ]
     },
     "execution_count": 35,
     "metadata": {},
     "output_type": "execute_result"
    }
   ],
   "source": [
    "# only take n > 50\n",
    "\n",
    "\n",
    "tweets_df3_mean = tweets_df3[tweets_df3['source'].isin(['Twitter for Android', 'Twitter for iPhone'])]\n",
    "tweets_df3_mean.head(2)"
   ]
  },
  {
   "cell_type": "code",
   "execution_count": 36,
   "id": "fa3f130b-d733-4453-814a-6fd51ba97f6f",
   "metadata": {},
   "outputs": [
    {
     "data": {
      "image/png": "[encoded data removed]",
      "text/plain": [
       "<Figure size 720x432 with 1 Axes>"
      ]
     },
     "metadata": {},
     "output_type": "display_data"
    }
   ],
   "source": [
    "fig = plt.figure(figsize=(10, 6))\n",
    "sns.set_style(\"white\")\n",
    "my_order = tweets_df3_mean.groupby(by=[\"source\"])[\"sentiment_score\"].count().iloc[::-1].index\n",
    "my_pal = {\"Twitter for Android\": \"green\", \"Twitter for iPhone\": \"grey\"}\n",
    "\n",
    "\n",
    "#sns.set(style=\"darkgrid\") # run this once for dark colored graphs, - dont know why\n",
    "\n",
    "#my_order = [\"Twitter for iPhone\", \"Twitter for Android\", \"Twitter for iPad\", \"Tweetbot for iΟS\", \"Squarespace\"]\n",
    "ax = sns.boxplot(\n",
    "                x=\"source\", \n",
    "                y=\"sentiment_score\", \n",
    "                data=tweets_df3_mean, \n",
    "                palette=my_pal,\n",
    "                linewidth=3, \n",
    "                order=my_order\n",
    "                )\n",
    "\n",
    "# Calculate number of obs per group & median to position labels\n",
    "means = tweets_df3_mean.groupby(['source'])['sentiment_score'].mean().values\n",
    "nobs = tweets_df3_mean['source'].value_counts().values\n",
    "nobs = [str(x) for x in nobs.tolist()]\n",
    "nobs = [\"n: \" + i for i in nobs]\n",
    " \n",
    "# Add text to the figure\n",
    "pos = range(len(nobs))\n",
    "for tick, label in zip(pos, ax.get_xticklabels()):\n",
    "    ax.text(pos[tick],\n",
    "            0+0.1, \n",
    "            nobs[tick],\n",
    "            horizontalalignment='center',\n",
    "            fontsize=12,\n",
    "            color='w', # text  color\n",
    "            weight='semibold'\n",
    "           )\n",
    "\n",
    "sns.set_style(\"white\")\n",
    "\n",
    "sns.despine(offset=10, trim=True); #remove unnecessary axis \n",
    "ax.set_xlabel('Source of tweets') # Choose title x-axis\n",
    "ax.xaxis.label.set_fontsize(14) # Choose font size for x-axis title\n",
    "\n",
    "ax.set_ylabel('Sentiment') # Choose title y-axis\n",
    "ax.yaxis.label.set_fontsize(14) # Choose font size for y-axis title\n",
    "fig.savefig('boxplot_source.pdf') "
   ]
  },
  {
   "cell_type": "markdown",
   "id": "6bdc2d4d-e45c-480e-a10d-c6e93fa6eb80",
   "metadata": {},
   "source": [
    "# alt spiller hertil"
   ]
  },
  {
   "cell_type": "markdown",
   "id": "e4aade0d-1876-4d03-a52b-09d7885cb86e",
   "metadata": {
    "tags": []
   },
   "source": [
    "#### sentiment over time for each party"
   ]
  },
  {
   "cell_type": "code",
   "execution_count": 37,
   "id": "bfb03605-2c77-46f0-b2b0-e4367be4907a",
   "metadata": {},
   "outputs": [
    {
     "data": {
      "text/html": [
       "<div>\n",
       "<style scoped>\n",
       "    .dataframe tbody tr th:only-of-type {\n",
       "        vertical-align: middle;\n",
       "    }\n",
       "\n",
       "    .dataframe tbody tr th {\n",
       "        vertical-align: top;\n",
       "    }\n",
       "\n",
       "    .dataframe thead th {\n",
       "        text-align: right;\n",
       "    }\n",
       "</style>\n",
       "<table border=\"1\" class=\"dataframe\">\n",
       "  <thead>\n",
       "    <tr style=\"text-align: right;\">\n",
       "      <th></th>\n",
       "      <th>date</th>\n",
       "      <th>state_color</th>\n",
       "      <th>count</th>\n",
       "      <th>mean_sentiment</th>\n",
       "    </tr>\n",
       "  </thead>\n",
       "  <tbody>\n",
       "    <tr>\n",
       "      <th>0</th>\n",
       "      <td>2020-10-01</td>\n",
       "      <td>Blue</td>\n",
       "      <td>29</td>\n",
       "      <td>0.018814</td>\n",
       "    </tr>\n",
       "    <tr>\n",
       "      <th>1</th>\n",
       "      <td>2020-10-01</td>\n",
       "      <td>Red</td>\n",
       "      <td>14</td>\n",
       "      <td>0.034221</td>\n",
       "    </tr>\n",
       "    <tr>\n",
       "      <th>2</th>\n",
       "      <td>2020-10-02</td>\n",
       "      <td>Blue</td>\n",
       "      <td>22</td>\n",
       "      <td>0.016468</td>\n",
       "    </tr>\n",
       "    <tr>\n",
       "      <th>3</th>\n",
       "      <td>2020-10-02</td>\n",
       "      <td>Red</td>\n",
       "      <td>20</td>\n",
       "      <td>-0.040390</td>\n",
       "    </tr>\n",
       "    <tr>\n",
       "      <th>4</th>\n",
       "      <td>2020-10-03</td>\n",
       "      <td>Blue</td>\n",
       "      <td>24</td>\n",
       "      <td>-0.056904</td>\n",
       "    </tr>\n",
       "    <tr>\n",
       "      <th>...</th>\n",
       "      <td>...</td>\n",
       "      <td>...</td>\n",
       "      <td>...</td>\n",
       "      <td>...</td>\n",
       "    </tr>\n",
       "    <tr>\n",
       "      <th>65</th>\n",
       "      <td>2020-11-02</td>\n",
       "      <td>Red</td>\n",
       "      <td>15</td>\n",
       "      <td>-0.041860</td>\n",
       "    </tr>\n",
       "    <tr>\n",
       "      <th>66</th>\n",
       "      <td>2020-11-03</td>\n",
       "      <td>Blue</td>\n",
       "      <td>21</td>\n",
       "      <td>0.017376</td>\n",
       "    </tr>\n",
       "    <tr>\n",
       "      <th>67</th>\n",
       "      <td>2020-11-03</td>\n",
       "      <td>Red</td>\n",
       "      <td>15</td>\n",
       "      <td>0.123967</td>\n",
       "    </tr>\n",
       "    <tr>\n",
       "      <th>68</th>\n",
       "      <td>2020-11-04</td>\n",
       "      <td>Blue</td>\n",
       "      <td>25</td>\n",
       "      <td>0.021424</td>\n",
       "    </tr>\n",
       "    <tr>\n",
       "      <th>69</th>\n",
       "      <td>2020-11-04</td>\n",
       "      <td>Red</td>\n",
       "      <td>18</td>\n",
       "      <td>-0.075711</td>\n",
       "    </tr>\n",
       "  </tbody>\n",
       "</table>\n",
       "<p>70 rows × 4 columns</p>\n",
       "</div>"
      ],
      "text/plain": [
       "          date state_color  count  mean_sentiment\n",
       "0   2020-10-01        Blue     29        0.018814\n",
       "1   2020-10-01         Red     14        0.034221\n",
       "2   2020-10-02        Blue     22        0.016468\n",
       "3   2020-10-02         Red     20       -0.040390\n",
       "4   2020-10-03        Blue     24       -0.056904\n",
       "..         ...         ...    ...             ...\n",
       "65  2020-11-02         Red     15       -0.041860\n",
       "66  2020-11-03        Blue     21        0.017376\n",
       "67  2020-11-03         Red     15        0.123967\n",
       "68  2020-11-04        Blue     25        0.021424\n",
       "69  2020-11-04         Red     18       -0.075711\n",
       "\n",
       "[70 rows x 4 columns]"
      ]
     },
     "execution_count": 37,
     "metadata": {},
     "output_type": "execute_result"
    }
   ],
   "source": [
    "tweets_mean_date = tweets_df3.groupby(['date', 'state_color']) \\\n",
    "       .agg(count=('state', 'size'), mean_sentiment=('sentiment_score', 'mean')) \\\n",
    "       .reset_index()\n",
    "tweets_mean_date\n"
   ]
  },
  {
   "cell_type": "code",
   "execution_count": 38,
   "id": "2008fba7-57d8-4d62-9d68-f3a0da4f570b",
   "metadata": {},
   "outputs": [],
   "source": [
    "tweets_mean_blue = tweets_mean_date.loc[tweets_mean_date['state_color'] == 'Blue']\n",
    "tweets_mean_blue = tweets_mean_blue.reset_index(drop=True)\n",
    "\n",
    "tweets_mean_red = tweets_mean_date.loc[tweets_mean_date['state_color'] == 'Red']\n",
    "tweets_mean_red = tweets_mean_red.reset_index(drop=True)"
   ]
  },
  {
   "cell_type": "code",
   "execution_count": 39,
   "id": "6fc93117-95e5-4925-abcc-fd73972cbfea",
   "metadata": {},
   "outputs": [
    {
     "data": {
      "text/plain": [
       "<matplotlib.legend.Legend at 0x21a667dac10>"
      ]
     },
     "execution_count": 39,
     "metadata": {},
     "output_type": "execute_result"
    },
    {
     "data": {
      "image/png": "[encoded data removed]",
      "text/plain": [
       "<Figure size 432x288 with 1 Axes>"
      ]
     },
     "metadata": {},
     "output_type": "display_data"
    }
   ],
   "source": [
    "f,ax = plt.subplots()\n",
    "mean_sentiment_blue = ax.plot(tweets_mean_blue['mean_sentiment'], color = 'blue', label='mean_sentiment_blue') # Choose lineplot\n",
    "mean_sentiment_red = ax.plot(tweets_mean_red['mean_sentiment'], color = 'red', label='mean_sentiment_red') # Choose lineplot\n",
    "\n",
    "ax.set_title('Sentiment over time for each party') # Choose title for plot\n",
    "ax.title.set_fontsize(14) # Choose title font size\n",
    "\n",
    "ax.set_xlabel('Date') # Choose title x-axis\n",
    "ax.xaxis.label.set_fontsize(12) # Choose font size for x-axis title\n",
    "\n",
    "ax.set_ylabel('sentiment') # Choose title y-axis\n",
    "ax.yaxis.label.set_fontsize(12) # Choose font size for y-axis title\n",
    "\n",
    "ax.legend(loc = 'upper left', bbox_to_anchor=(0, 1))\n"
   ]
  },
  {
   "cell_type": "code",
   "execution_count": 40,
   "id": "babb4e71-c103-4d22-b7f1-fd54bba6f533",
   "metadata": {
    "tags": []
   },
   "outputs": [
    {
     "data": {
      "image/png": "[encoded data removed]",
      "text/plain": [
       "<Figure size 1440x576 with 1 Axes>"
      ]
     },
     "metadata": {},
     "output_type": "display_data"
    }
   ],
   "source": [
    "# Plot line\n",
    "fig = plt.figure(figsize=(20, 8))\n",
    "plt.plot(tweets_mean_blue[\"date\"], tweets_mean_blue[\"mean_sentiment\"], color = 'blue', label='Mean of blue States', linewidth=5)\n",
    "plt.plot(tweets_mean_red[\"date\"], tweets_mean_red[\"mean_sentiment\"], color = 'red', label='Mean of red States', linewidth=5)\n",
    "\n",
    "# Labelling \n",
    "plt.xlabel(\"Date\", fontsize=18)\n",
    "plt.ylabel(\"Sentiment\", fontsize=18)\n",
    "\n",
    "plt.grid(True)\n",
    "\n",
    "# Auto space\n",
    "plt.legend(fontsize=14)\n",
    "\n",
    "# autoformat date\n",
    "fig.autofmt_xdate()\n",
    "\n",
    "#plt.annotate('Halloween', (mdates.date2num(x[1]), y[1]), xytext=(15, 15),\n",
    "#            textcoords='offset points', arrowprops=dict(arrowstyle='-|>'))\n",
    "\n",
    "# EVENTUALLY change tick font size\n",
    "# other type of line?\n",
    "fig.savefig('timeseries_red_blue.pdf') "
   ]
  },
  {
   "cell_type": "markdown",
   "id": "b392e498-8e8d-4736-80e9-0ec9299ec50d",
   "metadata": {},
   "source": [
    "# Alt godt heril"
   ]
  },
  {
   "cell_type": "code",
   "execution_count": null,
   "id": "5486e9c4-120b-4149-a7fa-f440ce7c2df8",
   "metadata": {},
   "outputs": [],
   "source": []
  },
  {
   "cell_type": "code",
   "execution_count": null,
   "id": "720ce2ed-5514-46f3-9950-67a39bce2a2f",
   "metadata": {},
   "outputs": [],
   "source": []
  },
  {
   "cell_type": "markdown",
   "id": "d3e87697-d9fc-4fb3-a047-d65a82ed5138",
   "metadata": {},
   "source": [
    "## Machine learning"
   ]
  },
  {
   "cell_type": "markdown",
   "id": "123a8961-1e29-450d-b516-90eb7e688970",
   "metadata": {
    "tags": []
   },
   "source": [
    "### test train split"
   ]
  },
  {
   "cell_type": "code",
   "execution_count": null,
   "id": "4c849698-6521-48c6-9015-afdda41b9fe3",
   "metadata": {},
   "outputs": [],
   "source": []
  },
  {
   "cell_type": "code",
   "execution_count": 42,
   "id": "ab2fbfd2-c3f0-48ff-9ebe-a866150893bd",
   "metadata": {},
   "outputs": [
    {
     "data": {
      "text/plain": [
       "1422"
      ]
     },
     "execution_count": 42,
     "metadata": {},
     "output_type": "execute_result"
    }
   ],
   "source": [
    "len(tweets_df3)"
   ]
  },
  {
   "cell_type": "code",
   "execution_count": 43,
   "id": "d81a1ebb-9a0a-42f0-8a77-b2f4248a36a8",
   "metadata": {},
   "outputs": [],
   "source": [
    "tweets_df4 = tweets_df3.copy()"
   ]
  },
  {
   "cell_type": "code",
   "execution_count": 44,
   "id": "b9a046fd-8ddc-428f-b26b-e1e3537f1202",
   "metadata": {
    "collapsed": true,
    "jupyter": {
     "outputs_hidden": true
    },
    "tags": []
   },
   "outputs": [
    {
     "ename": "TypeError",
     "evalue": "expected string or bytes-like object",
     "output_type": "error",
     "traceback": [
      "\u001b[1;31m---------------------------------------------------------------------------\u001b[0m",
      "\u001b[1;31mTypeError\u001b[0m                                 Traceback (most recent call last)",
      "Input \u001b[1;32mIn [44]\u001b[0m, in \u001b[0;36m<cell line: 1>\u001b[1;34m()\u001b[0m\n\u001b[1;32m----> 1\u001b[0m review_tokens \u001b[38;5;241m=\u001b[39m \u001b[43mnltk\u001b[49m\u001b[38;5;241;43m.\u001b[39;49m\u001b[43mtokenize\u001b[49m\u001b[38;5;241;43m.\u001b[39;49m\u001b[43mword_tokenize\u001b[49m\u001b[43m(\u001b[49m\u001b[43mtweets_df4\u001b[49m\u001b[43m[\u001b[49m\u001b[38;5;124;43m'\u001b[39;49m\u001b[38;5;124;43mtext\u001b[39;49m\u001b[38;5;124;43m'\u001b[39;49m\u001b[43m]\u001b[49m\u001b[43m)\u001b[49m\n",
      "File \u001b[1;32m~\\anaconda3\\lib\\site-packages\\nltk\\tokenize\\__init__.py:129\u001b[0m, in \u001b[0;36mword_tokenize\u001b[1;34m(text, language, preserve_line)\u001b[0m\n\u001b[0;32m    114\u001b[0m \u001b[38;5;28;01mdef\u001b[39;00m \u001b[38;5;21mword_tokenize\u001b[39m(text, language\u001b[38;5;241m=\u001b[39m\u001b[38;5;124m\"\u001b[39m\u001b[38;5;124menglish\u001b[39m\u001b[38;5;124m\"\u001b[39m, preserve_line\u001b[38;5;241m=\u001b[39m\u001b[38;5;28;01mFalse\u001b[39;00m):\n\u001b[0;32m    115\u001b[0m     \u001b[38;5;124;03m\"\"\"\u001b[39;00m\n\u001b[0;32m    116\u001b[0m \u001b[38;5;124;03m    Return a tokenized copy of *text*,\u001b[39;00m\n\u001b[0;32m    117\u001b[0m \u001b[38;5;124;03m    using NLTK's recommended word tokenizer\u001b[39;00m\n\u001b[1;32m   (...)\u001b[0m\n\u001b[0;32m    127\u001b[0m \u001b[38;5;124;03m    :type preserve_line: bool\u001b[39;00m\n\u001b[0;32m    128\u001b[0m \u001b[38;5;124;03m    \"\"\"\u001b[39;00m\n\u001b[1;32m--> 129\u001b[0m     sentences \u001b[38;5;241m=\u001b[39m [text] \u001b[38;5;28;01mif\u001b[39;00m preserve_line \u001b[38;5;28;01melse\u001b[39;00m \u001b[43msent_tokenize\u001b[49m\u001b[43m(\u001b[49m\u001b[43mtext\u001b[49m\u001b[43m,\u001b[49m\u001b[43m \u001b[49m\u001b[43mlanguage\u001b[49m\u001b[43m)\u001b[49m\n\u001b[0;32m    130\u001b[0m     \u001b[38;5;28;01mreturn\u001b[39;00m [\n\u001b[0;32m    131\u001b[0m         token \u001b[38;5;28;01mfor\u001b[39;00m sent \u001b[38;5;129;01min\u001b[39;00m sentences \u001b[38;5;28;01mfor\u001b[39;00m token \u001b[38;5;129;01min\u001b[39;00m _treebank_word_tokenizer\u001b[38;5;241m.\u001b[39mtokenize(sent)\n\u001b[0;32m    132\u001b[0m     ]\n",
      "File \u001b[1;32m~\\anaconda3\\lib\\site-packages\\nltk\\tokenize\\__init__.py:107\u001b[0m, in \u001b[0;36msent_tokenize\u001b[1;34m(text, language)\u001b[0m\n\u001b[0;32m     97\u001b[0m \u001b[38;5;124;03m\"\"\"\u001b[39;00m\n\u001b[0;32m     98\u001b[0m \u001b[38;5;124;03mReturn a sentence-tokenized copy of *text*,\u001b[39;00m\n\u001b[0;32m     99\u001b[0m \u001b[38;5;124;03musing NLTK's recommended sentence tokenizer\u001b[39;00m\n\u001b[1;32m   (...)\u001b[0m\n\u001b[0;32m    104\u001b[0m \u001b[38;5;124;03m:param language: the model name in the Punkt corpus\u001b[39;00m\n\u001b[0;32m    105\u001b[0m \u001b[38;5;124;03m\"\"\"\u001b[39;00m\n\u001b[0;32m    106\u001b[0m tokenizer \u001b[38;5;241m=\u001b[39m load(\u001b[38;5;124mf\u001b[39m\u001b[38;5;124m\"\u001b[39m\u001b[38;5;124mtokenizers/punkt/\u001b[39m\u001b[38;5;132;01m{\u001b[39;00mlanguage\u001b[38;5;132;01m}\u001b[39;00m\u001b[38;5;124m.pickle\u001b[39m\u001b[38;5;124m\"\u001b[39m)\n\u001b[1;32m--> 107\u001b[0m \u001b[38;5;28;01mreturn\u001b[39;00m \u001b[43mtokenizer\u001b[49m\u001b[38;5;241;43m.\u001b[39;49m\u001b[43mtokenize\u001b[49m\u001b[43m(\u001b[49m\u001b[43mtext\u001b[49m\u001b[43m)\u001b[49m\n",
      "File \u001b[1;32m~\\anaconda3\\lib\\site-packages\\nltk\\tokenize\\punkt.py:1276\u001b[0m, in \u001b[0;36mPunktSentenceTokenizer.tokenize\u001b[1;34m(self, text, realign_boundaries)\u001b[0m\n\u001b[0;32m   1272\u001b[0m \u001b[38;5;28;01mdef\u001b[39;00m \u001b[38;5;21mtokenize\u001b[39m(\u001b[38;5;28mself\u001b[39m, text, realign_boundaries\u001b[38;5;241m=\u001b[39m\u001b[38;5;28;01mTrue\u001b[39;00m):\n\u001b[0;32m   1273\u001b[0m     \u001b[38;5;124;03m\"\"\"\u001b[39;00m\n\u001b[0;32m   1274\u001b[0m \u001b[38;5;124;03m    Given a text, returns a list of the sentences in that text.\u001b[39;00m\n\u001b[0;32m   1275\u001b[0m \u001b[38;5;124;03m    \"\"\"\u001b[39;00m\n\u001b[1;32m-> 1276\u001b[0m     \u001b[38;5;28;01mreturn\u001b[39;00m \u001b[38;5;28mlist\u001b[39m(\u001b[38;5;28;43mself\u001b[39;49m\u001b[38;5;241;43m.\u001b[39;49m\u001b[43msentences_from_text\u001b[49m\u001b[43m(\u001b[49m\u001b[43mtext\u001b[49m\u001b[43m,\u001b[49m\u001b[43m \u001b[49m\u001b[43mrealign_boundaries\u001b[49m\u001b[43m)\u001b[49m)\n",
      "File \u001b[1;32m~\\anaconda3\\lib\\site-packages\\nltk\\tokenize\\punkt.py:1332\u001b[0m, in \u001b[0;36mPunktSentenceTokenizer.sentences_from_text\u001b[1;34m(self, text, realign_boundaries)\u001b[0m\n\u001b[0;32m   1325\u001b[0m \u001b[38;5;28;01mdef\u001b[39;00m \u001b[38;5;21msentences_from_text\u001b[39m(\u001b[38;5;28mself\u001b[39m, text, realign_boundaries\u001b[38;5;241m=\u001b[39m\u001b[38;5;28;01mTrue\u001b[39;00m):\n\u001b[0;32m   1326\u001b[0m     \u001b[38;5;124;03m\"\"\"\u001b[39;00m\n\u001b[0;32m   1327\u001b[0m \u001b[38;5;124;03m    Given a text, generates the sentences in that text by only\u001b[39;00m\n\u001b[0;32m   1328\u001b[0m \u001b[38;5;124;03m    testing candidate sentence breaks. If realign_boundaries is\u001b[39;00m\n\u001b[0;32m   1329\u001b[0m \u001b[38;5;124;03m    True, includes in the sentence closing punctuation that\u001b[39;00m\n\u001b[0;32m   1330\u001b[0m \u001b[38;5;124;03m    follows the period.\u001b[39;00m\n\u001b[0;32m   1331\u001b[0m \u001b[38;5;124;03m    \"\"\"\u001b[39;00m\n\u001b[1;32m-> 1332\u001b[0m     \u001b[38;5;28;01mreturn\u001b[39;00m [text[s:e] \u001b[38;5;28;01mfor\u001b[39;00m s, e \u001b[38;5;129;01min\u001b[39;00m \u001b[38;5;28mself\u001b[39m\u001b[38;5;241m.\u001b[39mspan_tokenize(text, realign_boundaries)]\n",
      "File \u001b[1;32m~\\anaconda3\\lib\\site-packages\\nltk\\tokenize\\punkt.py:1332\u001b[0m, in \u001b[0;36m<listcomp>\u001b[1;34m(.0)\u001b[0m\n\u001b[0;32m   1325\u001b[0m \u001b[38;5;28;01mdef\u001b[39;00m \u001b[38;5;21msentences_from_text\u001b[39m(\u001b[38;5;28mself\u001b[39m, text, realign_boundaries\u001b[38;5;241m=\u001b[39m\u001b[38;5;28;01mTrue\u001b[39;00m):\n\u001b[0;32m   1326\u001b[0m     \u001b[38;5;124;03m\"\"\"\u001b[39;00m\n\u001b[0;32m   1327\u001b[0m \u001b[38;5;124;03m    Given a text, generates the sentences in that text by only\u001b[39;00m\n\u001b[0;32m   1328\u001b[0m \u001b[38;5;124;03m    testing candidate sentence breaks. If realign_boundaries is\u001b[39;00m\n\u001b[0;32m   1329\u001b[0m \u001b[38;5;124;03m    True, includes in the sentence closing punctuation that\u001b[39;00m\n\u001b[0;32m   1330\u001b[0m \u001b[38;5;124;03m    follows the period.\u001b[39;00m\n\u001b[0;32m   1331\u001b[0m \u001b[38;5;124;03m    \"\"\"\u001b[39;00m\n\u001b[1;32m-> 1332\u001b[0m     \u001b[38;5;28;01mreturn\u001b[39;00m [text[s:e] \u001b[38;5;28;01mfor\u001b[39;00m s, e \u001b[38;5;129;01min\u001b[39;00m \u001b[38;5;28mself\u001b[39m\u001b[38;5;241m.\u001b[39mspan_tokenize(text, realign_boundaries)]\n",
      "File \u001b[1;32m~\\anaconda3\\lib\\site-packages\\nltk\\tokenize\\punkt.py:1322\u001b[0m, in \u001b[0;36mPunktSentenceTokenizer.span_tokenize\u001b[1;34m(self, text, realign_boundaries)\u001b[0m\n\u001b[0;32m   1320\u001b[0m \u001b[38;5;28;01mif\u001b[39;00m realign_boundaries:\n\u001b[0;32m   1321\u001b[0m     slices \u001b[38;5;241m=\u001b[39m \u001b[38;5;28mself\u001b[39m\u001b[38;5;241m.\u001b[39m_realign_boundaries(text, slices)\n\u001b[1;32m-> 1322\u001b[0m \u001b[38;5;28;01mfor\u001b[39;00m sentence \u001b[38;5;129;01min\u001b[39;00m slices:\n\u001b[0;32m   1323\u001b[0m     \u001b[38;5;28;01myield\u001b[39;00m (sentence\u001b[38;5;241m.\u001b[39mstart, sentence\u001b[38;5;241m.\u001b[39mstop)\n",
      "File \u001b[1;32m~\\anaconda3\\lib\\site-packages\\nltk\\tokenize\\punkt.py:1421\u001b[0m, in \u001b[0;36mPunktSentenceTokenizer._realign_boundaries\u001b[1;34m(self, text, slices)\u001b[0m\n\u001b[0;32m   1408\u001b[0m \u001b[38;5;124;03m\"\"\"\u001b[39;00m\n\u001b[0;32m   1409\u001b[0m \u001b[38;5;124;03mAttempts to realign punctuation that falls after the period but\u001b[39;00m\n\u001b[0;32m   1410\u001b[0m \u001b[38;5;124;03mshould otherwise be included in the same sentence.\u001b[39;00m\n\u001b[1;32m   (...)\u001b[0m\n\u001b[0;32m   1418\u001b[0m \u001b[38;5;124;03m    [\"(Sent1.)\", \"Sent2.\"].\u001b[39;00m\n\u001b[0;32m   1419\u001b[0m \u001b[38;5;124;03m\"\"\"\u001b[39;00m\n\u001b[0;32m   1420\u001b[0m realign \u001b[38;5;241m=\u001b[39m \u001b[38;5;241m0\u001b[39m\n\u001b[1;32m-> 1421\u001b[0m \u001b[38;5;28;01mfor\u001b[39;00m sentence1, sentence2 \u001b[38;5;129;01min\u001b[39;00m _pair_iter(slices):\n\u001b[0;32m   1422\u001b[0m     sentence1 \u001b[38;5;241m=\u001b[39m \u001b[38;5;28mslice\u001b[39m(sentence1\u001b[38;5;241m.\u001b[39mstart \u001b[38;5;241m+\u001b[39m realign, sentence1\u001b[38;5;241m.\u001b[39mstop)\n\u001b[0;32m   1423\u001b[0m     \u001b[38;5;28;01mif\u001b[39;00m \u001b[38;5;129;01mnot\u001b[39;00m sentence2:\n",
      "File \u001b[1;32m~\\anaconda3\\lib\\site-packages\\nltk\\tokenize\\punkt.py:318\u001b[0m, in \u001b[0;36m_pair_iter\u001b[1;34m(iterator)\u001b[0m\n\u001b[0;32m    316\u001b[0m iterator \u001b[38;5;241m=\u001b[39m \u001b[38;5;28miter\u001b[39m(iterator)\n\u001b[0;32m    317\u001b[0m \u001b[38;5;28;01mtry\u001b[39;00m:\n\u001b[1;32m--> 318\u001b[0m     prev \u001b[38;5;241m=\u001b[39m \u001b[38;5;28;43mnext\u001b[39;49m\u001b[43m(\u001b[49m\u001b[43miterator\u001b[49m\u001b[43m)\u001b[49m\n\u001b[0;32m    319\u001b[0m \u001b[38;5;28;01mexcept\u001b[39;00m \u001b[38;5;167;01mStopIteration\u001b[39;00m:\n\u001b[0;32m    320\u001b[0m     \u001b[38;5;28;01mreturn\u001b[39;00m\n",
      "File \u001b[1;32m~\\anaconda3\\lib\\site-packages\\nltk\\tokenize\\punkt.py:1395\u001b[0m, in \u001b[0;36mPunktSentenceTokenizer._slices_from_text\u001b[1;34m(self, text)\u001b[0m\n\u001b[0;32m   1393\u001b[0m \u001b[38;5;28;01mdef\u001b[39;00m \u001b[38;5;21m_slices_from_text\u001b[39m(\u001b[38;5;28mself\u001b[39m, text):\n\u001b[0;32m   1394\u001b[0m     last_break \u001b[38;5;241m=\u001b[39m \u001b[38;5;241m0\u001b[39m\n\u001b[1;32m-> 1395\u001b[0m     \u001b[38;5;28;01mfor\u001b[39;00m match, context \u001b[38;5;129;01min\u001b[39;00m \u001b[38;5;28;43mself\u001b[39;49m\u001b[38;5;241;43m.\u001b[39;49m\u001b[43m_match_potential_end_contexts\u001b[49m\u001b[43m(\u001b[49m\u001b[43mtext\u001b[49m\u001b[43m)\u001b[49m:\n\u001b[0;32m   1396\u001b[0m         \u001b[38;5;28;01mif\u001b[39;00m \u001b[38;5;28mself\u001b[39m\u001b[38;5;241m.\u001b[39mtext_contains_sentbreak(context):\n\u001b[0;32m   1397\u001b[0m             \u001b[38;5;28;01myield\u001b[39;00m \u001b[38;5;28mslice\u001b[39m(last_break, match\u001b[38;5;241m.\u001b[39mend())\n",
      "File \u001b[1;32m~\\anaconda3\\lib\\site-packages\\nltk\\tokenize\\punkt.py:1375\u001b[0m, in \u001b[0;36mPunktSentenceTokenizer._match_potential_end_contexts\u001b[1;34m(self, text)\u001b[0m\n\u001b[0;32m   1373\u001b[0m before_words \u001b[38;5;241m=\u001b[39m {}\n\u001b[0;32m   1374\u001b[0m matches \u001b[38;5;241m=\u001b[39m []\n\u001b[1;32m-> 1375\u001b[0m \u001b[38;5;28;01mfor\u001b[39;00m match \u001b[38;5;129;01min\u001b[39;00m \u001b[38;5;28mreversed\u001b[39m(\u001b[38;5;28mlist\u001b[39m(\u001b[38;5;28;43mself\u001b[39;49m\u001b[38;5;241;43m.\u001b[39;49m\u001b[43m_lang_vars\u001b[49m\u001b[38;5;241;43m.\u001b[39;49m\u001b[43mperiod_context_re\u001b[49m\u001b[43m(\u001b[49m\u001b[43m)\u001b[49m\u001b[38;5;241;43m.\u001b[39;49m\u001b[43mfinditer\u001b[49m\u001b[43m(\u001b[49m\u001b[43mtext\u001b[49m\u001b[43m)\u001b[49m)):\n\u001b[0;32m   1376\u001b[0m     \u001b[38;5;66;03m# Ignore matches that have already been captured by matches to the right of this match\u001b[39;00m\n\u001b[0;32m   1377\u001b[0m     \u001b[38;5;28;01mif\u001b[39;00m matches \u001b[38;5;129;01mand\u001b[39;00m match\u001b[38;5;241m.\u001b[39mend() \u001b[38;5;241m>\u001b[39m before_start:\n\u001b[0;32m   1378\u001b[0m         \u001b[38;5;28;01mcontinue\u001b[39;00m\n",
      "\u001b[1;31mTypeError\u001b[0m: expected string or bytes-like object"
     ]
    }
   ],
   "source": [
    "review_tokens = nltk.tokenize.word_tokenize(tweets_df4['text'])"
   ]
  },
  {
   "cell_type": "code",
   "execution_count": null,
   "id": "39bff096-d430-4cc1-b121-9361fcf89fd4",
   "metadata": {},
   "outputs": [],
   "source": [
    "def preprocess(text):\n",
    "    '''\n",
    "    Inputs: \n",
    "    Raw tweet in string format \n",
    "\n",
    "    Process of function:\n",
    "    Prepocessing the text with all necessary steps such as removing numbers and links, tokenizing, stemming and removing stopwords\n",
    "    Also calculates a Sentiment score using the Sentida package\n",
    "\n",
    "    Outputs:\n",
    "    Lemmas of tweet\n",
    "    Processed tweet\n",
    "    Sentiment score of tweet\n",
    "    '''\n",
    "\n",
    "    if len(text) in [0,1,2,3,4,5,6] : return ['None']*3\n",
    "\n",
    "    tokens = nltk.TweetTokenizer().tokenize(text.lower()) # Keeps hashtag\n",
    "\n",
    "    stop_words_list = nltk.corpus.stopwords.words(\"danish\")\n",
    "    lemmas = [i for i in tokens if i not in stop_words_list]\n",
    "\n",
    "    text_new = ' '.join(lemmas)\n",
    "\n",
    "    return lemmas, text_new, np.round(sentiment_mean_score,2)\n"
   ]
  },
  {
   "cell_type": "code",
   "execution_count": null,
   "id": "702c3f5f-757a-4bbe-bc66-00c6daae2c7e",
   "metadata": {},
   "outputs": [],
   "source": []
  },
  {
   "cell_type": "code",
   "execution_count": null,
   "id": "f89084e4-999f-48f5-abbd-4ef7a4d3d024",
   "metadata": {},
   "outputs": [],
   "source": []
  },
  {
   "cell_type": "code",
   "execution_count": null,
   "id": "95654e30-85a9-43c4-93d1-bc59bf1c6d0f",
   "metadata": {},
   "outputs": [],
   "source": []
  },
  {
   "cell_type": "code",
   "execution_count": null,
   "id": "d6ec7779-8bb0-4699-bd42-35d114146c4f",
   "metadata": {},
   "outputs": [],
   "source": [
    "wnl = nltk.WordNetLemmatizer()\n",
    "review_lemma = [wnl.lemmatize(i) for i in review_nostop]\n",
    "review_lemma"
   ]
  },
  {
   "cell_type": "code",
   "execution_count": 48,
   "id": "390bd16f-9a71-4f06-8a2d-6ea43174a212",
   "metadata": {},
   "outputs": [],
   "source": [
    "def remove_stopwords(tweet_text):\n",
    "    \"\"\"\n",
    "    removes stop words defined by package nltk.corpus\n",
    "    \"\"\"\n",
    "    tokens = nltk.TweetTokenizer().tokenize(tweet_text.lower()) # Keeps hashtag\n",
    "    \n",
    "    stop = stopwords.words('english')\n",
    "    tweet_text = \" \".join([word for word in tweet_text.split() if word not in (stop)])\n",
    "    \n",
    "    wnl = nltk.WordNetLemmatizer()\n",
    "    review_lemma = [wnl.lemmatize(i) for i in tweet_text]\n",
    "    review_lemma\n",
    "\n",
    "    return tweet_text\n",
    "\n",
    "tweets_df4['text'] = tweets_df4['text'].apply(remove_stopwords)"
   ]
  },
  {
   "cell_type": "code",
   "execution_count": 65,
   "id": "2fe31ef0-d53f-4849-a4e7-dd4fb124c8a4",
   "metadata": {},
   "outputs": [
    {
     "data": {
      "text/plain": [
       "'great article pfizers covid vaccine may available soon'"
      ]
     },
     "execution_count": 65,
     "metadata": {},
     "output_type": "execute_result"
    }
   ],
   "source": [
    "tweets_df4['text'][0]"
   ]
  },
  {
   "cell_type": "code",
   "execution_count": 68,
   "id": "11ca4b52-eade-4bca-b3bf-d341734a0cd2",
   "metadata": {},
   "outputs": [
    {
     "name": "stdout",
     "output_type": "stream",
     "text": [
      "Old text: \n",
      "@GermResolute @PattyMurray Flu doesn’t have the same mortality rate because there’s a vaccine. It’s not the same, it’s a pandemic\n",
      "\n",
      "New text (text): 129 list length \n",
      "@GermResolute @PattyMurray Flu doesn’t have the same mortality rate because there’s a vaccine. It’s not the same, it’s a pandemic\n",
      "\n",
      "The mean sentiment score is: 0.6249\n"
     ]
    }
   ],
   "source": [
    "# Example of the text process\n",
    "text=tweets_df3['text'][0]\n",
    "\n",
    "# Text\n",
    "print('Old text: \\n' + text  + '\\n')\n",
    "print('New text (text): ' + str(len(text)) + ' list length \\n' + text + '\\n')\n",
    "#print('New text (Stems): ' + str(len(tweets_df4['text'][0])) + ' list length \\n' + tweets_df4['text'][0] + '\\n')\n",
    "\n",
    "# Sentiment scores\n",
    "print(f\"The mean sentiment score is: {tweets_df4['sentiment_score'][0]}\")\n"
   ]
  },
  {
   "cell_type": "code",
   "execution_count": 77,
   "id": "e3f8edfe-836b-4ecb-87bc-3a29b2eaefc5",
   "metadata": {
    "tags": []
   },
   "outputs": [
    {
     "data": {
      "text/html": [
       "<div>\n",
       "<style scoped>\n",
       "    .dataframe tbody tr th:only-of-type {\n",
       "        vertical-align: middle;\n",
       "    }\n",
       "\n",
       "    .dataframe tbody tr th {\n",
       "        vertical-align: top;\n",
       "    }\n",
       "\n",
       "    .dataframe thead th {\n",
       "        text-align: right;\n",
       "    }\n",
       "</style>\n",
       "<table border=\"1\" class=\"dataframe\">\n",
       "  <thead>\n",
       "    <tr style=\"text-align: right;\">\n",
       "      <th></th>\n",
       "      <th>created_at</th>\n",
       "      <th>text</th>\n",
       "      <th>source</th>\n",
       "      <th>name</th>\n",
       "      <th>username</th>\n",
       "      <th>user_location</th>\n",
       "      <th>tweet_location</th>\n",
       "      <th>country_code</th>\n",
       "      <th>verified</th>\n",
       "      <th>description</th>\n",
       "      <th>...</th>\n",
       "      <th>country</th>\n",
       "      <th>state_code</th>\n",
       "      <th>date</th>\n",
       "      <th>Democratic</th>\n",
       "      <th>Democraticpct</th>\n",
       "      <th>Republican</th>\n",
       "      <th>Republicanpct</th>\n",
       "      <th>state_color</th>\n",
       "      <th>sentiment_score</th>\n",
       "      <th>tweet_sentiment</th>\n",
       "    </tr>\n",
       "  </thead>\n",
       "  <tbody>\n",
       "    <tr>\n",
       "      <th>0</th>\n",
       "      <td>2020-10-01 23:54:28+00:00</td>\n",
       "      <td>great article pfizers covid vaccine may availa...</td>\n",
       "      <td>Twitter for Android</td>\n",
       "      <td>The Catholic Honey Badger ⛪🌄</td>\n",
       "      <td>RuralUSCatholic</td>\n",
       "      <td>West Plains, MO</td>\n",
       "      <td>Missouri, USA</td>\n",
       "      <td>US</td>\n",
       "      <td>False</td>\n",
       "      <td>In your hearts reverence Christ as Lord. Alway...</td>\n",
       "      <td>...</td>\n",
       "      <td>United States</td>\n",
       "      <td>MO</td>\n",
       "      <td>2020-10-01</td>\n",
       "      <td>1253014</td>\n",
       "      <td>41.41%</td>\n",
       "      <td>1718736</td>\n",
       "      <td>56.80%</td>\n",
       "      <td>Red</td>\n",
       "      <td>0.6249</td>\n",
       "      <td>1</td>\n",
       "    </tr>\n",
       "    <tr>\n",
       "      <th>1</th>\n",
       "      <td>2020-10-02 22:39:08+00:00</td>\n",
       "      <td>definitely heard something buyin stock vaccine...</td>\n",
       "      <td>Twitter for iPhone</td>\n",
       "      <td>EP53</td>\n",
       "      <td>fiftytres</td>\n",
       "      <td>TX✈️CA</td>\n",
       "      <td>Warren, MI</td>\n",
       "      <td>US</td>\n",
       "      <td>False</td>\n",
       "      <td>$ | R.I.P JORDAN | R.I.P JAILUN | #JUCOPRODUCT...</td>\n",
       "      <td>...</td>\n",
       "      <td>United States</td>\n",
       "      <td>MO</td>\n",
       "      <td>2020-10-02</td>\n",
       "      <td>1253014</td>\n",
       "      <td>41.41%</td>\n",
       "      <td>1718736</td>\n",
       "      <td>56.80%</td>\n",
       "      <td>Red</td>\n",
       "      <td>0.4019</td>\n",
       "      <td>1</td>\n",
       "    </tr>\n",
       "    <tr>\n",
       "      <th>2</th>\n",
       "      <td>2020-10-02 22:05:12+00:00</td>\n",
       "      <td>covid sooooooo bad fuckkkkkkking travel anywhe...</td>\n",
       "      <td>Twitter for iPhone</td>\n",
       "      <td>The Stoner Formerly Known As Lowe 🪶🇹🇹🇬🇩</td>\n",
       "      <td>rhondajaneee</td>\n",
       "      <td>Los Angeles, CA</td>\n",
       "      <td>Independence, MO</td>\n",
       "      <td>US</td>\n",
       "      <td>False</td>\n",
       "      <td>BuffaLowe Jane. 🦬 😤 🌱 Marketing Director | Dig...</td>\n",
       "      <td>...</td>\n",
       "      <td>United States</td>\n",
       "      <td>MO</td>\n",
       "      <td>2020-10-02</td>\n",
       "      <td>1253014</td>\n",
       "      <td>41.41%</td>\n",
       "      <td>1718736</td>\n",
       "      <td>56.80%</td>\n",
       "      <td>Red</td>\n",
       "      <td>-0.9253</td>\n",
       "      <td>0</td>\n",
       "    </tr>\n",
       "    <tr>\n",
       "      <th>3</th>\n",
       "      <td>2020-10-03 20:22:33+00:00</td>\n",
       "      <td>source indiana jones says trump fake covid pro...</td>\n",
       "      <td>Twitter for Android</td>\n",
       "      <td>Debbie Sanchez</td>\n",
       "      <td>DebbieS03858351</td>\n",
       "      <td>NaN</td>\n",
       "      <td>Kansas City, MO</td>\n",
       "      <td>US</td>\n",
       "      <td>False</td>\n",
       "      <td>NaN</td>\n",
       "      <td>...</td>\n",
       "      <td>United States</td>\n",
       "      <td>MO</td>\n",
       "      <td>2020-10-03</td>\n",
       "      <td>1253014</td>\n",
       "      <td>41.41%</td>\n",
       "      <td>1718736</td>\n",
       "      <td>56.80%</td>\n",
       "      <td>Red</td>\n",
       "      <td>-0.4767</td>\n",
       "      <td>0</td>\n",
       "    </tr>\n",
       "    <tr>\n",
       "      <th>4</th>\n",
       "      <td>2020-10-05 23:38:20+00:00</td>\n",
       "      <td>need tds vaccine paramount</td>\n",
       "      <td>Twitter for iPhone</td>\n",
       "      <td>Jeff Cunningham</td>\n",
       "      <td>jeffrygc</td>\n",
       "      <td>Michigan, USA</td>\n",
       "      <td>Shelby, MI</td>\n",
       "      <td>US</td>\n",
       "      <td>False</td>\n",
       "      <td>Bus Exec, devoted husband, father of 2 young m...</td>\n",
       "      <td>...</td>\n",
       "      <td>United States</td>\n",
       "      <td>MO</td>\n",
       "      <td>2020-10-05</td>\n",
       "      <td>1253014</td>\n",
       "      <td>41.41%</td>\n",
       "      <td>1718736</td>\n",
       "      <td>56.80%</td>\n",
       "      <td>Red</td>\n",
       "      <td>0.0000</td>\n",
       "      <td>1</td>\n",
       "    </tr>\n",
       "    <tr>\n",
       "      <th>...</th>\n",
       "      <td>...</td>\n",
       "      <td>...</td>\n",
       "      <td>...</td>\n",
       "      <td>...</td>\n",
       "      <td>...</td>\n",
       "      <td>...</td>\n",
       "      <td>...</td>\n",
       "      <td>...</td>\n",
       "      <td>...</td>\n",
       "      <td>...</td>\n",
       "      <td>...</td>\n",
       "      <td>...</td>\n",
       "      <td>...</td>\n",
       "      <td>...</td>\n",
       "      <td>...</td>\n",
       "      <td>...</td>\n",
       "      <td>...</td>\n",
       "      <td>...</td>\n",
       "      <td>...</td>\n",
       "      <td>...</td>\n",
       "      <td>...</td>\n",
       "    </tr>\n",
       "    <tr>\n",
       "      <th>1417</th>\n",
       "      <td>2020-10-27 23:09:05+00:00</td>\n",
       "      <td>honest question vaccine virus constantly changing</td>\n",
       "      <td>Twitter for Android</td>\n",
       "      <td>Cam Cate</td>\n",
       "      <td>cam_cate</td>\n",
       "      <td>Rector, AR</td>\n",
       "      <td>Arkansas, USA</td>\n",
       "      <td>US</td>\n",
       "      <td>False</td>\n",
       "      <td>Husband, Father, Grandfather, USN Veteran, A-S...</td>\n",
       "      <td>...</td>\n",
       "      <td>United States</td>\n",
       "      <td>AR</td>\n",
       "      <td>2020-10-27</td>\n",
       "      <td>423932</td>\n",
       "      <td>34.78%</td>\n",
       "      <td>760647</td>\n",
       "      <td>62.40%</td>\n",
       "      <td>Red</td>\n",
       "      <td>0.5106</td>\n",
       "      <td>1</td>\n",
       "    </tr>\n",
       "    <tr>\n",
       "      <th>1418</th>\n",
       "      <td>2020-10-30 23:18:41+00:00</td>\n",
       "      <td>people vote joe biden think get rid covid sorr...</td>\n",
       "      <td>Twitter for Android</td>\n",
       "      <td>Leah</td>\n",
       "      <td>wilsoncf1</td>\n",
       "      <td>Arkansas, USA</td>\n",
       "      <td>Pine Bluff, AR</td>\n",
       "      <td>US</td>\n",
       "      <td>False</td>\n",
       "      <td>Christian  Conservative. Trump 2020, MAGA. We ...</td>\n",
       "      <td>...</td>\n",
       "      <td>United States</td>\n",
       "      <td>AR</td>\n",
       "      <td>2020-10-30</td>\n",
       "      <td>423932</td>\n",
       "      <td>34.78%</td>\n",
       "      <td>760647</td>\n",
       "      <td>62.40%</td>\n",
       "      <td>Red</td>\n",
       "      <td>-0.7506</td>\n",
       "      <td>0</td>\n",
       "    </tr>\n",
       "    <tr>\n",
       "      <th>1419</th>\n",
       "      <td>2020-11-01 21:45:33+00:00</td>\n",
       "      <td>really closed whole country right found rememb...</td>\n",
       "      <td>Twitter for Android</td>\n",
       "      <td>Roberta</td>\n",
       "      <td>robertapeasel</td>\n",
       "      <td>Missouri, USA</td>\n",
       "      <td>Pine Bluff, AR</td>\n",
       "      <td>US</td>\n",
       "      <td>False</td>\n",
       "      <td>Health History Music Government &amp; Politics Gov...</td>\n",
       "      <td>...</td>\n",
       "      <td>United States</td>\n",
       "      <td>AR</td>\n",
       "      <td>2020-11-01</td>\n",
       "      <td>423932</td>\n",
       "      <td>34.78%</td>\n",
       "      <td>760647</td>\n",
       "      <td>62.40%</td>\n",
       "      <td>Red</td>\n",
       "      <td>0.4404</td>\n",
       "      <td>1</td>\n",
       "    </tr>\n",
       "    <tr>\n",
       "      <th>1420</th>\n",
       "      <td>2020-10-25 22:17:59+00:00</td>\n",
       "      <td>constatution states pandemic people forced wea...</td>\n",
       "      <td>Twitter for Android</td>\n",
       "      <td>Ron Humphrey</td>\n",
       "      <td>ron_humphrey</td>\n",
       "      <td>near Augusta, GA</td>\n",
       "      <td>South Dakota, USA</td>\n",
       "      <td>US</td>\n",
       "      <td>False</td>\n",
       "      <td>skeptic, liberal in most things, retired high ...</td>\n",
       "      <td>...</td>\n",
       "      <td>United States</td>\n",
       "      <td>SD</td>\n",
       "      <td>2020-10-25</td>\n",
       "      <td>150471</td>\n",
       "      <td>35.61%</td>\n",
       "      <td>261043</td>\n",
       "      <td>61.77%</td>\n",
       "      <td>Red</td>\n",
       "      <td>-0.7215</td>\n",
       "      <td>0</td>\n",
       "    </tr>\n",
       "    <tr>\n",
       "      <th>1421</th>\n",
       "      <td>2020-10-28 22:11:43+00:00</td>\n",
       "      <td>days get reelected lower middleclassincometax ...</td>\n",
       "      <td>Twitter for iPhone</td>\n",
       "      <td>Austin Goss</td>\n",
       "      <td>AustinGossSD</td>\n",
       "      <td>Pierre, South Dakota</td>\n",
       "      <td>Pierre, SD</td>\n",
       "      <td>US</td>\n",
       "      <td>True</td>\n",
       "      <td>Capital Bureau Reporter for @DakotaNews_Now &amp; ...</td>\n",
       "      <td>...</td>\n",
       "      <td>United States</td>\n",
       "      <td>SD</td>\n",
       "      <td>2020-10-28</td>\n",
       "      <td>150471</td>\n",
       "      <td>35.61%</td>\n",
       "      <td>261043</td>\n",
       "      <td>61.77%</td>\n",
       "      <td>Red</td>\n",
       "      <td>-0.2960</td>\n",
       "      <td>0</td>\n",
       "    </tr>\n",
       "  </tbody>\n",
       "</table>\n",
       "<p>1422 rows × 22 columns</p>\n",
       "</div>"
      ],
      "text/plain": [
       "                     created_at  \\\n",
       "0     2020-10-01 23:54:28+00:00   \n",
       "1     2020-10-02 22:39:08+00:00   \n",
       "2     2020-10-02 22:05:12+00:00   \n",
       "3     2020-10-03 20:22:33+00:00   \n",
       "4     2020-10-05 23:38:20+00:00   \n",
       "...                         ...   \n",
       "1417  2020-10-27 23:09:05+00:00   \n",
       "1418  2020-10-30 23:18:41+00:00   \n",
       "1419  2020-11-01 21:45:33+00:00   \n",
       "1420  2020-10-25 22:17:59+00:00   \n",
       "1421  2020-10-28 22:11:43+00:00   \n",
       "\n",
       "                                                   text               source  \\\n",
       "0     great article pfizers covid vaccine may availa...  Twitter for Android   \n",
       "1     definitely heard something buyin stock vaccine...   Twitter for iPhone   \n",
       "2     covid sooooooo bad fuckkkkkkking travel anywhe...   Twitter for iPhone   \n",
       "3     source indiana jones says trump fake covid pro...  Twitter for Android   \n",
       "4                            need tds vaccine paramount   Twitter for iPhone   \n",
       "...                                                 ...                  ...   \n",
       "1417  honest question vaccine virus constantly changing  Twitter for Android   \n",
       "1418  people vote joe biden think get rid covid sorr...  Twitter for Android   \n",
       "1419  really closed whole country right found rememb...  Twitter for Android   \n",
       "1420  constatution states pandemic people forced wea...  Twitter for Android   \n",
       "1421  days get reelected lower middleclassincometax ...   Twitter for iPhone   \n",
       "\n",
       "                                         name         username  \\\n",
       "0                The Catholic Honey Badger ⛪🌄  RuralUSCatholic   \n",
       "1                                        EP53        fiftytres   \n",
       "2     The Stoner Formerly Known As Lowe 🪶🇹🇹🇬🇩     rhondajaneee   \n",
       "3                              Debbie Sanchez  DebbieS03858351   \n",
       "4                             Jeff Cunningham         jeffrygc   \n",
       "...                                       ...              ...   \n",
       "1417                                 Cam Cate         cam_cate   \n",
       "1418                                     Leah        wilsoncf1   \n",
       "1419                                  Roberta    robertapeasel   \n",
       "1420                             Ron Humphrey     ron_humphrey   \n",
       "1421                              Austin Goss     AustinGossSD   \n",
       "\n",
       "             user_location     tweet_location country_code  verified  \\\n",
       "0          West Plains, MO      Missouri, USA           US     False   \n",
       "1                   TX✈️CA         Warren, MI           US     False   \n",
       "2          Los Angeles, CA   Independence, MO           US     False   \n",
       "3                      NaN    Kansas City, MO           US     False   \n",
       "4            Michigan, USA         Shelby, MI           US     False   \n",
       "...                    ...                ...          ...       ...   \n",
       "1417            Rector, AR      Arkansas, USA           US     False   \n",
       "1418         Arkansas, USA     Pine Bluff, AR           US     False   \n",
       "1419         Missouri, USA     Pine Bluff, AR           US     False   \n",
       "1420      near Augusta, GA  South Dakota, USA           US     False   \n",
       "1421  Pierre, South Dakota         Pierre, SD           US      True   \n",
       "\n",
       "                                            description  ...        country  \\\n",
       "0     In your hearts reverence Christ as Lord. Alway...  ...  United States   \n",
       "1     $ | R.I.P JORDAN | R.I.P JAILUN | #JUCOPRODUCT...  ...  United States   \n",
       "2     BuffaLowe Jane. 🦬 😤 🌱 Marketing Director | Dig...  ...  United States   \n",
       "3                                                   NaN  ...  United States   \n",
       "4     Bus Exec, devoted husband, father of 2 young m...  ...  United States   \n",
       "...                                                 ...  ...            ...   \n",
       "1417  Husband, Father, Grandfather, USN Veteran, A-S...  ...  United States   \n",
       "1418  Christian  Conservative. Trump 2020, MAGA. We ...  ...  United States   \n",
       "1419  Health History Music Government & Politics Gov...  ...  United States   \n",
       "1420  skeptic, liberal in most things, retired high ...  ...  United States   \n",
       "1421  Capital Bureau Reporter for @DakotaNews_Now & ...  ...  United States   \n",
       "\n",
       "     state_code        date Democratic Democraticpct Republican Republicanpct  \\\n",
       "0            MO  2020-10-01    1253014        41.41%    1718736        56.80%   \n",
       "1            MO  2020-10-02    1253014        41.41%    1718736        56.80%   \n",
       "2            MO  2020-10-02    1253014        41.41%    1718736        56.80%   \n",
       "3            MO  2020-10-03    1253014        41.41%    1718736        56.80%   \n",
       "4            MO  2020-10-05    1253014        41.41%    1718736        56.80%   \n",
       "...         ...         ...        ...           ...        ...           ...   \n",
       "1417         AR  2020-10-27     423932        34.78%     760647        62.40%   \n",
       "1418         AR  2020-10-30     423932        34.78%     760647        62.40%   \n",
       "1419         AR  2020-11-01     423932        34.78%     760647        62.40%   \n",
       "1420         SD  2020-10-25     150471        35.61%     261043        61.77%   \n",
       "1421         SD  2020-10-28     150471        35.61%     261043        61.77%   \n",
       "\n",
       "     state_color sentiment_score tweet_sentiment  \n",
       "0            Red          0.6249               1  \n",
       "1            Red          0.4019               1  \n",
       "2            Red         -0.9253               0  \n",
       "3            Red         -0.4767               0  \n",
       "4            Red          0.0000               1  \n",
       "...          ...             ...             ...  \n",
       "1417         Red          0.5106               1  \n",
       "1418         Red         -0.7506               0  \n",
       "1419         Red          0.4404               1  \n",
       "1420         Red         -0.7215               0  \n",
       "1421         Red         -0.2960               0  \n",
       "\n",
       "[1422 rows x 22 columns]"
      ]
     },
     "execution_count": 77,
     "metadata": {},
     "output_type": "execute_result"
    }
   ],
   "source": [
    "# Delete rows with no final text (pictures and emoji)\n",
    "tweets_df5 = tweets_df4[tweets_df4['text']!='None'].reset_index(drop=True)\n",
    "tweets_df5"
   ]
  },
  {
   "cell_type": "code",
   "execution_count": null,
   "id": "6d3ccb63-677b-4367-ba2e-6bf3ed4c8645",
   "metadata": {},
   "outputs": [],
   "source": []
  },
  {
   "cell_type": "code",
   "execution_count": null,
   "id": "eec17262-bc26-4399-ad1b-03c322ca5b09",
   "metadata": {},
   "outputs": [],
   "source": []
  },
  {
   "cell_type": "code",
   "execution_count": 78,
   "id": "250de6af-a084-4cef-8af9-ff5715957b7e",
   "metadata": {
    "tags": []
   },
   "outputs": [],
   "source": [
    "# list of tweet sentiments\n",
    "tweet_sentiments = [0 if i < 0 else 1 for i in tweets_df4.sentiment_score]"
   ]
  },
  {
   "cell_type": "code",
   "execution_count": 79,
   "id": "37ee0c93-e3cc-4237-a606-a736aa60494e",
   "metadata": {},
   "outputs": [],
   "source": [
    "\n",
    "# splitting dataset into test and train\n",
    "df_train, df_test = train_test_split(tweets_df4, test_size=.5, random_state=1337)\n"
   ]
  },
  {
   "cell_type": "code",
   "execution_count": 80,
   "id": "ba4867e6-91d9-4194-8506-1f894f165ecd",
   "metadata": {},
   "outputs": [
    {
     "data": {
      "text/plain": [
       "LogisticRegression(random_state=0)"
      ]
     },
     "execution_count": 80,
     "metadata": {},
     "output_type": "execute_result"
    }
   ],
   "source": [
    "# Sort the data randomly to mix positive and negative reviews\n",
    "np.random.seed(0)\n",
    "df_train = tweets_df4.reindex(np.random.permutation(df_train.index))\n",
    "df_test = tweets_df4.reindex(np.random.permutation(df_test.index))\n",
    "\n",
    "# Take out X and Y variable\n",
    "x_train = df_train['text'].values\n",
    "x_test = df_test['text'].values\n",
    "y_train = df_train['tweet_sentiment'].values\n",
    "y_test = df_test['tweet_sentiment'].values\n",
    "\n",
    "# Make our bag of words\n",
    "tfidf = TfidfVectorizer()\n",
    "x_train_bag = tfidf.fit_transform(x_train)\n",
    "\n",
    "# Fit the model\n",
    "lr_text = LogisticRegression(random_state=0) #Text classifier\n",
    "lr_text.fit(x_train_bag,y_train)"
   ]
  },
  {
   "cell_type": "code",
   "execution_count": 84,
   "id": "73e97b73-cbf3-4e54-abdf-cc1b8cd2fff4",
   "metadata": {},
   "outputs": [
    {
     "name": "stdout",
     "output_type": "stream",
     "text": [
      "Testing accuracy = 0.7426160337552743\n"
     ]
    }
   ],
   "source": [
    "tweets_bag = tfidf.transform(tweets_df4['text'].values)\n",
    "\n",
    "preds = lr_text.predict(tweets_bag)\n",
    "print(\"Testing accuracy =\",np.mean([(preds==tweets_df4['tweet_sentiment'])]))"
   ]
  },
  {
   "cell_type": "code",
   "execution_count": 119,
   "id": "88537266-5b8d-4fc7-9053-d80b676a9fe2",
   "metadata": {},
   "outputs": [
    {
     "ename": "TypeError",
     "evalue": "fit_transform() missing 1 required positional argument: 'raw_documents'",
     "output_type": "error",
     "traceback": [
      "\u001b[1;31m---------------------------------------------------------------------------\u001b[0m",
      "\u001b[1;31mTypeError\u001b[0m                                 Traceback (most recent call last)",
      "Input \u001b[1;32mIn [119]\u001b[0m, in \u001b[0;36m<cell line: 2>\u001b[1;34m()\u001b[0m\n\u001b[0;32m      1\u001b[0m review_array \u001b[38;5;241m=\u001b[39m tweets_df4[\u001b[38;5;124m'\u001b[39m\u001b[38;5;124mtext\u001b[39m\u001b[38;5;124m'\u001b[39m]\u001b[38;5;241m.\u001b[39mvalues[\u001b[38;5;241m0\u001b[39m:\u001b[38;5;241m2\u001b[39m] \u001b[38;5;66;03m#Take the first two reviews and store them in an array\u001b[39;00m\n\u001b[1;32m----> 2\u001b[0m bag_count \u001b[38;5;241m=\u001b[39m \u001b[43mCountVectorizer\u001b[49m\u001b[38;5;241;43m.\u001b[39;49m\u001b[43mfit_transform\u001b[49m\u001b[43m(\u001b[49m\u001b[43mreview_array\u001b[49m\u001b[43m)\u001b[49m\n",
      "\u001b[1;31mTypeError\u001b[0m: fit_transform() missing 1 required positional argument: 'raw_documents'"
     ]
    }
   ],
   "source": [
    "review_array = tweets_df4['text'].values[0:2] #Take the first two reviews and store them in an array\n",
    "bag_count = CountVectorizer.fit_transform(review_array) #fit_transform takes an array as input and outputs the bag of words"
   ]
  },
  {
   "cell_type": "markdown",
   "id": "aa282adf-d349-40c0-bd6f-579396425566",
   "metadata": {
    "tags": []
   },
   "source": [
    "### ML v2"
   ]
  },
  {
   "cell_type": "code",
   "execution_count": 85,
   "id": "52387f20-16af-4184-9ec1-1f2f5bb4db2f",
   "metadata": {
    "tags": []
   },
   "outputs": [
    {
     "data": {
      "text/plain": [
       "LogisticRegression(random_state=0)"
      ]
     },
     "execution_count": 85,
     "metadata": {},
     "output_type": "execute_result"
    }
   ],
   "source": [
    "# Make our bag of words\n",
    "tfidf_tweet = TfidfVectorizer()\n",
    "tweets_new_bag = tfidf_tweet.fit_transform(tweets_df4['text'].values)\n",
    "\n",
    "# Fit the model\n",
    "lr_tweets = LogisticRegression(random_state=0) #Text classifier\n",
    "lr_tweets.fit(tweets_new_bag, tweet_sentiments)\n"
   ]
  },
  {
   "cell_type": "code",
   "execution_count": 88,
   "id": "18295af4-27c7-4f1b-ba4e-54e9d9749070",
   "metadata": {
    "tags": []
   },
   "outputs": [
    {
     "name": "stdout",
     "output_type": "stream",
     "text": [
      "\n",
      "                  0\n",
      "vaccine    1.408770\n",
      "ready      1.194733\n",
      "good       1.183615\n",
      "free       1.008043\n",
      "effective  0.939846\n",
      "supposed   0.918240\n",
      "great      0.906169\n",
      "pfizer     0.885654\n",
      "read       0.877657\n",
      "best       0.873054\n",
      "dr         0.867035\n",
      "approved   0.860232\n",
      "soon       0.854696\n",
      "real       0.833280\n",
      "lol        0.820652\n",
      "protect    0.782775\n",
      "years      0.770611\n",
      "better     0.758620\n",
      "last       0.749138\n",
      "need       0.720015\n",
      "comes      0.704239\n",
      "true       0.693105\n",
      "fauci      0.682258\n",
      "future     0.663130\n",
      "hope       0.653392\n",
      "\n",
      "                  0\n",
      "flu       -2.964828\n",
      "shit      -1.732447\n",
      "people    -1.707944\n",
      "stop      -1.553971\n",
      "die       -1.517696\n",
      "democrats -1.420526\n",
      "bad       -1.323268\n",
      "death     -1.304389\n",
      "cant      -1.258560\n",
      "kill      -1.215493\n",
      "dont      -1.211255\n",
      "hoax      -1.148028\n",
      "tired     -1.070040\n",
      "matter    -1.046754\n",
      "died      -1.040012\n",
      "ass       -1.023918\n",
      "fear      -1.017527\n",
      "say       -1.009644\n",
      "going     -0.988292\n",
      "liar      -0.979405\n",
      "dumb      -0.955721\n",
      "hell      -0.940703\n",
      "cancer    -0.935561\n",
      "ignorance -0.905278\n",
      "theres    -0.892147\n"
     ]
    }
   ],
   "source": [
    "\n",
    "# Make our bag of words\n",
    "tweets_features = ['_'.join(s.split()) for s in tfidf_tweet.get_feature_names_out()]\n",
    "tweets_coefficients = lr_tweets.coef_\n",
    "tweets_coefs_df = pd.DataFrame.from_records(tweets_coefficients, columns=tweets_features)\n",
    "\n",
    "# Most important (positive and negative) features:\n",
    "print()\n",
    "pos_words = tweets_coefs_df.T.sort_values(by=[0], ascending=False).head(25)\n",
    "print(pos_words)\n",
    "print()\n",
    "neg_words = tweets_coefs_df.T.sort_values(by=[0], ascending=True).head(25)\n",
    "print(neg_words)"
   ]
  },
  {
   "cell_type": "code",
   "execution_count": 97,
   "id": "4a959cd9-d20b-477e-bc4b-623806d47de9",
   "metadata": {},
   "outputs": [
    {
     "data": {
      "text/html": [
       "<div>\n",
       "<style scoped>\n",
       "    .dataframe tbody tr th:only-of-type {\n",
       "        vertical-align: middle;\n",
       "    }\n",
       "\n",
       "    .dataframe tbody tr th {\n",
       "        vertical-align: top;\n",
       "    }\n",
       "\n",
       "    .dataframe thead th {\n",
       "        text-align: right;\n",
       "    }\n",
       "</style>\n",
       "<table border=\"1\" class=\"dataframe\">\n",
       "  <thead>\n",
       "    <tr style=\"text-align: right;\">\n",
       "      <th></th>\n",
       "      <th>created_at</th>\n",
       "      <th>text</th>\n",
       "      <th>source</th>\n",
       "      <th>name</th>\n",
       "      <th>username</th>\n",
       "      <th>user_location</th>\n",
       "      <th>tweet_location</th>\n",
       "      <th>country_code</th>\n",
       "      <th>verified</th>\n",
       "      <th>description</th>\n",
       "      <th>...</th>\n",
       "      <th>country</th>\n",
       "      <th>state_code</th>\n",
       "      <th>date</th>\n",
       "      <th>Democratic</th>\n",
       "      <th>Democraticpct</th>\n",
       "      <th>Republican</th>\n",
       "      <th>Republicanpct</th>\n",
       "      <th>state_color</th>\n",
       "      <th>sentiment_score</th>\n",
       "      <th>tweet_sentiment</th>\n",
       "    </tr>\n",
       "  </thead>\n",
       "  <tbody>\n",
       "    <tr>\n",
       "      <th>0</th>\n",
       "      <td>2020-10-01 23:54:28+00:00</td>\n",
       "      <td>great article pfizers covid vaccine may availa...</td>\n",
       "      <td>Twitter for Android</td>\n",
       "      <td>The Catholic Honey Badger ⛪🌄</td>\n",
       "      <td>RuralUSCatholic</td>\n",
       "      <td>West Plains, MO</td>\n",
       "      <td>Missouri, USA</td>\n",
       "      <td>US</td>\n",
       "      <td>False</td>\n",
       "      <td>In your hearts reverence Christ as Lord. Alway...</td>\n",
       "      <td>...</td>\n",
       "      <td>United States</td>\n",
       "      <td>MO</td>\n",
       "      <td>2020-10-01</td>\n",
       "      <td>1253014</td>\n",
       "      <td>41.41%</td>\n",
       "      <td>1718736</td>\n",
       "      <td>56.80%</td>\n",
       "      <td>Red</td>\n",
       "      <td>0.6249</td>\n",
       "      <td>1</td>\n",
       "    </tr>\n",
       "    <tr>\n",
       "      <th>1</th>\n",
       "      <td>2020-10-02 22:39:08+00:00</td>\n",
       "      <td>definitely heard something buyin stock vaccine...</td>\n",
       "      <td>Twitter for iPhone</td>\n",
       "      <td>EP53</td>\n",
       "      <td>fiftytres</td>\n",
       "      <td>TX✈️CA</td>\n",
       "      <td>Warren, MI</td>\n",
       "      <td>US</td>\n",
       "      <td>False</td>\n",
       "      <td>$ | R.I.P JORDAN | R.I.P JAILUN | #JUCOPRODUCT...</td>\n",
       "      <td>...</td>\n",
       "      <td>United States</td>\n",
       "      <td>MO</td>\n",
       "      <td>2020-10-02</td>\n",
       "      <td>1253014</td>\n",
       "      <td>41.41%</td>\n",
       "      <td>1718736</td>\n",
       "      <td>56.80%</td>\n",
       "      <td>Red</td>\n",
       "      <td>0.4019</td>\n",
       "      <td>1</td>\n",
       "    </tr>\n",
       "  </tbody>\n",
       "</table>\n",
       "<p>2 rows × 22 columns</p>\n",
       "</div>"
      ],
      "text/plain": [
       "                  created_at  \\\n",
       "0  2020-10-01 23:54:28+00:00   \n",
       "1  2020-10-02 22:39:08+00:00   \n",
       "\n",
       "                                                text               source  \\\n",
       "0  great article pfizers covid vaccine may availa...  Twitter for Android   \n",
       "1  definitely heard something buyin stock vaccine...   Twitter for iPhone   \n",
       "\n",
       "                           name         username    user_location  \\\n",
       "0  The Catholic Honey Badger ⛪🌄  RuralUSCatholic  West Plains, MO   \n",
       "1                          EP53        fiftytres           TX✈️CA   \n",
       "\n",
       "  tweet_location country_code  verified  \\\n",
       "0  Missouri, USA           US     False   \n",
       "1     Warren, MI           US     False   \n",
       "\n",
       "                                         description  ...        country  \\\n",
       "0  In your hearts reverence Christ as Lord. Alway...  ...  United States   \n",
       "1  $ | R.I.P JORDAN | R.I.P JAILUN | #JUCOPRODUCT...  ...  United States   \n",
       "\n",
       "  state_code        date Democratic Democraticpct Republican Republicanpct  \\\n",
       "0         MO  2020-10-01    1253014        41.41%    1718736        56.80%   \n",
       "1         MO  2020-10-02    1253014        41.41%    1718736        56.80%   \n",
       "\n",
       "  state_color sentiment_score tweet_sentiment  \n",
       "0         Red          0.6249               1  \n",
       "1         Red          0.4019               1  \n",
       "\n",
       "[2 rows x 22 columns]"
      ]
     },
     "execution_count": 97,
     "metadata": {},
     "output_type": "execute_result"
    }
   ],
   "source": [
    "tweets_df5 = tweets_df4.copy()\n",
    "tweets_df5.head(2)"
   ]
  },
  {
   "cell_type": "code",
   "execution_count": 106,
   "id": "e22dd0dd-3646-4ff4-bd3d-db4bc2f1df78",
   "metadata": {},
   "outputs": [],
   "source": [
    "tweets_df5['state_color_bool'] = [0 if i == 'Blue' else 1 for i in tweets_df5.state_color]\n"
   ]
  },
  {
   "cell_type": "code",
   "execution_count": 107,
   "id": "34724636-9665-472f-b8db-822df0c25923",
   "metadata": {},
   "outputs": [
    {
     "name": "stdout",
     "output_type": "stream",
     "text": [
      "We have 38.89% of blue tweets in our train\n",
      "We have 37.94% of blue tweets in our test\n"
     ]
    }
   ],
   "source": [
    "# implementing logistic regression with an ML model \n",
    "X, y = tweets_df5['text'], tweets_df5['state_color_bool']\n",
    "\n",
    "# Dividing the dataset into a test and training set\n",
    "X_train, X_test, y_train, y_test = train_test_split(X,y,test_size=0.3,random_state=1)\n",
    "\n",
    "# vectorize the text variable to get a array of features for the logistic regression\n",
    "vect = CountVectorizer(ngram_range=(1,4), max_features = 300)\n",
    "X_train = vect.fit_transform(X_train)\n",
    "X_test = vect.fit_transform(X_test)\n",
    "\n",
    "# Check distribution of political wings in the train and test set\n",
    "print(\"We have \" + str(np.round(sum(y_train)/len(y_train)*100,2)) + '% of democratic tweets in our train')\n",
    "print(\"We have \" + str(np.round(sum(y_test)/len(y_test)*100,2)) + '% of democratic tweets in our test')"
   ]
  },
  {
   "cell_type": "code",
   "execution_count": 108,
   "id": "7cb15a46-34b5-4606-8549-725729cd055c",
   "metadata": {},
   "outputs": [
    {
     "data": {
      "text/plain": [
       "['act',\n",
       " 'administration',\n",
       " 'already',\n",
       " 'also',\n",
       " 'america',\n",
       " 'american',\n",
       " 'americans',\n",
       " 'amp',\n",
       " 'another',\n",
       " 'anyone']"
      ]
     },
     "execution_count": 108,
     "metadata": {},
     "output_type": "execute_result"
    }
   ],
   "source": [
    "# Look at the list of features\n",
    "vect.get_feature_names()[0:10]"
   ]
  },
  {
   "cell_type": "code",
   "execution_count": 109,
   "id": "98a86401-e84f-44df-a4bd-91f062645ce0",
   "metadata": {},
   "outputs": [],
   "source": [
    "# fit the model on the training data and calculate predictions on the test data\n",
    "model = LogisticRegression(max_iter = 1000, solver = 'saga', penalty ='l1', fit_intercept=True ).fit(X_train,y_train)\n",
    "y_pred = model.predict(X_test)\n",
    "y_pred = y_pred"
   ]
  },
  {
   "cell_type": "code",
   "execution_count": 113,
   "id": "77b458ba-6018-4764-81c8-7afdb9281e20",
   "metadata": {},
   "outputs": [
    {
     "name": "stdout",
     "output_type": "stream",
     "text": [
      "Our testset is: 427 observation \n",
      "True: 162 Blue tweets\n",
      "We found: 109 Blue tweets \n",
      "We predicted: 56.67 % correct tweets overall\n",
      "\n",
      "We missed to predict: 119 Tweets \n",
      "\n",
      "Of the predicted Blue (109) \n",
      "Correct prediction: 43\n",
      "Wrong prediction: 66\n",
      "\n",
      "Of the predicted Red (318) \n",
      "Correct prediction: 199\n",
      "Wrong prediction: 119\n"
     ]
    }
   ],
   "source": [
    "print('Our testset is: ' + str(len(y_test)) + ' observation \\nTrue: ' + str(y_test.sum()) + ' democratic tweets' )\n",
    "a = y_pred == y_test\n",
    "print('We found: ' + str(y_pred.sum()) + ' Democratic tweets \\nWe predicted: ' + str(np.round(a.mean()*100,2)) + ' % correct tweets overall')\n",
    "a = Counter(y_pred-y_test)\n",
    "\n",
    "print('\\nWe missed to predict: ' + str(a[-1]) + ' Tweets \\n\\nOf the predicted democratic (' + str(y_pred.sum()) + ') \\nCorrect prediction: ' + str(y_pred.sum()-a[1]) + '\\nWrong prediction: ' + str(a[1]))\n",
    "\n",
    "print('\\nOf the predicted Red (' + str(len(y_pred) - y_pred.sum()) + ') \\nCorrect prediction: ' + str(len(y_pred) - y_pred.sum()-a[-1]) + '\\nWrong prediction: ' + str(a[-1]))\n",
    "\n"
   ]
  },
  {
   "cell_type": "markdown",
   "id": "9795ba8c-22a4-4f2f-a19a-549071bc9e34",
   "metadata": {},
   "source": [
    "### Tokenization"
   ]
  },
  {
   "cell_type": "markdown",
   "id": "3234b558-d57c-4863-85df-60823acf0353",
   "metadata": {},
   "source": [
    "### Stemming"
   ]
  },
  {
   "cell_type": "code",
   "execution_count": null,
   "id": "93a4eb37-2a2e-4bd2-b205-64dea20b21e4",
   "metadata": {},
   "outputs": [],
   "source": []
  },
  {
   "cell_type": "code",
   "execution_count": null,
   "id": "3197a055-edf2-4e0b-a8a8-db67e4472f95",
   "metadata": {},
   "outputs": [],
   "source": []
  }
 ],
 "metadata": {
  "kernelspec": {
   "display_name": "Python 3 (ipykernel)",
   "language": "python",
   "name": "python3"
  },
  "language_info": {
   "codemirror_mode": {
    "name": "ipython",
    "version": 3
   },
   "file_extension": ".py",
   "mimetype": "text/x-python",
   "name": "python",
   "nbconvert_exporter": "python",
   "pygments_lexer": "ipython3",
   "version": "3.9.12"
  }
 },
 "nbformat": 4,
 "nbformat_minor": 5
}
